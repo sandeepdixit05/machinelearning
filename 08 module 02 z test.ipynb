{
 "cells": [
  {
   "cell_type": "markdown",
   "metadata": {},
   "source": [
    "### z-test\n",
    "\n",
    "Z-test is used when:\n",
    "\n",
    "- Testing the value of population mean, when population standard deviation is known. \n",
    "\n",
    "Z score is calculated as \n",
    "\n",
    "$Z = \\frac{(\\bar{X} - \\mu)}{\\frac{\\sigma}{\\sqrt{n}}}$\n",
    "\n",
    "Fo example, A passport office claims that the passport applications are processed within 30 days of submitting the application form and all necessary documents. The file *passport.csv* contains processing time of 40 passport applicants. The population standard deviation of the processing time is 12.5 days. Conduct a hypothesis test at significance level $\\alpha$ = 0.05 to verify the claim made by the passport office."
   ]
  },
  {
   "cell_type": "code",
   "execution_count": 1,
   "metadata": {},
   "outputs": [
    {
     "name": "stdout",
     "output_type": "stream",
     "text": [
      "   processing_time\n",
      "0             16.0\n",
      "1             16.0\n",
      "2             30.0\n",
      "3             37.0\n",
      "4             25.0\n"
     ]
    }
   ],
   "source": [
    "import pandas as pd\n",
    "df_passport = pd.read_csv('passport.csv')\n",
    "print(df_passport.head())\n",
    "\n"
   ]
  },
  {
   "cell_type": "markdown",
   "metadata": {},
   "source": [
    "Let's first define the hypothesis\n",
    "\n",
    "if $\\mu$ is population mean i.e. mean processing time of passports\n",
    "\n",
    "$H_{0}$: $\\mu \\ge$ 30\n",
    "\n",
    "$H_{A}$: $\\mu \\lt$ 30\n",
    "\n"
   ]
  },
  {
   "cell_type": "code",
   "execution_count": null,
   "metadata": {},
   "outputs": [
    {
     "name": "stdout",
     "output_type": "stream",
     "text": [
      "z-score: -1.4925950555994747, p-value: 0.0677716091996151\n",
      "Fail to reject the null hypothesis: The average processing time is not significantly different from 30 minutes.\n"
     ]
    }
   ],
   "source": [
    "import math\n",
    "\n",
    "def z_test( pop_mean, pop_var, sample ):  \n",
    "    z_score = (sample.mean() - pop_mean)/(pop_var/math.sqrt(len(sample)))\n",
    "    return z_score, stats.norm.cdf(z_score)\n",
    "\n",
    "\n",
    "z_score, p_value = z_test( 30, 12.5, df_passport.processing_time )\n",
    "print(f'z-score: {z_score}, p-value: {p_value}')\n",
    "\n",
    "# Evalaute the p-value\n",
    "if p_value < 0.05:\n",
    "    print(\"Reject the null hypothesis: The average processing time is significantly different from 30 minutes.\")\n",
    "else:\n",
    "    print(\"Fail to reject the null hypothesis: The average processing time is not significantly different from 30 minutes.\")\n"
   ]
  }
 ],
 "metadata": {
  "kernelspec": {
   "display_name": "iimb_env",
   "language": "python",
   "name": "python3"
  },
  "language_info": {
   "codemirror_mode": {
    "name": "ipython",
    "version": 3
   },
   "file_extension": ".py",
   "mimetype": "text/x-python",
   "name": "python",
   "nbconvert_exporter": "python",
   "pygments_lexer": "ipython3",
   "version": "3.13.3"
  }
 },
 "nbformat": 4,
 "nbformat_minor": 2
}
