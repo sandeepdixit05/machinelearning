{
 "cells": [
  {
   "cell_type": "markdown",
   "metadata": {},
   "source": [
    "Human Resources are critical resources of any organization. Organizations spend a huge amount of time and money to hire and nurture their employees. It is a huge loss for companies if employees leave, especially the key resources. So if HR can predict whether employees are at risk for leaving the company, it will allow them to identify the attrition risks and help understand and provide the necessary support to retain those employees or do preventive hiring to minimize the impact to the organization.\n",
    "\n",
    "The following two factors can be considered to understand the behavior of the employees.\n",
    "\n",
    "● Employee satisfaction level\n",
    "\n",
    "● Last evaluation (performance appraisal ratings)\n",
    "\n",
    "The following table provides data about four employees\n",
    "\n",
    "| **Employee** | **satisfaction\\_level** | **last\\_evaluation** |\n",
    "| ------------ | ----------------------- | -------------------- |\n",
    "| Rahul        | 0.38                    | 0.53                 |\n",
    "| Purvi        | 0.70                    | 0.80                 |\n",
    "| Sharada      | 0.11                    | 0.81                 |\n",
    "| Manu         | 0.72                    | 0.87                 |\n"
   ]
  },
  {
   "cell_type": "code",
   "execution_count": null,
   "metadata": {},
   "outputs": [
    {
     "data": {
      "text/plain": [
       "np.float64(0.41868842830916636)"
      ]
     },
     "execution_count": 2,
     "metadata": {},
     "output_type": "execute_result"
    }
   ],
   "source": [
    "# Calculate the euclidean distance between Rahul and Purvi based on their satisfaction level and last evaluation?\n",
    "import pandas as pd\n",
    "def calculate_distance(satisfaction_rahul, satisfaction_purvi, last_evaluation_rahul, last_evaluation_purvi):\n",
    "    # Calculate the Euclidean distance\n",
    "    distance = ((satisfaction_rahul - satisfaction_purvi) ** 2 + (last_evaluation_rahul - last_evaluation_purvi) ** 2) ** 0.5\n",
    "    return distance\n",
    "\n",
    "\n",
    "\n",
    "# Create a DataFrame with emploee, satisfaction_level, and last_evaluation\n",
    "data = {\n",
    "    'employee': ['Rahul', 'Purvi', 'Sharada', 'Manu'],\n",
    "    'satisfaction_level': [0.38, 0.70, 0.11, 0.72],\n",
    "    'last_evaluation': [0.53, 0.80, 0.81, 0.87]\n",
    "}\n",
    "df = pd.DataFrame(data)\n",
    "\n",
    "calculate_distance(\n",
    "    df.loc[df['employee'] == 'Rahul', 'satisfaction_level'].values[0],\n",
    "    df.loc[df['employee'] == 'Purvi', 'satisfaction_level'].values[0],\n",
    "    df.loc[df['employee'] == 'Rahul', 'last_evaluation'].values[0],\n",
    "    df.loc[df['employee'] == 'Purvi', 'last_evaluation'].values[0]\n",
    ")\n",
    "\n",
    "# Calcuate  immediate neighbor of Rahul\n",
    "def find_immediate_neighbor(df, employee_name):\n",
    "    # Get the satisfaction level and last evaluation of the specified employee\n",
    "    target_satisfaction = df.loc[df['employee'] == employee_name, 'satisfaction_level'].values[0]\n",
    "    target_evaluation = df.loc[df['employee'] == employee_name, 'last_evaluation'].values[0]\n",
    "    \n",
    "    # Calculate distances to all other employees\n",
    "    distances = df.apply(\n",
    "        lambda row: calculate_distance(\n",
    "            row['satisfaction_level'], \n",
    "            target_satisfaction, \n",
    "            row['last_evaluation'], \n",
    "            target_evaluation\n",
    "        ), axis=1\n",
    "    )\n",
    "    \n",
    "    # Exclude the target employee from the results\n",
    "    distances = distances[df['employee'] != employee_name]\n",
    "    \n",
    "    # Find the employee with the minimum distance\n",
    "    nearest_employee = distances.idxmin()\n",
    "    \n",
    "    return df.loc[nearest_employee]\n"
   ]
  }
 ],
 "metadata": {
  "kernelspec": {
   "display_name": "iimb_env",
   "language": "python",
   "name": "python3"
  },
  "language_info": {
   "codemirror_mode": {
    "name": "ipython",
    "version": 3
   },
   "file_extension": ".py",
   "mimetype": "text/x-python",
   "name": "python",
   "nbconvert_exporter": "python",
   "pygments_lexer": "ipython3",
   "version": "3.13.3"
  }
 },
 "nbformat": 4,
 "nbformat_minor": 2
}
