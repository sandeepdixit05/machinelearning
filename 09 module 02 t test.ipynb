{
 "cells": [
  {
   "cell_type": "markdown",
   "metadata": {},
   "source": [
    "### One sample t-test\n",
    "\n",
    "The t-test is used when the population standard deviation *S* is unknown and is estimated from the sample.\n",
    "\n",
    "$t-statistics = \\frac{(\\bar{X} - \\mu)}{\\frac{S}{\\sqrt{n}}}$\n",
    "\n",
    "\n",
    "For example, Aravind Productions (AP) is a newly formed movie production house based out of Mumbai, India. AP was interested in understanding the production cost required for producing a Bollywood movie. The industry believes that the production house will require at least INR 500 million (50 crore) on average. It is assumed that the Bollywood movie production cost follows a normal distribution. Production cost of 40 Bollywood movies in millions of rupees are given in *bollywoodmovies.csv* file. Conduct an appropriate hypothesis test at $\\alpha$ = 0.05 to check whether the belief about average production cost is correct.\n"
   ]
  },
  {
   "cell_type": "code",
   "execution_count": null,
   "metadata": {},
   "outputs": [],
   "source": [
    "import pandas as pd\n",
    "# Read the CSV file into a DataFrame\n",
    "df_bollywood_movies = pd.read_csv('bollywoodmovies.csv')\n",
    "print(df_bollywood_movies)"
   ]
  },
  {
   "cell_type": "markdown",
   "metadata": {},
   "source": [
    "$H_{0}$: $\\mu =$ 500\n",
    "\n",
    "$H_{A}$: $\\mu \\ne$ 500\n",
    "\n",
    "\n",
    "*scipy.stats.ttest_1samp()* can be used to doing this test. It takes two parameters:\n",
    "\n",
    "- a : array_like - sample observation\n",
    "- popmean : float - expected value in null hypothesis."
   ]
  },
  {
   "cell_type": "code",
   "execution_count": null,
   "metadata": {},
   "outputs": [],
   "source": [
    "# Perform t test\n",
    "from scipy import stats\n",
    "# Assuming 'production cost' is the column we want to perform the t-test on\n",
    "t_statistic, p_value = stats.ttest_1samp(df_bollywood_movies['production_cost'], 500)\n",
    "print(f\"T-statistic: {t_statistic}, P-value: {p_value}\")\n",
    "\n",
    "# Make inference for p value if alpha is 0.05\n",
    "alpha = 0.05\n",
    "if p_value < alpha:\n",
    "    print(\"Reject the null hypothesis: The mean production cost is significantly different from 500.\")\n",
    "else:\n",
    "    print(\"Fail to reject the null hypothesis: The mean production cost is not significantly different from 500.\")"
   ]
  },
  {
   "cell_type": "markdown",
   "metadata": {},
   "source": [
    "### Two sample t-test\n",
    "\n",
    "Two sample t-test is required to test difference between two population means, but standard deviations are unknown. The parameters are estimated by the samples.\n",
    "\n",
    "For example, a company makes a claim that children (in the age group between 7 and 12) who drink their health drink will grow taller than the children who do not drink that health drink. Data in Table 6.10 shows average increase in height over one-year period from two groups: one drinking the health drink and the other not drinking the health drink. At $\\alpha$ = 0.05, test whether the increase in height for the children who drink the health drink is different than those who do not drink health drink. "
   ]
  },
  {
   "cell_type": "code",
   "execution_count": 20,
   "metadata": {},
   "outputs": [
    {
     "name": "stdout",
     "output_type": "stream",
     "text": [
      "    height_increase\n",
      "0               8.6\n",
      "1               5.8\n",
      "2              10.2\n",
      "3               8.5\n",
      "4               6.8\n",
      "..              ...\n",
      "74              6.5\n",
      "75              8.1\n",
      "76              7.2\n",
      "77              8.8\n",
      "78              9.8\n",
      "\n",
      "[79 rows x 1 columns]\n",
      "    height_increase\n",
      "0               5.3\n",
      "1               9.0\n",
      "2               5.7\n",
      "3               5.5\n",
      "4               5.4\n",
      "..              ...\n",
      "75              4.4\n",
      "76              5.3\n",
      "77              6.2\n",
      "78              7.4\n",
      "79              4.2\n",
      "\n",
      "[80 rows x 1 columns]\n"
     ]
    }
   ],
   "source": [
    "# Read healthdrink data from excel file\n",
    "df_healthdrink_yes = pd.read_excel('healthdrink.xlsx', sheet_name='healthdrink_yes')\n",
    "df_healthdrink_no = pd.read_excel('healthdrink.xlsx', sheet_name='healthdrink_no')\n",
    "print(df_healthdrink_yes)\n",
    "print(df_healthdrink_no)"
   ]
  },
  {
   "cell_type": "code",
   "execution_count": 23,
   "metadata": {},
   "outputs": [
    {
     "name": "stdout",
     "output_type": "stream",
     "text": [
      "T-statistic: 8.131675069083359, P-value: 1.197698592263946e-13\n"
     ]
    }
   ],
   "source": [
    "# Perform 2 sample t test on df_healthdrink_yes and df_healthdrink_no\n",
    "t_statistic, p_value = stats.ttest_ind(df_healthdrink_yes['height_increase'], df_healthdrink_no['height_increase'])\n",
    "print(f\"T-statistic: {t_statistic}, P-value: {p_value}\")\n",
    "\n"
   ]
  },
  {
   "cell_type": "markdown",
   "metadata": {},
   "source": [
    "### Paired sample t-test\n",
    "\n",
    "- Sometimes to analyze whether an intervention (or treatment) such as an event, a training programs, marketing promotions, treatment for specific illness. \n",
    "\n",
    "- The objective in this case is to check whether the difference in the parameter values is statistically significant before and after the intervention or between two different types of interventions. \n",
    "\n",
    "- This is called paired sample t-test and is used used for comparing two different interventions applied on the same samples.\n",
    "\n",
    "Consider the following example for a paired t-test.\n",
    "\n",
    "The file *breakups.csv* contains alcohol consumption before and after breakup. Conduct a paired t-test to check whether the alcohol consumption is more after the breakup at 95% confidence ($\\alpha$ = 0.05)."
   ]
  },
  {
   "cell_type": "code",
   "execution_count": 36,
   "metadata": {},
   "outputs": [
    {
     "name": "stdout",
     "output_type": "stream",
     "text": [
      "    Before_Breakup  After_Breakup\n",
      "0              470            408\n",
      "1              354            439\n",
      "2              496            321\n",
      "3              351            437\n",
      "4              349            335\n",
      "5              449            344\n",
      "6              378            318\n",
      "7              359            492\n",
      "8              469            531\n",
      "9              329            417\n",
      "10             389            358\n",
      "11             497            391\n",
      "12             493            398\n",
      "13             268            394\n",
      "14             445            508\n",
      "15             287            399\n",
      "16             338            345\n",
      "17             271            341\n",
      "18             412            326\n",
      "19             335            467\n",
      "T-statistic: -0.5375404241815106, P-value: 0.5971346738292477\n",
      "Fail to reject the null hypothesis: The mean difference in scores before and after breakup is not significant.\n"
     ]
    },
    {
     "data": {
      "image/png": "[encoded data removed]",
      "text/plain": [
       "<Figure size 640x480 with 1 Axes>"
      ]
     },
     "metadata": {},
     "output_type": "display_data"
    }
   ],
   "source": [
    "# Paired Sample T-test\n",
    "import pandas as pd\n",
    "\n",
    "# Read breakups.csv file\n",
    "df_breakups = pd.read_csv('breakups.csv')\n",
    "print(df_breakups)\n",
    "\n",
    "# Craete distribution plot for Before_Breakup and After_Breakup\n",
    "import seaborn as sns\n",
    "\n",
    "# kde plot\n",
    "sns.kdeplot(df_breakups['Before_Breakup'], label='Before Breakup', fill=True)\n",
    "sns.kdeplot(df_breakups['After_Breakup'], label='After Breakup', fill=True)\n",
    "\n",
    "# Perform paired t-test\n",
    "t_statistic, p_value = stats.ttest_rel(df_breakups['Before_Breakup'], df_breakups['After_Breakup'])\n",
    "print(f\"T-statistic: {t_statistic}, P-value: {p_value}\")\n",
    "# Make inference for p value if alpha is 0.05\n",
    "alpha = 0.05\n",
    "if p_value < alpha:\n",
    "    print(\"Reject the null hypothesis: The mean difference in scores before and after breakup is significant.\")\n",
    "else:\n",
    "    print(\"Fail to reject the null hypothesis: The mean difference in scores before and after breakup is not significant.\")\n",
    "\n",
    "\n"
   ]
  }
 ],
 "metadata": {
  "kernelspec": {
   "display_name": "iimb_env",
   "language": "python",
   "name": "python3"
  },
  "language_info": {
   "codemirror_mode": {
    "name": "ipython",
    "version": 3
   },
   "file_extension": ".py",
   "mimetype": "text/x-python",
   "name": "python",
   "nbconvert_exporter": "python",
   "pygments_lexer": "ipython3",
   "version": "3.13.3"
  }
 },
 "nbformat": 4,
 "nbformat_minor": 2
}
