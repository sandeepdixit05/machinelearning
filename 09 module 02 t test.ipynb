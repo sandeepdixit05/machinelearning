{
 "cells": [
  {
   "cell_type": "markdown",
   "metadata": {},
   "source": [
    "### One sample t-test\n",
    "\n",
    "The t-test is used when the population standard deviation *S* is unknown and is estimated from the sample.\n",
    "\n",
    "$t-statistics = \\frac{(\\bar{X} - \\mu)}{\\frac{S}{\\sqrt{n}}}$\n",
    "\n",
    "\n",
    "For example, Aravind Productions (AP) is a newly formed movie production house based out of Mumbai, India. AP was interested in understanding the production cost required for producing a Bollywood movie. The industry believes that the production house will require at least INR 500 million (50 crore) on average. It is assumed that the Bollywood movie production cost follows a normal distribution. Production cost of 40 Bollywood movies in millions of rupees are given in *bollywoodmovies.csv* file. Conduct an appropriate hypothesis test at $\\alpha$ = 0.05 to check whether the belief about average production cost is correct.\n"
   ]
  },
  {
   "cell_type": "code",
   "execution_count": null,
   "metadata": {},
   "outputs": [],
   "source": [
    "import pandas as pd\n",
    "# Read the CSV file into a DataFrame\n",
    "df_bollywood_movies = pd.read_csv('bollywoodmovies.csv')\n",
    "print(df_bollywood_movies)"
   ]
  },
  {
   "cell_type": "markdown",
   "metadata": {},
   "source": [
    "$H_{0}$: $\\mu =$ 500\n",
    "\n",
    "$H_{A}$: $\\mu \\ne$ 500\n",
    "\n",
    "\n",
    "*scipy.stats.ttest_1samp()* can be used to doing this test. It takes two parameters:\n",
    "\n",
    "- a : array_like - sample observation\n",
    "- popmean : float - expected value in null hypothesis."
   ]
  },
  {
   "cell_type": "code",
   "execution_count": 12,
   "metadata": {},
   "outputs": [
    {
     "name": "stdout",
     "output_type": "stream",
     "text": [
      "T-statistic: -2.2845532872667547, P-value: 0.027862556406761777\n",
      "Reject the null hypothesis: The mean production cost is significantly different from 500.\n"
     ]
    }
   ],
   "source": [
    "# Perform t test\n",
    "from scipy import stats\n",
    "# Assuming 'production cost' is the column we want to perform the t-test on\n",
    "t_statistic, p_value = stats.ttest_1samp(df_bollywood_movies['production_cost'], 500)\n",
    "print(f\"T-statistic: {t_statistic}, P-value: {p_value}\")\n",
    "\n",
    "# Make inference for p value if alpha is 0.05\n",
    "alpha = 0.05\n",
    "if p_value < alpha:\n",
    "    print(\"Reject the null hypothesis: The mean production cost is significantly different from 500.\")\n",
    "else:\n",
    "    print(\"Fail to reject the null hypothesis: The mean production cost is not significantly different from 500.\")"
   ]
  }
 ],
 "metadata": {
  "kernelspec": {
   "display_name": "iimb_env",
   "language": "python",
   "name": "python3"
  },
  "language_info": {
   "codemirror_mode": {
    "name": "ipython",
    "version": 3
   },
   "file_extension": ".py",
   "mimetype": "text/x-python",
   "name": "python",
   "nbconvert_exporter": "python",
   "pygments_lexer": "ipython3",
   "version": "3.13.3"
  }
 },
 "nbformat": 4,
 "nbformat_minor": 2
}
