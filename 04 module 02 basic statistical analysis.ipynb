{
 "cells": [
  {
   "cell_type": "markdown",
   "metadata": {},
   "source": [
    "# Chapter 3: Probability and Distributions"
   ]
  },
  {
   "cell_type": "markdown",
   "metadata": {},
   "source": [
    "## Learning Objective\n",
    "\n",
    "- Many important tasks in analytics deal with uncertain events and it is essential to understand probability theory\n",
    "- Learn what is a random variable \n",
    "- Learn different distributions and their applications in real world\n",
    "- Learn how to derive insights from distribution parameters like mean, variance, probability distribution functions, confidernce interval etc.\n",
    "- Learn how to formulate and do hypothesis tests like one sample t-test, two samples t-test, paired t-test, chi-square tests and ANOVA test.\n",
    "\n",
    "### Random Variable\n",
    "\n",
    "Random variable is a function that maps every outcome in the sample space to a real number e.g. age, salary, sales volume, gender (male or female) etc.\n",
    "\n",
    "Random variables can be classified as discrete or continuous depending on the values it can take.\n",
    "\n",
    "If the random variable has a finite or countably infinite set of values, then it is called a discrete random variable. Examples \n",
    "\n",
    "1. Customer churn [the random variables take binary values: (a) Churn and (b) Do not churn]. \n",
    "2. Fraud [the random variables take binary values: (a) Fraudulent transaction and (b) Genuine transaction].\n",
    "3. Number of dependents. For example, the random variable can take any value 1/2/3/4 \n",
    "\n",
    "A random variable has value from an infinite set of values is called a continuous random variable. Examples:\n",
    "\n",
    "1. Market share of a company (which take any value from an infinite set of values between 0 and 100%). \n",
    "2. Percentage of attrition among employees of an organization. \n",
    "3. Time taken to complete an order placed at an e-commerce portal.\n",
    "\n",
    "The possible values the random variable can take on and the associated probabilities is known as probability distribution. \n",
    "\n",
    "We will go through few probability distributions like binomial, poisson, exponential and normal distribution."
   ]
  },
  {
   "cell_type": "markdown",
   "metadata": {},
   "source": [
    "## Binomial Distribution\n",
    "\n",
    "A random variable X is said to follow a Binomial distribution when the random variable can have only two outcomes success and failure (also known as Bernoulli trials). For example,\n",
    "\n",
    "- Fraudulent insurance claims where the outcomes are: (a) Fraudulent claim and (b) Genuine claim. \n",
    "- Loan repayment default by a customer where the outcomes are: (a) Default and (b) No default. \n",
    "\n",
    "The objective is to find the probability of getting k successes out of n trials. \n",
    "\n",
    "- The probability of success is p and thus the probability of failure is (1 − p). \n",
    "- The probability p is constant and does not change between trials.\n",
    "\n",
    "The probability that the number of success will be exactly x out of n trials (also known as Probability Mass Function (PMF) of the Binomial distribution) is given by\n",
    "\n",
    "$ PMF(x) = \\binom{n}{k} p^{x}(1 - p)^{n-x}$"
   ]
  },
  {
   "cell_type": "markdown",
   "metadata": {},
   "source": [
    "### Example of Binomial Distribution\n",
    "\n",
    "Fashion Trends Online (FTO) is an e-commerce company that sells women apparel. It is observed that  10% of their customers return the items purchased by them for many reasons (such as size, colour, and material mismatch). On a particular day, 20 customers purchased items from FTO. Calculate: \n",
    "\n",
    "**(a) Probability that exactly 5 customers will return the items.**\n",
    "\n",
    "*stats.binom.pmf()* calculated PMF for binomial distribution and takes three parameters:\n",
    "- expected number of successful trials (5)\n",
    "- number of trials (20)\n",
    "- The probability of success (0.1)\n",
    "\n",
    "*scipy.stats.binom()* provides methods to work with binomial distribution."
   ]
  },
  {
   "cell_type": "code",
   "execution_count": 1,
   "metadata": {},
   "outputs": [
    {
     "data": {
      "text/plain": [
       "0.03192136111995428"
      ]
     },
     "execution_count": 1,
     "metadata": {},
     "output_type": "execute_result"
    }
   ],
   "source": [
    "from scipy import stats\n",
    "\n",
    "stats.binom.pmf( 5, 20, 0.1 )"
   ]
  },
  {
   "cell_type": "markdown",
   "metadata": {},
   "source": [
    "To visualize how the PMF varies with increasing number of successful trials, we will create a list of all possible number of successes (0 to 20) and corresponding PMF values and draw a bar plot."
   ]
  },
  {
   "cell_type": "markdown",
   "metadata": {},
   "source": [
    "**(b) Probability that a maximum of 5 customers will return the items.**\n",
    "\n",
    "*stats.binom.cdf()* computes the CDF for binomial distribution. In this case the cumulative distribution for all possible successful trials from 0 to 5."
   ]
  },
  {
   "cell_type": "code",
   "execution_count": 2,
   "metadata": {},
   "outputs": [
    {
     "data": {
      "image/png": "[encoded data removed]",
      "text/plain": [
       "<Figure size 432x288 with 1 Axes>"
      ]
     },
     "metadata": {
      "needs_background": "light"
     },
     "output_type": "display_data"
    }
   ],
   "source": [
    "import pandas as pd\n",
    "import numpy as np\n",
    "import matplotlib.pyplot as plt\n",
    "import seaborn as sn\n",
    "# range(0,21) returns all values from 0 to 20 (excluding 21)\n",
    "pmf_df = pd.DataFrame( { 'success': range(0,21),\n",
    "                         'pmf': list(stats.binom.pmf( range(0,21), \n",
    "                                                     20, \n",
    "                                                     0.1 ) ) } )\n",
    "\n",
    "sn.barplot( x = pmf_df.success, y = pmf_df.pmf )\n",
    "plt.ylabel('pmf')\n",
    "plt.xlabel('Number of items Returned');"
   ]
  },
  {
   "cell_type": "markdown",
   "metadata": {},
   "source": [
    "*Figure 3.6: Binomial Distribution*"
   ]
  },
  {
   "cell_type": "code",
   "execution_count": 3,
   "metadata": {},
   "outputs": [
    {
     "data": {
      "text/plain": [
       "0.988746865835491"
      ]
     },
     "execution_count": 3,
     "metadata": {},
     "output_type": "execute_result"
    }
   ],
   "source": [
    "stats.binom.cdf( 5, 20, 0.1 )"
   ]
  },
  {
   "cell_type": "markdown",
   "metadata": {},
   "source": [
    "**(c) Probability that more than 5 customers will return the items purchased by them.**\n",
    "\n",
    "This probability function can be computed by substracting CDF of 5 from 1.0, which is sum of all possible probabilities."
   ]
  },
  {
   "cell_type": "code",
   "execution_count": 4,
   "metadata": {},
   "outputs": [
    {
     "data": {
      "text/plain": [
       "0.011253134164509015"
      ]
     },
     "execution_count": 4,
     "metadata": {},
     "output_type": "execute_result"
    }
   ],
   "source": [
    "1 - stats.binom.cdf( 5, 20, 0.1 )"
   ]
  },
  {
   "cell_type": "markdown",
   "metadata": {},
   "source": [
    "**(d) Average number of customers who are likely to return the items and the variance and the standard deviation of the number of returns.**\n",
    "\n",
    "- Average of a binomial distribution is given by $n*p$\n",
    "- Variance of the binomial distribution is given by $n*p*(1-p)$"
   ]
  },
  {
   "cell_type": "code",
   "execution_count": 5,
   "metadata": {},
   "outputs": [
    {
     "name": "stdout",
     "output_type": "stream",
     "text": [
      "Average:  2.0  Variance: 1.8\n"
     ]
    }
   ],
   "source": [
    "mean, var = stats.binom.stats(20, 0.1)\n",
    "print( \"Average: \", mean , \" Variance:\", var)"
   ]
  },
  {
   "cell_type": "markdown",
   "metadata": {},
   "source": [
    "## Poisson Distribution\n",
    "\n",
    "We may have to calculate the probability of the number of events that may occur over a period of time or space. \n",
    "For example, \n",
    "- number of cancellation of orders by customers at an e-commerce portal in a day\n",
    "- number of cash withdrawals at an ATM in an hour\n",
    "\n",
    "When we have to find the probability of number of events, we use Poisson distribution. The probability mass function of a Poisson distribution is given by\n",
    "\n",
    "$P(X=k) = \\frac{e^{-\\lambda} \\space \\lambda^{k}}{k!}$\n",
    "\n",
    "where $\\lambda$ is the rate of occurrence of the events per unit of measurement (in many situations the unit of measurement is likely to be time)."
   ]
  },
  {
   "cell_type": "markdown",
   "metadata": {},
   "source": [
    "### Example of Poisson distribution\n",
    "\n",
    "The number of calls arriving at a call center follows a Poisson distribution at 10 per hour. \n",
    "\n",
    "**(a) Calculate the probability that the number of calls will be maximum 5.**"
   ]
  },
  {
   "cell_type": "code",
   "execution_count": 6,
   "metadata": {},
   "outputs": [
    {
     "data": {
      "text/plain": [
       "0.06708596287903189"
      ]
     },
     "execution_count": 6,
     "metadata": {},
     "output_type": "execute_result"
    }
   ],
   "source": [
    "stats.poisson.cdf(5, 10)"
   ]
  },
  {
   "cell_type": "markdown",
   "metadata": {},
   "source": [
    "**(b) Calculate the probability that the number of calls over a 3-hour period will exceed 30.**\n",
    "\n",
    "Since the average calls per hour is 10 ($\\lambda$ = 10), and we are interested in finding the calls over 3 hours, the mean number of calls over 3 hours is $\\lambda t$ = 30. Probability that the number of calls will be more than 30 is given by"
   ]
  },
  {
   "cell_type": "code",
   "execution_count": 7,
   "metadata": {},
   "outputs": [
    {
     "data": {
      "text/plain": [
       "0.45164848742208863"
      ]
     },
     "execution_count": 7,
     "metadata": {},
     "output_type": "execute_result"
    }
   ],
   "source": [
    "1 - stats.poisson.cdf(30, 30)"
   ]
  },
  {
   "cell_type": "markdown",
   "metadata": {},
   "source": [
    "## Exponential Distribution\n",
    "\n",
    "Exponential distribution is a single parameter continuous distribution that is traditionally used for modeling time to failure of electronic components. \n",
    "The exponential distribution represents a process in which events occur continuously and independently at a constant average rate.\n",
    "\n",
    "The probability density function is given by \n",
    "\n",
    "$P(x) = \\lambda e^{-\\lambda x}, x {\\ge} 0$\n",
    "\n",
    "Where,\n",
    "\n",
    "- The parameter $\\lambda$ is the scale parameter and represents the rate of occurrence of the event\n",
    "- Mean of exponential distribution is given by $\\frac{1}{\\lambda}$"
   ]
  },
  {
   "cell_type": "markdown",
   "metadata": {},
   "source": [
    "### Example of Exponential Distribution"
   ]
  },
  {
   "cell_type": "markdown",
   "metadata": {},
   "source": [
    "The time to failure of an avionic system follows an exponential distribution with a mean time between failures (MTBF) of 1000 hours.  So, $\\lambda$ is $\\frac{1}{1000}$.\n",
    "\n",
    "(a) Calculate the probability that the system will fail before 1000 hours. "
   ]
  },
  {
   "cell_type": "code",
   "execution_count": 8,
   "metadata": {},
   "outputs": [
    {
     "data": {
      "text/plain": [
       "0.6321201909489326"
      ]
     },
     "execution_count": 8,
     "metadata": {},
     "output_type": "execute_result"
    }
   ],
   "source": [
    "stats.expon.cdf(1000, \n",
    "                loc = 1/1000, \n",
    "                scale = 1000)"
   ]
  },
  {
   "cell_type": "markdown",
   "metadata": {},
   "source": [
    "(b) Calculate the probability that it will not fail up to 2000 hours. "
   ]
  },
  {
   "cell_type": "code",
   "execution_count": 9,
   "metadata": {},
   "outputs": [
    {
     "data": {
      "text/plain": [
       "0.13533541857196352"
      ]
     },
     "execution_count": 9,
     "metadata": {},
     "output_type": "execute_result"
    }
   ],
   "source": [
    "1 - stats.expon.cdf(2000, \n",
    "                loc = 1/1000, \n",
    "                scale = 1000)"
   ]
  },
  {
   "cell_type": "markdown",
   "metadata": {},
   "source": [
    "(c) Calculate the time by which 10% of the system will fail (that is, calculate  P10  life).\n",
    "\n",
    "This can be calculated by ppf(percent point function) and is an inverse of cdf."
   ]
  },
  {
   "cell_type": "code",
   "execution_count": 10,
   "metadata": {},
   "outputs": [
    {
     "data": {
      "text/plain": [
       "105.36151565782632"
      ]
     },
     "execution_count": 10,
     "metadata": {},
     "output_type": "execute_result"
    }
   ],
   "source": [
    "stats.expon.ppf(.1, \n",
    "                loc = 1/1000, \n",
    "                scale = 1000)"
   ]
  },
  {
   "cell_type": "markdown",
   "metadata": {},
   "source": [
    "That is, by 105.36 hours, 10% of systems will fail."
   ]
  },
  {
   "cell_type": "markdown",
   "metadata": {},
   "source": [
    "## Normal Distribution\n",
    "\n",
    "Normal distribution, also known as Gaussian distribution, is one of the most popular continuous distribution. Most variables follow normal distribution. It is also popularly known as bell curve.\n",
    "\n",
    "To explore normal distribution in detail, we will use daily returns of stocks traded in BSE (Bombay Stock Exchange). Imagine a scenario, an investor wants to understand the risks and returns associated with various stocks before  investing in them. For example a decision to invest in two stocks: *BEML* and *GLAXO*. "
   ]
  },
  {
   "cell_type": "code",
   "execution_count": 11,
   "metadata": {},
   "outputs": [
    {
     "data": {
      "text/html": [
       "<div>\n",
       "<style scoped>\n",
       "    .dataframe tbody tr th:only-of-type {\n",
       "        vertical-align: middle;\n",
       "    }\n",
       "\n",
       "    .dataframe tbody tr th {\n",
       "        vertical-align: top;\n",
       "    }\n",
       "\n",
       "    .dataframe thead th {\n",
       "        text-align: right;\n",
       "    }\n",
       "</style>\n",
       "<table border=\"1\" class=\"dataframe\">\n",
       "  <thead>\n",
       "    <tr style=\"text-align: right;\">\n",
       "      <th></th>\n",
       "      <th>Date</th>\n",
       "      <th>Open</th>\n",
       "      <th>High</th>\n",
       "      <th>Low</th>\n",
       "      <th>Last</th>\n",
       "      <th>Close</th>\n",
       "      <th>Total Trade Quantity</th>\n",
       "      <th>Turnover (Lacs)</th>\n",
       "    </tr>\n",
       "  </thead>\n",
       "  <tbody>\n",
       "    <tr>\n",
       "      <th>0</th>\n",
       "      <td>2010-01-04</td>\n",
       "      <td>1121.0</td>\n",
       "      <td>1151.00</td>\n",
       "      <td>1121.00</td>\n",
       "      <td>1134.0</td>\n",
       "      <td>1135.60</td>\n",
       "      <td>101651.0</td>\n",
       "      <td>1157.18</td>\n",
       "    </tr>\n",
       "    <tr>\n",
       "      <th>1</th>\n",
       "      <td>2010-01-05</td>\n",
       "      <td>1146.8</td>\n",
       "      <td>1149.00</td>\n",
       "      <td>1128.75</td>\n",
       "      <td>1135.0</td>\n",
       "      <td>1134.60</td>\n",
       "      <td>59504.0</td>\n",
       "      <td>676.47</td>\n",
       "    </tr>\n",
       "    <tr>\n",
       "      <th>2</th>\n",
       "      <td>2010-01-06</td>\n",
       "      <td>1140.0</td>\n",
       "      <td>1164.25</td>\n",
       "      <td>1130.05</td>\n",
       "      <td>1137.0</td>\n",
       "      <td>1139.60</td>\n",
       "      <td>128908.0</td>\n",
       "      <td>1482.84</td>\n",
       "    </tr>\n",
       "    <tr>\n",
       "      <th>3</th>\n",
       "      <td>2010-01-07</td>\n",
       "      <td>1142.0</td>\n",
       "      <td>1159.40</td>\n",
       "      <td>1119.20</td>\n",
       "      <td>1141.0</td>\n",
       "      <td>1144.15</td>\n",
       "      <td>117871.0</td>\n",
       "      <td>1352.98</td>\n",
       "    </tr>\n",
       "    <tr>\n",
       "      <th>4</th>\n",
       "      <td>2010-01-08</td>\n",
       "      <td>1156.0</td>\n",
       "      <td>1172.00</td>\n",
       "      <td>1140.00</td>\n",
       "      <td>1141.2</td>\n",
       "      <td>1144.05</td>\n",
       "      <td>170063.0</td>\n",
       "      <td>1971.42</td>\n",
       "    </tr>\n",
       "  </tbody>\n",
       "</table>\n",
       "</div>"
      ],
      "text/plain": [
       "         Date    Open     High      Low    Last    Close  \\\n",
       "0  2010-01-04  1121.0  1151.00  1121.00  1134.0  1135.60   \n",
       "1  2010-01-05  1146.8  1149.00  1128.75  1135.0  1134.60   \n",
       "2  2010-01-06  1140.0  1164.25  1130.05  1137.0  1139.60   \n",
       "3  2010-01-07  1142.0  1159.40  1119.20  1141.0  1144.15   \n",
       "4  2010-01-08  1156.0  1172.00  1140.00  1141.2  1144.05   \n",
       "\n",
       "   Total Trade Quantity  Turnover (Lacs)  \n",
       "0              101651.0          1157.18  \n",
       "1               59504.0           676.47  \n",
       "2              128908.0          1482.84  \n",
       "3              117871.0          1352.98  \n",
       "4              170063.0          1971.42  "
      ]
     },
     "execution_count": 11,
     "metadata": {},
     "output_type": "execute_result"
    }
   ],
   "source": [
    "# Setting precision level to 4 to show only upto 4 decimal points\n",
    "pd.option_context('display.precision', 2)\n",
    "\n",
    "beml_df = pd.read_csv( 'BEML.csv' )\n",
    "beml_df[0:5]"
   ]
  },
  {
   "cell_type": "code",
   "execution_count": 12,
   "metadata": {},
   "outputs": [
    {
     "data": {
      "text/html": [
       "<div>\n",
       "<style scoped>\n",
       "    .dataframe tbody tr th:only-of-type {\n",
       "        vertical-align: middle;\n",
       "    }\n",
       "\n",
       "    .dataframe tbody tr th {\n",
       "        vertical-align: top;\n",
       "    }\n",
       "\n",
       "    .dataframe thead th {\n",
       "        text-align: right;\n",
       "    }\n",
       "</style>\n",
       "<table border=\"1\" class=\"dataframe\">\n",
       "  <thead>\n",
       "    <tr style=\"text-align: right;\">\n",
       "      <th></th>\n",
       "      <th>Date</th>\n",
       "      <th>Open</th>\n",
       "      <th>High</th>\n",
       "      <th>Low</th>\n",
       "      <th>Last</th>\n",
       "      <th>Close</th>\n",
       "      <th>Total Trade Quantity</th>\n",
       "      <th>Turnover (Lacs)</th>\n",
       "    </tr>\n",
       "  </thead>\n",
       "  <tbody>\n",
       "    <tr>\n",
       "      <th>0</th>\n",
       "      <td>2010-01-04</td>\n",
       "      <td>1613.00</td>\n",
       "      <td>1629.10</td>\n",
       "      <td>1602.00</td>\n",
       "      <td>1629.0</td>\n",
       "      <td>1625.65</td>\n",
       "      <td>9365.0</td>\n",
       "      <td>151.74</td>\n",
       "    </tr>\n",
       "    <tr>\n",
       "      <th>1</th>\n",
       "      <td>2010-01-05</td>\n",
       "      <td>1639.95</td>\n",
       "      <td>1639.95</td>\n",
       "      <td>1611.05</td>\n",
       "      <td>1620.0</td>\n",
       "      <td>1616.80</td>\n",
       "      <td>38148.0</td>\n",
       "      <td>622.58</td>\n",
       "    </tr>\n",
       "    <tr>\n",
       "      <th>2</th>\n",
       "      <td>2010-01-06</td>\n",
       "      <td>1618.00</td>\n",
       "      <td>1644.00</td>\n",
       "      <td>1617.00</td>\n",
       "      <td>1639.0</td>\n",
       "      <td>1638.50</td>\n",
       "      <td>36519.0</td>\n",
       "      <td>595.09</td>\n",
       "    </tr>\n",
       "    <tr>\n",
       "      <th>3</th>\n",
       "      <td>2010-01-07</td>\n",
       "      <td>1645.00</td>\n",
       "      <td>1654.00</td>\n",
       "      <td>1636.00</td>\n",
       "      <td>1648.0</td>\n",
       "      <td>1648.70</td>\n",
       "      <td>12809.0</td>\n",
       "      <td>211.00</td>\n",
       "    </tr>\n",
       "    <tr>\n",
       "      <th>4</th>\n",
       "      <td>2010-01-08</td>\n",
       "      <td>1650.00</td>\n",
       "      <td>1650.00</td>\n",
       "      <td>1626.55</td>\n",
       "      <td>1640.0</td>\n",
       "      <td>1639.80</td>\n",
       "      <td>28035.0</td>\n",
       "      <td>459.11</td>\n",
       "    </tr>\n",
       "  </tbody>\n",
       "</table>\n",
       "</div>"
      ],
      "text/plain": [
       "         Date     Open     High      Low    Last    Close  \\\n",
       "0  2010-01-04  1613.00  1629.10  1602.00  1629.0  1625.65   \n",
       "1  2010-01-05  1639.95  1639.95  1611.05  1620.0  1616.80   \n",
       "2  2010-01-06  1618.00  1644.00  1617.00  1639.0  1638.50   \n",
       "3  2010-01-07  1645.00  1654.00  1636.00  1648.0  1648.70   \n",
       "4  2010-01-08  1650.00  1650.00  1626.55  1640.0  1639.80   \n",
       "\n",
       "   Total Trade Quantity  Turnover (Lacs)  \n",
       "0                9365.0           151.74  \n",
       "1               38148.0           622.58  \n",
       "2               36519.0           595.09  \n",
       "3               12809.0           211.00  \n",
       "4               28035.0           459.11  "
      ]
     },
     "execution_count": 12,
     "metadata": {},
     "output_type": "execute_result"
    }
   ],
   "source": [
    "glaxo_df = pd.read_csv( 'GLAXO.csv' )\n",
    "glaxo_df[0:5]"
   ]
  },
  {
   "cell_type": "markdown",
   "metadata": {},
   "source": [
    "Our analysis will involve only daily close prices, so we will select *Date* and *Close* columns from the dataframes."
   ]
  },
  {
   "cell_type": "code",
   "execution_count": 13,
   "metadata": {},
   "outputs": [],
   "source": [
    "beml_df = beml_df[['Date', 'Close']]\n",
    "glaxo_df = glaxo_df[['Date', 'Close']]"
   ]
  },
  {
   "cell_type": "markdown",
   "metadata": {},
   "source": [
    "To order the rows by date and time, we can create a *DatetimeIndex* index from the column *Date* and it will ensure the rows are sorted by time in ascending order."
   ]
  },
  {
   "cell_type": "code",
   "execution_count": 14,
   "metadata": {},
   "outputs": [],
   "source": [
    "glaxo_df = glaxo_df.set_index(pd.DatetimeIndex(glaxo_df['Date']) )\n",
    "beml_df = beml_df.set_index(pd.DatetimeIndex(beml_df['Date']) )"
   ]
  },
  {
   "cell_type": "markdown",
   "metadata": {},
   "source": [
    "Let's display first 5 records after the dataframe is sorted by time to ensure that it done correctly."
   ]
  },
  {
   "cell_type": "code",
   "execution_count": 15,
   "metadata": {},
   "outputs": [
    {
     "data": {
      "text/html": [
       "<div>\n",
       "<style scoped>\n",
       "    .dataframe tbody tr th:only-of-type {\n",
       "        vertical-align: middle;\n",
       "    }\n",
       "\n",
       "    .dataframe tbody tr th {\n",
       "        vertical-align: top;\n",
       "    }\n",
       "\n",
       "    .dataframe thead th {\n",
       "        text-align: right;\n",
       "    }\n",
       "</style>\n",
       "<table border=\"1\" class=\"dataframe\">\n",
       "  <thead>\n",
       "    <tr style=\"text-align: right;\">\n",
       "      <th></th>\n",
       "      <th>Date</th>\n",
       "      <th>Close</th>\n",
       "    </tr>\n",
       "    <tr>\n",
       "      <th>Date</th>\n",
       "      <th></th>\n",
       "      <th></th>\n",
       "    </tr>\n",
       "  </thead>\n",
       "  <tbody>\n",
       "    <tr>\n",
       "      <th>2010-01-04</th>\n",
       "      <td>2010-01-04</td>\n",
       "      <td>1625.65</td>\n",
       "    </tr>\n",
       "    <tr>\n",
       "      <th>2010-01-05</th>\n",
       "      <td>2010-01-05</td>\n",
       "      <td>1616.80</td>\n",
       "    </tr>\n",
       "    <tr>\n",
       "      <th>2010-01-06</th>\n",
       "      <td>2010-01-06</td>\n",
       "      <td>1638.50</td>\n",
       "    </tr>\n",
       "    <tr>\n",
       "      <th>2010-01-07</th>\n",
       "      <td>2010-01-07</td>\n",
       "      <td>1648.70</td>\n",
       "    </tr>\n",
       "    <tr>\n",
       "      <th>2010-01-08</th>\n",
       "      <td>2010-01-08</td>\n",
       "      <td>1639.80</td>\n",
       "    </tr>\n",
       "  </tbody>\n",
       "</table>\n",
       "</div>"
      ],
      "text/plain": [
       "                  Date    Close\n",
       "Date                           \n",
       "2010-01-04  2010-01-04  1625.65\n",
       "2010-01-05  2010-01-05  1616.80\n",
       "2010-01-06  2010-01-06  1638.50\n",
       "2010-01-07  2010-01-07  1648.70\n",
       "2010-01-08  2010-01-08  1639.80"
      ]
     },
     "execution_count": 15,
     "metadata": {},
     "output_type": "execute_result"
    }
   ],
   "source": [
    "glaxo_df.head(5)"
   ]
  },
  {
   "cell_type": "markdown",
   "metadata": {},
   "source": [
    "Now plot the trend of close prices of GLAXO stock using *plot()* method of matplotlib, which takes *glaxo_df.Close* as a parameter."
   ]
  },
  {
   "cell_type": "code",
   "execution_count": 16,
   "metadata": {},
   "outputs": [
    {
     "data": {
      "image/png": "[encoded data removed]",
      "text/plain": [
       "<Figure size 432x288 with 1 Axes>"
      ]
     },
     "metadata": {
      "needs_background": "light"
     },
     "output_type": "display_data"
    }
   ],
   "source": [
    "import matplotlib.pyplot as plt\n",
    "import seaborn as sn\n",
    "%matplotlib inline\n",
    "\n",
    "plt.plot( glaxo_df.Close );\n",
    "plt.xlabel( 'Time' );\n",
    "plt.ylabel( 'Close Price' );"
   ]
  },
  {
   "cell_type": "markdown",
   "metadata": {},
   "source": [
    "*Figure 3.1: Close Price Trends of GLAXO Stock*"
   ]
  },
  {
   "cell_type": "markdown",
   "metadata": {},
   "source": [
    "Now plotting BEML stock close price trend."
   ]
  },
  {
   "cell_type": "code",
   "execution_count": 17,
   "metadata": {},
   "outputs": [
    {
     "data": {
      "image/png": "[encoded data removed]",
      "text/plain": [
       "<Figure size 432x288 with 1 Axes>"
      ]
     },
     "metadata": {
      "needs_background": "light"
     },
     "output_type": "display_data"
    }
   ],
   "source": [
    "plt.plot( beml_df.Close );\n",
    "plt.xlabel( 'Time' );\n",
    "plt.ylabel( 'Close' );"
   ]
  },
  {
   "cell_type": "markdown",
   "metadata": {},
   "source": [
    "*Figure 3.2: Close Price Trends of BEML Stock*"
   ]
  },
  {
   "cell_type": "markdown",
   "metadata": {},
   "source": [
    "It can be observed that there is an upward trend in the close price of Glaxo during 2010-2017 period. But BEML had a downward trend during 2010-2013, followed by an upward trend since 2014 and then again a price correction from mid of 2015. \n",
    "\n",
    "What if I am a investor and interested in understanding the few characteristics about these stocks.\n",
    "\n",
    "1. What is the expected daily rate of return of these two stocks?\n",
    "2. Which stocks have higher risk or volatility as far as daily returns are concerned?\n",
    "3. What is the expected range of return for 95% confidence interval? \n",
    "4. Which stock has higher probability of making a daily return of 2% or more?\n",
    "5. Which stock has higher probability of making a loss (risk) of 2% or more?\n",
    "\n",
    "To answer the above questions we must calculate daily gains on these stocks. The *gain* can be calculated as a percentage change in *close* price, from the previous day's *close* price. \n",
    "\n",
    "$gain = \\frac{Close Price_{t} - Close Price_{t-1}}{Close Price_{t-1}}$\n",
    "\n",
    "*pct_change()* in Pandas will give the percentage change in a column value shifted by a period, which is passed as a parameter to *periods*. *periods=1* indicate the value change since last row i.e. previous day.   "
   ]
  },
  {
   "cell_type": "code",
   "execution_count": 18,
   "metadata": {},
   "outputs": [
    {
     "data": {
      "text/html": [
       "<div>\n",
       "<style scoped>\n",
       "    .dataframe tbody tr th:only-of-type {\n",
       "        vertical-align: middle;\n",
       "    }\n",
       "\n",
       "    .dataframe tbody tr th {\n",
       "        vertical-align: top;\n",
       "    }\n",
       "\n",
       "    .dataframe thead th {\n",
       "        text-align: right;\n",
       "    }\n",
       "</style>\n",
       "<table border=\"1\" class=\"dataframe\">\n",
       "  <thead>\n",
       "    <tr style=\"text-align: right;\">\n",
       "      <th></th>\n",
       "      <th>Date</th>\n",
       "      <th>Close</th>\n",
       "      <th>gain</th>\n",
       "    </tr>\n",
       "    <tr>\n",
       "      <th>Date</th>\n",
       "      <th></th>\n",
       "      <th></th>\n",
       "      <th></th>\n",
       "    </tr>\n",
       "  </thead>\n",
       "  <tbody>\n",
       "    <tr>\n",
       "      <th>2010-01-04</th>\n",
       "      <td>2010-01-04</td>\n",
       "      <td>1625.65</td>\n",
       "      <td>NaN</td>\n",
       "    </tr>\n",
       "    <tr>\n",
       "      <th>2010-01-05</th>\n",
       "      <td>2010-01-05</td>\n",
       "      <td>1616.80</td>\n",
       "      <td>-0.005444</td>\n",
       "    </tr>\n",
       "    <tr>\n",
       "      <th>2010-01-06</th>\n",
       "      <td>2010-01-06</td>\n",
       "      <td>1638.50</td>\n",
       "      <td>0.013422</td>\n",
       "    </tr>\n",
       "    <tr>\n",
       "      <th>2010-01-07</th>\n",
       "      <td>2010-01-07</td>\n",
       "      <td>1648.70</td>\n",
       "      <td>0.006225</td>\n",
       "    </tr>\n",
       "    <tr>\n",
       "      <th>2010-01-08</th>\n",
       "      <td>2010-01-08</td>\n",
       "      <td>1639.80</td>\n",
       "      <td>-0.005398</td>\n",
       "    </tr>\n",
       "  </tbody>\n",
       "</table>\n",
       "</div>"
      ],
      "text/plain": [
       "                  Date    Close      gain\n",
       "Date                                     \n",
       "2010-01-04  2010-01-04  1625.65       NaN\n",
       "2010-01-05  2010-01-05  1616.80 -0.005444\n",
       "2010-01-06  2010-01-06  1638.50  0.013422\n",
       "2010-01-07  2010-01-07  1648.70  0.006225\n",
       "2010-01-08  2010-01-08  1639.80 -0.005398"
      ]
     },
     "execution_count": 18,
     "metadata": {},
     "output_type": "execute_result"
    }
   ],
   "source": [
    "glaxo_df['gain'] = glaxo_df.Close.pct_change( periods = 1 )\n",
    "beml_df['gain'] = beml_df.Close.pct_change( periods = 1 )\n",
    "glaxo_df.head( 5 )"
   ]
  },
  {
   "cell_type": "markdown",
   "metadata": {},
   "source": [
    "The first day gain is shown as *NAN*, as there is no previous day for it to calculate *gain*. We can drop this record using *dropna()* method."
   ]
  },
  {
   "cell_type": "code",
   "execution_count": 19,
   "metadata": {},
   "outputs": [],
   "source": [
    "glaxo_df = glaxo_df.dropna()\n",
    "beml_df = beml_df.dropna()"
   ]
  },
  {
   "cell_type": "markdown",
   "metadata": {},
   "source": [
    "Now, plot *gain* against time."
   ]
  },
  {
   "cell_type": "code",
   "execution_count": 20,
   "metadata": {},
   "outputs": [
    {
     "data": {
      "image/png": "[encoded data removed]",
      "text/plain": [
       "<Figure size 576x432 with 1 Axes>"
      ]
     },
     "metadata": {
      "needs_background": "light"
     },
     "output_type": "display_data"
    }
   ],
   "source": [
    "plt.figure( figsize = ( 8, 6 ));\n",
    "plt.plot( glaxo_df.index, glaxo_df.gain  );\n",
    "plt.xlabel( 'Time' );\n",
    "plt.ylabel( 'gain' );"
   ]
  },
  {
   "cell_type": "markdown",
   "metadata": {},
   "source": [
    "- The graph shows the daily gain is highly random and fluctuates around 0.00. \n",
    "- The gain remains mostly between 0.05 and -0.05. \n",
    "- But very high gains close to 0.20 has been observed once and similarly, \n",
    "- High loss of around 0.08 has been observed once.\n",
    "\n",
    "We can draw distribution plot of *gain* of both *BEML* and *Glaxo* stocks to gain better insight."
   ]
  },
  {
   "cell_type": "code",
   "execution_count": 21,
   "metadata": {},
   "outputs": [
    {
     "data": {
      "image/png": "[encoded data removed]",
      "text/plain": [
       "<Figure size 432x288 with 1 Axes>"
      ]
     },
     "metadata": {
      "needs_background": "light"
     },
     "output_type": "display_data"
    }
   ],
   "source": [
    "sn.distplot( glaxo_df.gain, label = 'Glaxo'  );\n",
    "sn.distplot( beml_df.gain, label = 'BEML'  );\n",
    "plt.xlabel( 'gain' );\n",
    "plt.ylabel( 'Density' );\n",
    "plt.legend();"
   ]
  },
  {
   "cell_type": "markdown",
   "metadata": {},
   "source": [
    "*gain* seems to be normally distributed for both the stocks with mean around 0.00. BEML seems to have higher variance than Glaxo.\n",
    "\n",
    "\n",
    "### Mean and Variance\n",
    "\n",
    "The normal distribution is parameterized by two parameters: the mean of the distribution $\\mu$ and the variance $\\sigma^2$. \n",
    "\n",
    "The sample mean of a normal distribution is given by, \n",
    "\n",
    "$\\bar x = \\frac{1}{n}\\sum_{i=1}^{n}x_{i}$\n",
    "\n",
    "Variance is given by, \n",
    "\n",
    "$\\sigma^2 = \\frac{1}{n}\\sqrt \\sum_{i=1}^{n}(x_{i}-\\bar x)^2$. \n",
    "\n",
    "And standard deviation is square root of variance and is denoted by $\\sigma$.\n",
    "\n",
    "Methods *mean()* and *std()* on dataframe columns return mean and standard deviation respectively."
   ]
  },
  {
   "cell_type": "code",
   "execution_count": 52,
   "metadata": {},
   "outputs": [
    {
     "name": "stdout",
     "output_type": "stream",
     "text": [
      "Daily gain of Glaxo\n",
      "---------------------\n",
      "Mean:  0.0004\n",
      "Standard Deviation:  0.0134\n"
     ]
    }
   ],
   "source": [
    "print( \"Daily gain of Glaxo\")\n",
    "print(\"---------------------\")\n",
    "print( \"Mean: \", round(glaxo_df.gain.mean(), 4) )\n",
    "print( \"Standard Deviation: \", round(glaxo_df.gain.std(), 4) )"
   ]
  },
  {
   "cell_type": "code",
   "execution_count": 53,
   "metadata": {},
   "outputs": [
    {
     "name": "stdout",
     "output_type": "stream",
     "text": [
      "Daily gain of BEML\n",
      "---------------------\n",
      "Mean:  0.0003\n",
      "Standard Deviation:  0.0264\n"
     ]
    }
   ],
   "source": [
    "print( \"Daily gain of BEML\")\n",
    "print(\"---------------------\")\n",
    "print( \"Mean: \", round(beml_df.gain.mean(), 4) )\n",
    "print( \"Standard Deviation: \", round(beml_df.gain.std(), 4) )"
   ]
  },
  {
   "cell_type": "markdown",
   "metadata": {},
   "source": [
    "- The expected daily rate of return (gain) is around 0% for both stocks. \n",
    "\n",
    "- Here variance or standard deviation of *gain* indicates risk. \n",
    "- BEML stock has higher risk as standard deviation of BEML is 2.64% whereas standard deviation for Glaxo is 1.33%."
   ]
  },
  {
   "cell_type": "markdown",
   "metadata": {},
   "source": [
    "### Confidence Interval"
   ]
  },
  {
   "cell_type": "markdown",
   "metadata": {},
   "source": [
    "To find out what is the expected range of return for 95% confidence interval, we need to calculate the values *gain* for two standard deviation away from mean on both sides of the distribution i.e. $\\mu \\pm2\\sigma$. "
   ]
  },
  {
   "cell_type": "code",
   "execution_count": 25,
   "metadata": {},
   "outputs": [
    {
     "name": "stdout",
     "output_type": "stream",
     "text": [
      "Gain at 95% confidence interval is: [-0.0258  0.0266]\n"
     ]
    }
   ],
   "source": [
    "from scipy import stats\n",
    "\n",
    "glaxo_df_ci = stats.norm.interval(0.95,\n",
    "                                  loc = glaxo_df.gain.mean(),\n",
    "                                  scale = glaxo_df.gain.std())\n",
    "\n",
    "print( \"Gain at 95% confidence interval is:\", np.round(glaxo_df_ci, 4) )"
   ]
  },
  {
   "cell_type": "code",
   "execution_count": 26,
   "metadata": {},
   "outputs": [
    {
     "name": "stdout",
     "output_type": "stream",
     "text": [
      "Gain at 95% confidence interval is: [-0.0515  0.0521]\n"
     ]
    }
   ],
   "source": [
    "beml_df_ci = stats.norm.interval( 0.95,\n",
    "                loc=beml_df.gain.mean(),\n",
    "                scale=beml_df.gain.std())\n",
    "\n",
    "print( \"Gain at 95% confidence interval is:\", np.round(beml_df_ci, 4) )"
   ]
  },
  {
   "cell_type": "markdown",
   "metadata": {},
   "source": [
    "### Cumulative Probability Distribution\n",
    "\n",
    "To understand the probability that the gain will be higher then 2% or more, we need to find out what is the sum of all probabilities that *gain* can take values more than 0.02 (i.e. 2%). \n",
    "\n",
    "<img src=\"cdf.png\" width=\"300\">"
   ]
  },
  {
   "cell_type": "markdown",
   "metadata": {},
   "source": [
    "To know what is the probability the stocks gain will be more than -0.02 (i.e. loss), cummulative distribution function can be used to calculate the area of the distribution from left most point upto -0.02. *stats.norm.cdf()* returns cumulative distribution for a normal distribution."
   ]
  },
  {
   "cell_type": "code",
   "execution_count": 27,
   "metadata": {},
   "outputs": [
    {
     "name": "stdout",
     "output_type": "stream",
     "text": [
      "Probability of making 2% gain or higher in Glaxo: \n"
     ]
    },
    {
     "data": {
      "text/plain": [
       "0.06352488667177397"
      ]
     },
     "execution_count": 27,
     "metadata": {},
     "output_type": "execute_result"
    }
   ],
   "source": [
    "print( \"Probability of making 2% gain or higher in Glaxo: \")\n",
    "stats.norm.cdf( -0.02,\n",
    "             loc=glaxo_df.gain.mean(),\n",
    "             scale=glaxo_df.gain.std())"
   ]
  },
  {
   "cell_type": "code",
   "execution_count": 28,
   "metadata": {},
   "outputs": [
    {
     "name": "stdout",
     "output_type": "stream",
     "text": [
      "Probability of making 2% gain or higher in BEML: \n"
     ]
    },
    {
     "data": {
      "text/plain": [
       "0.22155987503755292"
      ]
     },
     "execution_count": 28,
     "metadata": {},
     "output_type": "execute_result"
    }
   ],
   "source": [
    "print( \"Probability of making 2% gain or higher in BEML: \")\n",
    "stats.norm.cdf( -0.02,\n",
    "             loc=beml_df.gain.mean(),\n",
    "             scale=beml_df.gain.std())"
   ]
  },
  {
   "cell_type": "markdown",
   "metadata": {},
   "source": [
    "Cumulative distribtion function value indicates that BEML has 22.1% probability, whereas Galxo has only 6.35% probability of making a loss of 2% or higher."
   ]
  },
  {
   "cell_type": "markdown",
   "metadata": {},
   "source": [
    "Similiarly, the probability of making a daily gain of 2% or higher will be give by the area to the right of 0.02 of the distribution. As *stats.norm.cdf()* give the cumulative area from left, the probability can be computed by subtracting the cumulative distribution function value from 1. Note that the sum of all probabilities is always 1.0."
   ]
  },
  {
   "cell_type": "code",
   "execution_count": 29,
   "metadata": {},
   "outputs": [
    {
     "name": "stdout",
     "output_type": "stream",
     "text": [
      "Probability of making 2% gain or higher in Glaxo:  0.07104511457618568\n",
      "Probability of making 2% gain or higher in BEML:  0.22769829484075343\n"
     ]
    }
   ],
   "source": [
    "print( \"Probability of making 2% gain or higher in Glaxo: \", \n",
    "            1 - stats.norm.cdf( 0.02,\n",
    "             loc=glaxo_df.gain.mean(),\n",
    "             scale=glaxo_df.gain.std()) )\n",
    "\n",
    "print( \"Probability of making 2% gain or higher in BEML: \", \n",
    "            1 - stats.norm.cdf( 0.02,\n",
    "             loc=beml_df.gain.mean(),\n",
    "             scale=beml_df.gain.std()) )"
   ]
  },
  {
   "cell_type": "markdown",
   "metadata": {},
   "source": [
    "The probability of making a *gain* of 2% or more for Galxo is 7.1%, where as 22.77% for BEML."
   ]
  },
  {
   "cell_type": "markdown",
   "metadata": {},
   "source": [
    "## Hypothesis Test"
   ]
  },
  {
   "cell_type": "markdown",
   "metadata": {},
   "source": [
    "- The objective of hypothesis testing is to either reject or retain a *null hypothesis* (existing claim or belief) with th help of newly collected evidences or samples. \n",
    "- Hypothesis testing consists of two complementary statements called *null hypothesis* and *alternative hypothesis*. \n",
    "- *Null hypothesis* is existing claim or belief and *alternate hypothesis* is what we intend to establish with new evidences (samples).\n",
    "\n",
    "**Some examples of *null hypothesis* are:**\n",
    "\n",
    "- Children who drink the health drink Complan (a health drink owned by the company Heinz in India) are likely to grow taller.\n",
    "- Women use camera phone more than men (Freier, 2016).\n",
    "- Vegetarians miss few flights (Siegel, 2016).\n",
    "- Smokers are better sales people.\n",
    "\n",
    "**Typical steps of hypothesis testing are:**\n",
    "\n",
    "- Hypothesis is described using a population parameter i.e. mean, standard deviation etc. \n",
    "    - $H_{0}$ is used to denote *null hypothesis* \n",
    "    - $H_{A}$ for *alternate hypothesis*.\n",
    "- Identify the test statistic to be used for testing the hypothesis i.e. *z-test* or *t-test*\n",
    "- Decide the significance value (called $\\alpha$), which is criteria for rejection and retention of null hypothesis. Typical value used for $\\alpha$ is 0.05.\n",
    "- Find out the p-value (probability value), which is probability of observing the test statistic value when the null hypothesis is true.\n",
    "- If the p-value is less than  $\\alpha$, then null hopothesis is reject in favour of alternative hypothesis i.e. new belief. If If the p-value is more than  $\\alpha$, then null hopothesis is retained i.e. existing belief contnues.\n",
    "\n",
    "\n",
    "For all examples, we will use the following notations:\n",
    "\n",
    "- $\\mu$ - population mean\n",
    "- $\\sigma$ - population standard deviation\n",
    "- $\\bar{X}$ - sample mean\n",
    "- $S$ - sample standard deviation\n",
    "- $n$ - sample size\n",
    "\n",
    "Let's take few examples and conduct hypothesis test."
   ]
  },
  {
   "cell_type": "markdown",
   "metadata": {},
   "source": [
    "### z-test\n",
    "\n",
    "Z-test is used when:\n",
    "\n",
    "- Testing the value of population mean, when population standard deviation is known. \n",
    "\n",
    "Z score is calculated as \n",
    "\n",
    "$Z = \\frac{(\\bar{X} - \\mu)}{\\frac{\\sigma}{\\sqrt{n}}}$\n",
    "\n",
    "Fo example, A passport office claims that the passport applications are processed within 30 days of submitting the application form and all necessary documents. The file *passport.csv* contains processing time of 40 passport applicants. The population standard deviation of the processing time is 12.5 days. Conduct a hypothesis test at significance level $\\alpha$ = 0.05 to verify the claim made by the passport office."
   ]
  },
  {
   "cell_type": "code",
   "execution_count": 30,
   "metadata": {},
   "outputs": [
    {
     "data": {
      "text/html": [
       "<div>\n",
       "<style scoped>\n",
       "    .dataframe tbody tr th:only-of-type {\n",
       "        vertical-align: middle;\n",
       "    }\n",
       "\n",
       "    .dataframe tbody tr th {\n",
       "        vertical-align: top;\n",
       "    }\n",
       "\n",
       "    .dataframe thead th {\n",
       "        text-align: right;\n",
       "    }\n",
       "</style>\n",
       "<table border=\"1\" class=\"dataframe\">\n",
       "  <thead>\n",
       "    <tr style=\"text-align: right;\">\n",
       "      <th></th>\n",
       "      <th>processing_time</th>\n",
       "    </tr>\n",
       "  </thead>\n",
       "  <tbody>\n",
       "    <tr>\n",
       "      <th>0</th>\n",
       "      <td>16.0</td>\n",
       "    </tr>\n",
       "    <tr>\n",
       "      <th>1</th>\n",
       "      <td>16.0</td>\n",
       "    </tr>\n",
       "    <tr>\n",
       "      <th>2</th>\n",
       "      <td>30.0</td>\n",
       "    </tr>\n",
       "    <tr>\n",
       "      <th>3</th>\n",
       "      <td>37.0</td>\n",
       "    </tr>\n",
       "    <tr>\n",
       "      <th>4</th>\n",
       "      <td>25.0</td>\n",
       "    </tr>\n",
       "  </tbody>\n",
       "</table>\n",
       "</div>"
      ],
      "text/plain": [
       "   processing_time\n",
       "0             16.0\n",
       "1             16.0\n",
       "2             30.0\n",
       "3             37.0\n",
       "4             25.0"
      ]
     },
     "execution_count": 30,
     "metadata": {},
     "output_type": "execute_result"
    }
   ],
   "source": [
    "passport_df = pd.read_csv('passport.csv')\n",
    "\n",
    "passport_df.head(5)"
   ]
  },
  {
   "cell_type": "code",
   "execution_count": 31,
   "metadata": {},
   "outputs": [
    {
     "name": "stdout",
     "output_type": "stream",
     "text": [
      "[16.0, 16.0, 30.0, 37.0, 25.0, 22.0, 19.0, 35.0, 27.0, 32.0, 34.0, 28.0, 24.0, 35.0, 24.0, 21.0, 32.0, 29.0, 24.0, 35.0, 28.0, 29.0, 18.0, 31.0, 28.0, 33.0, 32.0, 24.0, 25.0, 22.0, 21.0, 27.0, 41.0, 23.0, 23.0, 16.0, 24.0, 38.0, 26.0, 28.0]\n"
     ]
    }
   ],
   "source": [
    "print(list(passport_df.processing_time))"
   ]
  },
  {
   "cell_type": "markdown",
   "metadata": {},
   "source": [
    "Let's first define the hypothesis\n",
    "\n",
    "if $\\mu$ is population mean i.e. mean processing time of passports\n",
    "\n",
    "$H_{0}$: $\\mu \\ge$ 30\n",
    "\n",
    "$H_{A}$: $\\mu \\lt$ 30"
   ]
  },
  {
   "cell_type": "markdown",
   "metadata": {},
   "source": [
    "We will conduct a *z-test* for this hypothesis test. "
   ]
  },
  {
   "cell_type": "code",
   "execution_count": 32,
   "metadata": {},
   "outputs": [],
   "source": [
    "import math\n",
    "\n",
    "def z_test( pop_mean, pop_var, sample ):  \n",
    "    z_score = (sample.mean() - pop_mean)/(pop_var/math.sqrt(len(sample)))\n",
    "    return z_score, stats.norm.cdf(z_score)"
   ]
  },
  {
   "cell_type": "code",
   "execution_count": 33,
   "metadata": {},
   "outputs": [
    {
     "data": {
      "text/plain": [
       "(-1.4925950555994747, 0.06777160919961511)"
      ]
     },
     "execution_count": 33,
     "metadata": {},
     "output_type": "execute_result"
    }
   ],
   "source": [
    "z_test( 30, 12.5, passport_df.processing_time )"
   ]
  },
  {
   "cell_type": "markdown",
   "metadata": {},
   "source": [
    "The first value of the result is z score and second value is corresponding *p-value*. As the *p-value* is more than 0.05, the null hypothesis is retained. \n",
    "\n",
    "P-value provides us significance of sample evidence. In this example, we see there is 6.77% probability of observing a random sample at least as extreme as the observed sample. Since 6.77% is greater than significance value 5%, there is not enough evidence to reject null hypothesis. The null hypothesis is retained and it can be concluded that average processing time of passports is greater than equal to 30."
   ]
  },
  {
   "cell_type": "markdown",
   "metadata": {},
   "source": [
    "### One sample t-test\n",
    "\n",
    "The t-test is used when the population standard deviation *S* is unknown and is estimated from the sample.\n",
    "\n",
    "$t-statistics = \\frac{(\\bar{X} - \\mu)}{\\frac{S}{\\sqrt{n}}}$\n",
    "\n",
    "\n",
    "For example, Aravind Productions (AP) is a newly formed movie production house based out of Mumbai, India. AP was interested in understanding the production cost required for producing a Bollywood movie. The industry believes that the production house will require at least INR 500 million (50 crore) on average. It is assumed that the Bollywood movie production cost follows a normal distribution. Production cost of 40 Bollywood movies in millions of rupees are given in *bollywoodmovies.csv* file. Conduct an appropriate hypothesis test at $\\alpha$ = 0.05 to check whether the belief about average production cost is correct.\n"
   ]
  },
  {
   "cell_type": "code",
   "execution_count": 34,
   "metadata": {},
   "outputs": [],
   "source": [
    "bollywood_movies_df = pd.read_csv( 'bollywoodmovies.csv' )"
   ]
  },
  {
   "cell_type": "code",
   "execution_count": 35,
   "metadata": {},
   "outputs": [
    {
     "data": {
      "text/html": [
       "<div>\n",
       "<style scoped>\n",
       "    .dataframe tbody tr th:only-of-type {\n",
       "        vertical-align: middle;\n",
       "    }\n",
       "\n",
       "    .dataframe tbody tr th {\n",
       "        vertical-align: top;\n",
       "    }\n",
       "\n",
       "    .dataframe thead th {\n",
       "        text-align: right;\n",
       "    }\n",
       "</style>\n",
       "<table border=\"1\" class=\"dataframe\">\n",
       "  <thead>\n",
       "    <tr style=\"text-align: right;\">\n",
       "      <th></th>\n",
       "      <th>production_cost</th>\n",
       "    </tr>\n",
       "  </thead>\n",
       "  <tbody>\n",
       "    <tr>\n",
       "      <th>0</th>\n",
       "      <td>601</td>\n",
       "    </tr>\n",
       "    <tr>\n",
       "      <th>1</th>\n",
       "      <td>627</td>\n",
       "    </tr>\n",
       "    <tr>\n",
       "      <th>2</th>\n",
       "      <td>330</td>\n",
       "    </tr>\n",
       "    <tr>\n",
       "      <th>3</th>\n",
       "      <td>364</td>\n",
       "    </tr>\n",
       "    <tr>\n",
       "      <th>4</th>\n",
       "      <td>562</td>\n",
       "    </tr>\n",
       "  </tbody>\n",
       "</table>\n",
       "</div>"
      ],
      "text/plain": [
       "   production_cost\n",
       "0              601\n",
       "1              627\n",
       "2              330\n",
       "3              364\n",
       "4              562"
      ]
     },
     "execution_count": 35,
     "metadata": {},
     "output_type": "execute_result"
    }
   ],
   "source": [
    "bollywood_movies_df.head(5)"
   ]
  },
  {
   "cell_type": "code",
   "execution_count": 36,
   "metadata": {},
   "outputs": [
    {
     "name": "stdout",
     "output_type": "stream",
     "text": [
      "[601, 627, 330, 364, 562, 353, 583, 254, 528, 470, 125, 60, 101, 110, 60, 252, 281, 227, 484, 402, 408, 601, 593, 729, 402, 530, 708, 599, 439, 762, 292, 636, 444, 286, 636, 667, 252, 335, 457, 632]\n"
     ]
    }
   ],
   "source": [
    "print(list(bollywood_movies_df.production_cost))"
   ]
  },
  {
   "cell_type": "markdown",
   "metadata": {},
   "source": [
    "$H_{0}$: $\\mu =$ 500\n",
    "\n",
    "$H_{A}$: $\\mu \\ne$ 500\n",
    "\n",
    "\n",
    "*scipy.stats.ttest_1samp()* can be used to doing this test. It takes two parameters:\n",
    "\n",
    "- a : array_like - sample observation\n",
    "- popmean : float - expected value in null hypothesis."
   ]
  },
  {
   "cell_type": "code",
   "execution_count": 37,
   "metadata": {},
   "outputs": [
    {
     "data": {
      "text/plain": [
       "Ttest_1sampResult(statistic=-2.284553287266754, pvalue=0.0278625564067618)"
      ]
     },
     "execution_count": 37,
     "metadata": {},
     "output_type": "execute_result"
    }
   ],
   "source": [
    "stats.ttest_1samp( bollywood_movies_df.production_cost, 500 )"
   ]
  },
  {
   "cell_type": "markdown",
   "metadata": {},
   "source": [
    "This returns -2.2845 value for *t-statistics* and 0.0278 for *p-value*. This implies the sample mean is less than (to the left of) population mean and has only 2.7% probability of being part of the distribution with a population mean of 500. As *p-value* is less than 0.05, we can conclude that sample mean rejects that the production cost is at least 500."
   ]
  },
  {
   "cell_type": "markdown",
   "metadata": {},
   "source": [
    "### Two sample t-test\n",
    "\n",
    "Two sample t-test is required to test difference between two population means, but standard deviations are unknown. The parameters are estimated by the samples.\n",
    "\n",
    "For example, a company makes a claim that children (in the age group between 7 and 12) who drink their health drink will grow taller than the children who do not drink that health drink. Data in Table 6.10 shows average increase in height over one-year period from two groups: one drinking the health drink and the other not drinking the health drink. At $\\alpha$ = 0.05, test whether the increase in height for the children who drink the health drink is different than those who do not drink health drink. "
   ]
  },
  {
   "cell_type": "markdown",
   "metadata": {},
   "source": [
    "The file *healthdrink.xlsx* contains the two tabs healthdrink_yes and healthdrink_no, which contains the respective samples."
   ]
  },
  {
   "cell_type": "code",
   "execution_count": 38,
   "metadata": {},
   "outputs": [],
   "source": [
    "healthdrink_yes_df = pd.read_excel( 'healthdrink.xlsx', 'healthdrink_yes')"
   ]
  },
  {
   "cell_type": "code",
   "execution_count": 39,
   "metadata": {},
   "outputs": [
    {
     "data": {
      "text/html": [
       "<div>\n",
       "<style scoped>\n",
       "    .dataframe tbody tr th:only-of-type {\n",
       "        vertical-align: middle;\n",
       "    }\n",
       "\n",
       "    .dataframe tbody tr th {\n",
       "        vertical-align: top;\n",
       "    }\n",
       "\n",
       "    .dataframe thead th {\n",
       "        text-align: right;\n",
       "    }\n",
       "</style>\n",
       "<table border=\"1\" class=\"dataframe\">\n",
       "  <thead>\n",
       "    <tr style=\"text-align: right;\">\n",
       "      <th></th>\n",
       "      <th>height_increase</th>\n",
       "    </tr>\n",
       "  </thead>\n",
       "  <tbody>\n",
       "    <tr>\n",
       "      <th>0</th>\n",
       "      <td>8.6</td>\n",
       "    </tr>\n",
       "    <tr>\n",
       "      <th>1</th>\n",
       "      <td>5.8</td>\n",
       "    </tr>\n",
       "    <tr>\n",
       "      <th>2</th>\n",
       "      <td>10.2</td>\n",
       "    </tr>\n",
       "    <tr>\n",
       "      <th>3</th>\n",
       "      <td>8.5</td>\n",
       "    </tr>\n",
       "    <tr>\n",
       "      <th>4</th>\n",
       "      <td>6.8</td>\n",
       "    </tr>\n",
       "  </tbody>\n",
       "</table>\n",
       "</div>"
      ],
      "text/plain": [
       "   height_increase\n",
       "0              8.6\n",
       "1              5.8\n",
       "2             10.2\n",
       "3              8.5\n",
       "4              6.8"
      ]
     },
     "execution_count": 39,
     "metadata": {},
     "output_type": "execute_result"
    }
   ],
   "source": [
    "healthdrink_yes_df.head(5)"
   ]
  },
  {
   "cell_type": "code",
   "execution_count": 40,
   "metadata": {},
   "outputs": [
    {
     "data": {
      "text/plain": [
       "Index(['height_increase'], dtype='object')"
      ]
     },
     "execution_count": 40,
     "metadata": {},
     "output_type": "execute_result"
    }
   ],
   "source": [
    "healthdrink_yes_df.columns"
   ]
  },
  {
   "cell_type": "code",
   "execution_count": 41,
   "metadata": {},
   "outputs": [
    {
     "data": {
      "text/html": [
       "<div>\n",
       "<style scoped>\n",
       "    .dataframe tbody tr th:only-of-type {\n",
       "        vertical-align: middle;\n",
       "    }\n",
       "\n",
       "    .dataframe tbody tr th {\n",
       "        vertical-align: top;\n",
       "    }\n",
       "\n",
       "    .dataframe thead th {\n",
       "        text-align: right;\n",
       "    }\n",
       "</style>\n",
       "<table border=\"1\" class=\"dataframe\">\n",
       "  <thead>\n",
       "    <tr style=\"text-align: right;\">\n",
       "      <th></th>\n",
       "      <th>height_increase</th>\n",
       "    </tr>\n",
       "  </thead>\n",
       "  <tbody>\n",
       "    <tr>\n",
       "      <th>0</th>\n",
       "      <td>5.3</td>\n",
       "    </tr>\n",
       "    <tr>\n",
       "      <th>1</th>\n",
       "      <td>9.0</td>\n",
       "    </tr>\n",
       "    <tr>\n",
       "      <th>2</th>\n",
       "      <td>5.7</td>\n",
       "    </tr>\n",
       "    <tr>\n",
       "      <th>3</th>\n",
       "      <td>5.5</td>\n",
       "    </tr>\n",
       "    <tr>\n",
       "      <th>4</th>\n",
       "      <td>5.4</td>\n",
       "    </tr>\n",
       "  </tbody>\n",
       "</table>\n",
       "</div>"
      ],
      "text/plain": [
       "   height_increase\n",
       "0              5.3\n",
       "1              9.0\n",
       "2              5.7\n",
       "3              5.5\n",
       "4              5.4"
      ]
     },
     "execution_count": 41,
     "metadata": {},
     "output_type": "execute_result"
    }
   ],
   "source": [
    "healthdrink_no_df = pd.read_excel( 'healthdrink.xlsx', 'healthdrink_no')\n",
    "healthdrink_no_df.head(5)"
   ]
  },
  {
   "cell_type": "code",
   "execution_count": 42,
   "metadata": {},
   "outputs": [
    {
     "data": {
      "image/png": "[encoded data removed]",
      "text/plain": [
       "<Figure size 432x288 with 1 Axes>"
      ]
     },
     "metadata": {
      "needs_background": "light"
     },
     "output_type": "display_data"
    }
   ],
   "source": [
    "sn.distplot( healthdrink_yes_df['height_increase'], label ='healthdrink_yes' )\n",
    "sn.distplot( healthdrink_no_df['height_increase'], label ='healthdrink_no' )\n",
    "plt.legend();"
   ]
  },
  {
   "cell_type": "markdown",
   "metadata": {},
   "source": [
    "*Figure 3.9: Comparing Distributions for health drink and no health drink*"
   ]
  },
  {
   "cell_type": "markdown",
   "metadata": {},
   "source": [
    "We can observe from figure 3.9 that the distribution of increase in height for those who has health drink has shift to the right of those who did not have health drink. But is the difference 1.2 cm, as claimed, and statistically significant. \n",
    "\n",
    "*scipy.stats.ttest_ind()* takes two independent samples and returns the test statistics."
   ]
  },
  {
   "cell_type": "code",
   "execution_count": 43,
   "metadata": {},
   "outputs": [
    {
     "data": {
      "text/plain": [
       "Ttest_indResult(statistic=8.131675069083359, pvalue=1.197698592263946e-13)"
      ]
     },
     "execution_count": 43,
     "metadata": {},
     "output_type": "execute_result"
    }
   ],
   "source": [
    "stats.ttest_ind(healthdrink_yes_df['height_increase'], \n",
    "                healthdrink_no_df['height_increase'])"
   ]
  },
  {
   "cell_type": "markdown",
   "metadata": {},
   "source": [
    "The probability of the samples belonging to the same distribution is almost is equal to 0. This mean the increase in height for those who had health drink is significantly different than those who did not."
   ]
  },
  {
   "cell_type": "markdown",
   "metadata": {},
   "source": [
    "### Paired sample t-test\n",
    "\n",
    "- Sometimes to analyze whether an intervention (or treatment) such as an event, a training programs, marketing promotions, treatment for specific illness. \n",
    "\n",
    "- The objective in this case is to check whether the difference in the parameter values is statistically significant before and after the intervention or between two different types of interventions. \n",
    "\n",
    "- This is called paired sample t-test and is used used for comparing two different interventions applied on the same samples.\n",
    "\n",
    "Consider the following example for a paired t-test.\n",
    "\n",
    "The file *breakups.csv* contains alcohol consumption before and after breakup. Conduct a paired t-test to check whether the alcohol consumption is more after the breakup at 95% confidence ($\\alpha$ = 0.05)."
   ]
  },
  {
   "cell_type": "code",
   "execution_count": 44,
   "metadata": {},
   "outputs": [
    {
     "data": {
      "text/html": [
       "<div>\n",
       "<style scoped>\n",
       "    .dataframe tbody tr th:only-of-type {\n",
       "        vertical-align: middle;\n",
       "    }\n",
       "\n",
       "    .dataframe tbody tr th {\n",
       "        vertical-align: top;\n",
       "    }\n",
       "\n",
       "    .dataframe thead th {\n",
       "        text-align: right;\n",
       "    }\n",
       "</style>\n",
       "<table border=\"1\" class=\"dataframe\">\n",
       "  <thead>\n",
       "    <tr style=\"text-align: right;\">\n",
       "      <th></th>\n",
       "      <th>Before_Breakup</th>\n",
       "      <th>After_Breakup</th>\n",
       "    </tr>\n",
       "  </thead>\n",
       "  <tbody>\n",
       "    <tr>\n",
       "      <th>0</th>\n",
       "      <td>470</td>\n",
       "      <td>408</td>\n",
       "    </tr>\n",
       "    <tr>\n",
       "      <th>1</th>\n",
       "      <td>354</td>\n",
       "      <td>439</td>\n",
       "    </tr>\n",
       "    <tr>\n",
       "      <th>2</th>\n",
       "      <td>496</td>\n",
       "      <td>321</td>\n",
       "    </tr>\n",
       "    <tr>\n",
       "      <th>3</th>\n",
       "      <td>351</td>\n",
       "      <td>437</td>\n",
       "    </tr>\n",
       "    <tr>\n",
       "      <th>4</th>\n",
       "      <td>349</td>\n",
       "      <td>335</td>\n",
       "    </tr>\n",
       "  </tbody>\n",
       "</table>\n",
       "</div>"
      ],
      "text/plain": [
       "   Before_Breakup  After_Breakup\n",
       "0             470            408\n",
       "1             354            439\n",
       "2             496            321\n",
       "3             351            437\n",
       "4             349            335"
      ]
     },
     "execution_count": 44,
     "metadata": {},
     "output_type": "execute_result"
    }
   ],
   "source": [
    "breakups_df = pd.read_csv( 'breakups.csv' )\n",
    "breakups_df.head(5)"
   ]
  },
  {
   "cell_type": "code",
   "execution_count": 45,
   "metadata": {},
   "outputs": [
    {
     "data": {
      "image/png": "[encoded data removed]",
      "text/plain": [
       "<Figure size 432x288 with 1 Axes>"
      ]
     },
     "metadata": {
      "needs_background": "light"
     },
     "output_type": "display_data"
    }
   ],
   "source": [
    "sn.distplot( breakups_df['Before_Breakup'], label ='Before_Breakup' )\n",
    "sn.distplot( breakups_df['After_Breakup'], label ='After_Breakup' )\n",
    "plt.legend();"
   ]
  },
  {
   "cell_type": "markdown",
   "metadata": {},
   "source": [
    "*Figure 3.10: Comparing Distributions for drinking habits before and after breakups*"
   ]
  },
  {
   "cell_type": "markdown",
   "metadata": {},
   "source": [
    "*scipy.stats.ttest_rel* is used to conduct this test. It takes both related samples as parameters."
   ]
  },
  {
   "cell_type": "code",
   "execution_count": 46,
   "metadata": {},
   "outputs": [
    {
     "data": {
      "text/plain": [
       "Ttest_relResult(statistic=-0.5375404241815105, pvalue=0.5971346738292477)"
      ]
     },
     "execution_count": 46,
     "metadata": {},
     "output_type": "execute_result"
    }
   ],
   "source": [
    "stats.ttest_rel( breakups_df['Before_Breakup'], breakups_df['After_Breakup'] )"
   ]
  },
  {
   "cell_type": "markdown",
   "metadata": {},
   "source": [
    "As the *p-value* is 0.597, which is more than 0.05 value, we conclude that they are part of same distribution. There is not change in alcohol consumption pattern before and after breakup."
   ]
  },
  {
   "cell_type": "markdown",
   "metadata": {},
   "source": [
    "### Chi-squre Test of Independence\n",
    "\n",
    "Chi-Square tests are hypothesis tests that are used for comparing the observed distribution of data with expected distribution of the data to decide whether there is any statistically significant difference between the observed distribution and a theoretical distribution. Chi-Square statistics is given by,\n",
    "\n",
    "$\\chi^2 = \\sum_{i=1}^{n}\\frac{ (O_{i} - E_{i})^2 }{ E_{i} }$\n",
    "\n",
    "Where, $O_{i}$ is observed frequency and $E_{i}$ is expected frequency of the $i^{th}$ category.\n",
    "\n",
    "For example, Hanuman Airlines (HA) operated daily flights to several Indian cities. One of the problems HA faces is the food preferences by the passengers. Captain Cook, the operations manager of HA, believes that 35% of their passengers prefer vegetarian food, 40% prefer non-vegetarian food, 20% low calorie food, and 5% request for diabetic food. A sample of 500 passengers was chosen to analyze the food preferences and the observed frequencies are as below \n",
    "\n",
    "- Vegetarian: 190\n",
    "- Non-vegetarian: 185\n",
    "- Low Calorie: 90\n",
    "- Diabetic: 35\n",
    "\n",
    "Conduct a chi-square test to check whether Captain Cook’s belief is true at $\\alpha$ = 0.05.\n",
    "\n",
    "*scipy.stats.chisquare* is used for chi-square test and takes the following parameters.\n",
    "\n",
    "- f_obs : array_like - Observed frequencies in each category.\n",
    "- f_exp : array_like - Expected frequencies in each category. \n",
    "\n",
    "From the data we can create the following arrays."
   ]
  },
  {
   "cell_type": "code",
   "execution_count": 47,
   "metadata": {},
   "outputs": [
    {
     "name": "stdout",
     "output_type": "stream",
     "text": [
      "[175.0, 200.0, 100.0, 25.0]\n"
     ]
    }
   ],
   "source": [
    "## Observed frequencies\n",
    "f_obs = [190, 185, 90, 35] \n",
    "## Expected frquencies from the percentages expected \n",
    "f_exp = [500*0.35, 500*0.4, 500*.2, 500*0.05]\n",
    "print( f_exp )"
   ]
  },
  {
   "cell_type": "code",
   "execution_count": 48,
   "metadata": {},
   "outputs": [
    {
     "data": {
      "text/plain": [
       "Power_divergenceResult(statistic=7.410714285714286, pvalue=0.05989751420084909)"
      ]
     },
     "execution_count": 48,
     "metadata": {},
     "output_type": "execute_result"
    }
   ],
   "source": [
    "stats.chisquare( f_obs, f_exp )"
   ]
  },
  {
   "cell_type": "markdown",
   "metadata": {},
   "source": [
    "As the *p-value* is more than 0.05, we retain the null hypothesis (original claim) i.e. Captain Cook's belief is true."
   ]
  },
  {
   "cell_type": "markdown",
   "metadata": {},
   "source": [
    "## Analysis of Variance (ANOVA)"
   ]
  },
  {
   "cell_type": "markdown",
   "metadata": {},
   "source": [
    "Sometimes it may be necessary to conduct a hypothesis test to compare mean values simultaneously for more than two groups (samples) created using a factor (or factors). For example, a marketer may like to understand the impact of three different discount values (such as 0%, 10%, and 20% discount) on the average sales.\n",
    "\n",
    "ONE-WAY ANOVA (Analysis of Variance) can be used to study the impact of a single treatment (also known as factor) at different levels (thus forming different groups) on a continuous response variable (or outcome variable). \n",
    "\n",
    "Then the null and alternative hypotheses for one-way ANOVA for comparing 3 groups are given by \n",
    "\n",
    "$H_{0}: \\mu_{1} = \\mu_{2} = \\mu_{3}$\n",
    "\n",
    "$H_{A}:$ *Not all $\\mu$ values are equal*\n",
    "\n",
    "Where, $\\mu_{1}, \\mu_{2}, \\mu_{3}$ are mean of each group.\n",
    "\n",
    "Note that the alternative hypothesis, *not all $\\mu$ values are equal*, implies that some of them could be equal.\n",
    "\n",
    "### Example of One-Way ANOVA\n",
    "\n",
    "Ms Rachael Khanna the brand manager of ENZO detergent powder at the ‘one stop’ retail was interested in understanding whether the price discounts has any impact on the sales quantity of ENZO. To test whether the price discounts had any impact, the quantity (in kilograms) of ENZO sold in a day with price discounts of 0% (no discount), 10% and 20% were given on randomly selected days are given.\n",
    "\n",
    "Conduct a one-way ANOVA to check whether discount had any significant impact on the average sales quantity at $\\alpha$ = 0.05.\n",
    "\n",
    "<img src='anova.png' width=400>"
   ]
  },
  {
   "cell_type": "code",
   "execution_count": 54,
   "metadata": {},
   "outputs": [
    {
     "data": {
      "text/html": [
       "<div>\n",
       "<style scoped>\n",
       "    .dataframe tbody tr th:only-of-type {\n",
       "        vertical-align: middle;\n",
       "    }\n",
       "\n",
       "    .dataframe tbody tr th {\n",
       "        vertical-align: top;\n",
       "    }\n",
       "\n",
       "    .dataframe thead th {\n",
       "        text-align: right;\n",
       "    }\n",
       "</style>\n",
       "<table border=\"1\" class=\"dataframe\">\n",
       "  <thead>\n",
       "    <tr style=\"text-align: right;\">\n",
       "      <th></th>\n",
       "      <th>discount_0</th>\n",
       "      <th>discount_10</th>\n",
       "      <th>discount_20</th>\n",
       "    </tr>\n",
       "  </thead>\n",
       "  <tbody>\n",
       "    <tr>\n",
       "      <th>0</th>\n",
       "      <td>39</td>\n",
       "      <td>34</td>\n",
       "      <td>42</td>\n",
       "    </tr>\n",
       "    <tr>\n",
       "      <th>1</th>\n",
       "      <td>32</td>\n",
       "      <td>41</td>\n",
       "      <td>43</td>\n",
       "    </tr>\n",
       "    <tr>\n",
       "      <th>2</th>\n",
       "      <td>25</td>\n",
       "      <td>45</td>\n",
       "      <td>44</td>\n",
       "    </tr>\n",
       "    <tr>\n",
       "      <th>3</th>\n",
       "      <td>25</td>\n",
       "      <td>39</td>\n",
       "      <td>46</td>\n",
       "    </tr>\n",
       "    <tr>\n",
       "      <th>4</th>\n",
       "      <td>37</td>\n",
       "      <td>38</td>\n",
       "      <td>41</td>\n",
       "    </tr>\n",
       "  </tbody>\n",
       "</table>\n",
       "</div>"
      ],
      "text/plain": [
       "   discount_0  discount_10  discount_20\n",
       "0          39           34           42\n",
       "1          32           41           43\n",
       "2          25           45           44\n",
       "3          25           39           46\n",
       "4          37           38           41"
      ]
     },
     "execution_count": 54,
     "metadata": {},
     "output_type": "execute_result"
    }
   ],
   "source": [
    "onestop_df = pd.read_csv('onestop.csv')\n",
    "onestop_df.head(5)"
   ]
  },
  {
   "cell_type": "markdown",
   "metadata": {},
   "source": [
    "Let's visualize the distribution of group using distribution plot."
   ]
  },
  {
   "cell_type": "code",
   "execution_count": 50,
   "metadata": {},
   "outputs": [
    {
     "data": {
      "image/png": "[encoded data removed]",
      "text/plain": [
       "<Figure size 432x288 with 1 Axes>"
      ]
     },
     "metadata": {
      "needs_background": "light"
     },
     "output_type": "display_data"
    }
   ],
   "source": [
    "sn.distplot(onestop_df['discount_0'], label = 'No Discount')\n",
    "sn.distplot(onestop_df['discount_10'], label = '10% Discount')\n",
    "sn.distplot(onestop_df['discount_20'], label = '20% Discount')\n",
    "plt.legend();"
   ]
  },
  {
   "cell_type": "markdown",
   "metadata": {},
   "source": [
    "From the plot, it seems the distributions are not same. But it may be becuase of chance and only one-way anova test will ensure if they are same or not same. *scipy.stats.f_oneway()* method conducts one-way anova and returns F-statistics and p-value. If *p-value* is less than 0.05, the null hypothesis can be rejected and conclude that the mean of each groups are not same."
   ]
  },
  {
   "cell_type": "code",
   "execution_count": 51,
   "metadata": {},
   "outputs": [
    {
     "data": {
      "text/plain": [
       "F_onewayResult(statistic=65.86986401283694, pvalue=3.821500669725641e-18)"
      ]
     },
     "execution_count": 51,
     "metadata": {},
     "output_type": "execute_result"
    }
   ],
   "source": [
    "from scipy.stats import f_oneway\n",
    "\n",
    "f_oneway( onestop_df['discount_0'],\n",
    "          onestop_df['discount_10'],\n",
    "          onestop_df['discount_20'])"
   ]
  },
  {
   "cell_type": "markdown",
   "metadata": {},
   "source": [
    "As p-value is less than 0.05, we reject the null hypothesis and conclude that the mean sales quantity values under different discounts are different."
   ]
  },
  {
   "cell_type": "markdown",
   "metadata": {},
   "source": [
    "## Conclusion:\n",
    "\n",
    "- In this session we learnt the basic concepts of distributions, it's parameters and how they can be applied in real world to solve problems.\n",
    "- Some of the distribution we explored are normal distribution, exponential distribution, binomial and poisson distribution and their applications.\n",
    "- The objective of hypothesis testing is to either reject or retain an existing claim or belief with the help of newly collected evidences or samples. And explored various tests like z-test, t-test, chi-square test and anova test and scenarios in which the tests would be carried out."
   ]
  },
  {
   "cell_type": "code",
   "execution_count": null,
   "metadata": {},
   "outputs": [],
   "source": []
  }
 ],
 "metadata": {
  "kernelspec": {
   "display_name": "Python 3",
   "language": "python",
   "name": "python3"
  },
  "language_info": {
   "codemirror_mode": {
    "name": "ipython",
    "version": 3
   },
   "file_extension": ".py",
   "mimetype": "text/x-python",
   "name": "python",
   "nbconvert_exporter": "python",
   "pygments_lexer": "ipython3",
   "version": "3.8.5"
  }
 },
 "nbformat": 4,
 "nbformat_minor": 2
}
