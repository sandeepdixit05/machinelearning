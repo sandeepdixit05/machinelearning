{
 "cells": [
  {
   "cell_type": "markdown",
   "metadata": {},
   "source": [
    "## Suppose:\n",
    "On average, you receive 10 emails per hour (λ = 10)\n",
    "You want to model how many emails you might get in a randomly chosen hour\n",
    "This situation satisfies all the Poisson distribution conditions:\n",
    "\n",
    "| Condition | Explanation |\n",
    "|----------|----------|\n",
    "| Events occur randomly |\tYou don’t know when emails will arrive | \n",
    "| Events are independent |\tOne email arriving doesn't affect the next |\n",
    "| Constant average rate (λ)\t| About 10 per hour |\n",
    "| Count of events in a fixed | interval\tWe’re observing a 1-hour window |\n",
    "\n"
   ]
  },
  {
   "cell_type": "markdown",
   "metadata": {},
   "source": [
    "## What’s the probability of getting exactly 8 emails in one hour?"
   ]
  },
  {
   "cell_type": "code",
   "execution_count": 2,
   "metadata": {},
   "outputs": [
    {
     "name": "stdout",
     "output_type": "stream",
     "text": [
      "P(X=8): 0.113\n"
     ]
    }
   ],
   "source": [
    "\n",
    "from scipy.stats import poisson\n",
    "prob_8 = poisson.pmf(8, mu=10)\n",
    "print(f\"P(X=8): {prob_8:.3f}\")  # ≈ 0.112\n"
   ]
  }
 ],
 "metadata": {
  "kernelspec": {
   "display_name": "iimb_env",
   "language": "python",
   "name": "python3"
  },
  "language_info": {
   "codemirror_mode": {
    "name": "ipython",
    "version": 3
   },
   "file_extension": ".py",
   "mimetype": "text/x-python",
   "name": "python",
   "nbconvert_exporter": "python",
   "pygments_lexer": "ipython3",
   "version": "3.13.3"
  }
 },
 "nbformat": 4,
 "nbformat_minor": 2
}
