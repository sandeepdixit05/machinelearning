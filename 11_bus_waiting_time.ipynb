{
 "cells": [
  {
   "cell_type": "code",
   "execution_count": 1,
   "metadata": {},
   "outputs": [
    {
     "name": "stdout",
     "output_type": "stream",
     "text": [
      "0.368\n",
      "The probability of a passenger missing the bus is: 0.368\n"
     ]
    }
   ],
   "source": [
    "# The wait time for a bus to arrive at a bus stop follows an Exponential distribution. The mean waiting time is 15 minutes. To catch the bus, the passenger must reach the bus-stop within 15 minutes. What is the probability of a passenger missing the bus? [round off to 3 decimal places)\n",
    "import numpy as np\n",
    "from scipy.stats import expon\n",
    "mean_waiting_time = 15  # minutes\n",
    "# Calculate the rate parameter (lambda) for the Exponential distribution\n",
    "rate_parameter = 1 / mean_waiting_time\n",
    "# Calculate the probability of waiting more than 15 minutes\n",
    "probability_miss_bus = expon.sf(15, scale=1/rate_parameter)\n",
    "# Round off to 3 decimal places\n",
    "probability_miss_bus_rounded = round(probability_miss_bus, 3)\n",
    "print(probability_miss_bus_rounded)\n",
    "# Output the result\n",
    "print(f\"The probability of a passenger missing the bus is: {probability_miss_bus_rounded}\")"
   ]
  }
 ],
 "metadata": {
  "kernelspec": {
   "display_name": "iimb_env",
   "language": "python",
   "name": "python3"
  },
  "language_info": {
   "codemirror_mode": {
    "name": "ipython",
    "version": 3
   },
   "file_extension": ".py",
   "mimetype": "text/x-python",
   "name": "python",
   "nbconvert_exporter": "python",
   "pygments_lexer": "ipython3",
   "version": "3.13.3"
  }
 },
 "nbformat": 4,
 "nbformat_minor": 2
}
