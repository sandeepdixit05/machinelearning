{
 "cells": [
  {
   "cell_type": "code",
   "execution_count": null,
   "metadata": {},
   "outputs": [],
   "source": [
    "import pandas as pd\n",
    "# Display floating point numbers with 2 decimal places\n",
    "pd.set_option('display.float_format', '{:.2f}'.format)\n",
    "# Display 7 columns at a time\n",
    "pd.set_option('display.max_columns', 7)\n",
    "# Read a CSV file\n",
    "ipl_auction_df = pd.read_csv('IPL_IMB381IPL2013.csv')\n",
    "# Display the first 5 rows of the DataFrame\n",
    "#print(ipl_auction_df.head())\n",
    "# Display metadata of the DataFrame\n",
    "#print(ipl_auction_df.info())\n",
    "# List the columns in the DataFrame in a list format\n",
    "#print(ipl_auction_df.columns.tolist())\n",
    "# Display first 10 rows of the DataFrame after transposing it\n",
    "#print(ipl_auction_df.head(5).T)\n",
    "# Display rows 10 to 20 of the DataFrame\n",
    "#print(ipl_auction_df.iloc[5:10])\n",
    "#print(ipl_auction_df[5:10])\n",
    "\n",
    "# How many players participated from each country? Normalize the count by the total number of players\n",
    "# Count the number of players from each country\n",
    "#country_counts = ipl_auction_df['COUNTRY'].value_counts(normalize=True)*100\n",
    "#country_counts = ipl_auction_df['COUNTRY'].value_counts()\n",
    "# Display the counts of players from each country\n",
    "#print(country_counts)\n",
    "# Display the counts of players from each country in a DataFrame\n",
    "#country_counts_df = country_counts.reset_index()\n",
    "#country_counts_df.columns = ['Country', 'Player Count']\n",
    "#print(country_counts_df)\n",
    "\n",
    "# Display players count for each age category and role using crosstabulation\n",
    "pd.crosstab(ipl_auction_df['AGE'], ipl_auction_df['PLAYING ROLE'])\n",
    "\n",
    "# Find unique values in the 'PLAYING ROLE' column\n",
    "unique_roles = ipl_auction_df['PLAYING ROLE'].unique()\n"
   ]
  },
  {
   "cell_type": "code",
   "execution_count": null,
   "metadata": {},
   "outputs": [],
   "source": [
    "# Crosstabulation \n",
    "import pandas as pd\n",
    "pd.set_option('display.float_format', '{:.2f}'.format)\n",
    "pd.set_option('display.max_columns', 7)\n",
    "ipl_auction_df = pd.read_csv('IPL_IMB381IPL2013.csv')\n",
    "# Display the first 5 rows of the DataFrame\n",
    "print(ipl_auction_df.head())\n",
    "\n",
    "pd.crosstab(ipl_auction_df['AGE'], ipl_auction_df['PLAYING ROLE'])\n",
    "# Find unique values in the 'PLAYING ROLE' column using value count method\n",
    "unique_roles = ipl_auction_df['PLAYING ROLE'].unique().tolist()\n",
    "# Display unique playing roles\n",
    "print(\"Unique Playing Roles:\", unique_roles)"
   ]
  },
  {
   "cell_type": "code",
   "execution_count": null,
   "metadata": {},
   "outputs": [],
   "source": [
    "# Sorting\n",
    "import pandas as pd\n",
    "pd.set_option('display.float_format', '{:.2f}'.format)\n",
    "pd.set_option('display.max_columns', 7)\n",
    "# Read the CSV file\n",
    "ipl_auction_df = pd.read_csv('IPL_IMB381IPL2013.csv')\n",
    "# Sort the DataFrame by 'SOLD PRICE' in descending order and then by 'PLAYER NAME' in ascending order\n",
    "ipl_auction_df_sorted = ipl_auction_df.sort_values(by=['SOLD PRICE', 'PLAYER NAME'], ascending=[False, True])\n",
    "print(ipl_auction_df_sorted[['PLAYER NAME', 'SOLD PRICE']].head())\n",
    "\n",
    "\n",
    "# Add a new column named \"PREMIUM\" which is the diffeence of 'SOLD PRICE' to 'BASE PRICE'\n",
    "ipl_auction_df['PREMIUM'] = ipl_auction_df['SOLD PRICE'] - ipl_auction_df['BASE PRICE']\n",
    "\n",
    "# Display the first 5 rows with display name, sold price, base price, and premium sorted by premium in descending order. Do not create a new DataFrame.\n",
    "print(ipl_auction_df[['PLAYER NAME', 'SOLD PRICE', 'BASE PRICE', 'PREMIUM']].sort_values(by='PREMIUM', ascending=False).head())\n",
    "\n",
    "\n",
    "# What is the average sold price of players from each country sorted by sold price descending?\n",
    "ipl_auction_df.groupby(['COUNTRY', 'AGE'])['SOLD PRICE'].mean().sort_values(ascending=False).reset_index(name='AVERAGE SOLD PRICE')\n"
   ]
  },
  {
   "cell_type": "code",
   "execution_count": 4,
   "metadata": {},
   "outputs": [
    {
     "name": "stdout",
     "output_type": "stream",
     "text": [
      "6\n"
     ]
    }
   ],
   "source": [
    "def mulElements(a, b = 2): return a * b\n",
    "print(mulElements(3))\n"
   ]
  }
 ],
 "metadata": {
  "kernelspec": {
   "display_name": "iimb_env",
   "language": "python",
   "name": "python3"
  },
  "language_info": {
   "codemirror_mode": {
    "name": "ipython",
    "version": 3
   },
   "file_extension": ".py",
   "mimetype": "text/x-python",
   "name": "python",
   "nbconvert_exporter": "python",
   "pygments_lexer": "ipython3",
   "version": "3.13.3"
  }
 },
 "nbformat": 4,
 "nbformat_minor": 2
}
