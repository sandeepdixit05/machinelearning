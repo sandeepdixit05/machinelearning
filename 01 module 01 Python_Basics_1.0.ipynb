{
 "cells": [
  {
   "cell_type": "markdown",
   "metadata": {},
   "source": [
    "## Quick Overview of Python\n",
    "\n",
    "This section will give a quick overview of the python programming language and its features. The focus will be on features that are important from data analysis and machine learning perspective. Here is a quick list of features that will be discussed in this section.\n",
    "\n",
    "* Declaring variables\n",
    "* Conditional Statements\n",
    "* Control flow statements\n",
    "* Collections\n",
    "* Functions\n",
    "* Functional Programming\n",
    "* Modules and packages\n",
    "\n",
    "So, let's get started!"
   ]
  },
  {
   "cell_type": "markdown",
   "metadata": {},
   "source": [
    "### Declaring Variables\n",
    "\n",
    "In Python, a variable can be declared and then assinged a value without specifying data type. Python is dynamically typed language and automatically **infers the variable type from values assigned to it**. Also the variable need not be assigned a value of same type during its lifetime. A variable initialized with a value of one type (e.g. integer) and can later be re-assigned value of a different type (e.g. string).\n",
    "\n",
    "Python supports the following types:\n",
    "\n",
    "- *int* - Integer type.\n",
    "- *float* - Floating point numbers.\n",
    "- *bool* - Booleans are subtypes of integers and assigned value using literals *True* and *False*.\n",
    "- *str* - Textual data."
   ]
  },
  {
   "cell_type": "markdown",
   "metadata": {},
   "source": [
    "Creating variables of different types."
   ]
  },
  {
   "cell_type": "code",
   "execution_count": 1,
   "metadata": {},
   "outputs": [],
   "source": [
    "var1 = 2\n",
    "var2 = 5.0\n",
    "var3 = True\n",
    "var4 = \"Machine Learning\""
   ]
  },
  {
   "cell_type": "markdown",
   "metadata": {},
   "source": [
    "Printing value of all the variables."
   ]
  },
  {
   "cell_type": "code",
   "execution_count": 2,
   "metadata": {},
   "outputs": [
    {
     "name": "stdout",
     "output_type": "stream",
     "text": [
      "Value of var1 : 2\n",
      "Value of var2 : 5.0\n",
      "Value of var3 : True\n",
      "Value of var4 : Machine Learning\n"
     ]
    }
   ],
   "source": [
    "print(\"Value of var1 :\", var1)\n",
    "print(\"Value of var2 :\", var2)\n",
    "print(\"Value of var3 :\", var3)\n",
    "print(\"Value of var4 :\", var4)"
   ]
  },
  {
   "cell_type": "markdown",
   "metadata": {},
   "source": [
    "Checking the data type of each variable.\n",
    "\n",
    "Python provides a method *type()* , which takes a variable as an argument and prints its data type."
   ]
  },
  {
   "cell_type": "code",
   "execution_count": 3,
   "metadata": {},
   "outputs": [
    {
     "data": {
      "text/plain": [
       "int"
      ]
     },
     "execution_count": 3,
     "metadata": {},
     "output_type": "execute_result"
    }
   ],
   "source": [
    "type( var1 )"
   ]
  },
  {
   "cell_type": "code",
   "execution_count": 4,
   "metadata": {},
   "outputs": [
    {
     "data": {
      "text/plain": [
       "float"
      ]
     },
     "execution_count": 4,
     "metadata": {},
     "output_type": "execute_result"
    }
   ],
   "source": [
    "type( var2 )"
   ]
  },
  {
   "cell_type": "code",
   "execution_count": 5,
   "metadata": {},
   "outputs": [
    {
     "data": {
      "text/plain": [
       "bool"
      ]
     },
     "execution_count": 5,
     "metadata": {},
     "output_type": "execute_result"
    }
   ],
   "source": [
    "type(var3)"
   ]
  },
  {
   "cell_type": "code",
   "execution_count": 6,
   "metadata": {},
   "outputs": [
    {
     "data": {
      "text/plain": [
       "str"
      ]
     },
     "execution_count": 6,
     "metadata": {},
     "output_type": "execute_result"
    }
   ],
   "source": [
    "type(var4)"
   ]
  },
  {
   "cell_type": "markdown",
   "metadata": {},
   "source": [
    "As you can see the variables' data types are appropriately chosen based on the values assigned to them."
   ]
  },
  {
   "cell_type": "markdown",
   "metadata": {},
   "source": [
    "### Conditional Statements\n",
    "\n",
    "Python supports *if-elif-else* for writing conditional statments. \n",
    "\n",
    "The condition should be terminated by *:* (colon) and the code block following that must be indented. **Indentation is python is not optional**. It is a syntax of python. The conditional statement need not be enclosed with a bracket.\n",
    "\n",
    "An simple example of a simple *if* condition is shown below."
   ]
  },
  {
   "cell_type": "code",
   "execution_count": null,
   "metadata": {},
   "outputs": [],
   "source": [
    "# Checking a condition if the variable value is more than 1\n",
    "if var1 > 1:\n",
    "    print( \"Bigger than 1\" )"
   ]
  },
  {
   "cell_type": "markdown",
   "metadata": {},
   "source": [
    "Note: A line starting with hash (#) is a comment line in python."
   ]
  },
  {
   "cell_type": "markdown",
   "metadata": {},
   "source": [
    "An example of a complex if-elif-else statement to check if the variable x is larger than y or smaller or same."
   ]
  },
  {
   "cell_type": "code",
   "execution_count": null,
   "metadata": {},
   "outputs": [],
   "source": [
    "x = 10\n",
    "y = 12\n",
    "\n",
    "# if x is greater than y\n",
    "if x > y:\n",
    "    print (\"x > y\")\n",
    "# if x is lesser than y    \n",
    "elif x < y:\n",
    "    print (\"x < y\")\n",
    "else:\n",
    "    print (\"x = y\")"
   ]
  },
  {
   "cell_type": "markdown",
   "metadata": {},
   "source": [
    "Ternary operators are operators that evaluate something based on a condition being true or false. It enables to test a condition in a single line instead of the multi-line if-else. \n",
    "\n",
    "For example, Assigning *True* or *False* to variable based on condition check as below."
   ]
  },
  {
   "cell_type": "code",
   "execution_count": null,
   "metadata": {},
   "outputs": [],
   "source": [
    "# Initialize\n",
    "x = 5\n",
    "\n",
    "# Assign True if x is more than 10 or assign False using ternary operator\n",
    "isGreater = True if x > 10 else False"
   ]
  },
  {
   "cell_type": "code",
   "execution_count": null,
   "metadata": {},
   "outputs": [],
   "source": [
    "isGreater"
   ]
  },
  {
   "cell_type": "markdown",
   "metadata": {},
   "source": [
    "### Generating Sequence Numbers"
   ]
  },
  {
   "cell_type": "markdown",
   "metadata": {},
   "source": [
    "Sometimes, it may be necessary to create a list of sequence numbers. *range()* function generates a sequence of numbers. It takes three parameters\n",
    "\n",
    "- start: Starting number of the sequence.\n",
    "- stop: Generate numbers up to, **but not including this number**.\n",
    "- step: Difference between each number in the sequence. Optional. Default is 1.\n",
    "\n",
    "Generating a sequence of numbers from 1 to 5."
   ]
  },
  {
   "cell_type": "code",
   "execution_count": null,
   "metadata": {},
   "outputs": [],
   "source": [
    "# Initializing the sequence of numbers starting from 1\n",
    "# and ending (not including) with 6\n",
    "numbers = range( 1, 6 )\n",
    "\n",
    "numbers"
   ]
  },
  {
   "cell_type": "markdown",
   "metadata": {},
   "source": [
    "### Control Flow Statements"
   ]
  },
  {
   "cell_type": "markdown",
   "metadata": {},
   "source": [
    "A *for loop* can be used to print the sequence of number by iterating through it as follows. "
   ]
  },
  {
   "cell_type": "code",
   "execution_count": null,
   "metadata": {},
   "outputs": [],
   "source": [
    "# Iterate through the collection\n",
    "for i in numbers:\n",
    "    print (i)"
   ]
  },
  {
   "cell_type": "markdown",
   "metadata": {},
   "source": [
    "The *for* loop automatically advances the iterator through the range after every loop and completes after the iterator reached the end.\n",
    "\n",
    "A while loop is used to keep executing a loop until a condition is false. Printing a list of interger from 1 to 5 using *while loop* below."
   ]
  },
  {
   "cell_type": "code",
   "execution_count": null,
   "metadata": {},
   "outputs": [],
   "source": [
    "# Initialize the value of 1\n",
    "i = 1\n",
    "\n",
    "# check the value of i to check if the loop will be continued or not\n",
    "while i < 5:\n",
    "    \n",
    "    print(i)\n",
    "    # Increment the value of i.\n",
    "    i = i+1\n",
    "    \n",
    "# print after the value of i\n",
    "print('Done')"
   ]
  },
  {
   "cell_type": "markdown",
   "metadata": {},
   "source": [
    "In *while* loop, the state of i has to be managed explicitly. There is a good chance of going into an infinite loop, if the state of i is not incremented. Beware!"
   ]
  },
  {
   "cell_type": "markdown",
   "metadata": {},
   "source": [
    "### Functions\n",
    "\n",
    "Function are most important part of a languange.\n",
    "\n",
    "- Functions can be created **using *def* keyword**. \n",
    "- The function signature should contain the function name followed by the input parameters enclosed in brackets and must end with a colon(:). \n",
    "- **Parameters are optional, if initialized in the definition**. \n",
    "- The code block inside the method should be **indented**. \n",
    "- The function **ends with a return statement**. No return statement implies the function returns *None*, which is same as *void* return type in languages like C, C++ or Java.\n",
    "\n",
    "The data types of parameters and return types are inferred at runtime.\n",
    "\n",
    "An example of a function which takes two parameters and returns the addition of their values usng '+' operator. "
   ]
  },
  {
   "cell_type": "code",
   "execution_count": null,
   "metadata": {},
   "outputs": [],
   "source": [
    "def addElements( a, b ):\n",
    "    return a + b"
   ]
  },
  {
   "cell_type": "markdown",
   "metadata": {},
   "source": [
    "Few examples of method invocation are shown below.\n",
    "\n",
    "Invoking the function with two integer values."
   ]
  },
  {
   "cell_type": "code",
   "execution_count": null,
   "metadata": {},
   "outputs": [],
   "source": [
    "result = addElements( 2, 3 )\n",
    "\n",
    "result"
   ]
  },
  {
   "cell_type": "markdown",
   "metadata": {},
   "source": [
    "Invoking the function with two float values."
   ]
  },
  {
   "cell_type": "code",
   "execution_count": null,
   "metadata": {},
   "outputs": [],
   "source": [
    "result = addElements( 2.3, 4.5 )\n",
    "\n",
    "result"
   ]
  },
  {
   "cell_type": "markdown",
   "metadata": {},
   "source": [
    "Invoking the function with two strings."
   ]
  },
  {
   "cell_type": "code",
   "execution_count": null,
   "metadata": {},
   "outputs": [],
   "source": [
    "result = addElements( \"python\", \"workshop\" )\n",
    "\n",
    "result"
   ]
  },
  {
   "cell_type": "markdown",
   "metadata": {},
   "source": [
    "It can be observed that the data type of parameters and return types are automatically determined based on values passed to the function. If two string are passed, they are concatenated as the + operator is also overloaded for string concatenation."
   ]
  },
  {
   "cell_type": "markdown",
   "metadata": {},
   "source": [
    "The default value for the parameters can be defined in function signatures. This makes the parameter optional.\n",
    "\n",
    "Defining the method *addElements* with parameter b initilaized to 4."
   ]
  },
  {
   "cell_type": "code",
   "execution_count": null,
   "metadata": {},
   "outputs": [],
   "source": [
    "def addElements( a, b = 4 ):\n",
    "    return a + b"
   ]
  },
  {
   "cell_type": "markdown",
   "metadata": {},
   "source": [
    "Invoking the function with only one parameter."
   ]
  },
  {
   "cell_type": "code",
   "execution_count": null,
   "metadata": {},
   "outputs": [],
   "source": [
    "addElements( 2 )"
   ]
  },
  {
   "cell_type": "markdown",
   "metadata": {},
   "source": [
    "Invoking the function with both the parameters."
   ]
  },
  {
   "cell_type": "code",
   "execution_count": null,
   "metadata": {},
   "outputs": [],
   "source": [
    "addElements( 2, 5 )"
   ]
  },
  {
   "cell_type": "markdown",
   "metadata": {},
   "source": [
    "In the last example, the default value of b is overridden with the value passed."
   ]
  },
  {
   "cell_type": "markdown",
   "metadata": {},
   "source": [
    "### Working with Collections\n",
    "\n",
    "Collections are useful containers or data structures to store and manipulate list of homogeneous or heterogeneous elements. We will discuss the following collections in this section.\n",
    "\n",
    "- List\n",
    "- Tuple\n",
    "- Set\n",
    "- Dictionary\n",
    "\n",
    "\n",
    "#### List\n",
    "\n",
    "\n",
    "\n",
    "Lists are like arrays, but can contain **heterogeneous items** i.e. a single list can conatin items of type integer, float or string or objects.  It is also **not a unique set of items** i.e the values can repeat. Lists are mutable and generally initialized with a list of values specified inside a square brackets or an empty list."
   ]
  },
  {
   "cell_type": "code",
   "execution_count": null,
   "metadata": {},
   "outputs": [],
   "source": [
    "## Create an empty list\n",
    "emptyList = []"
   ]
  },
  {
   "cell_type": "markdown",
   "metadata": {},
   "source": [
    "Creating a list of batsmnn in indian cricket team in the order of batting."
   ]
  },
  {
   "cell_type": "code",
   "execution_count": null,
   "metadata": {},
   "outputs": [],
   "source": [
    "batsmen = ['Rohit', 'Dhawan', 'Kohli', 'Rahane', 'Rayudu', 'Dhoni']"
   ]
  },
  {
   "cell_type": "markdown",
   "metadata": {},
   "source": [
    "List index starts with 0. And an item in the list can be accessed using index as below."
   ]
  },
  {
   "cell_type": "code",
   "execution_count": null,
   "metadata": {},
   "outputs": [],
   "source": [
    "batsmen[0]"
   ]
  },
  {
   "cell_type": "markdown",
   "metadata": {},
   "source": [
    "A slice of the list can be obtained using an index range separated by a colon(:). A range [0:2] means starting with index 0 until index 2, but not including 2."
   ]
  },
  {
   "cell_type": "code",
   "execution_count": null,
   "metadata": {},
   "outputs": [],
   "source": [
    "## Slicing an list\n",
    "batsmen[0:2]"
   ]
  },
  {
   "cell_type": "markdown",
   "metadata": {},
   "source": [
    "To find the last batsman, an index value of -1 can be used."
   ]
  },
  {
   "cell_type": "code",
   "execution_count": null,
   "metadata": {},
   "outputs": [],
   "source": [
    "## Accessing the last element\n",
    "batsmen[-1]"
   ]
  },
  {
   "cell_type": "markdown",
   "metadata": {},
   "source": [
    "To find out number of elements in the list, the list can be passed to a function called *len()*."
   ]
  },
  {
   "cell_type": "code",
   "execution_count": null,
   "metadata": {},
   "outputs": [],
   "source": [
    "# how many elements in the list\n",
    "len( batsmen )"
   ]
  },
  {
   "cell_type": "markdown",
   "metadata": {},
   "source": [
    "Two separate lists can be concatenated into one list using + operator. "
   ]
  },
  {
   "cell_type": "code",
   "execution_count": null,
   "metadata": {},
   "outputs": [],
   "source": [
    "bowlers = ['Bumrah', 'Shami', 'Bhuvi', 'Kuldeep', 'Chahal']"
   ]
  },
  {
   "cell_type": "code",
   "execution_count": null,
   "metadata": {},
   "outputs": [],
   "source": [
    "all_players = batsmen + bowlers"
   ]
  },
  {
   "cell_type": "code",
   "execution_count": null,
   "metadata": {},
   "outputs": [],
   "source": [
    "all_players"
   ]
  },
  {
   "cell_type": "markdown",
   "metadata": {},
   "source": [
    "Finding if an item exisits in a list or not, the *in* operator can be used. It returns True if exists, else returns False."
   ]
  },
  {
   "cell_type": "code",
   "execution_count": null,
   "metadata": {},
   "outputs": [],
   "source": [
    "'Bumrah' in bowlers"
   ]
  },
  {
   "cell_type": "code",
   "execution_count": null,
   "metadata": {},
   "outputs": [],
   "source": [
    "'Rayudu' in bowlers"
   ]
  },
  {
   "cell_type": "markdown",
   "metadata": {},
   "source": [
    "Finding the index of an item in the list."
   ]
  },
  {
   "cell_type": "code",
   "execution_count": null,
   "metadata": {},
   "outputs": [],
   "source": [
    "all_players.index( 'Dhoni' )"
   ]
  },
  {
   "cell_type": "markdown",
   "metadata": {},
   "source": [
    "The items in an list can be arranged in reverse order by calling *reverse()* function on the list."
   ]
  },
  {
   "cell_type": "code",
   "execution_count": null,
   "metadata": {},
   "outputs": [],
   "source": [
    "all_players.reverse()\n",
    "\n",
    "all_players"
   ]
  },
  {
   "cell_type": "markdown",
   "metadata": {
    "collapsed": true
   },
   "source": [
    "#### Tuples\n",
    "\n",
    "Tuple is also a list, but it is immutable. Once a tuple has been created it can not be modified anymore. For example, create a tuple which can contain the name of a cricketer and the year of his ODI debut."
   ]
  },
  {
   "cell_type": "code",
   "execution_count": null,
   "metadata": {},
   "outputs": [],
   "source": [
    "odiDebut = ( 'Kohli', 2008 )"
   ]
  },
  {
   "cell_type": "code",
   "execution_count": null,
   "metadata": {},
   "outputs": [],
   "source": [
    "odiDebut"
   ]
  },
  {
   "cell_type": "markdown",
   "metadata": {},
   "source": [
    "Tuple element's index also starts with 0."
   ]
  },
  {
   "cell_type": "code",
   "execution_count": null,
   "metadata": {},
   "outputs": [],
   "source": [
    "odiDebut[0]"
   ]
  },
  {
   "cell_type": "markdown",
   "metadata": {},
   "source": [
    "It is not allowed to change the tuple elements. For example, if we try to change the year in the tuple, it gives an error."
   ]
  },
  {
   "cell_type": "code",
   "execution_count": null,
   "metadata": {},
   "outputs": [],
   "source": [
    "tup1[1] = 2009"
   ]
  },
  {
   "cell_type": "markdown",
   "metadata": {},
   "source": [
    "An existing list can be converted into tuple. Converting the list *all_players* into tuple so that it can not be modified anymore."
   ]
  },
  {
   "cell_type": "code",
   "execution_count": null,
   "metadata": {},
   "outputs": [],
   "source": [
    "players = tuple( all_players )"
   ]
  },
  {
   "cell_type": "code",
   "execution_count": null,
   "metadata": {},
   "outputs": [],
   "source": [
    "players"
   ]
  },
  {
   "cell_type": "markdown",
   "metadata": {
    "collapsed": true
   },
   "source": [
    "#### Set\n",
    "\n",
    "A set is a collection of **unique elements** i.e. the values can not repeat. A set can be initialized with a list items enclosed with curly brackets."
   ]
  },
  {
   "cell_type": "code",
   "execution_count": null,
   "metadata": {},
   "outputs": [],
   "source": [
    "setOfNumbers = {6,1,1,2,4,5}"
   ]
  },
  {
   "cell_type": "markdown",
   "metadata": {},
   "source": [
    "Set automatically removes duplicates. Set contains only unique list of numbers."
   ]
  },
  {
   "cell_type": "code",
   "execution_count": null,
   "metadata": {},
   "outputs": [],
   "source": [
    "setOfNumbers"
   ]
  },
  {
   "cell_type": "markdown",
   "metadata": {},
   "source": [
    "Set supports operations like union, intersection and difference. \n",
    "\n",
    "To understand theses operations, let's create two Sets with list of batsmen played for India in 2011 and 2015 world cup teams."
   ]
  },
  {
   "cell_type": "code",
   "execution_count": null,
   "metadata": {},
   "outputs": [],
   "source": [
    "wc2011 = {\"Dhoni\", \"Sehwag\", \"Tendulkar\", \"Gambhir\", \"Kohli\", \"Raina\", \"Yuvraj\", \"Yusuf\"}\n",
    "wc2015 = {\"Dhoni\", \"Dhawan\", \"Rohit\", \"Rahane\", \"Kohli\", \"Raina\", \"Rayudu\", \"Jadeja\"}"
   ]
  },
  {
   "cell_type": "markdown",
   "metadata": {},
   "source": [
    "To find the list of all batsmen who played in either 2011 or 2015 world cup. To obtain this, we can take union of the above two sets."
   ]
  },
  {
   "cell_type": "code",
   "execution_count": null,
   "metadata": {},
   "outputs": [],
   "source": [
    "wc2011.union( wc2015 )"
   ]
  },
  {
   "cell_type": "markdown",
   "metadata": {},
   "source": [
    "To find list of all batsmen who played for both 2011 and 2015 world cup, we can take intersection of these two sets wc2011 and wc2015."
   ]
  },
  {
   "cell_type": "code",
   "execution_count": null,
   "metadata": {},
   "outputs": [],
   "source": [
    "wc2011.intersection( wc2015 )"
   ]
  },
  {
   "cell_type": "markdown",
   "metadata": {},
   "source": [
    "If we need to find the new batsmen who were not part of 2011 world cup and played in 2015 world cup. This can be obtained by taking differene of wc2015 from wc2011."
   ]
  },
  {
   "cell_type": "code",
   "execution_count": null,
   "metadata": {},
   "outputs": [],
   "source": [
    "wc2015.difference( wc2011 )"
   ]
  },
  {
   "cell_type": "markdown",
   "metadata": {},
   "source": [
    "#### Dictionary\n",
    "\n",
    "Dictionary is **a list of key and value pairs**. All the **keys in a dictionary are unique**. \n",
    "\n",
    "For example a dictionary that contains the ICC ODI World Cup winner from 1975 till 2011, where the key is year of tournament and the value is the name of the winning country."
   ]
  },
  {
   "cell_type": "code",
   "execution_count": null,
   "metadata": {},
   "outputs": [],
   "source": [
    "wcWinners = { 1975: \"West Indies\", \n",
    "              1979: \"West Indies\", \n",
    "              1983: \"India\",\n",
    "              1987: \"Australia\",\n",
    "              1991: \"Pakistan\",\n",
    "              1996: \"Srilanka\",\n",
    "              1999: \"Australia\",\n",
    "              2003: \"Australia\",\n",
    "              2007: \"Australia\",\n",
    "              2011: \"India\"}"
   ]
  },
  {
   "cell_type": "markdown",
   "metadata": {},
   "source": [
    "The value of a specific dictionary element can be accessed by key. For example, to find the winning country in a specific year. "
   ]
  },
  {
   "cell_type": "code",
   "execution_count": null,
   "metadata": {},
   "outputs": [],
   "source": [
    "wcWinners[1983]"
   ]
  },
  {
   "cell_type": "markdown",
   "metadata": {},
   "source": [
    "List of all winning countries."
   ]
  },
  {
   "cell_type": "code",
   "execution_count": null,
   "metadata": {},
   "outputs": [],
   "source": [
    "wcWinners.values()"
   ]
  },
  {
   "cell_type": "markdown",
   "metadata": {},
   "source": [
    "The above list had repeated names of certain countries as they have won multiple times. To find unique list of countries, the above list can be converted to a Set."
   ]
  },
  {
   "cell_type": "code",
   "execution_count": null,
   "metadata": {},
   "outputs": [],
   "source": [
    "set(wcWinners.values())"
   ]
  },
  {
   "cell_type": "markdown",
   "metadata": {},
   "source": [
    "Adding a new key value pair to the dictionary."
   ]
  },
  {
   "cell_type": "code",
   "execution_count": null,
   "metadata": {},
   "outputs": [],
   "source": [
    "wcWinners[2015] = 'Australia'"
   ]
  },
  {
   "cell_type": "code",
   "execution_count": null,
   "metadata": {},
   "outputs": [],
   "source": [
    "wcWinners"
   ]
  },
  {
   "cell_type": "markdown",
   "metadata": {},
   "source": [
    "### Dealing with Strings"
   ]
  },
  {
   "cell_type": "markdown",
   "metadata": {},
   "source": [
    "A string in python can be initialized with a single or double quote."
   ]
  },
  {
   "cell_type": "code",
   "execution_count": null,
   "metadata": {},
   "outputs": [],
   "source": [
    "string0 = 'python'\n",
    "string1 = \"machine learning\""
   ]
  },
  {
   "cell_type": "markdown",
   "metadata": {},
   "source": [
    "If multiline, the string can be initialized with triple quotes as below."
   ]
  },
  {
   "cell_type": "code",
   "execution_count": null,
   "metadata": {},
   "outputs": [],
   "source": [
    "string2 = \"\"\"This is a \n",
    " multiline string\"\"\""
   ]
  },
  {
   "cell_type": "markdown",
   "metadata": {},
   "source": [
    "Converting a string to uppper or lower case."
   ]
  },
  {
   "cell_type": "code",
   "execution_count": null,
   "metadata": {},
   "outputs": [],
   "source": [
    "# Converting to upper case\n",
    "string0.upper()\n",
    "# Similarly string.lower() can be used to convert to lower case.\n",
    "# string0.lower()"
   ]
  },
  {
   "cell_type": "markdown",
   "metadata": {},
   "source": [
    "Splitting the string into a list of words or tokens separated by space."
   ]
  },
  {
   "cell_type": "code",
   "execution_count": null,
   "metadata": {},
   "outputs": [],
   "source": [
    "tokens = string1.split(' ')\n",
    "tokens"
   ]
  },
  {
   "cell_type": "markdown",
   "metadata": {},
   "source": [
    "### Functional Programming\n",
    "\n",
    "Functional programming supports **functions being passed as parameters to another functions like variables**. This allows to create higher order functions. One core benefits of functional programming in data analysis is applying transformations or filters to a set of records or columns more efficiently than using plain looping.\n",
    "\n",
    "#### Example 1: Map\n",
    "\n",
    "Let's say have a list named *intList* and contains integers as defined below."
   ]
  },
  {
   "cell_type": "code",
   "execution_count": null,
   "metadata": {},
   "outputs": [],
   "source": [
    "intList = [1,2,3,4,5,6,7,8,9]"
   ]
  },
  {
   "cell_type": "markdown",
   "metadata": {},
   "source": [
    "And we want to create another list named *squareList*, which will contain the squared value all elements in *intList*. Typical approach to accomplish this is to write a *for loop* as below."
   ]
  },
  {
   "cell_type": "code",
   "execution_count": null,
   "metadata": {},
   "outputs": [],
   "source": [
    "# Create an empty list.\n",
    "squareList = []\n",
    "\n",
    "# Loop through the intList, square every item and append to result list squareList.\n",
    "for x in intList:\n",
    "    squareList.append( pow( x, 2 ) )\n",
    "\n",
    "print( squareList )    "
   ]
  },
  {
   "cell_type": "markdown",
   "metadata": {},
   "source": [
    "The above code is quite verbose and not efficient. The loop transforms items in sequential fashion and has no scope of parallel processing. Using functional programming approach, this can be written more efficiently as described below in steps.\n",
    "\n",
    "Step 1:\n",
    "\n",
    "- Define a function *square_me()* that takes an integer and returns the square value of it. "
   ]
  },
  {
   "cell_type": "code",
   "execution_count": null,
   "metadata": {},
   "outputs": [],
   "source": [
    "def square_me( x ):\n",
    "    return x * x"
   ]
  },
  {
   "cell_type": "markdown",
   "metadata": {},
   "source": [
    "Step 2:\n",
    "\n",
    "- The function *square_me* and the list of integers can be passed to a higher order function map(). map() iterates through the list and transforms each element using the function."
   ]
  },
  {
   "cell_type": "code",
   "execution_count": null,
   "metadata": {},
   "outputs": [],
   "source": [
    "squareList = map( square_me, mylist)"
   ]
  },
  {
   "cell_type": "markdown",
   "metadata": {},
   "source": [
    "Printing the result as a list.  "
   ]
  },
  {
   "cell_type": "code",
   "execution_count": null,
   "metadata": {},
   "outputs": [],
   "source": [
    "list(squareList)"
   ]
  },
  {
   "cell_type": "markdown",
   "metadata": {},
   "source": [
    "The square function *square_me()*,we used, is just one line of code and can actually be written as an **anonymous function**. Anonymous function is a function without a name and is defined using *lambda* keyword.\n",
    "\n",
    "Write the above map using anonymous function."
   ]
  },
  {
   "cell_type": "code",
   "execution_count": null,
   "metadata": {},
   "outputs": [],
   "source": [
    "squareList = map(lambda x: x*x, mylist)\n",
    "list(squareList)"
   ]
  },
  {
   "cell_type": "markdown",
   "metadata": {},
   "source": [
    "#### Example 2: Filter\n",
    "\n",
    "Similarily, filters can also be applied using functional programming. For example, if we want to select only the even numbers from the list *intList*.\n",
    "\n",
    "The higher order function *filter()* takes another function argument, which returns True or False. If returns False, the element will be filtered out. To verify if an integer is even, we can use filter *x % 2 == 0*."
   ]
  },
  {
   "cell_type": "code",
   "execution_count": null,
   "metadata": {},
   "outputs": [],
   "source": [
    "evenInts = filter( lambda x : x % 2 == 0, mylist )"
   ]
  },
  {
   "cell_type": "code",
   "execution_count": null,
   "metadata": {},
   "outputs": [],
   "source": [
    "list( evenInts )"
   ]
  },
  {
   "cell_type": "markdown",
   "metadata": {},
   "source": [
    "Functional programming is an important aspect of python programming and will be used extensively during data analysis. During data analysis we will deal with mostly a collection of records. So, to accomplish tasks like transformations or filterins, functional programming can be very handy in the place of plain looping."
   ]
  },
  {
   "cell_type": "markdown",
   "metadata": {},
   "source": [
    "### Modules and Packages"
   ]
  },
  {
   "cell_type": "markdown",
   "metadata": {},
   "source": [
    "In python, a module is a file that consists of **functions, classes and variables**. A **set of modules under a namespace (mostly a directory) is called a package**. The modules and packages can be imported to another module using *import* statement. For example, to use mathematics functions, python's *math* module can be imported."
   ]
  },
  {
   "cell_type": "code",
   "execution_count": null,
   "metadata": {},
   "outputs": [],
   "source": [
    "import math\n",
    "\n",
    "## Taking square root of a value\n",
    "math.sqrt(16)"
   ]
  },
  {
   "cell_type": "markdown",
   "metadata": {},
   "source": [
    "Using *from..import* syntax, a specific module or object (e.g. class or function) can be imported from a package. For example to import only *sample()* function from *random* module the following import style can be used.  "
   ]
  },
  {
   "cell_type": "code",
   "execution_count": null,
   "metadata": {},
   "outputs": [],
   "source": [
    "from random import sample"
   ]
  },
  {
   "cell_type": "markdown",
   "metadata": {},
   "source": [
    "Another example is generating a random set of numbers in a range i.e. range(0, 10). *random.sample()* takes the range function and number of random numbers to be generated as parameters. The code below helps to generate 3 random numbers between 0 and 10."
   ]
  },
  {
   "cell_type": "code",
   "execution_count": null,
   "metadata": {},
   "outputs": [],
   "source": [
    "sample( range(0, 11), 3)"
   ]
  },
  {
   "cell_type": "markdown",
   "metadata": {},
   "source": [
    "### Returning multiple values from a function using Tuple\n",
    "\n",
    "It may be necessary to return multiple values from a function. This can be achieved by returning a tuple. This is an important feature, we will using in the subsequent chapters. \n",
    "\n",
    "For example, define a function that returns a mean and a median of a list of numbers generated randomly."
   ]
  },
  {
   "cell_type": "code",
   "execution_count": null,
   "metadata": {},
   "outputs": [],
   "source": [
    "import random \n",
    "\n",
    "randomList = random.sample( range(0, 100), 20)\n",
    "\n",
    "randomList"
   ]
  },
  {
   "cell_type": "code",
   "execution_count": null,
   "metadata": {},
   "outputs": [],
   "source": [
    "from statistics import mean, median\n",
    "\n",
    "def getMeanAndMedian( listNum ):\n",
    "    return mean(listNum), median(listNum)"
   ]
  },
  {
   "cell_type": "markdown",
   "metadata": {},
   "source": [
    "getMeanAndMedian() returns a tuple with two elements and is stored into two separate variables during invocation."
   ]
  },
  {
   "cell_type": "code",
   "execution_count": null,
   "metadata": {},
   "outputs": [],
   "source": [
    "mean, median = getMeanAndMedian( randomList )"
   ]
  },
  {
   "cell_type": "markdown",
   "metadata": {},
   "source": [
    "Printing the mean and median values from the list."
   ]
  },
  {
   "cell_type": "code",
   "execution_count": null,
   "metadata": {},
   "outputs": [],
   "source": [
    "print( \"Mean: \", mean, \" Median: \", median)"
   ]
  },
  {
   "cell_type": "markdown",
   "metadata": {},
   "source": [
    "### Conclusion:\n",
    "\n",
    "In this section, we have given you a **crash course on python language and its features**. This quick overview is enough to get you started with Machine Learning using Python. For more detailed overview and deep dive into the programming language and its features, you should refer to a resource that is dedicated for python programming. We  suggest the following links for python programming references.\n",
    "\n",
    "- https://www.python.org/doc/\n",
    "- https://docs.python.org/3/tutorial/index.html"
   ]
  },
  {
   "cell_type": "code",
   "execution_count": null,
   "metadata": {},
   "outputs": [],
   "source": []
  }
 ],
 "metadata": {
  "anaconda-cloud": {},
  "kernelspec": {
   "display_name": "Python 3",
   "language": "python",
   "name": "python3"
  },
  "language_info": {
   "codemirror_mode": {
    "name": "ipython",
    "version": 3
   },
   "file_extension": ".py",
   "mimetype": "text/x-python",
   "name": "python",
   "nbconvert_exporter": "python",
   "pygments_lexer": "ipython3",
   "version": "3.8.3"
  }
 },
 "nbformat": 4,
 "nbformat_minor": 1
}
