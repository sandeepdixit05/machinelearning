{
 "cells": [
  {
   "cell_type": "code",
   "execution_count": null,
   "metadata": {},
   "outputs": [
    {
     "name": "stdout",
     "output_type": "stream",
     "text": [
      "ipl_auction_df\n",
      "   Sl.NO.   PLAYER NAME  AGE COUNTRY  TEAM PLAYING ROLE  T-RUNS  T-WKTS  \\\n",
      "0       1   Abdulla, YA    2      SA  KXIP   Allrounder       0       0   \n",
      "1       2  Abdur Razzak    2     BAN   RCB       Bowler     214      18   \n",
      "2       3   Agarkar, AB    2     IND   KKR       Bowler     571      58   \n",
      "3       4     Ashwin, R    1     IND   CSK       Bowler     284      31   \n",
      "4       5  Badrinath, S    2     IND   CSK      Batsman      63       0   \n",
      "\n",
      "   ODI-RUNS-S  ODI-SR-B  ...    SR-B  SIXERS  RUNS-C  WKTS  AVE-BL   ECON  \\\n",
      "0           0      0.00  ...    0.00       0     307    15   20.47   8.90   \n",
      "1         657     71.41  ...    0.00       0      29     0    0.00  14.50   \n",
      "2        1269     80.62  ...  121.01       5    1059    29   36.52   8.81   \n",
      "3         241     84.56  ...   76.32       0    1125    49   22.96   6.23   \n",
      "4          79     45.93  ...  120.71      28       0     0    0.00   0.00   \n",
      "\n",
      "   SR-BL  AUCTION YEAR  BASE PRICE  SOLD PRICE  \n",
      "0  13.93          2009       50000       50000  \n",
      "1   0.00          2008       50000       50000  \n",
      "2  24.90          2008      200000      350000  \n",
      "3  22.14          2011      100000      850000  \n",
      "4   0.00          2011      100000      800000  \n",
      "\n",
      "[5 rows x 26 columns]\n",
      "ipl_auction_df.shape\n",
      "(130, 26)\n",
      "ipl_auction_df.columns\n",
      "Index(['Sl.NO.', 'PLAYER NAME', 'AGE', 'COUNTRY', 'TEAM', 'PLAYING ROLE',\n",
      "       'T-RUNS', 'T-WKTS', 'ODI-RUNS-S', 'ODI-SR-B', 'ODI-WKTS', 'ODI-SR-BL',\n",
      "       'CAPTAINCY EXP', 'RUNS-S', 'HS', 'AVE', 'SR-B', 'SIXERS', 'RUNS-C',\n",
      "       'WKTS', 'AVE-BL', 'ECON', 'SR-BL', 'AUCTION YEAR', 'BASE PRICE',\n",
      "       'SOLD PRICE'],\n",
      "      dtype='object')\n"
     ]
    }
   ],
   "source": [
    "import pandas as pd\n",
    "ipl_auction_df = pd.read_csv(\"IPL_IMB381IPL2013.csv\")\n",
    "#print(\"ipl_auction_df\")\n",
    "#print(ipl_auction_df.head())\n",
    "#print(\"ipl_auction_df.shape\")\n",
    "#print(ipl_auction_df.shape)\n",
    "\n",
    "# List columns in the DataFrame\n",
    "print(\"ipl_auction_df.columns\")\n",
    "print(ipl_auction_df.columns)\n",
    "\n",
    "\n",
    "ipl_auction_df.iloc[0:5, 0:10]  \n",
    "\n",
    "X_features = ipl_auction_df.columns\n"
   ]
  }
 ],
 "metadata": {
  "kernelspec": {
   "display_name": "iimb_env",
   "language": "python",
   "name": "python3"
  },
  "language_info": {
   "codemirror_mode": {
    "name": "ipython",
    "version": 3
   },
   "file_extension": ".py",
   "mimetype": "text/x-python",
   "name": "python",
   "nbconvert_exporter": "python",
   "pygments_lexer": "ipython3",
   "version": "3.13.3"
  }
 },
 "nbformat": 4,
 "nbformat_minor": 2
}
