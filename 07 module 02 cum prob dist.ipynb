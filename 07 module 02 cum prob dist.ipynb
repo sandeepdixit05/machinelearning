{
 "cells": [
  {
   "cell_type": "code",
   "execution_count": null,
   "metadata": {},
   "outputs": [
    {
     "name": "stdout",
     "output_type": "stream",
     "text": [
      "BEML DataFrame:\n",
      "              Close  Percentage Change\n",
      "Date                                  \n",
      "2010-01-05  1134.60          -0.088059\n",
      "2010-01-06  1139.60           0.440684\n",
      "2010-01-07  1144.15           0.399263\n",
      "2010-01-08  1144.05          -0.008740\n",
      "2010-01-11  1137.00          -0.616232\n",
      "\n",
      "GLAXO DataFrame:\n",
      "              Close  Percentage Change\n",
      "Date                                  \n",
      "2010-01-05  1616.80          -0.544398\n",
      "2010-01-06  1638.50           1.342157\n",
      "2010-01-07  1648.70           0.622521\n",
      "2010-01-08  1639.80          -0.539819\n",
      "2010-01-11  1629.45          -0.631175\n",
      "\n",
      "BEML Mean Percentage Change: 0.02707480790572326\n",
      "BEML Standard Deviation of Percentage Change: 2.6430831468474874\n",
      "\n",
      "GLAXO Mean Percentage Change: 0.038604108259229164\n",
      "GLAXO Standard Deviation of Percentage Change: 1.3360538552253338\n",
      "\n",
      "Probability of a gain of -0.02 for BEML: 0.4928949876619926\n",
      "Probability of a gain of -0.02 for GLAXO: 0.48250657222305576\n"
     ]
    }
   ],
   "source": [
    "import pandas as pd\n",
    "\n",
    "df_beml = pd.read_csv(\"BEML.csv\")\n",
    "df_glaxo = pd.read_csv(\"GLAXO.csv\")\n",
    "\n",
    "\n",
    "\n",
    "# Drop all the columns except 'Date' and 'Close' from both DataFrames\n",
    "df_beml = df_beml[['Date', 'Close']]\n",
    "df_glaxo = df_glaxo[['Date', 'Close']]\n",
    "\n",
    "# Make date column as index for both DataFrames\n",
    "df_beml.set_index('Date', inplace=True)\n",
    "df_glaxo.set_index('Date', inplace=True)\n",
    "\n",
    "# Calculate the percentage change in 'Close' prices for both DataFrames\n",
    "df_beml['Percentage Change'] = df_beml['Close'].pct_change(periods=1) * 100\n",
    "df_glaxo['Percentage Change'] = df_glaxo['Close'].pct_change(periods=1) * 100\n",
    "\n",
    "# Drop NaN values from both DataFrames\n",
    "df_beml.dropna(inplace=True)\n",
    "df_glaxo.dropna(inplace=True)\n",
    "\n",
    "# Display first 5 rows of each DataFrame\n",
    "print(\"BEML DataFrame:\")\n",
    "print(df_beml.head())\n",
    "print(\"\\nGLAXO DataFrame:\")\n",
    "print(df_glaxo.head())\n",
    "\n",
    "\n",
    "# Calculate the mean and standard deviation of the percentage changes for both DataFrames\n",
    "mean_beml = df_beml['Percentage Change'].mean()\n",
    "mean_glaxo = df_glaxo['Percentage Change'].mean()\n",
    "std_beml = df_beml['Percentage Change'].std()\n",
    "std_glaxo = df_glaxo['Percentage Change'].std()\n",
    "# Display the results\n",
    "print(\"\\nBEML Mean Percentage Change:\", mean_beml)\n",
    "print(\"BEML Standard Deviation of Percentage Change:\", std_beml)\n",
    "print(\"\\nGLAXO Mean Percentage Change:\", mean_glaxo)\n",
    "print(\"GLAXO Standard Deviation of Percentage Change:\", std_glaxo)\n",
    "\n",
    "\n",
    "# Calculate the probablity of a gain of -0.02 for both DataFrames using the cumulative distribution function (CDF)\n",
    "from scipy.stats import norm\n",
    "prob_beml = norm.cdf(-0.02, loc=mean_beml, scale=std_beml)\n",
    "prob_glaxo = norm.cdf(-0.02, loc=mean_glaxo, scale=std_glaxo)\n",
    "# Display the probabilities\n",
    "print(\"\\nProbability of a gain of -0.02 for BEML:\", prob_beml)\n",
    "print(\"Probability of a gain of -0.02 for GLAXO:\", prob_glaxo)\n",
    "\n",
    "\n"
   ]
  }
 ],
 "metadata": {
  "kernelspec": {
   "display_name": "iimb_env",
   "language": "python",
   "name": "python3"
  },
  "language_info": {
   "codemirror_mode": {
    "name": "ipython",
    "version": 3
   },
   "file_extension": ".py",
   "mimetype": "text/x-python",
   "name": "python",
   "nbconvert_exporter": "python",
   "pygments_lexer": "ipython3",
   "version": "3.13.3"
  }
 },
 "nbformat": 4,
 "nbformat_minor": 2
}
