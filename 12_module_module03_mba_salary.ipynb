{
 "cells": [
  {
   "cell_type": "code",
   "execution_count": 5,
   "metadata": {},
   "outputs": [
    {
     "name": "stdout",
     "output_type": "stream",
     "text": [
      "   S. No.  Percentage in Grade 10  Salary\n",
      "0       1                   62.00  270000\n",
      "1       2                   76.33  200000\n",
      "2       3                   72.00  240000\n",
      "3       4                   60.00  250000\n",
      "4       5                   61.00  180000\n",
      "\n",
      "--------------------------------------------------\n",
      "\n",
      "<class 'pandas.core.frame.DataFrame'>\n",
      "RangeIndex: 50 entries, 0 to 49\n",
      "Data columns (total 3 columns):\n",
      " #   Column                  Non-Null Count  Dtype  \n",
      "---  ------                  --------------  -----  \n",
      " 0   S. No.                  50 non-null     int64  \n",
      " 1   Percentage in Grade 10  50 non-null     float64\n",
      " 2   Salary                  50 non-null     int64  \n",
      "dtypes: float64(1), int64(2)\n",
      "memory usage: 1.3 KB\n",
      "None\n",
      "\n",
      "--------------------------------------------------\n",
      "\n",
      "         S. No.  Percentage in Grade 10         Salary\n",
      "count  50.00000               50.000000      50.000000\n",
      "mean   25.50000               63.922400  258192.000000\n",
      "std    14.57738                9.859937   76715.790993\n",
      "min     1.00000               37.330000  120000.000000\n",
      "25%    13.25000               57.685000  204500.000000\n",
      "50%    25.50000               64.700000  250000.000000\n",
      "75%    37.75000               70.000000  300000.000000\n",
      "max    50.00000               83.000000  450000.000000\n"
     ]
    }
   ],
   "source": [
    "import pandas as pd\n",
    "import numpy as np\n",
    "\n",
    "df_salary = pd.read_csv('MBA_Salary.csv')\n",
    "\n",
    "print(df_salary.head())\n",
    "# Print a line Break\n",
    "print(\"\\n\" + \"-\" * 50 + \"\\n\")\n",
    "print(df_salary.info())\n",
    "print(\"\\n\" + \"-\" * 50 + \"\\n\")\n",
    "print(df_salary.describe())\n",
    "\n",
    "\n"
   ]
  },
  {
   "cell_type": "code",
   "execution_count": 14,
   "metadata": {},
   "outputs": [
    {
     "name": "stdout",
     "output_type": "stream",
     "text": [
      "   const  Percentage in Grade 10\n",
      "0    1.0                   62.00\n",
      "1    1.0                   76.33\n",
      "2    1.0                   72.00\n",
      "3    1.0                   60.00\n",
      "4    1.0                   61.00\n",
      "0    270000\n",
      "1    200000\n",
      "2    240000\n",
      "3    250000\n",
      "4    180000\n",
      "Name: Salary, dtype: int64\n"
     ]
    }
   ],
   "source": [
    "import statsmodels.api as sm\n",
    "# Define the dependent variable (Y) and independent variables (X)\n",
    "Y = df_salary['Salary']\n",
    "X = sm.add_constant(df_salary['Percentage in Grade 10'])\n",
    "\n",
    "print(X.head())\n",
    "print(Y.head())\n"
   ]
  },
  {
   "cell_type": "code",
   "execution_count": 7,
   "metadata": {},
   "outputs": [],
   "source": [
    "import matplotlib.pyplot as plt\n",
    "import seaborn as sns\n"
   ]
  },
  {
   "cell_type": "code",
   "execution_count": 12,
   "metadata": {},
   "outputs": [
    {
     "data": {
      "text/plain": [
       "<Axes: xlabel='Percentage in Grade 10', ylabel='Salary'>"
      ]
     },
     "execution_count": 12,
     "metadata": {},
     "output_type": "execute_result"
    },
    {
     "data": {
      "image/png": "[encoded data removed]",
      "text/plain": [
       "<Figure size 640x480 with 1 Axes>"
      ]
     },
     "metadata": {},
     "output_type": "display_data"
    }
   ],
   "source": [
    "sns.regplot(x='Percentage in Grade 10', \n",
    "            y='Salary', \n",
    "            data=df_salary, \n",
    "            ci=0)"
   ]
  },
  {
   "cell_type": "code",
   "execution_count": 13,
   "metadata": {},
   "outputs": [],
   "source": [
    "from sklearn.model_selection import train_test_split\n",
    "X_train, X_test, Y_train, Y_test = train_test_split(X, Y, train_size=0.8, random_state=100)\n"
   ]
  },
  {
   "cell_type": "code",
   "execution_count": 21,
   "metadata": {},
   "outputs": [
    {
     "name": "stdout",
     "output_type": "stream",
     "text": [
      "\n",
      "Summary2:\n",
      "                          Results: Ordinary least squares\n",
      "===================================================================================\n",
      "Model:                    OLS                   Adj. R-squared:          0.190     \n",
      "Dependent Variable:       Salary                AIC:                     1008.8680 \n",
      "Date:                     2025-06-16 09:03      BIC:                     1012.2458 \n",
      "No. Observations:         40                    Log-Likelihood:          -502.43   \n",
      "Df Model:                 1                     F-statistic:             10.16     \n",
      "Df Residuals:             38                    Prob (F-statistic):      0.00287   \n",
      "R-squared:                0.211                 Scale:                   5.0121e+09\n",
      "-----------------------------------------------------------------------------------\n",
      "                         Coef.     Std.Err.    t    P>|t|     [0.025       0.975]  \n",
      "-----------------------------------------------------------------------------------\n",
      "const                  30587.2857 71869.4497 0.4256 0.6728 -114904.8088 176079.3801\n",
      "Percentage in Grade 10  3560.5874  1116.9258 3.1878 0.0029    1299.4892   5821.6855\n",
      "-----------------------------------------------------------------------------------\n",
      "Omnibus:                    2.048              Durbin-Watson:                 2.611\n",
      "Prob(Omnibus):              0.359              Jarque-Bera (JB):              1.724\n",
      "Skew:                       0.369              Prob(JB):                      0.422\n",
      "Kurtosis:                   2.300              Condition No.:                 413  \n",
      "===================================================================================\n",
      "Notes:\n",
      "[1] Standard Errors assume that the covariance matrix of the errors is correctly\n",
      "specified.\n"
     ]
    }
   ],
   "source": [
    "# Fitting the model\n",
    "salary_lm = sm.OLS(Y_train, X_train).fit()\n",
    "\n",
    "# Print the summary of the model\n",
    "#print(salary_lm.summary())\n",
    "\n",
    "# Print estimated parameters\n",
    "# print(\"\\nEstimated Parameters:\")\n",
    "#print(salary_lm.params)\n",
    "\n",
    "\n",
    "# Print summary2    \n",
    "print(\"\\nSummary2:\")\n",
    "print(salary_lm.summary2())"
   ]
  },
  {
   "cell_type": "code",
   "execution_count": 32,
   "metadata": {},
   "outputs": [
    {
     "name": "stdout",
     "output_type": "stream",
     "text": [
      "\n",
      "Z-scores of Salary:\n",
      "Empty DataFrame\n",
      "Columns: [S. No., Percentage in Grade 10, Salary, zscore]\n",
      "Index: []\n"
     ]
    }
   ],
   "source": [
    "from scipy.stats import zscore\n",
    "df_salary['zscore'] = zscore(df_salary['Salary'])\n",
    "# Print the first few rows of the DataFrame with z-scores\n",
    "print(\"\\nZ-scores of Salary:\")\n",
    "print(df_salary[(df_salary.zscore > 3.0) | (df_salary.zscore < -3.0)])"
   ]
  },
  {
   "cell_type": "code",
   "execution_count": null,
   "metadata": {},
   "outputs": [],
   "source": []
  }
 ],
 "metadata": {
  "kernelspec": {
   "display_name": "iimb_env",
   "language": "python",
   "name": "python3"
  },
  "language_info": {
   "codemirror_mode": {
    "name": "ipython",
    "version": 3
   },
   "file_extension": ".py",
   "mimetype": "text/x-python",
   "name": "python",
   "nbconvert_exporter": "python",
   "pygments_lexer": "ipython3",
   "version": "3.13.3"
  }
 },
 "nbformat": 4,
 "nbformat_minor": 2
}
