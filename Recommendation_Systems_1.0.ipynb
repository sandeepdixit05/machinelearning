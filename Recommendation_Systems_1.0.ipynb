{
 "cells": [
  {
   "cell_type": "markdown",
   "metadata": {},
   "source": [
    "# Recommender Systems\n",
    "\n",
    "### Learning Objective\n",
    "\n",
    "- Learn what is a recommender system and it's business applications\n",
    "- Learn what kind of data is required for building recommendation systems\n",
    "- Learn recommendation techniques like associtation rules and collaborative filtering\n",
    "- Learn how to build, evaluate recommendation systems using python libraries"
   ]
  },
  {
   "cell_type": "markdown",
   "metadata": {},
   "source": [
    "### Overview\n",
    "\n",
    "- Recommendation systems are simple algorithms which recommends movies, music, news, books, articles, groceries, hotels or vacation destinations and act as backbone for cross selling across industries. \n",
    "- It leverages customer's behavioral data for recommending new products or services. \n",
    "\n",
    "Examples of recommenation systems that have been deployed in the industry:\n",
    "\n",
    "- Amazon's \"Customers who buys this item also bought\"\n",
    "- Netflix's \"shows and movies you may want to watch\". \n",
    "\n",
    "\n",
    "In this session, we will discuss two key algorithms that are widely used for building these recommendation systems. They are:\n",
    "\n",
    "- Association Rules\n",
    "- Collaborative Filtering"
   ]
  },
  {
   "cell_type": "markdown",
   "metadata": {},
   "source": [
    "### Association Rules\n",
    "\n",
    "- Association rule finds combinations of items that frequently occur together in orders or baskets. \n",
    "\n",
    "- The items that frequently occur together are called itemsets. \n",
    "\n",
    "- Itemsets help discover relationships between items that people buy together and use that as a basis for creating strategies like combining products as combo offer or place products next to each other in retail shelves to attract customer attention. \n",
    "\n",
    "- Association rules is also known as market basket analysis.\n",
    "\n",
    "To understand we will analyze at a set of baskets and the items in those baskets purchased by customers.\n",
    "\n",
    "Items purchased in different baskets are:\n",
    "\n",
    "1. Basket 1: egg, beer, sugar, bread, diaper\n",
    "2. Basket 2: egg, beer, cereal, bread, diaper\n",
    "3. Basket 3: milk, beer, bread\n",
    "4. Basket 4: cereal, diaper, bread"
   ]
  },
  {
   "cell_type": "markdown",
   "metadata": {},
   "source": [
    "<img src=\"baskets.png\" alt=\"orders or baskets\" style=\"width: 600px;\"/>"
   ]
  },
  {
   "cell_type": "markdown",
   "metadata": {
    "collapsed": true
   },
   "source": [
    "- In future, if a customer buys *beer*, can we predict what he/she would most likely to buy along with *beer*. \n",
    "\n",
    "- To know this, we need to find out which items have shown strong association with *beer* in previous purchased baskets. We can use association rules technique to find out.\n",
    "\n",
    "Association rule considers all possible combination of items in the previous baskets and computes various measures like \n",
    "- *support*\n",
    "- *confidence*\n",
    "- *lift*\n",
    "\n",
    "\n",
    "The rules generated are represented as \n",
    "\n",
    "*{diapers} -> {beer}*, \n",
    "\n",
    "which means that customers who purchased diapers also purchased beer in the same basket. *{diaper, beer}* together is called itemset. \n",
    "- *{diaper}* is called the antecedent and the *{beer}* is called the consequent. \n",
    "\n",
    "###  Metrics\n",
    "\n",
    "#### Support \n",
    "\n",
    "Support indicates the frequencies of them items appearing together with respect to all possible baskets being considered or sample size. For example, the support for (beer, diaper) will be 2/4 i.e. 50% as it appears together in 2 basket among 4 baskets being analyzed. \n",
    "\n",
    "So, if *X* and *Y* are items being considered, where \n",
    "- *N* is number of baskets. \n",
    "- $N_{xy}$ represents the number baskets in which *X* and *Y* appear together.\n",
    "- $N_{x}$ represents the number baskets in which *X* appears.\n",
    "- $N_{y}$ represents the number baskets in which *Y* appears.\n",
    "   \n",
    "\n",
    " $supp(X,Y) = \\frac{N_{xy}}{N}$\n",
    " \n",
    "To filter out stronger associations, we can assume a minimum support i.e. minumum support of 0.01. This means the itemset must be present in at least one percent of baskets. It is important to use minimum support criteria to reduce the number of possible itemset \n",
    "\n",
    "#### Confidence\n",
    "\n",
    "Confidence measures the proportion of the transactions that contain *X*, which also contain *Y*. *X* is called *antecedent* and *Y* is called *consequent*.\n",
    "\n",
    "$conf(X \\to Y) = \\frac{N_{xy}}{N_{y}}$\n",
    "\n",
    "#### Lift \n",
    "\n",
    "Lift is defined as \n",
    "\n",
    "$ Lift(X \\to Y) = \\frac{$supp(X,Y)}{$supp(X) * $supp(Y)}$\n",
    "\n",
    "\n",
    "- The basic rule of thumb is that a lift value close to 1 means the rules were completely independent. \n",
    "- Lift values > 1 are generally more “interesting” and could be indicative of a useful rule pattern."
   ]
  },
  {
   "cell_type": "markdown",
   "metadata": {},
   "source": [
    "### Applying Association Rules\n",
    "\n",
    "*groceries.csv* - This dataset contains transactions of a grocery store."
   ]
  },
  {
   "cell_type": "code",
   "execution_count": 1,
   "metadata": {},
   "outputs": [],
   "source": [
    "!head groceries.csv"
   ]
  },
  {
   "cell_type": "markdown",
   "metadata": {},
   "source": [
    "#### Loading the dataset\n",
    "\n"
   ]
  },
  {
   "cell_type": "code",
   "execution_count": 2,
   "metadata": {},
   "outputs": [],
   "source": [
    "all_txns = []\n",
    "\n",
    "#open the file\n",
    "with open('groceries.csv') as f:\n",
    "    #read each line \n",
    "    content = f.readlines()\n",
    "    #Remove white space from the beginning and end of the line\n",
    "    txns = [x.strip() for x in content]\n",
    "    # Iterate through each line and create a list of transactions\n",
    "    for each_txn in txns:\n",
    "        #Each transaction will contain a list of item in the transaction\n",
    "        all_txns.append( each_txn.split(',') )"
   ]
  },
  {
   "cell_type": "markdown",
   "metadata": {},
   "source": [
    "Print the first 5 transactions."
   ]
  },
  {
   "cell_type": "code",
   "execution_count": 3,
   "metadata": {},
   "outputs": [
    {
     "data": {
      "text/plain": [
       "[['citrus fruit', 'semi-finished bread', 'margarine', 'ready soups'],\n",
       " ['tropical fruit', 'yogurt', 'coffee'],\n",
       " ['whole milk'],\n",
       " ['pip fruit', 'yogurt', 'cream cheese ', 'meat spreads'],\n",
       " ['other vegetables',\n",
       "  'whole milk',\n",
       "  'condensed milk',\n",
       "  'long life bakery product']]"
      ]
     },
     "execution_count": 3,
     "metadata": {},
     "output_type": "execute_result"
    }
   ],
   "source": [
    "all_txns[0:5]"
   ]
  },
  {
   "cell_type": "markdown",
   "metadata": {},
   "source": [
    "#### Encoding the transactions"
   ]
  },
  {
   "cell_type": "code",
   "execution_count": 4,
   "metadata": {},
   "outputs": [
    {
     "name": "stdout",
     "output_type": "stream",
     "text": [
      "Requirement already satisfied: mlxtend in /opt/anaconda3/envs/trainingnew/lib/python3.8/site-packages (0.17.3)\n",
      "Requirement already satisfied: joblib>=0.13.2 in /opt/anaconda3/envs/trainingnew/lib/python3.8/site-packages (from mlxtend) (0.16.0)\n",
      "Requirement already satisfied: setuptools in /opt/anaconda3/envs/trainingnew/lib/python3.8/site-packages (from mlxtend) (49.2.0.post20200714)\n",
      "Requirement already satisfied: pandas>=0.24.2 in /opt/anaconda3/envs/trainingnew/lib/python3.8/site-packages (from mlxtend) (1.0.5)\n",
      "Requirement already satisfied: scikit-learn>=0.20.3 in /opt/anaconda3/envs/trainingnew/lib/python3.8/site-packages (from mlxtend) (0.23.1)\n",
      "Requirement already satisfied: scipy>=1.2.1 in /opt/anaconda3/envs/trainingnew/lib/python3.8/site-packages (from mlxtend) (1.5.0)\n",
      "Requirement already satisfied: matplotlib>=3.0.0 in /opt/anaconda3/envs/trainingnew/lib/python3.8/site-packages (from mlxtend) (3.2.2)\n",
      "Requirement already satisfied: numpy>=1.16.2 in /opt/anaconda3/envs/trainingnew/lib/python3.8/site-packages (from mlxtend) (1.19.2)\n",
      "Requirement already satisfied: pytz>=2017.2 in /opt/anaconda3/envs/trainingnew/lib/python3.8/site-packages (from pandas>=0.24.2->mlxtend) (2020.1)\n",
      "Requirement already satisfied: python-dateutil>=2.6.1 in /opt/anaconda3/envs/trainingnew/lib/python3.8/site-packages (from pandas>=0.24.2->mlxtend) (2.8.1)\n",
      "Requirement already satisfied: threadpoolctl>=2.0.0 in /opt/anaconda3/envs/trainingnew/lib/python3.8/site-packages (from scikit-learn>=0.20.3->mlxtend) (2.1.0)\n",
      "Requirement already satisfied: pyparsing!=2.0.4,!=2.1.2,!=2.1.6,>=2.0.1 in /opt/anaconda3/envs/trainingnew/lib/python3.8/site-packages (from matplotlib>=3.0.0->mlxtend) (2.4.7)\n",
      "Requirement already satisfied: cycler>=0.10 in /opt/anaconda3/envs/trainingnew/lib/python3.8/site-packages (from matplotlib>=3.0.0->mlxtend) (0.10.0)\n",
      "Requirement already satisfied: kiwisolver>=1.0.1 in /opt/anaconda3/envs/trainingnew/lib/python3.8/site-packages (from matplotlib>=3.0.0->mlxtend) (1.2.0)\n",
      "Requirement already satisfied: six>=1.5 in /opt/anaconda3/envs/trainingnew/lib/python3.8/site-packages (from python-dateutil>=2.6.1->pandas>=0.24.2->mlxtend) (1.15.0)\n"
     ]
    }
   ],
   "source": [
    "!pip install mlxtend"
   ]
  },
  {
   "cell_type": "code",
   "execution_count": 5,
   "metadata": {},
   "outputs": [],
   "source": [
    "# Import all required libraries\n",
    "import pandas as pd\n",
    "import numpy as np\n",
    "from mlxtend.preprocessing import TransactionEncoder\n",
    "from mlxtend.frequent_patterns import apriori, association_rules"
   ]
  },
  {
   "cell_type": "code",
   "execution_count": 6,
   "metadata": {},
   "outputs": [],
   "source": [
    "# Initialize OnehotTransactions\n",
    "one_hot_encoding = TransactionEncoder()\n",
    "# Transform the data into one-hot-encoding format\n",
    "one_hot_txns = one_hot_encoding.fit_transform(all_txns).astype(\"int\")\n",
    "# Conver the matrix into the dataframe.\n",
    "one_hot_txns_df = pd.DataFrame(one_hot_txns, \n",
    "                               columns=one_hot_encoding.columns_)"
   ]
  },
  {
   "cell_type": "markdown",
   "metadata": {},
   "source": [
    "Printing the first 5 transactions and items, indexed from 10 to 20."
   ]
  },
  {
   "cell_type": "code",
   "execution_count": 7,
   "metadata": {},
   "outputs": [
    {
     "data": {
      "text/html": [
       "<div>\n",
       "<style scoped>\n",
       "    .dataframe tbody tr th:only-of-type {\n",
       "        vertical-align: middle;\n",
       "    }\n",
       "\n",
       "    .dataframe tbody tr th {\n",
       "        vertical-align: top;\n",
       "    }\n",
       "\n",
       "    .dataframe thead th {\n",
       "        text-align: right;\n",
       "    }\n",
       "</style>\n",
       "<table border=\"1\" class=\"dataframe\">\n",
       "  <thead>\n",
       "    <tr style=\"text-align: right;\">\n",
       "      <th></th>\n",
       "      <th>berries</th>\n",
       "      <th>beverages</th>\n",
       "      <th>bottled beer</th>\n",
       "      <th>bottled water</th>\n",
       "      <th>brandy</th>\n",
       "      <th>brown bread</th>\n",
       "      <th>butter</th>\n",
       "      <th>butter milk</th>\n",
       "      <th>cake bar</th>\n",
       "      <th>candles</th>\n",
       "    </tr>\n",
       "  </thead>\n",
       "  <tbody>\n",
       "    <tr>\n",
       "      <th>5</th>\n",
       "      <td>0</td>\n",
       "      <td>0</td>\n",
       "      <td>0</td>\n",
       "      <td>0</td>\n",
       "      <td>0</td>\n",
       "      <td>0</td>\n",
       "      <td>1</td>\n",
       "      <td>0</td>\n",
       "      <td>0</td>\n",
       "      <td>0</td>\n",
       "    </tr>\n",
       "    <tr>\n",
       "      <th>6</th>\n",
       "      <td>0</td>\n",
       "      <td>0</td>\n",
       "      <td>0</td>\n",
       "      <td>0</td>\n",
       "      <td>0</td>\n",
       "      <td>0</td>\n",
       "      <td>0</td>\n",
       "      <td>0</td>\n",
       "      <td>0</td>\n",
       "      <td>0</td>\n",
       "    </tr>\n",
       "    <tr>\n",
       "      <th>7</th>\n",
       "      <td>0</td>\n",
       "      <td>0</td>\n",
       "      <td>1</td>\n",
       "      <td>0</td>\n",
       "      <td>0</td>\n",
       "      <td>0</td>\n",
       "      <td>0</td>\n",
       "      <td>0</td>\n",
       "      <td>0</td>\n",
       "      <td>0</td>\n",
       "    </tr>\n",
       "    <tr>\n",
       "      <th>8</th>\n",
       "      <td>0</td>\n",
       "      <td>0</td>\n",
       "      <td>0</td>\n",
       "      <td>0</td>\n",
       "      <td>0</td>\n",
       "      <td>0</td>\n",
       "      <td>0</td>\n",
       "      <td>0</td>\n",
       "      <td>0</td>\n",
       "      <td>0</td>\n",
       "    </tr>\n",
       "    <tr>\n",
       "      <th>9</th>\n",
       "      <td>0</td>\n",
       "      <td>0</td>\n",
       "      <td>0</td>\n",
       "      <td>0</td>\n",
       "      <td>0</td>\n",
       "      <td>0</td>\n",
       "      <td>0</td>\n",
       "      <td>0</td>\n",
       "      <td>0</td>\n",
       "      <td>0</td>\n",
       "    </tr>\n",
       "  </tbody>\n",
       "</table>\n",
       "</div>"
      ],
      "text/plain": [
       "   berries  beverages  bottled beer  bottled water  brandy  brown bread  \\\n",
       "5        0          0             0              0       0            0   \n",
       "6        0          0             0              0       0            0   \n",
       "7        0          0             1              0       0            0   \n",
       "8        0          0             0              0       0            0   \n",
       "9        0          0             0              0       0            0   \n",
       "\n",
       "   butter  butter milk  cake bar  candles  \n",
       "5       1            0         0        0  \n",
       "6       0            0         0        0  \n",
       "7       0            0         0        0  \n",
       "8       0            0         0        0  \n",
       "9       0            0         0        0  "
      ]
     },
     "execution_count": 7,
     "metadata": {},
     "output_type": "execute_result"
    }
   ],
   "source": [
    "one_hot_txns_df.iloc[5:10, 10:20]"
   ]
  },
  {
   "cell_type": "markdown",
   "metadata": {},
   "source": [
    "It can be notices that transaction with index 5 contains an item called *butter* and transaction with index 7 contains an item *bottled beer*."
   ]
  },
  {
   "cell_type": "code",
   "execution_count": 8,
   "metadata": {},
   "outputs": [
    {
     "data": {
      "text/plain": [
       "(9835, 171)"
      ]
     },
     "execution_count": 8,
     "metadata": {},
     "output_type": "execute_result"
    }
   ],
   "source": [
    "one_hot_txns_df.shape"
   ]
  },
  {
   "cell_type": "markdown",
   "metadata": {},
   "source": [
    "The sparse matrix has a dimension of *9835 x 171*. So, a total of 9835 transactions and 171 items are available. this matrix can be fed to generate rules in the next section."
   ]
  },
  {
   "cell_type": "markdown",
   "metadata": {},
   "source": [
    "### Generating Rules"
   ]
  },
  {
   "cell_type": "markdown",
   "metadata": {},
   "source": [
    "*apriori* takes the following parameters:\n",
    "\n",
    "- df : pandas DataFrame in one-hot encoded format.\n",
    "- min_support : float - A float between 0 and 1 for minumum support of the itemsets returned. Default is 0.5.\n",
    "- use_colnames : bool -  If true, uses the DataFrames' column names in the returned DataFrame instead of column indices.\n",
    "\n",
    "We will use minimum support of 0.02 i.e. the itemset is available in atleast 2 percent of all transactions."
   ]
  },
  {
   "cell_type": "code",
   "execution_count": 9,
   "metadata": {},
   "outputs": [],
   "source": [
    "frequent_itemsets = apriori(one_hot_txns_df, \n",
    "                            min_support=0.02, \n",
    "                            use_colnames=True)"
   ]
  },
  {
   "cell_type": "markdown",
   "metadata": {},
   "source": [
    "Printing the 10 randomly sampled itemsets and their corresponding support."
   ]
  },
  {
   "cell_type": "code",
   "execution_count": 10,
   "metadata": {},
   "outputs": [
    {
     "data": {
      "text/html": [
       "<div>\n",
       "<style scoped>\n",
       "    .dataframe tbody tr th:only-of-type {\n",
       "        vertical-align: middle;\n",
       "    }\n",
       "\n",
       "    .dataframe tbody tr th {\n",
       "        vertical-align: top;\n",
       "    }\n",
       "\n",
       "    .dataframe thead th {\n",
       "        text-align: right;\n",
       "    }\n",
       "</style>\n",
       "<table border=\"1\" class=\"dataframe\">\n",
       "  <thead>\n",
       "    <tr style=\"text-align: right;\">\n",
       "      <th></th>\n",
       "      <th>support</th>\n",
       "      <th>itemsets</th>\n",
       "    </tr>\n",
       "  </thead>\n",
       "  <tbody>\n",
       "    <tr>\n",
       "      <th>60</th>\n",
       "      <td>0.020437</td>\n",
       "      <td>(bottled beer, whole milk)</td>\n",
       "    </tr>\n",
       "    <tr>\n",
       "      <th>52</th>\n",
       "      <td>0.033859</td>\n",
       "      <td>(sugar)</td>\n",
       "    </tr>\n",
       "    <tr>\n",
       "      <th>89</th>\n",
       "      <td>0.035892</td>\n",
       "      <td>(tropical fruit, other vegetables)</td>\n",
       "    </tr>\n",
       "    <tr>\n",
       "      <th>105</th>\n",
       "      <td>0.021047</td>\n",
       "      <td>(tropical fruit, root vegetables)</td>\n",
       "    </tr>\n",
       "    <tr>\n",
       "      <th>88</th>\n",
       "      <td>0.032740</td>\n",
       "      <td>(soda, other vegetables)</td>\n",
       "    </tr>\n",
       "    <tr>\n",
       "      <th>16</th>\n",
       "      <td>0.058058</td>\n",
       "      <td>(coffee)</td>\n",
       "    </tr>\n",
       "    <tr>\n",
       "      <th>111</th>\n",
       "      <td>0.024504</td>\n",
       "      <td>(shopping bags, whole milk)</td>\n",
       "    </tr>\n",
       "    <tr>\n",
       "      <th>36</th>\n",
       "      <td>0.079817</td>\n",
       "      <td>(newspapers)</td>\n",
       "    </tr>\n",
       "    <tr>\n",
       "      <th>119</th>\n",
       "      <td>0.056024</td>\n",
       "      <td>(yogurt, whole milk)</td>\n",
       "    </tr>\n",
       "    <tr>\n",
       "      <th>55</th>\n",
       "      <td>0.071683</td>\n",
       "      <td>(whipped/sour cream)</td>\n",
       "    </tr>\n",
       "  </tbody>\n",
       "</table>\n",
       "</div>"
      ],
      "text/plain": [
       "      support                            itemsets\n",
       "60   0.020437          (bottled beer, whole milk)\n",
       "52   0.033859                             (sugar)\n",
       "89   0.035892  (tropical fruit, other vegetables)\n",
       "105  0.021047   (tropical fruit, root vegetables)\n",
       "88   0.032740            (soda, other vegetables)\n",
       "16   0.058058                            (coffee)\n",
       "111  0.024504         (shopping bags, whole milk)\n",
       "36   0.079817                        (newspapers)\n",
       "119  0.056024                (yogurt, whole milk)\n",
       "55   0.071683                (whipped/sour cream)"
      ]
     },
     "execution_count": 10,
     "metadata": {},
     "output_type": "execute_result"
    }
   ],
   "source": [
    "frequent_itemsets.sample(10, random_state = 90)"
   ]
  },
  {
   "cell_type": "markdown",
   "metadata": {},
   "source": [
    "These itemsets can be passed to *association_rules* rules for generating rules and corresponding metrics.\n",
    "\n",
    "- df :  pandas DataFrame of frequent itemsets with columns ['support', 'itemsets']\n",
    "- metric : 'confidence' and 'lift'to evaluate if a rule is of interest. Default is 'confidence'.\n",
    "- min_threshold : Minimal threshold for the evaluation metric to decide whether a candidate rule is of interest."
   ]
  },
  {
   "cell_type": "code",
   "execution_count": 11,
   "metadata": {},
   "outputs": [],
   "source": [
    "rules = association_rules(frequent_itemsets, # itemsets\n",
    "                          metric=\"lift\",  # lift\n",
    "                          min_threshold=1)"
   ]
  },
  {
   "cell_type": "code",
   "execution_count": 12,
   "metadata": {},
   "outputs": [
    {
     "data": {
      "text/html": [
       "<div>\n",
       "<style scoped>\n",
       "    .dataframe tbody tr th:only-of-type {\n",
       "        vertical-align: middle;\n",
       "    }\n",
       "\n",
       "    .dataframe tbody tr th {\n",
       "        vertical-align: top;\n",
       "    }\n",
       "\n",
       "    .dataframe thead th {\n",
       "        text-align: right;\n",
       "    }\n",
       "</style>\n",
       "<table border=\"1\" class=\"dataframe\">\n",
       "  <thead>\n",
       "    <tr style=\"text-align: right;\">\n",
       "      <th></th>\n",
       "      <th>antecedents</th>\n",
       "      <th>consequents</th>\n",
       "      <th>antecedent support</th>\n",
       "      <th>consequent support</th>\n",
       "      <th>support</th>\n",
       "      <th>confidence</th>\n",
       "      <th>lift</th>\n",
       "      <th>leverage</th>\n",
       "      <th>conviction</th>\n",
       "    </tr>\n",
       "  </thead>\n",
       "  <tbody>\n",
       "    <tr>\n",
       "      <th>52</th>\n",
       "      <td>(sausage)</td>\n",
       "      <td>(other vegetables)</td>\n",
       "      <td>0.093950</td>\n",
       "      <td>0.193493</td>\n",
       "      <td>0.026945</td>\n",
       "      <td>0.286797</td>\n",
       "      <td>1.482209</td>\n",
       "      <td>0.008766</td>\n",
       "      <td>1.130824</td>\n",
       "    </tr>\n",
       "    <tr>\n",
       "      <th>17</th>\n",
       "      <td>(whole milk)</td>\n",
       "      <td>(butter)</td>\n",
       "      <td>0.255516</td>\n",
       "      <td>0.055414</td>\n",
       "      <td>0.027555</td>\n",
       "      <td>0.107839</td>\n",
       "      <td>1.946053</td>\n",
       "      <td>0.013395</td>\n",
       "      <td>1.058762</td>\n",
       "    </tr>\n",
       "    <tr>\n",
       "      <th>93</th>\n",
       "      <td>(root vegetables)</td>\n",
       "      <td>(yogurt)</td>\n",
       "      <td>0.108998</td>\n",
       "      <td>0.139502</td>\n",
       "      <td>0.025826</td>\n",
       "      <td>0.236940</td>\n",
       "      <td>1.698475</td>\n",
       "      <td>0.010621</td>\n",
       "      <td>1.127694</td>\n",
       "    </tr>\n",
       "    <tr>\n",
       "      <th>117</th>\n",
       "      <td>(root vegetables)</td>\n",
       "      <td>(whole milk, other vegetables)</td>\n",
       "      <td>0.108998</td>\n",
       "      <td>0.074835</td>\n",
       "      <td>0.023183</td>\n",
       "      <td>0.212687</td>\n",
       "      <td>2.842082</td>\n",
       "      <td>0.015026</td>\n",
       "      <td>1.175091</td>\n",
       "    </tr>\n",
       "    <tr>\n",
       "      <th>46</th>\n",
       "      <td>(pork)</td>\n",
       "      <td>(other vegetables)</td>\n",
       "      <td>0.057651</td>\n",
       "      <td>0.193493</td>\n",
       "      <td>0.021657</td>\n",
       "      <td>0.375661</td>\n",
       "      <td>1.941476</td>\n",
       "      <td>0.010502</td>\n",
       "      <td>1.291779</td>\n",
       "    </tr>\n",
       "    <tr>\n",
       "      <th>43</th>\n",
       "      <td>(other vegetables)</td>\n",
       "      <td>(pastry)</td>\n",
       "      <td>0.193493</td>\n",
       "      <td>0.088968</td>\n",
       "      <td>0.022572</td>\n",
       "      <td>0.116658</td>\n",
       "      <td>1.311235</td>\n",
       "      <td>0.005358</td>\n",
       "      <td>1.031347</td>\n",
       "    </tr>\n",
       "    <tr>\n",
       "      <th>79</th>\n",
       "      <td>(rolls/buns)</td>\n",
       "      <td>(sausage)</td>\n",
       "      <td>0.183935</td>\n",
       "      <td>0.093950</td>\n",
       "      <td>0.030605</td>\n",
       "      <td>0.166390</td>\n",
       "      <td>1.771048</td>\n",
       "      <td>0.013324</td>\n",
       "      <td>1.086899</td>\n",
       "    </tr>\n",
       "    <tr>\n",
       "      <th>107</th>\n",
       "      <td>(tropical fruit)</td>\n",
       "      <td>(yogurt)</td>\n",
       "      <td>0.104931</td>\n",
       "      <td>0.139502</td>\n",
       "      <td>0.029283</td>\n",
       "      <td>0.279070</td>\n",
       "      <td>2.000475</td>\n",
       "      <td>0.014645</td>\n",
       "      <td>1.193594</td>\n",
       "    </tr>\n",
       "    <tr>\n",
       "      <th>110</th>\n",
       "      <td>(yogurt)</td>\n",
       "      <td>(whipped/sour cream)</td>\n",
       "      <td>0.139502</td>\n",
       "      <td>0.071683</td>\n",
       "      <td>0.020742</td>\n",
       "      <td>0.148688</td>\n",
       "      <td>2.074251</td>\n",
       "      <td>0.010742</td>\n",
       "      <td>1.090455</td>\n",
       "    </tr>\n",
       "    <tr>\n",
       "      <th>94</th>\n",
       "      <td>(soda)</td>\n",
       "      <td>(sausage)</td>\n",
       "      <td>0.174377</td>\n",
       "      <td>0.093950</td>\n",
       "      <td>0.024301</td>\n",
       "      <td>0.139359</td>\n",
       "      <td>1.483324</td>\n",
       "      <td>0.007918</td>\n",
       "      <td>1.052761</td>\n",
       "    </tr>\n",
       "  </tbody>\n",
       "</table>\n",
       "</div>"
      ],
      "text/plain": [
       "            antecedents                     consequents  antecedent support  \\\n",
       "52            (sausage)              (other vegetables)            0.093950   \n",
       "17         (whole milk)                        (butter)            0.255516   \n",
       "93    (root vegetables)                        (yogurt)            0.108998   \n",
       "117   (root vegetables)  (whole milk, other vegetables)            0.108998   \n",
       "46               (pork)              (other vegetables)            0.057651   \n",
       "43   (other vegetables)                        (pastry)            0.193493   \n",
       "79         (rolls/buns)                       (sausage)            0.183935   \n",
       "107    (tropical fruit)                        (yogurt)            0.104931   \n",
       "110            (yogurt)            (whipped/sour cream)            0.139502   \n",
       "94               (soda)                       (sausage)            0.174377   \n",
       "\n",
       "     consequent support   support  confidence      lift  leverage  conviction  \n",
       "52             0.193493  0.026945    0.286797  1.482209  0.008766    1.130824  \n",
       "17             0.055414  0.027555    0.107839  1.946053  0.013395    1.058762  \n",
       "93             0.139502  0.025826    0.236940  1.698475  0.010621    1.127694  \n",
       "117            0.074835  0.023183    0.212687  2.842082  0.015026    1.175091  \n",
       "46             0.193493  0.021657    0.375661  1.941476  0.010502    1.291779  \n",
       "43             0.088968  0.022572    0.116658  1.311235  0.005358    1.031347  \n",
       "79             0.093950  0.030605    0.166390  1.771048  0.013324    1.086899  \n",
       "107            0.139502  0.029283    0.279070  2.000475  0.014645    1.193594  \n",
       "110            0.071683  0.020742    0.148688  2.074251  0.010742    1.090455  \n",
       "94             0.093950  0.024301    0.139359  1.483324  0.007918    1.052761  "
      ]
     },
     "execution_count": 12,
     "metadata": {},
     "output_type": "execute_result"
    }
   ],
   "source": [
    "rules.sample(10)"
   ]
  },
  {
   "cell_type": "markdown",
   "metadata": {},
   "source": [
    "### Selecting Top 10 Rules"
   ]
  },
  {
   "cell_type": "markdown",
   "metadata": {},
   "source": [
    "Let's look at top 10 rules sorted by *confidence*."
   ]
  },
  {
   "cell_type": "code",
   "execution_count": 13,
   "metadata": {},
   "outputs": [
    {
     "data": {
      "text/html": [
       "<div>\n",
       "<style scoped>\n",
       "    .dataframe tbody tr th:only-of-type {\n",
       "        vertical-align: middle;\n",
       "    }\n",
       "\n",
       "    .dataframe tbody tr th {\n",
       "        vertical-align: top;\n",
       "    }\n",
       "\n",
       "    .dataframe thead th {\n",
       "        text-align: right;\n",
       "    }\n",
       "</style>\n",
       "<table border=\"1\" class=\"dataframe\">\n",
       "  <thead>\n",
       "    <tr style=\"text-align: right;\">\n",
       "      <th></th>\n",
       "      <th>antecedents</th>\n",
       "      <th>consequents</th>\n",
       "      <th>antecedent support</th>\n",
       "      <th>consequent support</th>\n",
       "      <th>support</th>\n",
       "      <th>confidence</th>\n",
       "      <th>lift</th>\n",
       "      <th>leverage</th>\n",
       "      <th>conviction</th>\n",
       "    </tr>\n",
       "  </thead>\n",
       "  <tbody>\n",
       "    <tr>\n",
       "      <th>121</th>\n",
       "      <td>(yogurt, other vegetables)</td>\n",
       "      <td>(whole milk)</td>\n",
       "      <td>0.043416</td>\n",
       "      <td>0.255516</td>\n",
       "      <td>0.022267</td>\n",
       "      <td>0.512881</td>\n",
       "      <td>2.007235</td>\n",
       "      <td>0.011174</td>\n",
       "      <td>1.528340</td>\n",
       "    </tr>\n",
       "    <tr>\n",
       "      <th>16</th>\n",
       "      <td>(butter)</td>\n",
       "      <td>(whole milk)</td>\n",
       "      <td>0.055414</td>\n",
       "      <td>0.255516</td>\n",
       "      <td>0.027555</td>\n",
       "      <td>0.497248</td>\n",
       "      <td>1.946053</td>\n",
       "      <td>0.013395</td>\n",
       "      <td>1.480817</td>\n",
       "    </tr>\n",
       "    <tr>\n",
       "      <th>24</th>\n",
       "      <td>(curd)</td>\n",
       "      <td>(whole milk)</td>\n",
       "      <td>0.053279</td>\n",
       "      <td>0.255516</td>\n",
       "      <td>0.026131</td>\n",
       "      <td>0.490458</td>\n",
       "      <td>1.919481</td>\n",
       "      <td>0.012517</td>\n",
       "      <td>1.461085</td>\n",
       "    </tr>\n",
       "    <tr>\n",
       "      <th>115</th>\n",
       "      <td>(other vegetables, root vegetables)</td>\n",
       "      <td>(whole milk)</td>\n",
       "      <td>0.047382</td>\n",
       "      <td>0.255516</td>\n",
       "      <td>0.023183</td>\n",
       "      <td>0.489270</td>\n",
       "      <td>1.914833</td>\n",
       "      <td>0.011076</td>\n",
       "      <td>1.457687</td>\n",
       "    </tr>\n",
       "    <tr>\n",
       "      <th>114</th>\n",
       "      <td>(whole milk, root vegetables)</td>\n",
       "      <td>(other vegetables)</td>\n",
       "      <td>0.048907</td>\n",
       "      <td>0.193493</td>\n",
       "      <td>0.023183</td>\n",
       "      <td>0.474012</td>\n",
       "      <td>2.449770</td>\n",
       "      <td>0.013719</td>\n",
       "      <td>1.533320</td>\n",
       "    </tr>\n",
       "    <tr>\n",
       "      <th>28</th>\n",
       "      <td>(domestic eggs)</td>\n",
       "      <td>(whole milk)</td>\n",
       "      <td>0.063447</td>\n",
       "      <td>0.255516</td>\n",
       "      <td>0.029995</td>\n",
       "      <td>0.472756</td>\n",
       "      <td>1.850203</td>\n",
       "      <td>0.013783</td>\n",
       "      <td>1.412030</td>\n",
       "    </tr>\n",
       "    <tr>\n",
       "      <th>108</th>\n",
       "      <td>(whipped/sour cream)</td>\n",
       "      <td>(whole milk)</td>\n",
       "      <td>0.071683</td>\n",
       "      <td>0.255516</td>\n",
       "      <td>0.032232</td>\n",
       "      <td>0.449645</td>\n",
       "      <td>1.759754</td>\n",
       "      <td>0.013916</td>\n",
       "      <td>1.352735</td>\n",
       "    </tr>\n",
       "    <tr>\n",
       "      <th>91</th>\n",
       "      <td>(root vegetables)</td>\n",
       "      <td>(whole milk)</td>\n",
       "      <td>0.108998</td>\n",
       "      <td>0.255516</td>\n",
       "      <td>0.048907</td>\n",
       "      <td>0.448694</td>\n",
       "      <td>1.756031</td>\n",
       "      <td>0.021056</td>\n",
       "      <td>1.350401</td>\n",
       "    </tr>\n",
       "    <tr>\n",
       "      <th>50</th>\n",
       "      <td>(root vegetables)</td>\n",
       "      <td>(other vegetables)</td>\n",
       "      <td>0.108998</td>\n",
       "      <td>0.193493</td>\n",
       "      <td>0.047382</td>\n",
       "      <td>0.434701</td>\n",
       "      <td>2.246605</td>\n",
       "      <td>0.026291</td>\n",
       "      <td>1.426693</td>\n",
       "    </tr>\n",
       "    <tr>\n",
       "      <th>32</th>\n",
       "      <td>(frozen vegetables)</td>\n",
       "      <td>(whole milk)</td>\n",
       "      <td>0.048094</td>\n",
       "      <td>0.255516</td>\n",
       "      <td>0.020437</td>\n",
       "      <td>0.424947</td>\n",
       "      <td>1.663094</td>\n",
       "      <td>0.008149</td>\n",
       "      <td>1.294636</td>\n",
       "    </tr>\n",
       "  </tbody>\n",
       "</table>\n",
       "</div>"
      ],
      "text/plain": [
       "                             antecedents         consequents  \\\n",
       "121           (yogurt, other vegetables)        (whole milk)   \n",
       "16                              (butter)        (whole milk)   \n",
       "24                                (curd)        (whole milk)   \n",
       "115  (other vegetables, root vegetables)        (whole milk)   \n",
       "114        (whole milk, root vegetables)  (other vegetables)   \n",
       "28                       (domestic eggs)        (whole milk)   \n",
       "108                 (whipped/sour cream)        (whole milk)   \n",
       "91                     (root vegetables)        (whole milk)   \n",
       "50                     (root vegetables)  (other vegetables)   \n",
       "32                   (frozen vegetables)        (whole milk)   \n",
       "\n",
       "     antecedent support  consequent support   support  confidence      lift  \\\n",
       "121            0.043416            0.255516  0.022267    0.512881  2.007235   \n",
       "16             0.055414            0.255516  0.027555    0.497248  1.946053   \n",
       "24             0.053279            0.255516  0.026131    0.490458  1.919481   \n",
       "115            0.047382            0.255516  0.023183    0.489270  1.914833   \n",
       "114            0.048907            0.193493  0.023183    0.474012  2.449770   \n",
       "28             0.063447            0.255516  0.029995    0.472756  1.850203   \n",
       "108            0.071683            0.255516  0.032232    0.449645  1.759754   \n",
       "91             0.108998            0.255516  0.048907    0.448694  1.756031   \n",
       "50             0.108998            0.193493  0.047382    0.434701  2.246605   \n",
       "32             0.048094            0.255516  0.020437    0.424947  1.663094   \n",
       "\n",
       "     leverage  conviction  \n",
       "121  0.011174    1.528340  \n",
       "16   0.013395    1.480817  \n",
       "24   0.012517    1.461085  \n",
       "115  0.011076    1.457687  \n",
       "114  0.013719    1.533320  \n",
       "28   0.013783    1.412030  \n",
       "108  0.013916    1.352735  \n",
       "91   0.021056    1.350401  \n",
       "50   0.026291    1.426693  \n",
       "32   0.008149    1.294636  "
      ]
     },
     "execution_count": 13,
     "metadata": {},
     "output_type": "execute_result"
    }
   ],
   "source": [
    "rules.sort_values('confidence', \n",
    "                   ascending = False)[0:10]"
   ]
  },
  {
   "cell_type": "markdown",
   "metadata": {},
   "source": [
    "The probability that a customer buys *(whole mlk), given he/she has bought *(yogurt, other vegetables)* is 0.51. Now these rules can be used to create strategies like keeping the items together in store shelves or cross selling."
   ]
  },
  {
   "cell_type": "markdown",
   "metadata": {},
   "source": [
    "### Pros & Cons of Association Rules:"
   ]
  },
  {
   "cell_type": "markdown",
   "metadata": {},
   "source": [
    "Advantages of using association rules are:\n",
    "\n",
    "- Transactions data, which is used for generating rules, is always available and mostly clean.\n",
    "- The rules generated are simple and can be interpreted.\n",
    "\n",
    "- Association rules does not take the preference or ratings given by customers into account, which are important information pertaining to generating rules. \n",
    "- If customers have bought two items, but disliked one of them, then the association should not even be considered. \n",
    "- *Collaborative Filtering* leverages both, what customers bought and how they liked (rating) the items, into consideration before recommending."
   ]
  },
  {
   "cell_type": "markdown",
   "metadata": {},
   "source": [
    "## Collaborative Filtering"
   ]
  },
  {
   "cell_type": "markdown",
   "metadata": {
    "collapsed": true
   },
   "source": [
    "- Collaborative filtering is based on the notion of *similarity*. \n",
    "\n",
    "- For example, if two users *A* and *B* have purchased same products and have rated them similarily on a common rating scale, then *A* and *B* can be considered similar in their buying and preference behavior. \n",
    "\n",
    "### How to find similarity between users?\n",
    "\n",
    "- To calculate similarity, the distance between users can be computed using the rating the users have given to the common items bought. \n",
    "- The users are similar, if the distance is small and dissimilar if the distance is large. - Most widely used metrics for distance calculations are Euclidean distance, Cosine similarity, Pearson Correlation.  \n",
    "\n",
    "The following picture depicts three users *Bob*, *Claudia* and *Michael* and the books they have have bought and rated.\n",
    "\n",
    "<img src=\"recommend_1.png\" width=\"500\">\n",
    "\n",
    "\n",
    "\n",
    "The users are represented using their rating on the Euclidean space as below. \n",
    "\n",
    "<img src=\"recommend_2.png\" width=\"500\">\n",
    "\n",
    "\n",
    "The picture shows that *Bob*'s preferences are similar to *Claudia* than *Michael*. So, the other books *Into the Wild*, which *Bob* has bought and rated high, can now be recommended to *Claudia*. \n",
    "\n",
    "Collaborative Filtering comes in two variations:\n",
    "\n",
    "- User Based Similarity - Finds *K* similar users based on common items they have bought.\n",
    "- Item Based Similarity - Finds *K* similar items based on common users who have bought those items."
   ]
  },
  {
   "cell_type": "markdown",
   "metadata": {},
   "source": [
    "### User Based Similarity"
   ]
  },
  {
   "cell_type": "markdown",
   "metadata": {},
   "source": [
    "- *MovieLens* dataset for finding similar users based on what common movies the users have watched and how they have rated those movies. \n",
    "- The file *ratings.csv* in the dataset contain rating given by users. \n",
    "- Each line in this file represents ratings given by an user to a particular movie. The ratings are in the scale of 1 to 5.\n",
    "\n",
    "*userId,movieId,rating,timestamp*\n",
    "\n",
    "The dataset can be downloaded from http://files.grouplens.org/datasets/movielens/ml-latest-small.zip."
   ]
  },
  {
   "cell_type": "markdown",
   "metadata": {},
   "source": [
    "#### Loading the dataset\n",
    "\n",
    "Read the file using *read_csv()* method."
   ]
  },
  {
   "cell_type": "code",
   "execution_count": 14,
   "metadata": {},
   "outputs": [],
   "source": [
    "rating_df = pd.read_csv( \"ml-latest-small/ratings.csv\" )"
   ]
  },
  {
   "cell_type": "markdown",
   "metadata": {},
   "source": [
    "Printing first 5 records."
   ]
  },
  {
   "cell_type": "code",
   "execution_count": 15,
   "metadata": {},
   "outputs": [
    {
     "data": {
      "text/html": [
       "<div>\n",
       "<style scoped>\n",
       "    .dataframe tbody tr th:only-of-type {\n",
       "        vertical-align: middle;\n",
       "    }\n",
       "\n",
       "    .dataframe tbody tr th {\n",
       "        vertical-align: top;\n",
       "    }\n",
       "\n",
       "    .dataframe thead th {\n",
       "        text-align: right;\n",
       "    }\n",
       "</style>\n",
       "<table border=\"1\" class=\"dataframe\">\n",
       "  <thead>\n",
       "    <tr style=\"text-align: right;\">\n",
       "      <th></th>\n",
       "      <th>userId</th>\n",
       "      <th>movieId</th>\n",
       "      <th>rating</th>\n",
       "      <th>timestamp</th>\n",
       "    </tr>\n",
       "  </thead>\n",
       "  <tbody>\n",
       "    <tr>\n",
       "      <th>86455</th>\n",
       "      <td>578</td>\n",
       "      <td>6870</td>\n",
       "      <td>3.0</td>\n",
       "      <td>1418984676</td>\n",
       "    </tr>\n",
       "    <tr>\n",
       "      <th>89638</th>\n",
       "      <td>596</td>\n",
       "      <td>4025</td>\n",
       "      <td>3.5</td>\n",
       "      <td>1138729399</td>\n",
       "    </tr>\n",
       "    <tr>\n",
       "      <th>34672</th>\n",
       "      <td>247</td>\n",
       "      <td>2058</td>\n",
       "      <td>4.0</td>\n",
       "      <td>953271935</td>\n",
       "    </tr>\n",
       "    <tr>\n",
       "      <th>95397</th>\n",
       "      <td>626</td>\n",
       "      <td>2606</td>\n",
       "      <td>2.0</td>\n",
       "      <td>974769265</td>\n",
       "    </tr>\n",
       "    <tr>\n",
       "      <th>35874</th>\n",
       "      <td>259</td>\n",
       "      <td>1097</td>\n",
       "      <td>3.0</td>\n",
       "      <td>949948831</td>\n",
       "    </tr>\n",
       "    <tr>\n",
       "      <th>88229</th>\n",
       "      <td>587</td>\n",
       "      <td>928</td>\n",
       "      <td>4.5</td>\n",
       "      <td>1111799608</td>\n",
       "    </tr>\n",
       "    <tr>\n",
       "      <th>87882</th>\n",
       "      <td>585</td>\n",
       "      <td>973</td>\n",
       "      <td>5.0</td>\n",
       "      <td>975365500</td>\n",
       "    </tr>\n",
       "    <tr>\n",
       "      <th>45486</th>\n",
       "      <td>324</td>\n",
       "      <td>592</td>\n",
       "      <td>4.0</td>\n",
       "      <td>1451524244</td>\n",
       "    </tr>\n",
       "    <tr>\n",
       "      <th>20547</th>\n",
       "      <td>138</td>\n",
       "      <td>5349</td>\n",
       "      <td>0.5</td>\n",
       "      <td>1440379177</td>\n",
       "    </tr>\n",
       "    <tr>\n",
       "      <th>31439</th>\n",
       "      <td>228</td>\n",
       "      <td>2005</td>\n",
       "      <td>4.5</td>\n",
       "      <td>1449332941</td>\n",
       "    </tr>\n",
       "  </tbody>\n",
       "</table>\n",
       "</div>"
      ],
      "text/plain": [
       "       userId  movieId  rating   timestamp\n",
       "86455     578     6870     3.0  1418984676\n",
       "89638     596     4025     3.5  1138729399\n",
       "34672     247     2058     4.0   953271935\n",
       "95397     626     2606     2.0   974769265\n",
       "35874     259     1097     3.0   949948831\n",
       "88229     587      928     4.5  1111799608\n",
       "87882     585      973     5.0   975365500\n",
       "45486     324      592     4.0  1451524244\n",
       "20547     138     5349     0.5  1440379177\n",
       "31439     228     2005     4.5  1449332941"
      ]
     },
     "execution_count": 15,
     "metadata": {},
     "output_type": "execute_result"
    }
   ],
   "source": [
    "rating_df.sample(10)"
   ]
  },
  {
   "cell_type": "code",
   "execution_count": 16,
   "metadata": {},
   "outputs": [],
   "source": [
    "rating_df.drop( 'timestamp', axis = 1, inplace = True )"
   ]
  },
  {
   "cell_type": "markdown",
   "metadata": {},
   "source": [
    "Number of unique users in the dataset can be found using *unique* method on *userId* column."
   ]
  },
  {
   "cell_type": "code",
   "execution_count": 17,
   "metadata": {},
   "outputs": [
    {
     "data": {
      "text/plain": [
       "671"
      ]
     },
     "execution_count": 17,
     "metadata": {},
     "output_type": "execute_result"
    }
   ],
   "source": [
    "len( rating_df.userId.unique() )"
   ]
  },
  {
   "cell_type": "markdown",
   "metadata": {},
   "source": [
    "Similarily, number of unique movies in the dataset is,"
   ]
  },
  {
   "cell_type": "code",
   "execution_count": 18,
   "metadata": {},
   "outputs": [
    {
     "data": {
      "text/plain": [
       "9066"
      ]
     },
     "execution_count": 18,
     "metadata": {},
     "output_type": "execute_result"
    }
   ],
   "source": [
    "len( rating_df.movieId.unique() )"
   ]
  },
  {
   "cell_type": "code",
   "execution_count": 19,
   "metadata": {},
   "outputs": [],
   "source": [
    "user_movies_df = rating_df.pivot( index='userId', \n",
    "                                 columns='movieId', \n",
    "                                 values = \"rating\" ).reset_index(drop=True)\n",
    "user_movies_df.index = rating_df.userId.unique()"
   ]
  },
  {
   "cell_type": "markdown",
   "metadata": {},
   "source": [
    "Print the first 5 rows and first 10 columns."
   ]
  },
  {
   "cell_type": "code",
   "execution_count": 20,
   "metadata": {},
   "outputs": [
    {
     "data": {
      "text/html": [
       "<div>\n",
       "<style scoped>\n",
       "    .dataframe tbody tr th:only-of-type {\n",
       "        vertical-align: middle;\n",
       "    }\n",
       "\n",
       "    .dataframe tbody tr th {\n",
       "        vertical-align: top;\n",
       "    }\n",
       "\n",
       "    .dataframe thead th {\n",
       "        text-align: right;\n",
       "    }\n",
       "</style>\n",
       "<table border=\"1\" class=\"dataframe\">\n",
       "  <thead>\n",
       "    <tr style=\"text-align: right;\">\n",
       "      <th>movieId</th>\n",
       "      <th>1</th>\n",
       "      <th>2</th>\n",
       "      <th>3</th>\n",
       "      <th>4</th>\n",
       "      <th>5</th>\n",
       "      <th>6</th>\n",
       "      <th>7</th>\n",
       "      <th>8</th>\n",
       "      <th>9</th>\n",
       "      <th>10</th>\n",
       "      <th>11</th>\n",
       "      <th>12</th>\n",
       "      <th>13</th>\n",
       "      <th>14</th>\n",
       "      <th>15</th>\n",
       "    </tr>\n",
       "  </thead>\n",
       "  <tbody>\n",
       "    <tr>\n",
       "      <th>1</th>\n",
       "      <td>NaN</td>\n",
       "      <td>NaN</td>\n",
       "      <td>NaN</td>\n",
       "      <td>NaN</td>\n",
       "      <td>NaN</td>\n",
       "      <td>NaN</td>\n",
       "      <td>NaN</td>\n",
       "      <td>NaN</td>\n",
       "      <td>NaN</td>\n",
       "      <td>NaN</td>\n",
       "      <td>NaN</td>\n",
       "      <td>NaN</td>\n",
       "      <td>NaN</td>\n",
       "      <td>NaN</td>\n",
       "      <td>NaN</td>\n",
       "    </tr>\n",
       "    <tr>\n",
       "      <th>2</th>\n",
       "      <td>NaN</td>\n",
       "      <td>NaN</td>\n",
       "      <td>NaN</td>\n",
       "      <td>NaN</td>\n",
       "      <td>NaN</td>\n",
       "      <td>NaN</td>\n",
       "      <td>NaN</td>\n",
       "      <td>NaN</td>\n",
       "      <td>NaN</td>\n",
       "      <td>4.0</td>\n",
       "      <td>NaN</td>\n",
       "      <td>NaN</td>\n",
       "      <td>NaN</td>\n",
       "      <td>NaN</td>\n",
       "      <td>NaN</td>\n",
       "    </tr>\n",
       "    <tr>\n",
       "      <th>3</th>\n",
       "      <td>NaN</td>\n",
       "      <td>NaN</td>\n",
       "      <td>NaN</td>\n",
       "      <td>NaN</td>\n",
       "      <td>NaN</td>\n",
       "      <td>NaN</td>\n",
       "      <td>NaN</td>\n",
       "      <td>NaN</td>\n",
       "      <td>NaN</td>\n",
       "      <td>NaN</td>\n",
       "      <td>NaN</td>\n",
       "      <td>NaN</td>\n",
       "      <td>NaN</td>\n",
       "      <td>NaN</td>\n",
       "      <td>NaN</td>\n",
       "    </tr>\n",
       "    <tr>\n",
       "      <th>4</th>\n",
       "      <td>NaN</td>\n",
       "      <td>NaN</td>\n",
       "      <td>NaN</td>\n",
       "      <td>NaN</td>\n",
       "      <td>NaN</td>\n",
       "      <td>NaN</td>\n",
       "      <td>NaN</td>\n",
       "      <td>NaN</td>\n",
       "      <td>NaN</td>\n",
       "      <td>4.0</td>\n",
       "      <td>NaN</td>\n",
       "      <td>NaN</td>\n",
       "      <td>NaN</td>\n",
       "      <td>NaN</td>\n",
       "      <td>NaN</td>\n",
       "    </tr>\n",
       "    <tr>\n",
       "      <th>5</th>\n",
       "      <td>NaN</td>\n",
       "      <td>NaN</td>\n",
       "      <td>4.0</td>\n",
       "      <td>NaN</td>\n",
       "      <td>NaN</td>\n",
       "      <td>NaN</td>\n",
       "      <td>NaN</td>\n",
       "      <td>NaN</td>\n",
       "      <td>NaN</td>\n",
       "      <td>NaN</td>\n",
       "      <td>NaN</td>\n",
       "      <td>NaN</td>\n",
       "      <td>NaN</td>\n",
       "      <td>NaN</td>\n",
       "      <td>NaN</td>\n",
       "    </tr>\n",
       "  </tbody>\n",
       "</table>\n",
       "</div>"
      ],
      "text/plain": [
       "movieId  1   2    3   4   5   6   7   8   9    10  11  12  13  14  15\n",
       "1       NaN NaN  NaN NaN NaN NaN NaN NaN NaN  NaN NaN NaN NaN NaN NaN\n",
       "2       NaN NaN  NaN NaN NaN NaN NaN NaN NaN  4.0 NaN NaN NaN NaN NaN\n",
       "3       NaN NaN  NaN NaN NaN NaN NaN NaN NaN  NaN NaN NaN NaN NaN NaN\n",
       "4       NaN NaN  NaN NaN NaN NaN NaN NaN NaN  4.0 NaN NaN NaN NaN NaN\n",
       "5       NaN NaN  4.0 NaN NaN NaN NaN NaN NaN  NaN NaN NaN NaN NaN NaN"
      ]
     },
     "execution_count": 20,
     "metadata": {},
     "output_type": "execute_result"
    }
   ],
   "source": [
    "user_movies_df.iloc[0:5, 0:15]"
   ]
  },
  {
   "cell_type": "markdown",
   "metadata": {},
   "source": [
    "The dataframe contains *NaN* for those entries where users have seen a movie and not rated. We can impute those  those *NaNs* with *0* values."
   ]
  },
  {
   "cell_type": "code",
   "execution_count": 21,
   "metadata": {},
   "outputs": [
    {
     "data": {
      "text/html": [
       "<div>\n",
       "<style scoped>\n",
       "    .dataframe tbody tr th:only-of-type {\n",
       "        vertical-align: middle;\n",
       "    }\n",
       "\n",
       "    .dataframe tbody tr th {\n",
       "        vertical-align: top;\n",
       "    }\n",
       "\n",
       "    .dataframe thead th {\n",
       "        text-align: right;\n",
       "    }\n",
       "</style>\n",
       "<table border=\"1\" class=\"dataframe\">\n",
       "  <thead>\n",
       "    <tr style=\"text-align: right;\">\n",
       "      <th>movieId</th>\n",
       "      <th>1</th>\n",
       "      <th>2</th>\n",
       "      <th>3</th>\n",
       "      <th>4</th>\n",
       "      <th>5</th>\n",
       "      <th>6</th>\n",
       "      <th>7</th>\n",
       "      <th>8</th>\n",
       "      <th>9</th>\n",
       "      <th>10</th>\n",
       "    </tr>\n",
       "  </thead>\n",
       "  <tbody>\n",
       "    <tr>\n",
       "      <th>1</th>\n",
       "      <td>0.0</td>\n",
       "      <td>0.0</td>\n",
       "      <td>0.0</td>\n",
       "      <td>0.0</td>\n",
       "      <td>0.0</td>\n",
       "      <td>0.0</td>\n",
       "      <td>0.0</td>\n",
       "      <td>0.0</td>\n",
       "      <td>0.0</td>\n",
       "      <td>0.0</td>\n",
       "    </tr>\n",
       "    <tr>\n",
       "      <th>2</th>\n",
       "      <td>0.0</td>\n",
       "      <td>0.0</td>\n",
       "      <td>0.0</td>\n",
       "      <td>0.0</td>\n",
       "      <td>0.0</td>\n",
       "      <td>0.0</td>\n",
       "      <td>0.0</td>\n",
       "      <td>0.0</td>\n",
       "      <td>0.0</td>\n",
       "      <td>4.0</td>\n",
       "    </tr>\n",
       "    <tr>\n",
       "      <th>3</th>\n",
       "      <td>0.0</td>\n",
       "      <td>0.0</td>\n",
       "      <td>0.0</td>\n",
       "      <td>0.0</td>\n",
       "      <td>0.0</td>\n",
       "      <td>0.0</td>\n",
       "      <td>0.0</td>\n",
       "      <td>0.0</td>\n",
       "      <td>0.0</td>\n",
       "      <td>0.0</td>\n",
       "    </tr>\n",
       "    <tr>\n",
       "      <th>4</th>\n",
       "      <td>0.0</td>\n",
       "      <td>0.0</td>\n",
       "      <td>0.0</td>\n",
       "      <td>0.0</td>\n",
       "      <td>0.0</td>\n",
       "      <td>0.0</td>\n",
       "      <td>0.0</td>\n",
       "      <td>0.0</td>\n",
       "      <td>0.0</td>\n",
       "      <td>4.0</td>\n",
       "    </tr>\n",
       "    <tr>\n",
       "      <th>5</th>\n",
       "      <td>0.0</td>\n",
       "      <td>0.0</td>\n",
       "      <td>4.0</td>\n",
       "      <td>0.0</td>\n",
       "      <td>0.0</td>\n",
       "      <td>0.0</td>\n",
       "      <td>0.0</td>\n",
       "      <td>0.0</td>\n",
       "      <td>0.0</td>\n",
       "      <td>0.0</td>\n",
       "    </tr>\n",
       "  </tbody>\n",
       "</table>\n",
       "</div>"
      ],
      "text/plain": [
       "movieId   1    2    3    4    5    6    7    8    9    10\n",
       "1        0.0  0.0  0.0  0.0  0.0  0.0  0.0  0.0  0.0  0.0\n",
       "2        0.0  0.0  0.0  0.0  0.0  0.0  0.0  0.0  0.0  4.0\n",
       "3        0.0  0.0  0.0  0.0  0.0  0.0  0.0  0.0  0.0  0.0\n",
       "4        0.0  0.0  0.0  0.0  0.0  0.0  0.0  0.0  0.0  4.0\n",
       "5        0.0  0.0  4.0  0.0  0.0  0.0  0.0  0.0  0.0  0.0"
      ]
     },
     "execution_count": 21,
     "metadata": {},
     "output_type": "execute_result"
    }
   ],
   "source": [
    "user_movies_df.fillna( 0, inplace = True )\n",
    "user_movies_df.iloc[0:5, 0:10]"
   ]
  },
  {
   "cell_type": "markdown",
   "metadata": {},
   "source": [
    "#### Calculating Cosine Similarity between users"
   ]
  },
  {
   "cell_type": "markdown",
   "metadata": {},
   "source": [
    "- Each row in *user_movies_df* represents an user. \n",
    "- So, if we compute the distance between rows, that will represent the similarity between those users. *sklearn.metrics.pairwise_distances* can be used to compute distance between all pairs of users. *pairwise_distances* takes *metric* parameter for what distance measure to use. We will be using *cosine coefficient* for finding similiarity.\n",
    "\n",
    "Cosine similarity closer to 1 means users are very similar and closer to 0 means very dissimilar."
   ]
  },
  {
   "cell_type": "code",
   "execution_count": 22,
   "metadata": {},
   "outputs": [],
   "source": [
    "from sklearn.metrics import pairwise_distances\n",
    "from scipy.spatial.distance import cosine, correlation\n",
    "\n",
    "\n",
    "user_sim = 1 - pairwise_distances( user_movies_df.values, metric=\"cosine\" )\n",
    "#Store the results in a dataframe\n",
    "user_sim_df = pd.DataFrame( user_sim )\n",
    "# set the index and column names to user ids (0 to 671)\n",
    "user_sim_df.index = rating_df.userId.unique()\n",
    "user_sim_df.columns = rating_df.userId.unique()"
   ]
  },
  {
   "cell_type": "markdown",
   "metadata": {},
   "source": [
    "Printing the similarity between first 5 users."
   ]
  },
  {
   "cell_type": "code",
   "execution_count": 23,
   "metadata": {},
   "outputs": [
    {
     "data": {
      "text/html": [
       "<div>\n",
       "<style scoped>\n",
       "    .dataframe tbody tr th:only-of-type {\n",
       "        vertical-align: middle;\n",
       "    }\n",
       "\n",
       "    .dataframe tbody tr th {\n",
       "        vertical-align: top;\n",
       "    }\n",
       "\n",
       "    .dataframe thead th {\n",
       "        text-align: right;\n",
       "    }\n",
       "</style>\n",
       "<table border=\"1\" class=\"dataframe\">\n",
       "  <thead>\n",
       "    <tr style=\"text-align: right;\">\n",
       "      <th></th>\n",
       "      <th>1</th>\n",
       "      <th>2</th>\n",
       "      <th>3</th>\n",
       "      <th>4</th>\n",
       "      <th>5</th>\n",
       "    </tr>\n",
       "  </thead>\n",
       "  <tbody>\n",
       "    <tr>\n",
       "      <th>1</th>\n",
       "      <td>1.000000</td>\n",
       "      <td>0.000000</td>\n",
       "      <td>0.000000</td>\n",
       "      <td>0.074482</td>\n",
       "      <td>0.016818</td>\n",
       "    </tr>\n",
       "    <tr>\n",
       "      <th>2</th>\n",
       "      <td>0.000000</td>\n",
       "      <td>1.000000</td>\n",
       "      <td>0.124295</td>\n",
       "      <td>0.118821</td>\n",
       "      <td>0.103646</td>\n",
       "    </tr>\n",
       "    <tr>\n",
       "      <th>3</th>\n",
       "      <td>0.000000</td>\n",
       "      <td>0.124295</td>\n",
       "      <td>1.000000</td>\n",
       "      <td>0.081640</td>\n",
       "      <td>0.151531</td>\n",
       "    </tr>\n",
       "    <tr>\n",
       "      <th>4</th>\n",
       "      <td>0.074482</td>\n",
       "      <td>0.118821</td>\n",
       "      <td>0.081640</td>\n",
       "      <td>1.000000</td>\n",
       "      <td>0.130649</td>\n",
       "    </tr>\n",
       "    <tr>\n",
       "      <th>5</th>\n",
       "      <td>0.016818</td>\n",
       "      <td>0.103646</td>\n",
       "      <td>0.151531</td>\n",
       "      <td>0.130649</td>\n",
       "      <td>1.000000</td>\n",
       "    </tr>\n",
       "  </tbody>\n",
       "</table>\n",
       "</div>"
      ],
      "text/plain": [
       "          1         2         3         4         5\n",
       "1  1.000000  0.000000  0.000000  0.074482  0.016818\n",
       "2  0.000000  1.000000  0.124295  0.118821  0.103646\n",
       "3  0.000000  0.124295  1.000000  0.081640  0.151531\n",
       "4  0.074482  0.118821  0.081640  1.000000  0.130649\n",
       "5  0.016818  0.103646  0.151531  0.130649  1.000000"
      ]
     },
     "execution_count": 23,
     "metadata": {},
     "output_type": "execute_result"
    }
   ],
   "source": [
    "user_sim_df.iloc[0:5, 0:5]"
   ]
  },
  {
   "cell_type": "code",
   "execution_count": 24,
   "metadata": {},
   "outputs": [
    {
     "data": {
      "text/plain": [
       "(671, 671)"
      ]
     },
     "execution_count": 24,
     "metadata": {},
     "output_type": "execute_result"
    }
   ],
   "source": [
    "user_sim_df.shape"
   ]
  },
  {
   "cell_type": "code",
   "execution_count": 25,
   "metadata": {},
   "outputs": [
    {
     "data": {
      "text/html": [
       "<div>\n",
       "<style scoped>\n",
       "    .dataframe tbody tr th:only-of-type {\n",
       "        vertical-align: middle;\n",
       "    }\n",
       "\n",
       "    .dataframe tbody tr th {\n",
       "        vertical-align: top;\n",
       "    }\n",
       "\n",
       "    .dataframe thead th {\n",
       "        text-align: right;\n",
       "    }\n",
       "</style>\n",
       "<table border=\"1\" class=\"dataframe\">\n",
       "  <thead>\n",
       "    <tr style=\"text-align: right;\">\n",
       "      <th></th>\n",
       "      <th>1</th>\n",
       "      <th>2</th>\n",
       "      <th>3</th>\n",
       "      <th>4</th>\n",
       "      <th>5</th>\n",
       "    </tr>\n",
       "  </thead>\n",
       "  <tbody>\n",
       "    <tr>\n",
       "      <th>1</th>\n",
       "      <td>0.000000</td>\n",
       "      <td>0.000000</td>\n",
       "      <td>0.000000</td>\n",
       "      <td>0.074482</td>\n",
       "      <td>0.016818</td>\n",
       "    </tr>\n",
       "    <tr>\n",
       "      <th>2</th>\n",
       "      <td>0.000000</td>\n",
       "      <td>0.000000</td>\n",
       "      <td>0.124295</td>\n",
       "      <td>0.118821</td>\n",
       "      <td>0.103646</td>\n",
       "    </tr>\n",
       "    <tr>\n",
       "      <th>3</th>\n",
       "      <td>0.000000</td>\n",
       "      <td>0.124295</td>\n",
       "      <td>0.000000</td>\n",
       "      <td>0.081640</td>\n",
       "      <td>0.151531</td>\n",
       "    </tr>\n",
       "    <tr>\n",
       "      <th>4</th>\n",
       "      <td>0.074482</td>\n",
       "      <td>0.118821</td>\n",
       "      <td>0.081640</td>\n",
       "      <td>0.000000</td>\n",
       "      <td>0.130649</td>\n",
       "    </tr>\n",
       "    <tr>\n",
       "      <th>5</th>\n",
       "      <td>0.016818</td>\n",
       "      <td>0.103646</td>\n",
       "      <td>0.151531</td>\n",
       "      <td>0.130649</td>\n",
       "      <td>0.000000</td>\n",
       "    </tr>\n",
       "  </tbody>\n",
       "</table>\n",
       "</div>"
      ],
      "text/plain": [
       "          1         2         3         4         5\n",
       "1  0.000000  0.000000  0.000000  0.074482  0.016818\n",
       "2  0.000000  0.000000  0.124295  0.118821  0.103646\n",
       "3  0.000000  0.124295  0.000000  0.081640  0.151531\n",
       "4  0.074482  0.118821  0.081640  0.000000  0.130649\n",
       "5  0.016818  0.103646  0.151531  0.130649  0.000000"
      ]
     },
     "execution_count": 25,
     "metadata": {},
     "output_type": "execute_result"
    }
   ],
   "source": [
    "np.fill_diagonal( user_sim, 0 )\n",
    "user_sim_df.iloc[0:5, 0:5]"
   ]
  },
  {
   "cell_type": "markdown",
   "metadata": {},
   "source": [
    "#### Filtering Similar User"
   ]
  },
  {
   "cell_type": "markdown",
   "metadata": {},
   "source": [
    "To find most similar users, the maximum values of each column can be filtered. For example, most similar user to first 5 users are given by,"
   ]
  },
  {
   "cell_type": "code",
   "execution_count": 26,
   "metadata": {},
   "outputs": [
    {
     "data": {
      "text/plain": [
       "1    325\n",
       "2    338\n",
       "3    379\n",
       "4    518\n",
       "5    313\n",
       "dtype: int64"
      ]
     },
     "execution_count": 26,
     "metadata": {},
     "output_type": "execute_result"
    }
   ],
   "source": [
    "user_sim_df.idxmax(axis=1)[0:5]"
   ]
  },
  {
   "cell_type": "code",
   "execution_count": 27,
   "metadata": {},
   "outputs": [
    {
     "data": {
      "text/html": [
       "<div>\n",
       "<style scoped>\n",
       "    .dataframe tbody tr th:only-of-type {\n",
       "        vertical-align: middle;\n",
       "    }\n",
       "\n",
       "    .dataframe tbody tr th {\n",
       "        vertical-align: top;\n",
       "    }\n",
       "\n",
       "    .dataframe thead th {\n",
       "        text-align: right;\n",
       "    }\n",
       "</style>\n",
       "<table border=\"1\" class=\"dataframe\">\n",
       "  <thead>\n",
       "    <tr style=\"text-align: right;\">\n",
       "      <th></th>\n",
       "      <th>331</th>\n",
       "      <th>332</th>\n",
       "      <th>333</th>\n",
       "      <th>334</th>\n",
       "      <th>335</th>\n",
       "      <th>336</th>\n",
       "      <th>337</th>\n",
       "      <th>338</th>\n",
       "      <th>339</th>\n",
       "      <th>340</th>\n",
       "    </tr>\n",
       "  </thead>\n",
       "  <tbody>\n",
       "    <tr>\n",
       "      <th>2</th>\n",
       "      <td>0.030344</td>\n",
       "      <td>0.002368</td>\n",
       "      <td>0.052731</td>\n",
       "      <td>0.047094</td>\n",
       "      <td>0.0</td>\n",
       "      <td>0.053044</td>\n",
       "      <td>0.05287</td>\n",
       "      <td>0.581528</td>\n",
       "      <td>0.093863</td>\n",
       "      <td>0.081814</td>\n",
       "    </tr>\n",
       "  </tbody>\n",
       "</table>\n",
       "</div>"
      ],
      "text/plain": [
       "        331       332       333       334  335       336      337       338  \\\n",
       "2  0.030344  0.002368  0.052731  0.047094  0.0  0.053044  0.05287  0.581528   \n",
       "\n",
       "        339       340  \n",
       "2  0.093863  0.081814  "
      ]
     },
     "execution_count": 27,
     "metadata": {},
     "output_type": "execute_result"
    }
   ],
   "source": [
    "user_sim_df.iloc[1:2, 330:340]"
   ]
  },
  {
   "cell_type": "markdown",
   "metadata": {},
   "source": [
    "#### 9.3.2.4 Loading the movies dataset"
   ]
  },
  {
   "cell_type": "markdown",
   "metadata": {},
   "source": [
    "Movie information is contained in the file *movies.csv*. Each line of this file contains the movieid, the movie name and the movie genre."
   ]
  },
  {
   "cell_type": "code",
   "execution_count": 28,
   "metadata": {},
   "outputs": [],
   "source": [
    "movies_df = pd.read_csv( \"ml-latest-small/movies.csv\" )"
   ]
  },
  {
   "cell_type": "markdown",
   "metadata": {},
   "source": [
    "Printing first 5 movie details."
   ]
  },
  {
   "cell_type": "code",
   "execution_count": 29,
   "metadata": {},
   "outputs": [
    {
     "data": {
      "text/html": [
       "<div>\n",
       "<style scoped>\n",
       "    .dataframe tbody tr th:only-of-type {\n",
       "        vertical-align: middle;\n",
       "    }\n",
       "\n",
       "    .dataframe tbody tr th {\n",
       "        vertical-align: top;\n",
       "    }\n",
       "\n",
       "    .dataframe thead th {\n",
       "        text-align: right;\n",
       "    }\n",
       "</style>\n",
       "<table border=\"1\" class=\"dataframe\">\n",
       "  <thead>\n",
       "    <tr style=\"text-align: right;\">\n",
       "      <th></th>\n",
       "      <th>movieId</th>\n",
       "      <th>title</th>\n",
       "      <th>genres</th>\n",
       "    </tr>\n",
       "  </thead>\n",
       "  <tbody>\n",
       "    <tr>\n",
       "      <th>0</th>\n",
       "      <td>1</td>\n",
       "      <td>Toy Story (1995)</td>\n",
       "      <td>Adventure|Animation|Children|Comedy|Fantasy</td>\n",
       "    </tr>\n",
       "    <tr>\n",
       "      <th>1</th>\n",
       "      <td>2</td>\n",
       "      <td>Jumanji (1995)</td>\n",
       "      <td>Adventure|Children|Fantasy</td>\n",
       "    </tr>\n",
       "    <tr>\n",
       "      <th>2</th>\n",
       "      <td>3</td>\n",
       "      <td>Grumpier Old Men (1995)</td>\n",
       "      <td>Comedy|Romance</td>\n",
       "    </tr>\n",
       "    <tr>\n",
       "      <th>3</th>\n",
       "      <td>4</td>\n",
       "      <td>Waiting to Exhale (1995)</td>\n",
       "      <td>Comedy|Drama|Romance</td>\n",
       "    </tr>\n",
       "    <tr>\n",
       "      <th>4</th>\n",
       "      <td>5</td>\n",
       "      <td>Father of the Bride Part II (1995)</td>\n",
       "      <td>Comedy</td>\n",
       "    </tr>\n",
       "  </tbody>\n",
       "</table>\n",
       "</div>"
      ],
      "text/plain": [
       "   movieId                               title  \\\n",
       "0        1                    Toy Story (1995)   \n",
       "1        2                      Jumanji (1995)   \n",
       "2        3             Grumpier Old Men (1995)   \n",
       "3        4            Waiting to Exhale (1995)   \n",
       "4        5  Father of the Bride Part II (1995)   \n",
       "\n",
       "                                        genres  \n",
       "0  Adventure|Animation|Children|Comedy|Fantasy  \n",
       "1                   Adventure|Children|Fantasy  \n",
       "2                               Comedy|Romance  \n",
       "3                         Comedy|Drama|Romance  \n",
       "4                                       Comedy  "
      ]
     },
     "execution_count": 29,
     "metadata": {},
     "output_type": "execute_result"
    }
   ],
   "source": [
    "movies_df[0:5]"
   ]
  },
  {
   "cell_type": "markdown",
   "metadata": {},
   "source": [
    "*genres* column is dropped from the dataframe, as it is not going to be used in this analysis."
   ]
  },
  {
   "cell_type": "code",
   "execution_count": 30,
   "metadata": {},
   "outputs": [],
   "source": [
    "movies_df.drop( 'genres', axis = 1, inplace = True )"
   ]
  },
  {
   "cell_type": "markdown",
   "metadata": {},
   "source": [
    "#### Finding common movies of similar users"
   ]
  },
  {
   "cell_type": "markdown",
   "metadata": {},
   "source": [
    "The following method takes userids of two users and returns the common movies they have watched, their ratings."
   ]
  },
  {
   "cell_type": "code",
   "execution_count": 31,
   "metadata": {},
   "outputs": [],
   "source": [
    "def get_user_similar_movies( user1, user2 ):\n",
    "    # Inner join between movies watched between two users will give the common movies watched.\n",
    "    common_movies = rating_df[rating_df.userId == user1].merge( \n",
    "        rating_df[rating_df.userId == user2],\n",
    "        on = \"movieId\", \n",
    "        how = \"inner\" )\n",
    "    # join the above result set with movies details\n",
    "    return common_movies.merge( movies_df, on = 'movieId' )"
   ]
  },
  {
   "cell_type": "markdown",
   "metadata": {},
   "source": [
    "Let's find out the common movies user *2* and *338* have watched together and how they have rated. We will filter movies that they have rated atleast 4."
   ]
  },
  {
   "cell_type": "code",
   "execution_count": 32,
   "metadata": {},
   "outputs": [],
   "source": [
    "common_movies = get_user_similar_movies( 2, 338 )"
   ]
  },
  {
   "cell_type": "code",
   "execution_count": 33,
   "metadata": {},
   "outputs": [
    {
     "data": {
      "text/html": [
       "<div>\n",
       "<style scoped>\n",
       "    .dataframe tbody tr th:only-of-type {\n",
       "        vertical-align: middle;\n",
       "    }\n",
       "\n",
       "    .dataframe tbody tr th {\n",
       "        vertical-align: top;\n",
       "    }\n",
       "\n",
       "    .dataframe thead th {\n",
       "        text-align: right;\n",
       "    }\n",
       "</style>\n",
       "<table border=\"1\" class=\"dataframe\">\n",
       "  <thead>\n",
       "    <tr style=\"text-align: right;\">\n",
       "      <th></th>\n",
       "      <th>userId_x</th>\n",
       "      <th>movieId</th>\n",
       "      <th>rating_x</th>\n",
       "      <th>userId_y</th>\n",
       "      <th>rating_y</th>\n",
       "      <th>title</th>\n",
       "    </tr>\n",
       "  </thead>\n",
       "  <tbody>\n",
       "    <tr>\n",
       "      <th>0</th>\n",
       "      <td>2</td>\n",
       "      <td>17</td>\n",
       "      <td>5.0</td>\n",
       "      <td>338</td>\n",
       "      <td>4.0</td>\n",
       "      <td>Sense and Sensibility (1995)</td>\n",
       "    </tr>\n",
       "    <tr>\n",
       "      <th>2</th>\n",
       "      <td>2</td>\n",
       "      <td>47</td>\n",
       "      <td>4.0</td>\n",
       "      <td>338</td>\n",
       "      <td>4.0</td>\n",
       "      <td>Seven (a.k.a. Se7en) (1995)</td>\n",
       "    </tr>\n",
       "    <tr>\n",
       "      <th>5</th>\n",
       "      <td>2</td>\n",
       "      <td>150</td>\n",
       "      <td>5.0</td>\n",
       "      <td>338</td>\n",
       "      <td>4.0</td>\n",
       "      <td>Apollo 13 (1995)</td>\n",
       "    </tr>\n",
       "    <tr>\n",
       "      <th>28</th>\n",
       "      <td>2</td>\n",
       "      <td>508</td>\n",
       "      <td>4.0</td>\n",
       "      <td>338</td>\n",
       "      <td>4.0</td>\n",
       "      <td>Philadelphia (1993)</td>\n",
       "    </tr>\n",
       "    <tr>\n",
       "      <th>29</th>\n",
       "      <td>2</td>\n",
       "      <td>509</td>\n",
       "      <td>4.0</td>\n",
       "      <td>338</td>\n",
       "      <td>4.0</td>\n",
       "      <td>Piano, The (1993)</td>\n",
       "    </tr>\n",
       "    <tr>\n",
       "      <th>31</th>\n",
       "      <td>2</td>\n",
       "      <td>527</td>\n",
       "      <td>4.0</td>\n",
       "      <td>338</td>\n",
       "      <td>5.0</td>\n",
       "      <td>Schindler's List (1993)</td>\n",
       "    </tr>\n",
       "    <tr>\n",
       "      <th>34</th>\n",
       "      <td>2</td>\n",
       "      <td>589</td>\n",
       "      <td>5.0</td>\n",
       "      <td>338</td>\n",
       "      <td>5.0</td>\n",
       "      <td>Terminator 2: Judgment Day (1991)</td>\n",
       "    </tr>\n",
       "  </tbody>\n",
       "</table>\n",
       "</div>"
      ],
      "text/plain": [
       "    userId_x  movieId  rating_x  userId_y  rating_y  \\\n",
       "0          2       17       5.0       338       4.0   \n",
       "2          2       47       4.0       338       4.0   \n",
       "5          2      150       5.0       338       4.0   \n",
       "28         2      508       4.0       338       4.0   \n",
       "29         2      509       4.0       338       4.0   \n",
       "31         2      527       4.0       338       5.0   \n",
       "34         2      589       5.0       338       5.0   \n",
       "\n",
       "                                title  \n",
       "0        Sense and Sensibility (1995)  \n",
       "2         Seven (a.k.a. Se7en) (1995)  \n",
       "5                    Apollo 13 (1995)  \n",
       "28                Philadelphia (1993)  \n",
       "29                  Piano, The (1993)  \n",
       "31            Schindler's List (1993)  \n",
       "34  Terminator 2: Judgment Day (1991)  "
      ]
     },
     "execution_count": 33,
     "metadata": {},
     "output_type": "execute_result"
    }
   ],
   "source": [
    "common_movies[(common_movies.rating_x >= 4.0) & \n",
    "              ((common_movies.rating_y >= 4.0))]"
   ]
  },
  {
   "cell_type": "markdown",
   "metadata": {},
   "source": [
    "#### Challenges with User similarity\n",
    "\n",
    "- Finidng user similarity does not work for new users. \n",
    "- We need to wait until the new user buys few items and rates them. Only then users with similar preferences can be found and recommendations can be made based on that. This is called **cold start** problem in recommeder systems.\n",
    "\n",
    "- This can be overcome by using *item based similarity*. \n",
    "- *item based similarity* is based on the notion that if two items have been bought by many users and rated similarily, then there must be some inherent relationship between these two items. \n",
    "- So in future if any user buys one of those two items, he or she will most likely buy the other one."
   ]
  },
  {
   "cell_type": "markdown",
   "metadata": {},
   "source": [
    "### Item based similarity"
   ]
  },
  {
   "cell_type": "markdown",
   "metadata": {},
   "source": [
    "#### Calculating Cosine Similarity between movies"
   ]
  },
  {
   "cell_type": "markdown",
   "metadata": {},
   "source": [
    "This time we need to create a pivot table, where the rows represent movies and columns represent users. And the cells in the matrix represent ratings the users has given to the movies. So, *pivot()* method will be called with *movieId* as *index* and *userId* as *columns*."
   ]
  },
  {
   "cell_type": "code",
   "execution_count": 34,
   "metadata": {},
   "outputs": [],
   "source": [
    "rating_mat = rating_df.pivot( index='movieId', \n",
    "                             columns='userId', \n",
    "                             values = \"rating\" ).reset_index(drop=True)\n",
    "# fill all NaNs with 0\n",
    "rating_mat.fillna( 0, inplace = True )\n",
    "# Find the correlation between movies\n",
    "movie_sim = 1 - pairwise_distances( rating_mat.values, \n",
    "                                   metric=\"correlation\" )\n",
    "# Fill the diagonal with 0, as it repreresent the auto-correlation of movies\n",
    "movie_sim_df = pd.DataFrame( movie_sim )"
   ]
  },
  {
   "cell_type": "markdown",
   "metadata": {},
   "source": [
    "Printing similarity between the first 5 movies."
   ]
  },
  {
   "cell_type": "code",
   "execution_count": 35,
   "metadata": {},
   "outputs": [
    {
     "data": {
      "text/html": [
       "<div>\n",
       "<style scoped>\n",
       "    .dataframe tbody tr th:only-of-type {\n",
       "        vertical-align: middle;\n",
       "    }\n",
       "\n",
       "    .dataframe tbody tr th {\n",
       "        vertical-align: top;\n",
       "    }\n",
       "\n",
       "    .dataframe thead th {\n",
       "        text-align: right;\n",
       "    }\n",
       "</style>\n",
       "<table border=\"1\" class=\"dataframe\">\n",
       "  <thead>\n",
       "    <tr style=\"text-align: right;\">\n",
       "      <th></th>\n",
       "      <th>0</th>\n",
       "      <th>1</th>\n",
       "      <th>2</th>\n",
       "      <th>3</th>\n",
       "      <th>4</th>\n",
       "    </tr>\n",
       "  </thead>\n",
       "  <tbody>\n",
       "    <tr>\n",
       "      <th>0</th>\n",
       "      <td>1.000000</td>\n",
       "      <td>0.223742</td>\n",
       "      <td>0.183266</td>\n",
       "      <td>0.071055</td>\n",
       "      <td>0.105076</td>\n",
       "    </tr>\n",
       "    <tr>\n",
       "      <th>1</th>\n",
       "      <td>0.223742</td>\n",
       "      <td>1.000000</td>\n",
       "      <td>0.123790</td>\n",
       "      <td>0.125014</td>\n",
       "      <td>0.193144</td>\n",
       "    </tr>\n",
       "    <tr>\n",
       "      <th>2</th>\n",
       "      <td>0.183266</td>\n",
       "      <td>0.123790</td>\n",
       "      <td>1.000000</td>\n",
       "      <td>0.147771</td>\n",
       "      <td>0.317911</td>\n",
       "    </tr>\n",
       "    <tr>\n",
       "      <th>3</th>\n",
       "      <td>0.071055</td>\n",
       "      <td>0.125014</td>\n",
       "      <td>0.147771</td>\n",
       "      <td>1.000000</td>\n",
       "      <td>0.150562</td>\n",
       "    </tr>\n",
       "    <tr>\n",
       "      <th>4</th>\n",
       "      <td>0.105076</td>\n",
       "      <td>0.193144</td>\n",
       "      <td>0.317911</td>\n",
       "      <td>0.150562</td>\n",
       "      <td>1.000000</td>\n",
       "    </tr>\n",
       "  </tbody>\n",
       "</table>\n",
       "</div>"
      ],
      "text/plain": [
       "          0         1         2         3         4\n",
       "0  1.000000  0.223742  0.183266  0.071055  0.105076\n",
       "1  0.223742  1.000000  0.123790  0.125014  0.193144\n",
       "2  0.183266  0.123790  1.000000  0.147771  0.317911\n",
       "3  0.071055  0.125014  0.147771  1.000000  0.150562\n",
       "4  0.105076  0.193144  0.317911  0.150562  1.000000"
      ]
     },
     "execution_count": 35,
     "metadata": {},
     "output_type": "execute_result"
    }
   ],
   "source": [
    "movie_sim_df.iloc[0:5, 0:5]"
   ]
  },
  {
   "cell_type": "code",
   "execution_count": 36,
   "metadata": {},
   "outputs": [
    {
     "data": {
      "text/plain": [
       "(9066, 9066)"
      ]
     },
     "execution_count": 36,
     "metadata": {},
     "output_type": "execute_result"
    }
   ],
   "source": [
    "movie_sim_df.shape"
   ]
  },
  {
   "cell_type": "markdown",
   "metadata": {},
   "source": [
    "#### Finding most similar movies"
   ]
  },
  {
   "cell_type": "markdown",
   "metadata": {},
   "source": [
    "We write a method *get_similar_movies()*, which takes a *movieid* as parameter and returns the similar movies based on cosine similarity. It takes another parameter *topN* to specify how many similar movies will be returned. "
   ]
  },
  {
   "cell_type": "code",
   "execution_count": 37,
   "metadata": {},
   "outputs": [],
   "source": [
    "def get_similar_movies( movieid, topN = 5 ):\n",
    "    movieidx = movies_df[movies_df.movieId == movieid].index[0]\n",
    "    movies_df['similarity'] = movie_sim_df.iloc[movieidx]\n",
    "    top_n = movies_df.sort_values( [\"similarity\"], ascending = False )[0:topN]   \n",
    "    return top_n "
   ]
  },
  {
   "cell_type": "markdown",
   "metadata": {},
   "source": [
    "#### Finding similar movies to *Godfather*"
   ]
  },
  {
   "cell_type": "markdown",
   "metadata": {},
   "source": [
    "Let's find out how the similarities play out, but finding out movies which are similar to the movie *Godfather*."
   ]
  },
  {
   "cell_type": "code",
   "execution_count": 38,
   "metadata": {},
   "outputs": [
    {
     "data": {
      "text/html": [
       "<div>\n",
       "<style scoped>\n",
       "    .dataframe tbody tr th:only-of-type {\n",
       "        vertical-align: middle;\n",
       "    }\n",
       "\n",
       "    .dataframe tbody tr th {\n",
       "        vertical-align: top;\n",
       "    }\n",
       "\n",
       "    .dataframe thead th {\n",
       "        text-align: right;\n",
       "    }\n",
       "</style>\n",
       "<table border=\"1\" class=\"dataframe\">\n",
       "  <thead>\n",
       "    <tr style=\"text-align: right;\">\n",
       "      <th></th>\n",
       "      <th>movieId</th>\n",
       "      <th>title</th>\n",
       "    </tr>\n",
       "  </thead>\n",
       "  <tbody>\n",
       "    <tr>\n",
       "      <th>695</th>\n",
       "      <td>858</td>\n",
       "      <td>Godfather, The (1972)</td>\n",
       "    </tr>\n",
       "  </tbody>\n",
       "</table>\n",
       "</div>"
      ],
      "text/plain": [
       "     movieId                  title\n",
       "695      858  Godfather, The (1972)"
      ]
     },
     "execution_count": 38,
     "metadata": {},
     "output_type": "execute_result"
    }
   ],
   "source": [
    "movies_df[movies_df.movieId == 858]"
   ]
  },
  {
   "cell_type": "code",
   "execution_count": 39,
   "metadata": {},
   "outputs": [
    {
     "data": {
      "text/html": [
       "<div>\n",
       "<style scoped>\n",
       "    .dataframe tbody tr th:only-of-type {\n",
       "        vertical-align: middle;\n",
       "    }\n",
       "\n",
       "    .dataframe tbody tr th {\n",
       "        vertical-align: top;\n",
       "    }\n",
       "\n",
       "    .dataframe thead th {\n",
       "        text-align: right;\n",
       "    }\n",
       "</style>\n",
       "<table border=\"1\" class=\"dataframe\">\n",
       "  <thead>\n",
       "    <tr style=\"text-align: right;\">\n",
       "      <th></th>\n",
       "      <th>movieId</th>\n",
       "      <th>title</th>\n",
       "      <th>similarity</th>\n",
       "    </tr>\n",
       "  </thead>\n",
       "  <tbody>\n",
       "    <tr>\n",
       "      <th>695</th>\n",
       "      <td>858</td>\n",
       "      <td>Godfather, The (1972)</td>\n",
       "      <td>1.000000</td>\n",
       "    </tr>\n",
       "    <tr>\n",
       "      <th>977</th>\n",
       "      <td>1221</td>\n",
       "      <td>Godfather: Part II, The (1974)</td>\n",
       "      <td>0.709246</td>\n",
       "    </tr>\n",
       "    <tr>\n",
       "      <th>969</th>\n",
       "      <td>1213</td>\n",
       "      <td>Goodfellas (1990)</td>\n",
       "      <td>0.509372</td>\n",
       "    </tr>\n",
       "    <tr>\n",
       "      <th>951</th>\n",
       "      <td>1193</td>\n",
       "      <td>One Flew Over the Cuckoo's Nest (1975)</td>\n",
       "      <td>0.430101</td>\n",
       "    </tr>\n",
       "    <tr>\n",
       "      <th>1744</th>\n",
       "      <td>2194</td>\n",
       "      <td>Untouchables, The (1987)</td>\n",
       "      <td>0.418966</td>\n",
       "    </tr>\n",
       "  </tbody>\n",
       "</table>\n",
       "</div>"
      ],
      "text/plain": [
       "      movieId                                   title  similarity\n",
       "695       858                   Godfather, The (1972)    1.000000\n",
       "977      1221          Godfather: Part II, The (1974)    0.709246\n",
       "969      1213                       Goodfellas (1990)    0.509372\n",
       "951      1193  One Flew Over the Cuckoo's Nest (1975)    0.430101\n",
       "1744     2194                Untouchables, The (1987)    0.418966"
      ]
     },
     "execution_count": 39,
     "metadata": {},
     "output_type": "execute_result"
    }
   ],
   "source": [
    "get_similar_movies(858)"
   ]
  },
  {
   "cell_type": "markdown",
   "metadata": {},
   "source": [
    "It can be observed that users who watched *'Godfather, The'*, also watched *'Godfather: Part II, The'* the most. This makes absolute sense to me! It also indicates user have watched *Goodfellas (1990)*, *One Flew Over the Cuckoo's Nest (1975)* and *Untouchables, The (1987)*.\n",
    "\n",
    "So, in future, any user watches *'Godfather, The'*, the other movies can be recommeded to them."
   ]
  },
  {
   "cell_type": "markdown",
   "metadata": {},
   "source": [
    "#### 9.3.3.4 Finding similar movies to *Dumb & Dumber*"
   ]
  },
  {
   "cell_type": "code",
   "execution_count": 40,
   "metadata": {},
   "outputs": [
    {
     "data": {
      "text/html": [
       "<div>\n",
       "<style scoped>\n",
       "    .dataframe tbody tr th:only-of-type {\n",
       "        vertical-align: middle;\n",
       "    }\n",
       "\n",
       "    .dataframe tbody tr th {\n",
       "        vertical-align: top;\n",
       "    }\n",
       "\n",
       "    .dataframe thead th {\n",
       "        text-align: right;\n",
       "    }\n",
       "</style>\n",
       "<table border=\"1\" class=\"dataframe\">\n",
       "  <thead>\n",
       "    <tr style=\"text-align: right;\">\n",
       "      <th></th>\n",
       "      <th>movieId</th>\n",
       "      <th>title</th>\n",
       "      <th>similarity</th>\n",
       "    </tr>\n",
       "  </thead>\n",
       "  <tbody>\n",
       "    <tr>\n",
       "      <th>203</th>\n",
       "      <td>231</td>\n",
       "      <td>Dumb &amp; Dumber (Dumb and Dumber) (1994)</td>\n",
       "      <td>0.054116</td>\n",
       "    </tr>\n",
       "  </tbody>\n",
       "</table>\n",
       "</div>"
      ],
      "text/plain": [
       "     movieId                                   title  similarity\n",
       "203      231  Dumb & Dumber (Dumb and Dumber) (1994)    0.054116"
      ]
     },
     "execution_count": 40,
     "metadata": {},
     "output_type": "execute_result"
    }
   ],
   "source": [
    "movies_df[movies_df.movieId == 231]"
   ]
  },
  {
   "cell_type": "code",
   "execution_count": 41,
   "metadata": {},
   "outputs": [
    {
     "data": {
      "text/html": [
       "<div>\n",
       "<style scoped>\n",
       "    .dataframe tbody tr th:only-of-type {\n",
       "        vertical-align: middle;\n",
       "    }\n",
       "\n",
       "    .dataframe tbody tr th {\n",
       "        vertical-align: top;\n",
       "    }\n",
       "\n",
       "    .dataframe thead th {\n",
       "        text-align: right;\n",
       "    }\n",
       "</style>\n",
       "<table border=\"1\" class=\"dataframe\">\n",
       "  <thead>\n",
       "    <tr style=\"text-align: right;\">\n",
       "      <th></th>\n",
       "      <th>movieId</th>\n",
       "      <th>title</th>\n",
       "      <th>similarity</th>\n",
       "    </tr>\n",
       "  </thead>\n",
       "  <tbody>\n",
       "    <tr>\n",
       "      <th>203</th>\n",
       "      <td>231</td>\n",
       "      <td>Dumb &amp; Dumber (Dumb and Dumber) (1994)</td>\n",
       "      <td>1.000000</td>\n",
       "    </tr>\n",
       "    <tr>\n",
       "      <th>309</th>\n",
       "      <td>344</td>\n",
       "      <td>Ace Ventura: Pet Detective (1994)</td>\n",
       "      <td>0.635735</td>\n",
       "    </tr>\n",
       "    <tr>\n",
       "      <th>18</th>\n",
       "      <td>19</td>\n",
       "      <td>Ace Ventura: When Nature Calls (1995)</td>\n",
       "      <td>0.509839</td>\n",
       "    </tr>\n",
       "    <tr>\n",
       "      <th>447</th>\n",
       "      <td>500</td>\n",
       "      <td>Mrs. Doubtfire (1993)</td>\n",
       "      <td>0.485764</td>\n",
       "    </tr>\n",
       "    <tr>\n",
       "      <th>331</th>\n",
       "      <td>367</td>\n",
       "      <td>Mask, The (1994)</td>\n",
       "      <td>0.461103</td>\n",
       "    </tr>\n",
       "  </tbody>\n",
       "</table>\n",
       "</div>"
      ],
      "text/plain": [
       "     movieId                                   title  similarity\n",
       "203      231  Dumb & Dumber (Dumb and Dumber) (1994)    1.000000\n",
       "309      344       Ace Ventura: Pet Detective (1994)    0.635735\n",
       "18        19   Ace Ventura: When Nature Calls (1995)    0.509839\n",
       "447      500                   Mrs. Doubtfire (1993)    0.485764\n",
       "331      367                        Mask, The (1994)    0.461103"
      ]
     },
     "execution_count": 41,
     "metadata": {},
     "output_type": "execute_result"
    }
   ],
   "source": [
    "get_similar_movies(231)"
   ]
  },
  {
   "cell_type": "markdown",
   "metadata": {},
   "source": [
    "Most of the movies are of *comedy* genre and belonged to the actor *Jim Carry*."
   ]
  },
  {
   "cell_type": "markdown",
   "metadata": {},
   "source": [
    "## Lessons Learnt\n",
    "\n",
    "1. How to use customer's purchase and review data for making personalized recommendations.\n",
    "2. Different recommendation techniques such as association rules and collborative filtering.\n",
    "3. Metrics like support, confidence and lift to filter out best association rules. \n",
    "4. Variations of Collaborative filterings techniques: user based and item based similarity.\n",
    "5. Various distance metrics like Euclidean, Cosine or Pearson correlations to calculate similarity."
   ]
  },
  {
   "cell_type": "code",
   "execution_count": null,
   "metadata": {},
   "outputs": [],
   "source": []
  }
 ],
 "metadata": {
  "kernelspec": {
   "display_name": "Python 3",
   "language": "python",
   "name": "python3"
  },
  "language_info": {
   "codemirror_mode": {
    "name": "ipython",
    "version": 3
   },
   "file_extension": ".py",
   "mimetype": "text/x-python",
   "name": "python",
   "nbconvert_exporter": "python",
   "pygments_lexer": "ipython3",
   "version": "3.8.3"
  }
 },
 "nbformat": 4,
 "nbformat_minor": 2
}
