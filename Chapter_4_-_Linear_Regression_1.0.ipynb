{
 "cells": [
  {
   "cell_type": "markdown",
   "metadata": {},
   "source": [
    "## Linear Regression"
   ]
  },
  {
   "cell_type": "markdown",
   "metadata": {},
   "source": [
    "## Learning Objective\n",
    "\n",
    "- Understand Simple and Multiple linear regression \n",
    "- Prepare data for modelling\n",
    "- Train and validate models\n",
    "- Interpret model parameters\n",
    "- Model diagnostics \n",
    "- Building regression models using Python package statsmodel.\n",
    "\n",
    "\n",
    "### Introuduction\n",
    "\n",
    "Regression is a statistical technique for finding the existence of an association between a dependent variable (aka response variable or outcome variable) and an independent variable (aka explanatory variable or predictor variable).\n",
    "\n",
    "We can only establish that the change in value of Y is associated with the change in value of X.\n",
    "\n",
    "Some examples of regression problems are\n",
    "\n",
    "1. A hospital may be interested in finding how the total treatment cost of a patient varies with the body weight of the patient.\n",
    "2. Restaurants would like to know the relationship between the customer waiting time after placing the order and the net promoters score (NPS).\n",
    "3. E-commerce companies such as Amazon, Bigbasket and Flipkart would like to understand the number of customer visits to their portal and the revenue.\n",
    "4. Banks and other financial institutions would like to understand the impact of unemployment rate on percentage of non-performing assets (NPA).\n",
    "\n",
    "## Steps in Building a Model\n",
    "\n",
    "Following are typical steps involved in building a model\n",
    "\n",
    "#### Collect/Extract Data\n",
    "\n",
    "- Collect and/or extract data from different data sources. \n",
    "- Can be be time-consuming and expensive. \n",
    "\n",
    "#### Data preprocessing and exploration\n",
    "- Data imputation techniques may be used to deal with missing data.  \n",
    "- Identify the existence of outliers and variability in the dataset. \n",
    "- Exploration relationship between the two variables under consideration using various plots.\n",
    "- Many new variables can be derived and can be used in model building.\n",
    "- Encode categorical data. \n",
    "\n",
    "#### Dividing data into training and validation data sets\n",
    "\n",
    "- Split data into training data set and validation data set. \n",
    "- Proportion of training data is usually between 70% and 80% \n",
    "- Remaining data is treated as the validation data. \n",
    "- Training and validation sets may be created using random/stratified sampling process.\n",
    "\n",
    "\n",
    "#### Build the model\n",
    "\n",
    "- Estimate the regression parameters. \n",
    "- Use Ordinary Least Squares (OLS)/Gradient Descent techniues is used to estimate the regression parameters. (Subsequent chapters)\n",
    "\n",
    "#### Perform Model Diagnostics\n",
    "\n",
    "- There are certain models assumptions that need to be verified for correctness of the model.\n",
    "- If the model assumptions are violated, we may have to taken some remedial measures.\n",
    "\n",
    "#### Validate the Model and measure model accuracy\n",
    "\n",
    "- Ensure that the model performance is consistent in the validation data set as was in the training data set. \n",
    "- It may be necessary, the model may be cross-validated using multiple training and test data sets.\n",
    "\n",
    "#### Decide on model deployment\n",
    "\n",
    "- Develop a deployment strategy\n",
    "- Build actionable items and business rules that can be used by the organization."
   ]
  },
  {
   "cell_type": "markdown",
   "metadata": {},
   "source": [
    "The final step in the regression model is to generate actionable items and business rules that can be used by the organization. "
   ]
  },
  {
   "cell_type": "markdown",
   "metadata": {},
   "source": [
    "## Simple Linear Regression"
   ]
  },
  {
   "cell_type": "markdown",
   "metadata": {},
   "source": [
    "Simple Linear Regression (SLR) is a statistical model in which there is only one independent variable and the functional relationship between the dependent variable and the regression coefficient is linear.  \n",
    "\n",
    "One of the functional forms of SLR is given as follows:\n",
    "\n",
    "Y = $\\beta_{0} + \\beta_{1} X+ \\epsilon$\t\t\t\t\t\t\t\t\t\n",
    "                                                                      \n",
    "where \n",
    "\n",
    "$Y$ is the value of ith observation of the dependent variable in the sample\n",
    "\n",
    "$X$ is the value of ith observation of the independent variable in the sample\n",
    "\n",
    "$\\epsilon$ is the random error (also known as residuals). $\\beta_{0}$ and $\\beta_{1}$ are the regression parameters (or regression coefficients)"
   ]
  },
  {
   "cell_type": "markdown",
   "metadata": {},
   "source": [
    "### Predicting MBA Salary from Grade in 10th"
   ]
  },
  {
   "cell_type": "markdown",
   "metadata": {},
   "source": [
    "*MBA Salary.csv* contains the salary of 50 graduating MBA students of a Business School in 2016 and their corresponding percentage marks in grade 10. We will develop e SLR(Simple Linear Regression) model to understand and predict salary based the percentage in Grade 10."
   ]
  },
  {
   "cell_type": "code",
   "execution_count": 20,
   "metadata": {},
   "outputs": [],
   "source": [
    "import pandas as pd\n",
    "import numpy as np\n",
    "import warnings\n",
    "\n",
    "warnings.filterwarnings(\"ignore\")\n",
    "np.set_printoptions(precision=4, linewidth=100)"
   ]
  },
  {
   "cell_type": "code",
   "execution_count": 21,
   "metadata": {},
   "outputs": [
    {
     "data": {
      "text/html": [
       "<div>\n",
       "<style scoped>\n",
       "    .dataframe tbody tr th:only-of-type {\n",
       "        vertical-align: middle;\n",
       "    }\n",
       "\n",
       "    .dataframe tbody tr th {\n",
       "        vertical-align: top;\n",
       "    }\n",
       "\n",
       "    .dataframe thead th {\n",
       "        text-align: right;\n",
       "    }\n",
       "</style>\n",
       "<table border=\"1\" class=\"dataframe\">\n",
       "  <thead>\n",
       "    <tr style=\"text-align: right;\">\n",
       "      <th></th>\n",
       "      <th>S. No.</th>\n",
       "      <th>Percentage in Grade 10</th>\n",
       "      <th>Salary</th>\n",
       "    </tr>\n",
       "  </thead>\n",
       "  <tbody>\n",
       "    <tr>\n",
       "      <th>0</th>\n",
       "      <td>1</td>\n",
       "      <td>62.00</td>\n",
       "      <td>270000</td>\n",
       "    </tr>\n",
       "    <tr>\n",
       "      <th>1</th>\n",
       "      <td>2</td>\n",
       "      <td>76.33</td>\n",
       "      <td>200000</td>\n",
       "    </tr>\n",
       "    <tr>\n",
       "      <th>2</th>\n",
       "      <td>3</td>\n",
       "      <td>72.00</td>\n",
       "      <td>240000</td>\n",
       "    </tr>\n",
       "    <tr>\n",
       "      <th>3</th>\n",
       "      <td>4</td>\n",
       "      <td>60.00</td>\n",
       "      <td>250000</td>\n",
       "    </tr>\n",
       "    <tr>\n",
       "      <th>4</th>\n",
       "      <td>5</td>\n",
       "      <td>61.00</td>\n",
       "      <td>180000</td>\n",
       "    </tr>\n",
       "    <tr>\n",
       "      <th>5</th>\n",
       "      <td>6</td>\n",
       "      <td>55.00</td>\n",
       "      <td>300000</td>\n",
       "    </tr>\n",
       "    <tr>\n",
       "      <th>6</th>\n",
       "      <td>7</td>\n",
       "      <td>70.00</td>\n",
       "      <td>260000</td>\n",
       "    </tr>\n",
       "    <tr>\n",
       "      <th>7</th>\n",
       "      <td>8</td>\n",
       "      <td>68.00</td>\n",
       "      <td>235000</td>\n",
       "    </tr>\n",
       "    <tr>\n",
       "      <th>8</th>\n",
       "      <td>9</td>\n",
       "      <td>82.80</td>\n",
       "      <td>425000</td>\n",
       "    </tr>\n",
       "    <tr>\n",
       "      <th>9</th>\n",
       "      <td>10</td>\n",
       "      <td>59.00</td>\n",
       "      <td>240000</td>\n",
       "    </tr>\n",
       "  </tbody>\n",
       "</table>\n",
       "</div>"
      ],
      "text/plain": [
       "   S. No.  Percentage in Grade 10  Salary\n",
       "0       1                   62.00  270000\n",
       "1       2                   76.33  200000\n",
       "2       3                   72.00  240000\n",
       "3       4                   60.00  250000\n",
       "4       5                   61.00  180000\n",
       "5       6                   55.00  300000\n",
       "6       7                   70.00  260000\n",
       "7       8                   68.00  235000\n",
       "8       9                   82.80  425000\n",
       "9      10                   59.00  240000"
      ]
     },
     "execution_count": 21,
     "metadata": {},
     "output_type": "execute_result"
    }
   ],
   "source": [
    "mba_salary_df = pd.read_csv( 'MBA Salary.csv' )\n",
    "mba_salary_df.head( 10 )"
   ]
  },
  {
   "cell_type": "markdown",
   "metadata": {},
   "source": [
    "#### More information about the dataset"
   ]
  },
  {
   "cell_type": "code",
   "execution_count": 22,
   "metadata": {},
   "outputs": [
    {
     "name": "stdout",
     "output_type": "stream",
     "text": [
      "<class 'pandas.core.frame.DataFrame'>\n",
      "RangeIndex: 50 entries, 0 to 49\n",
      "Data columns (total 3 columns):\n",
      " #   Column                  Non-Null Count  Dtype  \n",
      "---  ------                  --------------  -----  \n",
      " 0   S. No.                  50 non-null     int64  \n",
      " 1   Percentage in Grade 10  50 non-null     float64\n",
      " 2   Salary                  50 non-null     int64  \n",
      "dtypes: float64(1), int64(2)\n",
      "memory usage: 1.3 KB\n"
     ]
    }
   ],
   "source": [
    "mba_salary_df.info()"
   ]
  },
  {
   "cell_type": "markdown",
   "metadata": {},
   "source": [
    "### Building  the Model"
   ]
  },
  {
   "cell_type": "markdown",
   "metadata": {},
   "source": [
    "- *statsmodel* library is used in python for building statistical models. \n",
    "- *OLS* api available in *statsmodel.api* module to estimate the regression coefficients for SLR."
   ]
  },
  {
   "cell_type": "markdown",
   "metadata": {
    "collapsed": true
   },
   "source": [
    "- The *OLS()* method does not estimate the intercept by default. \n",
    "- If intercept need to be estimated, a constant term of 1 need to be added to X."
   ]
  },
  {
   "cell_type": "code",
   "execution_count": 23,
   "metadata": {},
   "outputs": [
    {
     "data": {
      "text/html": [
       "<div>\n",
       "<style scoped>\n",
       "    .dataframe tbody tr th:only-of-type {\n",
       "        vertical-align: middle;\n",
       "    }\n",
       "\n",
       "    .dataframe tbody tr th {\n",
       "        vertical-align: top;\n",
       "    }\n",
       "\n",
       "    .dataframe thead th {\n",
       "        text-align: right;\n",
       "    }\n",
       "</style>\n",
       "<table border=\"1\" class=\"dataframe\">\n",
       "  <thead>\n",
       "    <tr style=\"text-align: right;\">\n",
       "      <th></th>\n",
       "      <th>const</th>\n",
       "      <th>Percentage in Grade 10</th>\n",
       "    </tr>\n",
       "  </thead>\n",
       "  <tbody>\n",
       "    <tr>\n",
       "      <th>0</th>\n",
       "      <td>1.0</td>\n",
       "      <td>62.00</td>\n",
       "    </tr>\n",
       "    <tr>\n",
       "      <th>1</th>\n",
       "      <td>1.0</td>\n",
       "      <td>76.33</td>\n",
       "    </tr>\n",
       "    <tr>\n",
       "      <th>2</th>\n",
       "      <td>1.0</td>\n",
       "      <td>72.00</td>\n",
       "    </tr>\n",
       "    <tr>\n",
       "      <th>3</th>\n",
       "      <td>1.0</td>\n",
       "      <td>60.00</td>\n",
       "    </tr>\n",
       "    <tr>\n",
       "      <th>4</th>\n",
       "      <td>1.0</td>\n",
       "      <td>61.00</td>\n",
       "    </tr>\n",
       "  </tbody>\n",
       "</table>\n",
       "</div>"
      ],
      "text/plain": [
       "   const  Percentage in Grade 10\n",
       "0    1.0                   62.00\n",
       "1    1.0                   76.33\n",
       "2    1.0                   72.00\n",
       "3    1.0                   60.00\n",
       "4    1.0                   61.00"
      ]
     },
     "execution_count": 23,
     "metadata": {},
     "output_type": "execute_result"
    }
   ],
   "source": [
    "import statsmodels.api as sm\n",
    "\n",
    "X = sm.add_constant( mba_salary_df['Percentage in Grade 10'] )\n",
    "X.head(5)"
   ]
  },
  {
   "cell_type": "code",
   "execution_count": 24,
   "metadata": {},
   "outputs": [],
   "source": [
    "Y = mba_salary_df['Salary']"
   ]
  },
  {
   "cell_type": "code",
   "execution_count": 25,
   "metadata": {},
   "outputs": [],
   "source": [
    "import matplotlib.pyplot as plt\n",
    "import seaborn as sn"
   ]
  },
  {
   "cell_type": "code",
   "execution_count": 26,
   "metadata": {},
   "outputs": [
    {
     "data": {
      "image/png": "[encoded data removed]",
      "text/plain": [
       "<Figure size 432x288 with 1 Axes>"
      ]
     },
     "metadata": {
      "needs_background": "light"
     },
     "output_type": "display_data"
    }
   ],
   "source": [
    "sn.regplot( mba_salary_df['Percentage in Grade 10'], \n",
    "            mba_salary_df['Salary'],\n",
    "            ci=0);"
   ]
  },
  {
   "cell_type": "markdown",
   "metadata": {},
   "source": [
    "### Splitting the dataset into training and validation sets"
   ]
  },
  {
   "cell_type": "markdown",
   "metadata": {},
   "source": [
    "- Split the dataset randomly into training and validation datasets *train_test_split()* method from *skelarn.model_selection* module.\n",
    "The method returns 4 variables, two containing X features for training and test dataset and two for response variable."
   ]
  },
  {
   "cell_type": "code",
   "execution_count": 27,
   "metadata": {},
   "outputs": [],
   "source": [
    "from sklearn.model_selection import train_test_split"
   ]
  },
  {
   "cell_type": "code",
   "execution_count": 28,
   "metadata": {},
   "outputs": [],
   "source": [
    "train_X, test_X, train_y, test_y = train_test_split( X ,\n",
    "                                                     Y,\n",
    "                                                    train_size = 0.8,\n",
    "                                                    random_state = 100 )"
   ]
  },
  {
   "cell_type": "markdown",
   "metadata": {},
   "source": [
    "In this example,\n",
    "\n",
    "- *train_X* contains X features of the training dataset\n",
    "- *train_y* contains the values of response variable for training dataset\n",
    "- *test_X* contains X features of the test dataset\n",
    "- *test_y* contains the values of response variable for test dataset\n",
    "\n",
    "\n",
    "train_size = 0.8 implies 80% of the data is used for training the model and the remaining 20% is used for validating the model "
   ]
  },
  {
   "cell_type": "markdown",
   "metadata": {},
   "source": [
    "### Fitting the Model"
   ]
  },
  {
   "cell_type": "code",
   "execution_count": 29,
   "metadata": {},
   "outputs": [],
   "source": [
    "mba_salary_lm = sm.OLS( train_y, train_X ).fit()"
   ]
  },
  {
   "cell_type": "markdown",
   "metadata": {},
   "source": [
    "Printing Estimated Parameters and interpreting them"
   ]
  },
  {
   "cell_type": "code",
   "execution_count": 30,
   "metadata": {},
   "outputs": [
    {
     "name": "stdout",
     "output_type": "stream",
     "text": [
      "const                     30587.285652\n",
      "Percentage in Grade 10     3560.587383\n",
      "dtype: float64\n"
     ]
    }
   ],
   "source": [
    "print( mba_salary_lm.params )"
   ]
  },
  {
   "cell_type": "markdown",
   "metadata": {},
   "source": [
    "The estimated model can be written as \n",
    "\n",
    " **MBA Salary = 30587.285 + 3560.587 * (Percentage in Grade 10)**\n",
    "\n",
    "The equation can be interpreted as follows: for every one percentage increase in grade 10 marks, the salary of the MBA students will increase at the rate of 3560.587 on an average."
   ]
  },
  {
   "cell_type": "markdown",
   "metadata": {},
   "source": [
    "### Model Diagnostics"
   ]
  },
  {
   "cell_type": "markdown",
   "metadata": {},
   "source": [
    "It is important to validate the regression model to ensure its validity and goodness of fit before it can be used for practical applications. The following measures are used to validate the simple linear regression models:\n",
    "1. Co-efficient of determination (R-square).\n",
    "2. Hypothesis test for the regression coefficient.\n",
    "3. Analysis of Variance for overall model validity (relevant more for multiple linear regression).\n",
    "4. Residual analysis to validate the regression model assumptions.\n",
    "5. Outlier analysis.\n"
   ]
  },
  {
   "cell_type": "markdown",
   "metadata": {},
   "source": [
    "The method *summary2()* prints the model summary which contains most of the above information required for diagnosing a model."
   ]
  },
  {
   "cell_type": "code",
   "execution_count": 31,
   "metadata": {},
   "outputs": [
    {
     "data": {
      "text/html": [
       "<table class=\"simpletable\">\n",
       "<tr>\n",
       "        <td>Model:</td>               <td>OLS</td>         <td>Adj. R-squared:</td>      <td>0.190</td>  \n",
       "</tr>\n",
       "<tr>\n",
       "  <td>Dependent Variable:</td>      <td>Salary</td>             <td>AIC:</td>          <td>1008.8680</td>\n",
       "</tr>\n",
       "<tr>\n",
       "         <td>Date:</td>        <td>2021-03-04 14:20</td>        <td>BIC:</td>          <td>1012.2458</td>\n",
       "</tr>\n",
       "<tr>\n",
       "   <td>No. Observations:</td>         <td>40</td>          <td>Log-Likelihood:</td>     <td>-502.43</td> \n",
       "</tr>\n",
       "<tr>\n",
       "       <td>Df Model:</td>              <td>1</td>           <td>F-statistic:</td>        <td>10.16</td>  \n",
       "</tr>\n",
       "<tr>\n",
       "     <td>Df Residuals:</td>           <td>38</td>        <td>Prob (F-statistic):</td>   <td>0.00287</td> \n",
       "</tr>\n",
       "<tr>\n",
       "      <td>R-squared:</td>            <td>0.211</td>            <td>Scale:</td>        <td>5.0121e+09</td>\n",
       "</tr>\n",
       "</table>\n",
       "<table class=\"simpletable\">\n",
       "<tr>\n",
       "             <td></td>               <th>Coef.</th>    <th>Std.Err.</th>     <th>t</th>    <th>P>|t|</th>    <th>[0.025</th>      <th>0.975]</th>   \n",
       "</tr>\n",
       "<tr>\n",
       "  <th>const</th>                  <td>30587.2857</td> <td>71869.4497</td> <td>0.4256</td> <td>0.6728</td> <td>-114904.8089</td> <td>176079.3802</td>\n",
       "</tr>\n",
       "<tr>\n",
       "  <th>Percentage in Grade 10</th>  <td>3560.5874</td>  <td>1116.9258</td> <td>3.1878</td> <td>0.0029</td>   <td>1299.4892</td>   <td>5821.6855</td> \n",
       "</tr>\n",
       "</table>\n",
       "<table class=\"simpletable\">\n",
       "<tr>\n",
       "     <td>Omnibus:</td>    <td>2.048</td>  <td>Durbin-Watson:</td>   <td>2.611</td>\n",
       "</tr>\n",
       "<tr>\n",
       "  <td>Prob(Omnibus):</td> <td>0.359</td> <td>Jarque-Bera (JB):</td> <td>1.724</td>\n",
       "</tr>\n",
       "<tr>\n",
       "       <td>Skew:</td>     <td>0.369</td>     <td>Prob(JB):</td>     <td>0.422</td>\n",
       "</tr>\n",
       "<tr>\n",
       "     <td>Kurtosis:</td>   <td>2.300</td>  <td>Condition No.:</td>    <td>413</td> \n",
       "</tr>\n",
       "</table>"
      ],
      "text/plain": [
       "<class 'statsmodels.iolib.summary2.Summary'>\n",
       "\"\"\"\n",
       "                          Results: Ordinary least squares\n",
       "===================================================================================\n",
       "Model:                    OLS                   Adj. R-squared:          0.190     \n",
       "Dependent Variable:       Salary                AIC:                     1008.8680 \n",
       "Date:                     2021-03-04 14:20      BIC:                     1012.2458 \n",
       "No. Observations:         40                    Log-Likelihood:          -502.43   \n",
       "Df Model:                 1                     F-statistic:             10.16     \n",
       "Df Residuals:             38                    Prob (F-statistic):      0.00287   \n",
       "R-squared:                0.211                 Scale:                   5.0121e+09\n",
       "-----------------------------------------------------------------------------------\n",
       "                         Coef.     Std.Err.    t    P>|t|     [0.025       0.975]  \n",
       "-----------------------------------------------------------------------------------\n",
       "const                  30587.2857 71869.4497 0.4256 0.6728 -114904.8089 176079.3802\n",
       "Percentage in Grade 10  3560.5874  1116.9258 3.1878 0.0029    1299.4892   5821.6855\n",
       "-----------------------------------------------------------------------------------\n",
       "Omnibus:                    2.048              Durbin-Watson:                 2.611\n",
       "Prob(Omnibus):              0.359              Jarque-Bera (JB):              1.724\n",
       "Skew:                       0.369              Prob(JB):                      0.422\n",
       "Kurtosis:                   2.300              Condition No.:                 413  \n",
       "===================================================================================\n",
       "\n",
       "\"\"\""
      ]
     },
     "execution_count": 31,
     "metadata": {},
     "output_type": "execute_result"
    }
   ],
   "source": [
    "mba_salary_lm.summary2()"
   ]
  },
  {
   "cell_type": "markdown",
   "metadata": {},
   "source": [
    "From the above summary, following conclusion can be derived.\n",
    "\n",
    "#### Coefficient of Determination (R-Square or R2)\n",
    "\n",
    "The co-efficient of determination (or R-square or R2) measures the percentage of variation in Y explained by the model.\n",
    "\n",
    "If SST is the sum of squares of total variation, SSR is the sum of squares of variation explained by the regression model and SSE is the sum of squares of errors or unexplained variation.\n",
    "\n",
    "Variation in Y (SST) = $\\sum_{i=1}^{N}(Y_{i} - \\bar{Y})^2$ \n",
    "\n",
    "where, \n",
    "\n",
    "- $\\bar{Y}$ is the mean of Y.\n",
    "- $Y_{i}$ is the Y value for $i^{th}$ observation\n",
    "- *N* is the number of observations\n",
    "\n",
    "Variations explained by the model = $\\beta_{0} + \\beta_{1} X_{i}$\n",
    "\n",
    "Unexplained variations (SSE) = $\\sum_{i=1}^{N}(Y_{i} - (\\beta_{0} + \\beta_{1} X_{i}))^2$  "
   ]
  },
  {
   "cell_type": "markdown",
   "metadata": {},
   "source": [
    "The coefficient of determination is given by\n",
    "\n",
    "$R^{2}$ = 1 - $\\frac{SSE}{SST}$\n",
    "\n",
    "Thus, R2 is the proportion of variation in response variable Y explained by the regression model.\n",
    "\n",
    "- The value of R2 lies between 0 and 1.\n",
    "- There is no minimum threshold for R2; higher value of R2 implies better fit. \n",
    "\n",
    "The above model summary says the r-squared value is 0.211. The model explains 21.1% of the variance in Y."
   ]
  },
  {
   "cell_type": "markdown",
   "metadata": {},
   "source": [
    "#### Hypothesis Test for Regression Co-efficient & Analysis of Variance (F-test)"
   ]
  },
  {
   "cell_type": "code",
   "execution_count": 32,
   "metadata": {},
   "outputs": [
    {
     "data": {
      "text/html": [
       "<table class=\"simpletable\">\n",
       "<tr>\n",
       "        <td>Model:</td>               <td>OLS</td>         <td>Adj. R-squared:</td>      <td>0.190</td>  \n",
       "</tr>\n",
       "<tr>\n",
       "  <td>Dependent Variable:</td>      <td>Salary</td>             <td>AIC:</td>          <td>1008.8680</td>\n",
       "</tr>\n",
       "<tr>\n",
       "         <td>Date:</td>        <td>2021-03-04 14:20</td>        <td>BIC:</td>          <td>1012.2458</td>\n",
       "</tr>\n",
       "<tr>\n",
       "   <td>No. Observations:</td>         <td>40</td>          <td>Log-Likelihood:</td>     <td>-502.43</td> \n",
       "</tr>\n",
       "<tr>\n",
       "       <td>Df Model:</td>              <td>1</td>           <td>F-statistic:</td>        <td>10.16</td>  \n",
       "</tr>\n",
       "<tr>\n",
       "     <td>Df Residuals:</td>           <td>38</td>        <td>Prob (F-statistic):</td>   <td>0.00287</td> \n",
       "</tr>\n",
       "<tr>\n",
       "      <td>R-squared:</td>            <td>0.211</td>            <td>Scale:</td>        <td>5.0121e+09</td>\n",
       "</tr>\n",
       "</table>\n",
       "<table class=\"simpletable\">\n",
       "<tr>\n",
       "             <td></td>               <th>Coef.</th>    <th>Std.Err.</th>     <th>t</th>    <th>P>|t|</th>    <th>[0.025</th>      <th>0.975]</th>   \n",
       "</tr>\n",
       "<tr>\n",
       "  <th>const</th>                  <td>30587.2857</td> <td>71869.4497</td> <td>0.4256</td> <td>0.6728</td> <td>-114904.8089</td> <td>176079.3802</td>\n",
       "</tr>\n",
       "<tr>\n",
       "  <th>Percentage in Grade 10</th>  <td>3560.5874</td>  <td>1116.9258</td> <td>3.1878</td> <td>0.0029</td>   <td>1299.4892</td>   <td>5821.6855</td> \n",
       "</tr>\n",
       "</table>\n",
       "<table class=\"simpletable\">\n",
       "<tr>\n",
       "     <td>Omnibus:</td>    <td>2.048</td>  <td>Durbin-Watson:</td>   <td>2.611</td>\n",
       "</tr>\n",
       "<tr>\n",
       "  <td>Prob(Omnibus):</td> <td>0.359</td> <td>Jarque-Bera (JB):</td> <td>1.724</td>\n",
       "</tr>\n",
       "<tr>\n",
       "       <td>Skew:</td>     <td>0.369</td>     <td>Prob(JB):</td>     <td>0.422</td>\n",
       "</tr>\n",
       "<tr>\n",
       "     <td>Kurtosis:</td>   <td>2.300</td>  <td>Condition No.:</td>    <td>413</td> \n",
       "</tr>\n",
       "</table>"
      ],
      "text/plain": [
       "<class 'statsmodels.iolib.summary2.Summary'>\n",
       "\"\"\"\n",
       "                          Results: Ordinary least squares\n",
       "===================================================================================\n",
       "Model:                    OLS                   Adj. R-squared:          0.190     \n",
       "Dependent Variable:       Salary                AIC:                     1008.8680 \n",
       "Date:                     2021-03-04 14:20      BIC:                     1012.2458 \n",
       "No. Observations:         40                    Log-Likelihood:          -502.43   \n",
       "Df Model:                 1                     F-statistic:             10.16     \n",
       "Df Residuals:             38                    Prob (F-statistic):      0.00287   \n",
       "R-squared:                0.211                 Scale:                   5.0121e+09\n",
       "-----------------------------------------------------------------------------------\n",
       "                         Coef.     Std.Err.    t    P>|t|     [0.025       0.975]  \n",
       "-----------------------------------------------------------------------------------\n",
       "const                  30587.2857 71869.4497 0.4256 0.6728 -114904.8089 176079.3802\n",
       "Percentage in Grade 10  3560.5874  1116.9258 3.1878 0.0029    1299.4892   5821.6855\n",
       "-----------------------------------------------------------------------------------\n",
       "Omnibus:                    2.048              Durbin-Watson:                 2.611\n",
       "Prob(Omnibus):              0.359              Jarque-Bera (JB):              1.724\n",
       "Skew:                       0.369              Prob(JB):                      0.422\n",
       "Kurtosis:                   2.300              Condition No.:                 413  \n",
       "===================================================================================\n",
       "\n",
       "\"\"\""
      ]
     },
     "execution_count": 32,
     "metadata": {},
     "output_type": "execute_result"
    }
   ],
   "source": [
    "mba_salary_lm.summary2()"
   ]
  },
  {
   "cell_type": "markdown",
   "metadata": {},
   "source": [
    "\n",
    "The p-value of 0.0029 indicates the the coefficients estimated for the variable *Percentage in Grade 10* is correct. Also, the probability value of F-statistics of the model is 0.00287 indicates that the overall model is correct and can be used."
   ]
  },
  {
   "cell_type": "markdown",
   "metadata": {},
   "source": [
    "#### Residual Anlalysis\n",
    "\n",
    "Residual (error) analysis is important to check whether the assumptions of regression models have been satisfied. It is performed to check the following:\n",
    "1.\tThe residuals are normally distributed.\n",
    "2.\tThe variance of residual is constant (homoscedasticity).\n",
    "3.\tThe functional form of regression is correctly specified.\n",
    "4.\tIf there are any outliers.\n",
    "\n",
    "\n",
    "The P-P plot compares the cumulative distribution function of two probability distributions against each other.  In the current context, we use the P-P plot to check whether the distribution of the residual matches with that of a normal distribution.\n",
    "\n",
    "*ProbPlot()* on statsmodel draws the P-P plot."
   ]
  },
  {
   "cell_type": "code",
   "execution_count": 92,
   "metadata": {},
   "outputs": [
    {
     "data": {
      "text/plain": [
       "<Figure size 576x432 with 0 Axes>"
      ]
     },
     "metadata": {},
     "output_type": "display_data"
    },
    {
     "data": {
      "image/png": "[encoded data removed]",
      "text/plain": [
       "<Figure size 432x288 with 1 Axes>"
      ]
     },
     "metadata": {
      "needs_background": "light"
     },
     "output_type": "display_data"
    }
   ],
   "source": [
    "probplot = sm.ProbPlot( mba_salary_lm.resid, fit = True )\n",
    "plt.figure( figsize = (8, 6) )\n",
    "probplot.ppplot( line='45' )\n",
    "plt.show();"
   ]
  },
  {
   "cell_type": "markdown",
   "metadata": {},
   "source": [
    "- The diagonal line is the cumulative distribution of a normal distribution, whereas the dots represent the cumulative distribution of the residuals. \n",
    "- Since the dots are close to the diagonal line, we can conclude that the residuals follow an approximate normal distribution \n",
    "- We need only an approximate normal distribution"
   ]
  },
  {
   "cell_type": "markdown",
   "metadata": {},
   "source": [
    "#### Test of Homoscedasticity"
   ]
  },
  {
   "cell_type": "markdown",
   "metadata": {},
   "source": [
    "- An important assumption of regression model is that the residuals have constant variance (homoscedasticity) across different values of the explanatory variable (X). That is, the variance of residuals is assumed to be independent of variable X. \n",
    "\n",
    "- This can be observed by drawing a residual plot, which is a plot between standardized residual and standardized predicted values. If there is heteroscedasticity (non-constant variance of residuals) then a funnel type shape in the residual plot can be expected."
   ]
  },
  {
   "cell_type": "markdown",
   "metadata": {},
   "source": [
    "The following method creates the standardized values of a series of values (variable)."
   ]
  },
  {
   "cell_type": "code",
   "execution_count": 93,
   "metadata": {},
   "outputs": [],
   "source": [
    "def get_standardized_values( vals ):    \n",
    "    return (vals - vals.mean())/vals.std()"
   ]
  },
  {
   "cell_type": "code",
   "execution_count": 94,
   "metadata": {},
   "outputs": [
    {
     "data": {
      "image/png": "[encoded data removed]",
      "text/plain": [
       "<Figure size 432x288 with 1 Axes>"
      ]
     },
     "metadata": {
      "needs_background": "light"
     },
     "output_type": "display_data"
    }
   ],
   "source": [
    "plt.scatter( get_standardized_values( mba_salary_lm.fittedvalues ), \n",
    "            get_standardized_values( mba_salary_resid ) )\n",
    "plt.title( \"Fig 4.2 - Residual Plot: MBA Salary Prediction\" );\n",
    "plt.xlabel( \"Standardized predicted values\")\n",
    "plt.ylabel( \"Standardized Residuals\");"
   ]
  },
  {
   "cell_type": "markdown",
   "metadata": {},
   "source": [
    "It can be observed that the residuals are random and have no funnel shape, which means the residuals have constant variance (homoscedasticity)."
   ]
  },
  {
   "cell_type": "markdown",
   "metadata": {},
   "source": [
    "### Outlier Analysis"
   ]
  },
  {
   "cell_type": "markdown",
   "metadata": {},
   "source": [
    "Outliers are observations whose values show a large deviation from mean value. Presence of an outlier can have significant influence on values of regression coefficients. Thus, it is important to identify the existence of outliers in the data."
   ]
  },
  {
   "cell_type": "markdown",
   "metadata": {},
   "source": [
    "The following distance measures are useful in identifying the influential observations:\n",
    "1.\tZ-Score\n",
    "2.\tCook’s Distance"
   ]
  },
  {
   "cell_type": "markdown",
   "metadata": {},
   "source": [
    "**Z-Score**"
   ]
  },
  {
   "cell_type": "markdown",
   "metadata": {},
   "source": [
    "Z-score is the standardized distance of an observation from its mean value. For the predicted value of the dependent variable Y, the Z-score is given by\n",
    "\n",
    "z = $\\frac{\\hat{Y_{i}} - \\bar{Y}}{\\sigma_{Y}}$\n",
    "\n",
    "where,\n",
    "\n",
    "- $\\hat{Y_{i}}$ - Predicted value of Y for $i^{th}$ observation\n",
    "- $\\bar{Y}$ - Mean or expected value of Y\n",
    "- $\\sigma_{Y}$ - Variance of Y\n",
    "\n",
    "Any observation with a Z-score of more than 3 may be flagged as outlier."
   ]
  },
  {
   "cell_type": "code",
   "execution_count": 95,
   "metadata": {},
   "outputs": [],
   "source": [
    "from scipy.stats import zscore"
   ]
  },
  {
   "cell_type": "code",
   "execution_count": 96,
   "metadata": {},
   "outputs": [],
   "source": [
    "mba_salary_df['z_score_salary'] = zscore( mba_salary_df.Salary )"
   ]
  },
  {
   "cell_type": "code",
   "execution_count": 97,
   "metadata": {},
   "outputs": [
    {
     "data": {
      "text/html": [
       "<div>\n",
       "<style scoped>\n",
       "    .dataframe tbody tr th:only-of-type {\n",
       "        vertical-align: middle;\n",
       "    }\n",
       "\n",
       "    .dataframe tbody tr th {\n",
       "        vertical-align: top;\n",
       "    }\n",
       "\n",
       "    .dataframe thead th {\n",
       "        text-align: right;\n",
       "    }\n",
       "</style>\n",
       "<table border=\"1\" class=\"dataframe\">\n",
       "  <thead>\n",
       "    <tr style=\"text-align: right;\">\n",
       "      <th></th>\n",
       "      <th>S. No.</th>\n",
       "      <th>Percentage in Grade 10</th>\n",
       "      <th>Salary</th>\n",
       "      <th>z_score_salary</th>\n",
       "    </tr>\n",
       "  </thead>\n",
       "  <tbody>\n",
       "  </tbody>\n",
       "</table>\n",
       "</div>"
      ],
      "text/plain": [
       "Empty DataFrame\n",
       "Columns: [S. No., Percentage in Grade 10, Salary, z_score_salary]\n",
       "Index: []"
      ]
     },
     "execution_count": 97,
     "metadata": {},
     "output_type": "execute_result"
    }
   ],
   "source": [
    "mba_salary_df[ (mba_salary_df.z_score_salary > 3.0) | (mba_salary_df.z_score_salary < -3.0) ]"
   ]
  },
  {
   "cell_type": "markdown",
   "metadata": {},
   "source": [
    "So, there are no observations, which are outliers as per the z-score."
   ]
  },
  {
   "cell_type": "markdown",
   "metadata": {},
   "source": [
    "**Cook's Distance**"
   ]
  },
  {
   "cell_type": "markdown",
   "metadata": {},
   "source": [
    "Cook’s distance measures how much the predicted value of the dependent variable changes for all the observations in the sample when a particular observation is excluded from sample for the estimation of regression parameters.\n",
    "\n",
    "A Cook’s distance value of more than 1 indicates highly influential observation.\n",
    "\n",
    "*get_influence()* returns the influence of observations in the model and *cook_distance* variable provide the cook's distance measures. \n",
    "Then the distances can be plotted to against the observation index to find out which ones are influentials."
   ]
  },
  {
   "cell_type": "code",
   "execution_count": 40,
   "metadata": {},
   "outputs": [
    {
     "data": {
      "image/png": "[encoded data removed]",
      "text/plain": [
       "<Figure size 432x288 with 1 Axes>"
      ]
     },
     "metadata": {
      "needs_background": "light"
     },
     "output_type": "display_data"
    }
   ],
   "source": [
    "import numpy as np\n",
    "\n",
    "mba_influence = mba_salary_lm.get_influence()\n",
    "(c, p) = mba_influence.cooks_distance\n",
    "\n",
    "plt.stem( np.arange( len( train_X) ), \n",
    "         np.round( c, 3 ), \n",
    "         markerfmt=\",\" );\n",
    "plt.title( \"Figure 4.3 - Cooks distance for all observations in MBA Salaray dataset\" );\n",
    "plt.xlabel( \"Row index\")\n",
    "plt.ylabel( \"Cooks Distance\");"
   ]
  },
  {
   "cell_type": "markdown",
   "metadata": {},
   "source": [
    "It can be observed that none of the observation's cook's distance does not exceed 1 and hence none of them are outliers."
   ]
  },
  {
   "cell_type": "markdown",
   "metadata": {},
   "source": [
    "### Making prediction using the model"
   ]
  },
  {
   "cell_type": "markdown",
   "metadata": {},
   "source": [
    "#### Predicting on validation set "
   ]
  },
  {
   "cell_type": "markdown",
   "metadata": {},
   "source": [
    "The model variable has a method *predict()*, which takes the X parameters and returns the predicted values."
   ]
  },
  {
   "cell_type": "code",
   "execution_count": 42,
   "metadata": {},
   "outputs": [],
   "source": [
    "pred_y = mba_salary_lm.predict( test_X )"
   ]
  },
  {
   "cell_type": "markdown",
   "metadata": {},
   "source": [
    "### Measuring Accuracy"
   ]
  },
  {
   "cell_type": "markdown",
   "metadata": {},
   "source": [
    "*sklearn.metrics* has *r2_score* and *mean_squared_error* for measuring r squared and MSE values. We need to take square root of the MSE value to get RMSE value.\n",
    "\n",
    "MSE = $\\frac{1}{n}\\sum_{i=1}^{N}(Y_{i} - (\\beta_{0} + \\beta_{1} X_{i}))^2$ \n",
    "\n",
    "\n",
    "RMSE = $\\sqrt \\frac{1}{n}\\sum_{i=1}^{N}(Y_{i} - (\\beta_{0} + \\beta_{1} X_{i}))^2$ "
   ]
  },
  {
   "cell_type": "code",
   "execution_count": 43,
   "metadata": {},
   "outputs": [],
   "source": [
    "from sklearn.metrics import r2_score, mean_squared_error"
   ]
  },
  {
   "cell_type": "code",
   "execution_count": 44,
   "metadata": {},
   "outputs": [
    {
     "data": {
      "text/plain": [
       "0.156645849742304"
      ]
     },
     "execution_count": 44,
     "metadata": {},
     "output_type": "execute_result"
    }
   ],
   "source": [
    "np.abs(r2_score(test_y, pred_y))"
   ]
  },
  {
   "cell_type": "markdown",
   "metadata": {},
   "source": [
    "So, the model only explains the 15.6% of the variance in the validation set."
   ]
  },
  {
   "cell_type": "code",
   "execution_count": 45,
   "metadata": {},
   "outputs": [],
   "source": [
    "import numpy"
   ]
  },
  {
   "cell_type": "code",
   "execution_count": 46,
   "metadata": {},
   "outputs": [
    {
     "data": {
      "text/plain": [
       "73458.04348346895"
      ]
     },
     "execution_count": 46,
     "metadata": {},
     "output_type": "execute_result"
    }
   ],
   "source": [
    "np.sqrt(mean_squared_error(test_y, pred_y))"
   ]
  },
  {
   "cell_type": "markdown",
   "metadata": {},
   "source": [
    "*RMSE* means at an average what error the model makes while making a prediction. The smaller the value of RMSE, the better it is."
   ]
  },
  {
   "cell_type": "markdown",
   "metadata": {},
   "source": [
    "## Multiple Linear Regression\n",
    "\n",
    "Multiple linear regression (MLR) is a statistical technique for finding existence of an association relationship between a dependent variable (aka response variable or outcome variable) and several independent variables (aka explanatory variables or predictor variable).\n",
    "\n",
    "The functional form of MLR is given by\n",
    "\n",
    "$Y = \\beta_{0} + \\beta_{1} X_{1}+ \\beta_{2} X_{2}+ ... + \\beta_{n} X_{n}+\\epsilon_{}$\n",
    "\n",
    "\n",
    "Where $Y_{i}$ is the value of response variable of the $i^{th}$ observation and $X_{1}$, $X_{2}$,.., $X_{n}$ are *n* explanatory variables. \n",
    "\n",
    "The regression coefficients $\\beta_{1}, \\beta_{1}, …, \\beta_{n}$ are called partial regression coefficients since the relationship between an explanatory variable and the response variable is calculated after removing the effect all the other explanatory variables in the model."
   ]
  },
  {
   "cell_type": "markdown",
   "metadata": {},
   "source": [
    "### Predicting the *SOLD PRICE* of players in IPL Auction"
   ]
  },
  {
   "cell_type": "markdown",
   "metadata": {},
   "source": [
    "| Data Code | Description |\n",
    "| ----------:| :-------------- |\n",
    "| AGE |\t\tAge of the player at the time of auction classified into 3 categories.  Category 1  (L25) means the player is less than 25 years old, 2 means that the age is between 25 and 35 years (B25-35)and category 3 means that the age is more than 35 (A35).  |\n",
    "| RUNS-S |\t\tNumber of runs scored by a player |\n",
    "| RUNS-C |\t\tNumber of runs conceded by a player |\n",
    "| HS |\t\tHighest score by a batsman in IPL |\n",
    "| AVE-B |\t\tAverage runs scored by a batsman in IPL |\n",
    "| AVE-BL |\t\tBowling average (Number of runs conceded / number of wickets taken) in IPL. |\n",
    "| SR-B |\t\tBatting strike rate (ratio of the number of runs scored to the number of balls faced) in IPL |\n",
    "| SR-BL |\t\tBowling strike rate (ratio of the number of balls bowled to the number of wickets taken) in IPL |\n",
    "| SIXERS |\t\tNumber of six runs scored by a player in IPL  |\n",
    "| WKTS |\t\tNumber of wickets taken by a player in IPL |\n",
    "| ECON |\t\tEconomy rate of a bowler (number of runs conceded by the bowler per over) in IPL |\n",
    "| CAPTAINCY EXP |\t\tCaptained either an T20 team or a national team |\n",
    "| ODI-SR-B |\t\tBatting strike rate in One Day Internationals |\n",
    "| ODI-SR-BL |\t\tBowling strike rate in One Day Internationals |\n",
    "| ODI-RUNS-S |\t\tRuns scored in One Day Internationals |\n",
    "| ODI-WKTS |\t\tWickets taken in One Day Internationals |\n",
    "| T-RUNS-S |\t\tRuns scored in Test matches |\n",
    "| T-WKTS |\t\tWickets taken in Test matches |\n",
    "| PLAYER-SKILL |\t\tPlayer’s primary skill (batsman, bowler, or all-rounder) |\n",
    "| COUNTRY |\t\tCountry of origin of the player (AUS: Australia; IND: India; PAK: Pakistan; SA: South Africa; SL: Sri Lanka; NZ: New Zealand; WI: West Indies; OTH: Other countries) |\n",
    "| YEAR-A |\t\tYear of Auction in IPL |\n",
    "| IPL TEAM |\t\tTeam(s) for which the player had played in the IPL (CSK: Chennai Super Kings; DC: Deccan Chargers; DD: Delhi Daredevils; KXI: Kings XI Punjab; KKR: Kolkata Knight Riders; MI: Mumbai Indians; PWI: Pune Warriors India; RR: Rajasthan Royals; RCB: Royal Challengers Bangalore). A + sign was used to indicate that the player had played for more than one team. For example, CSK+ would mean that the player had played for CSK as well as for one or more other teams.  |"
   ]
  },
  {
   "cell_type": "markdown",
   "metadata": {},
   "source": [
    "#### Loading the dataset"
   ]
  },
  {
   "cell_type": "code",
   "execution_count": 104,
   "metadata": {},
   "outputs": [],
   "source": [
    "ipl_auction_df = pd.read_csv( 'IPL IMB381IPL2013.csv' )"
   ]
  },
  {
   "cell_type": "code",
   "execution_count": 105,
   "metadata": {},
   "outputs": [
    {
     "name": "stdout",
     "output_type": "stream",
     "text": [
      "<class 'pandas.core.frame.DataFrame'>\n",
      "RangeIndex: 130 entries, 0 to 129\n",
      "Data columns (total 26 columns):\n",
      " #   Column         Non-Null Count  Dtype  \n",
      "---  ------         --------------  -----  \n",
      " 0   Sl.NO.         130 non-null    int64  \n",
      " 1   PLAYER NAME    130 non-null    object \n",
      " 2   AGE            130 non-null    int64  \n",
      " 3   COUNTRY        130 non-null    object \n",
      " 4   TEAM           130 non-null    object \n",
      " 5   PLAYING ROLE   130 non-null    object \n",
      " 6   T-RUNS         130 non-null    int64  \n",
      " 7   T-WKTS         130 non-null    int64  \n",
      " 8   ODI-RUNS-S     130 non-null    int64  \n",
      " 9   ODI-SR-B       130 non-null    float64\n",
      " 10  ODI-WKTS       130 non-null    int64  \n",
      " 11  ODI-SR-BL      130 non-null    float64\n",
      " 12  CAPTAINCY EXP  130 non-null    int64  \n",
      " 13  RUNS-S         130 non-null    int64  \n",
      " 14  HS             130 non-null    int64  \n",
      " 15  AVE            130 non-null    float64\n",
      " 16  SR-B           130 non-null    float64\n",
      " 17  SIXERS         130 non-null    int64  \n",
      " 18  RUNS-C         130 non-null    int64  \n",
      " 19  WKTS           130 non-null    int64  \n",
      " 20  AVE-BL         130 non-null    float64\n",
      " 21  ECON           130 non-null    float64\n",
      " 22  SR-BL          130 non-null    float64\n",
      " 23  AUCTION YEAR   130 non-null    int64  \n",
      " 24  BASE PRICE     130 non-null    int64  \n",
      " 25  SOLD PRICE     130 non-null    int64  \n",
      "dtypes: float64(7), int64(15), object(4)\n",
      "memory usage: 26.5+ KB\n"
     ]
    }
   ],
   "source": [
    "ipl_auction_df.info()"
   ]
  },
  {
   "cell_type": "markdown",
   "metadata": {},
   "source": [
    "There are 130 observations and 26 columns and no missing values."
   ]
  },
  {
   "cell_type": "markdown",
   "metadata": {},
   "source": [
    "#### Displaying the first 5 records"
   ]
  },
  {
   "cell_type": "markdown",
   "metadata": {},
   "source": [
    "As the number of columns are very large, we will display the initial 13 columns first and then the rest of the columns for the first 5 rows."
   ]
  },
  {
   "cell_type": "code",
   "execution_count": 106,
   "metadata": {},
   "outputs": [
    {
     "data": {
      "text/html": [
       "<div>\n",
       "<style scoped>\n",
       "    .dataframe tbody tr th:only-of-type {\n",
       "        vertical-align: middle;\n",
       "    }\n",
       "\n",
       "    .dataframe tbody tr th {\n",
       "        vertical-align: top;\n",
       "    }\n",
       "\n",
       "    .dataframe thead th {\n",
       "        text-align: right;\n",
       "    }\n",
       "</style>\n",
       "<table border=\"1\" class=\"dataframe\">\n",
       "  <thead>\n",
       "    <tr style=\"text-align: right;\">\n",
       "      <th></th>\n",
       "      <th>Sl.NO.</th>\n",
       "      <th>PLAYER NAME</th>\n",
       "      <th>AGE</th>\n",
       "      <th>COUNTRY</th>\n",
       "      <th>TEAM</th>\n",
       "      <th>PLAYING ROLE</th>\n",
       "      <th>T-RUNS</th>\n",
       "      <th>T-WKTS</th>\n",
       "      <th>ODI-RUNS-S</th>\n",
       "      <th>ODI-SR-B</th>\n",
       "    </tr>\n",
       "  </thead>\n",
       "  <tbody>\n",
       "    <tr>\n",
       "      <th>0</th>\n",
       "      <td>1</td>\n",
       "      <td>Abdulla, YA</td>\n",
       "      <td>2</td>\n",
       "      <td>SA</td>\n",
       "      <td>KXIP</td>\n",
       "      <td>Allrounder</td>\n",
       "      <td>0</td>\n",
       "      <td>0</td>\n",
       "      <td>0</td>\n",
       "      <td>0.00</td>\n",
       "    </tr>\n",
       "    <tr>\n",
       "      <th>1</th>\n",
       "      <td>2</td>\n",
       "      <td>Abdur Razzak</td>\n",
       "      <td>2</td>\n",
       "      <td>BAN</td>\n",
       "      <td>RCB</td>\n",
       "      <td>Bowler</td>\n",
       "      <td>214</td>\n",
       "      <td>18</td>\n",
       "      <td>657</td>\n",
       "      <td>71.41</td>\n",
       "    </tr>\n",
       "    <tr>\n",
       "      <th>2</th>\n",
       "      <td>3</td>\n",
       "      <td>Agarkar, AB</td>\n",
       "      <td>2</td>\n",
       "      <td>IND</td>\n",
       "      <td>KKR</td>\n",
       "      <td>Bowler</td>\n",
       "      <td>571</td>\n",
       "      <td>58</td>\n",
       "      <td>1269</td>\n",
       "      <td>80.62</td>\n",
       "    </tr>\n",
       "    <tr>\n",
       "      <th>3</th>\n",
       "      <td>4</td>\n",
       "      <td>Ashwin, R</td>\n",
       "      <td>1</td>\n",
       "      <td>IND</td>\n",
       "      <td>CSK</td>\n",
       "      <td>Bowler</td>\n",
       "      <td>284</td>\n",
       "      <td>31</td>\n",
       "      <td>241</td>\n",
       "      <td>84.56</td>\n",
       "    </tr>\n",
       "    <tr>\n",
       "      <th>4</th>\n",
       "      <td>5</td>\n",
       "      <td>Badrinath, S</td>\n",
       "      <td>2</td>\n",
       "      <td>IND</td>\n",
       "      <td>CSK</td>\n",
       "      <td>Batsman</td>\n",
       "      <td>63</td>\n",
       "      <td>0</td>\n",
       "      <td>79</td>\n",
       "      <td>45.93</td>\n",
       "    </tr>\n",
       "  </tbody>\n",
       "</table>\n",
       "</div>"
      ],
      "text/plain": [
       "   Sl.NO.   PLAYER NAME  AGE COUNTRY  TEAM PLAYING ROLE  T-RUNS  T-WKTS  \\\n",
       "0       1   Abdulla, YA    2      SA  KXIP   Allrounder       0       0   \n",
       "1       2  Abdur Razzak    2     BAN   RCB       Bowler     214      18   \n",
       "2       3   Agarkar, AB    2     IND   KKR       Bowler     571      58   \n",
       "3       4     Ashwin, R    1     IND   CSK       Bowler     284      31   \n",
       "4       5  Badrinath, S    2     IND   CSK      Batsman      63       0   \n",
       "\n",
       "   ODI-RUNS-S  ODI-SR-B  \n",
       "0           0      0.00  \n",
       "1         657     71.41  \n",
       "2        1269     80.62  \n",
       "3         241     84.56  \n",
       "4          79     45.93  "
      ]
     },
     "execution_count": 106,
     "metadata": {},
     "output_type": "execute_result"
    }
   ],
   "source": [
    "ipl_auction_df.iloc[0:5, 0:10]"
   ]
  },
  {
   "cell_type": "code",
   "execution_count": 107,
   "metadata": {},
   "outputs": [],
   "source": [
    "X_features = ipl_auction_df.columns"
   ]
  },
  {
   "cell_type": "code",
   "execution_count": 108,
   "metadata": {},
   "outputs": [],
   "source": [
    "X_features = ['AGE', 'COUNTRY', 'PLAYING ROLE',\n",
    "              'T-RUNS', 'T-WKTS', 'ODI-RUNS-S', 'ODI-SR-B', \n",
    "              'ODI-WKTS', 'ODI-SR-BL', 'CAPTAINCY EXP', 'RUNS-S', \n",
    "              'HS', 'AVE', 'SR-B', 'SIXERS', 'RUNS-C', 'WKTS', \n",
    "              'AVE-BL', 'ECON', 'SR-BL']"
   ]
  },
  {
   "cell_type": "markdown",
   "metadata": {},
   "source": [
    "Most of the features are numerical where as features like *AGE, COUNTRY, PLAYING ROLE, CAPTAINCY EXP* are categorical and hence need to be encoded, before building the model.\n",
    "\n",
    "### Encoding Categorical Features\n",
    "\n",
    "Qualitative variables or categorical variables need to be converted using dummy variables before incorporating them in regression model. For example *PLAYING ROLE* which contains values like ,"
   ]
  },
  {
   "cell_type": "code",
   "execution_count": 109,
   "metadata": {},
   "outputs": [
    {
     "data": {
      "text/plain": [
       "array(['Allrounder', 'Bowler', 'Batsman', 'W. Keeper'], dtype=object)"
      ]
     },
     "execution_count": 109,
     "metadata": {},
     "output_type": "execute_result"
    }
   ],
   "source": [
    "ipl_auction_df['PLAYING ROLE'].unique()"
   ]
  },
  {
   "cell_type": "code",
   "execution_count": 110,
   "metadata": {},
   "outputs": [
    {
     "data": {
      "text/html": [
       "<div>\n",
       "<style scoped>\n",
       "    .dataframe tbody tr th:only-of-type {\n",
       "        vertical-align: middle;\n",
       "    }\n",
       "\n",
       "    .dataframe tbody tr th {\n",
       "        vertical-align: top;\n",
       "    }\n",
       "\n",
       "    .dataframe thead th {\n",
       "        text-align: right;\n",
       "    }\n",
       "</style>\n",
       "<table border=\"1\" class=\"dataframe\">\n",
       "  <thead>\n",
       "    <tr style=\"text-align: right;\">\n",
       "      <th></th>\n",
       "      <th>Allrounder</th>\n",
       "      <th>Batsman</th>\n",
       "      <th>Bowler</th>\n",
       "      <th>W. Keeper</th>\n",
       "    </tr>\n",
       "  </thead>\n",
       "  <tbody>\n",
       "    <tr>\n",
       "      <th>0</th>\n",
       "      <td>1</td>\n",
       "      <td>0</td>\n",
       "      <td>0</td>\n",
       "      <td>0</td>\n",
       "    </tr>\n",
       "    <tr>\n",
       "      <th>1</th>\n",
       "      <td>0</td>\n",
       "      <td>0</td>\n",
       "      <td>1</td>\n",
       "      <td>0</td>\n",
       "    </tr>\n",
       "    <tr>\n",
       "      <th>2</th>\n",
       "      <td>0</td>\n",
       "      <td>0</td>\n",
       "      <td>1</td>\n",
       "      <td>0</td>\n",
       "    </tr>\n",
       "    <tr>\n",
       "      <th>3</th>\n",
       "      <td>0</td>\n",
       "      <td>0</td>\n",
       "      <td>1</td>\n",
       "      <td>0</td>\n",
       "    </tr>\n",
       "    <tr>\n",
       "      <th>4</th>\n",
       "      <td>0</td>\n",
       "      <td>1</td>\n",
       "      <td>0</td>\n",
       "      <td>0</td>\n",
       "    </tr>\n",
       "  </tbody>\n",
       "</table>\n",
       "</div>"
      ],
      "text/plain": [
       "   Allrounder  Batsman  Bowler  W. Keeper\n",
       "0           1        0       0          0\n",
       "1           0        0       1          0\n",
       "2           0        0       1          0\n",
       "3           0        0       1          0\n",
       "4           0        1       0          0"
      ]
     },
     "execution_count": 110,
     "metadata": {},
     "output_type": "execute_result"
    }
   ],
   "source": [
    "pd.get_dummies(ipl_auction_df['PLAYING ROLE'])[0:5]"
   ]
  },
  {
   "cell_type": "markdown",
   "metadata": {},
   "source": [
    "Whenever, we have n levels (or categories) for a qualitative variable (categorical variable), we will use (n - 1) dummy variables, to avoid multi-collinearity (will be discussed later). "
   ]
  },
  {
   "cell_type": "code",
   "execution_count": 111,
   "metadata": {},
   "outputs": [],
   "source": [
    "categorical_features = ['AGE', 'COUNTRY', 'PLAYING ROLE', 'CAPTAINCY EXP']"
   ]
  },
  {
   "cell_type": "code",
   "execution_count": 112,
   "metadata": {},
   "outputs": [],
   "source": [
    "ipl_auction_encoded_df = pd.get_dummies( ipl_auction_df[X_features], \n",
    "                                        columns = categorical_features,\n",
    "                                        drop_first = True )"
   ]
  },
  {
   "cell_type": "code",
   "execution_count": 113,
   "metadata": {},
   "outputs": [
    {
     "data": {
      "text/plain": [
       "Index(['T-RUNS', 'T-WKTS', 'ODI-RUNS-S', 'ODI-SR-B', 'ODI-WKTS', 'ODI-SR-BL',\n",
       "       'RUNS-S', 'HS', 'AVE', 'SR-B', 'SIXERS', 'RUNS-C', 'WKTS', 'AVE-BL',\n",
       "       'ECON', 'SR-BL', 'AGE_2', 'AGE_3', 'COUNTRY_BAN', 'COUNTRY_ENG',\n",
       "       'COUNTRY_IND', 'COUNTRY_NZ', 'COUNTRY_PAK', 'COUNTRY_SA', 'COUNTRY_SL',\n",
       "       'COUNTRY_WI', 'COUNTRY_ZIM', 'PLAYING ROLE_Batsman',\n",
       "       'PLAYING ROLE_Bowler', 'PLAYING ROLE_W. Keeper', 'CAPTAINCY EXP_1'],\n",
       "      dtype='object')"
      ]
     },
     "execution_count": 113,
     "metadata": {},
     "output_type": "execute_result"
    }
   ],
   "source": [
    "ipl_auction_encoded_df.columns"
   ]
  },
  {
   "cell_type": "markdown",
   "metadata": {},
   "source": [
    "Now, the columns contain the new dummy variables created. We can reassign the new features to the variable *X_features*, which we created earlier to keep track of all features that will be used to build the model finally."
   ]
  },
  {
   "cell_type": "code",
   "execution_count": 114,
   "metadata": {},
   "outputs": [],
   "source": [
    "X_features = ipl_auction_encoded_df.columns"
   ]
  },
  {
   "cell_type": "markdown",
   "metadata": {},
   "source": [
    "### Splitting the dataset into train and validation sets"
   ]
  },
  {
   "cell_type": "code",
   "execution_count": 115,
   "metadata": {},
   "outputs": [],
   "source": [
    "X = sm.add_constant( ipl_auction_encoded_df )\n",
    "Y = ipl_auction_df['SOLD PRICE']\n",
    "\n",
    "train_X, test_X, train_y, test_y = train_test_split( X ,\n",
    "                                                     Y,\n",
    "                                                    train_size = 0.8,\n",
    "                                                    random_state = 42 )"
   ]
  },
  {
   "cell_type": "markdown",
   "metadata": {},
   "source": [
    "### Building the model on training dataset"
   ]
  },
  {
   "cell_type": "code",
   "execution_count": 116,
   "metadata": {},
   "outputs": [
    {
     "data": {
      "text/html": [
       "<table class=\"simpletable\">\n",
       "<tr>\n",
       "        <td>Model:</td>               <td>OLS</td>         <td>Adj. R-squared:</td>      <td>0.362</td>  \n",
       "</tr>\n",
       "<tr>\n",
       "  <td>Dependent Variable:</td>    <td>SOLD PRICE</td>           <td>AIC:</td>          <td>2965.2841</td>\n",
       "</tr>\n",
       "<tr>\n",
       "         <td>Date:</td>        <td>2021-03-04 15:05</td>        <td>BIC:</td>          <td>3049.9046</td>\n",
       "</tr>\n",
       "<tr>\n",
       "   <td>No. Observations:</td>         <td>104</td>         <td>Log-Likelihood:</td>     <td>-1450.6</td> \n",
       "</tr>\n",
       "<tr>\n",
       "       <td>Df Model:</td>             <td>31</td>           <td>F-statistic:</td>        <td>2.883</td>  \n",
       "</tr>\n",
       "<tr>\n",
       "     <td>Df Residuals:</td>           <td>72</td>        <td>Prob (F-statistic):</td>  <td>0.000114</td> \n",
       "</tr>\n",
       "<tr>\n",
       "      <td>R-squared:</td>            <td>0.554</td>            <td>Scale:</td>        <td>1.1034e+11</td>\n",
       "</tr>\n",
       "</table>\n",
       "<table class=\"simpletable\">\n",
       "<tr>\n",
       "             <td></td>                <th>Coef.</th>     <th>Std.Err.</th>      <th>t</th>     <th>P>|t|</th>    <th>[0.025</th>       <th>0.975]</th>   \n",
       "</tr>\n",
       "<tr>\n",
       "  <th>const</th>                   <td>375827.1991</td> <td>228849.9306</td> <td>1.6422</td>  <td>0.1049</td>  <td>-80376.7996</td>  <td>832031.1978</td>\n",
       "</tr>\n",
       "<tr>\n",
       "  <th>T-RUNS</th>                   <td>-53.7890</td>     <td>32.7172</td>   <td>-1.6441</td> <td>0.1045</td>   <td>-119.0096</td>     <td>11.4316</td>  \n",
       "</tr>\n",
       "<tr>\n",
       "  <th>T-WKTS</th>                   <td>-132.5967</td>   <td>609.7525</td>   <td>-0.2175</td> <td>0.8285</td>  <td>-1348.1162</td>    <td>1082.9228</td> \n",
       "</tr>\n",
       "<tr>\n",
       "  <th>ODI-RUNS-S</th>                <td>57.9600</td>     <td>31.5071</td>   <td>1.8396</td>  <td>0.0700</td>    <td>-4.8482</td>     <td>120.7681</td>  \n",
       "</tr>\n",
       "<tr>\n",
       "  <th>ODI-SR-B</th>                 <td>-524.1450</td>   <td>1576.6368</td>  <td>-0.3324</td> <td>0.7405</td>  <td>-3667.1130</td>    <td>2618.8231</td> \n",
       "</tr>\n",
       "<tr>\n",
       "  <th>ODI-WKTS</th>                 <td>815.3944</td>    <td>832.3883</td>   <td>0.9796</td>  <td>0.3306</td>   <td>-843.9413</td>    <td>2474.7301</td> \n",
       "</tr>\n",
       "<tr>\n",
       "  <th>ODI-SR-BL</th>                <td>-773.3092</td>   <td>1536.3334</td>  <td>-0.5033</td> <td>0.6163</td>  <td>-3835.9338</td>    <td>2289.3154</td> \n",
       "</tr>\n",
       "<tr>\n",
       "  <th>RUNS-S</th>                   <td>114.7205</td>    <td>173.3088</td>   <td>0.6619</td>  <td>0.5101</td>   <td>-230.7643</td>    <td>460.2054</td>  \n",
       "</tr>\n",
       "<tr>\n",
       "  <th>HS</th>                      <td>-5516.3354</td>   <td>2586.3277</td>  <td>-2.1329</td> <td>0.0363</td>  <td>-10672.0855</td>   <td>-360.5853</td> \n",
       "</tr>\n",
       "<tr>\n",
       "  <th>AVE</th>                     <td>21560.2760</td>   <td>7774.2419</td>  <td>2.7733</td>  <td>0.0071</td>   <td>6062.6080</td>   <td>37057.9439</td> \n",
       "</tr>\n",
       "<tr>\n",
       "  <th>SR-B</th>                    <td>-1324.7218</td>   <td>1373.1303</td>  <td>-0.9647</td> <td>0.3379</td>  <td>-4062.0071</td>    <td>1412.5635</td> \n",
       "</tr>\n",
       "<tr>\n",
       "  <th>SIXERS</th>                   <td>4264.1001</td>   <td>4089.6000</td>  <td>1.0427</td>  <td>0.3006</td>  <td>-3888.3685</td>   <td>12416.5687</td> \n",
       "</tr>\n",
       "<tr>\n",
       "  <th>RUNS-C</th>                    <td>69.8250</td>    <td>297.6697</td>   <td>0.2346</td>  <td>0.8152</td>   <td>-523.5687</td>    <td>663.2187</td>  \n",
       "</tr>\n",
       "<tr>\n",
       "  <th>WKTS</th>                     <td>3075.2422</td>   <td>7262.4452</td>  <td>0.4234</td>  <td>0.6732</td>  <td>-11402.1778</td>  <td>17552.6622</td> \n",
       "</tr>\n",
       "<tr>\n",
       "  <th>AVE-BL</th>                   <td>5182.9335</td>  <td>10230.1581</td>  <td>0.5066</td>  <td>0.6140</td>  <td>-15210.5140</td>  <td>25576.3810</td> \n",
       "</tr>\n",
       "<tr>\n",
       "  <th>ECON</th>                    <td>-6820.7781</td>  <td>13109.3693</td>  <td>-0.5203</td> <td>0.6045</td>  <td>-32953.8282</td>  <td>19312.2721</td> \n",
       "</tr>\n",
       "<tr>\n",
       "  <th>SR-BL</th>                   <td>-7658.8094</td>  <td>14041.8735</td>  <td>-0.5454</td> <td>0.5871</td>  <td>-35650.7726</td>  <td>20333.1539</td> \n",
       "</tr>\n",
       "<tr>\n",
       "  <th>AGE_2</th>                  <td>-230767.6463</td> <td>114117.2005</td> <td>-2.0222</td> <td>0.0469</td> <td>-458256.1279</td>  <td>-3279.1648</td> \n",
       "</tr>\n",
       "<tr>\n",
       "  <th>AGE_3</th>                  <td>-216827.0808</td> <td>152246.6232</td> <td>-1.4242</td> <td>0.1587</td> <td>-520325.1772</td>  <td>86671.0155</td> \n",
       "</tr>\n",
       "<tr>\n",
       "  <th>COUNTRY_BAN</th>            <td>-122103.5196</td> <td>438719.2796</td> <td>-0.2783</td> <td>0.7816</td> <td>-996674.4194</td>  <td>752467.3801</td>\n",
       "</tr>\n",
       "<tr>\n",
       "  <th>COUNTRY_ENG</th>             <td>672410.7654</td> <td>238386.2220</td> <td>2.8207</td>  <td>0.0062</td>  <td>197196.5172</td> <td>1147625.0135</td>\n",
       "</tr>\n",
       "<tr>\n",
       "  <th>COUNTRY_IND</th>             <td>155306.4011</td> <td>126316.3449</td> <td>1.2295</td>  <td>0.2229</td>  <td>-96500.6302</td>  <td>407113.4325</td>\n",
       "</tr>\n",
       "<tr>\n",
       "  <th>COUNTRY_NZ</th>              <td>194218.9120</td> <td>173491.9293</td> <td>1.1195</td>  <td>0.2667</td> <td>-151630.9280</td>  <td>540068.7521</td>\n",
       "</tr>\n",
       "<tr>\n",
       "  <th>COUNTRY_PAK</th>             <td>75921.7670</td>  <td>193463.5545</td> <td>0.3924</td>  <td>0.6959</td> <td>-309740.7804</td>  <td>461584.3143</td>\n",
       "</tr>\n",
       "<tr>\n",
       "  <th>COUNTRY_SA</th>              <td>64283.3894</td>  <td>144587.6773</td> <td>0.4446</td>  <td>0.6579</td> <td>-223946.8775</td>  <td>352513.6563</td>\n",
       "</tr>\n",
       "<tr>\n",
       "  <th>COUNTRY_SL</th>              <td>17360.1530</td>  <td>176333.7497</td> <td>0.0985</td>  <td>0.9218</td> <td>-334154.7526</td>  <td>368875.0586</td>\n",
       "</tr>\n",
       "<tr>\n",
       "  <th>COUNTRY_WI</th>              <td>10607.7792</td>  <td>230686.7892</td> <td>0.0460</td>  <td>0.9635</td> <td>-449257.9303</td>  <td>470473.4887</td>\n",
       "</tr>\n",
       "<tr>\n",
       "  <th>COUNTRY_ZIM</th>            <td>-145494.4793</td> <td>401505.2815</td> <td>-0.3624</td> <td>0.7181</td> <td>-945880.6296</td>  <td>654891.6710</td>\n",
       "</tr>\n",
       "<tr>\n",
       "  <th>PLAYING ROLE_Batsman</th>    <td>75724.7643</td>  <td>150250.0240</td> <td>0.5040</td>  <td>0.6158</td> <td>-223793.1844</td>  <td>375242.7130</td>\n",
       "</tr>\n",
       "<tr>\n",
       "  <th>PLAYING ROLE_Bowler</th>     <td>15395.8752</td>  <td>126308.1272</td> <td>0.1219</td>  <td>0.9033</td> <td>-236394.7744</td>  <td>267186.5249</td>\n",
       "</tr>\n",
       "<tr>\n",
       "  <th>PLAYING ROLE_W. Keeper</th>  <td>-71358.6280</td> <td>213585.7444</td> <td>-0.3341</td> <td>0.7393</td> <td>-497134.0278</td>  <td>354416.7718</td>\n",
       "</tr>\n",
       "<tr>\n",
       "  <th>CAPTAINCY EXP_1</th>         <td>164113.3972</td> <td>123430.6353</td> <td>1.3296</td>  <td>0.1878</td>  <td>-81941.0772</td>  <td>410167.8716</td>\n",
       "</tr>\n",
       "</table>\n",
       "<table class=\"simpletable\">\n",
       "<tr>\n",
       "     <td>Omnibus:</td>    <td>0.891</td>  <td>Durbin-Watson:</td>   <td>2.244</td>\n",
       "</tr>\n",
       "<tr>\n",
       "  <td>Prob(Omnibus):</td> <td>0.640</td> <td>Jarque-Bera (JB):</td> <td>0.638</td>\n",
       "</tr>\n",
       "<tr>\n",
       "       <td>Skew:</td>     <td>0.190</td>     <td>Prob(JB):</td>     <td>0.727</td>\n",
       "</tr>\n",
       "<tr>\n",
       "     <td>Kurtosis:</td>   <td>3.059</td>  <td>Condition No.:</td>   <td>84116</td>\n",
       "</tr>\n",
       "</table>"
      ],
      "text/plain": [
       "<class 'statsmodels.iolib.summary2.Summary'>\n",
       "\"\"\"\n",
       "                            Results: Ordinary least squares\n",
       "========================================================================================\n",
       "Model:                     OLS                     Adj. R-squared:            0.362     \n",
       "Dependent Variable:        SOLD PRICE              AIC:                       2965.2841 \n",
       "Date:                      2021-03-04 15:05        BIC:                       3049.9046 \n",
       "No. Observations:          104                     Log-Likelihood:            -1450.6   \n",
       "Df Model:                  31                      F-statistic:               2.883     \n",
       "Df Residuals:              72                      Prob (F-statistic):        0.000114  \n",
       "R-squared:                 0.554                   Scale:                     1.1034e+11\n",
       "----------------------------------------------------------------------------------------\n",
       "                          Coef.       Std.Err.     t    P>|t|     [0.025       0.975]   \n",
       "----------------------------------------------------------------------------------------\n",
       "const                   375827.1991 228849.9306  1.6422 0.1049  -80376.7996  832031.1978\n",
       "T-RUNS                     -53.7890     32.7172 -1.6441 0.1045    -119.0096      11.4316\n",
       "T-WKTS                    -132.5967    609.7525 -0.2175 0.8285   -1348.1162    1082.9228\n",
       "ODI-RUNS-S                  57.9600     31.5071  1.8396 0.0700      -4.8482     120.7681\n",
       "ODI-SR-B                  -524.1450   1576.6368 -0.3324 0.7405   -3667.1130    2618.8231\n",
       "ODI-WKTS                   815.3944    832.3883  0.9796 0.3306    -843.9413    2474.7301\n",
       "ODI-SR-BL                 -773.3092   1536.3334 -0.5033 0.6163   -3835.9338    2289.3154\n",
       "RUNS-S                     114.7205    173.3088  0.6619 0.5101    -230.7643     460.2054\n",
       "HS                       -5516.3354   2586.3277 -2.1329 0.0363  -10672.0855    -360.5853\n",
       "AVE                      21560.2760   7774.2419  2.7733 0.0071    6062.6080   37057.9439\n",
       "SR-B                     -1324.7218   1373.1303 -0.9647 0.3379   -4062.0071    1412.5635\n",
       "SIXERS                    4264.1001   4089.6000  1.0427 0.3006   -3888.3685   12416.5687\n",
       "RUNS-C                      69.8250    297.6697  0.2346 0.8152    -523.5687     663.2187\n",
       "WKTS                      3075.2422   7262.4452  0.4234 0.6732  -11402.1778   17552.6622\n",
       "AVE-BL                    5182.9335  10230.1581  0.5066 0.6140  -15210.5140   25576.3810\n",
       "ECON                     -6820.7781  13109.3693 -0.5203 0.6045  -32953.8282   19312.2721\n",
       "SR-BL                    -7658.8094  14041.8735 -0.5454 0.5871  -35650.7726   20333.1539\n",
       "AGE_2                  -230767.6463 114117.2005 -2.0222 0.0469 -458256.1279   -3279.1648\n",
       "AGE_3                  -216827.0808 152246.6232 -1.4242 0.1587 -520325.1772   86671.0155\n",
       "COUNTRY_BAN            -122103.5196 438719.2796 -0.2783 0.7816 -996674.4194  752467.3801\n",
       "COUNTRY_ENG             672410.7654 238386.2220  2.8207 0.0062  197196.5172 1147625.0135\n",
       "COUNTRY_IND             155306.4011 126316.3449  1.2295 0.2229  -96500.6302  407113.4325\n",
       "COUNTRY_NZ              194218.9120 173491.9293  1.1195 0.2667 -151630.9280  540068.7521\n",
       "COUNTRY_PAK              75921.7670 193463.5545  0.3924 0.6959 -309740.7804  461584.3143\n",
       "COUNTRY_SA               64283.3894 144587.6773  0.4446 0.6579 -223946.8775  352513.6563\n",
       "COUNTRY_SL               17360.1530 176333.7497  0.0985 0.9218 -334154.7526  368875.0586\n",
       "COUNTRY_WI               10607.7792 230686.7892  0.0460 0.9635 -449257.9303  470473.4887\n",
       "COUNTRY_ZIM            -145494.4793 401505.2815 -0.3624 0.7181 -945880.6296  654891.6710\n",
       "PLAYING ROLE_Batsman     75724.7643 150250.0240  0.5040 0.6158 -223793.1844  375242.7130\n",
       "PLAYING ROLE_Bowler      15395.8752 126308.1272  0.1219 0.9033 -236394.7744  267186.5249\n",
       "PLAYING ROLE_W. Keeper  -71358.6280 213585.7444 -0.3341 0.7393 -497134.0278  354416.7718\n",
       "CAPTAINCY EXP_1         164113.3972 123430.6353  1.3296 0.1878  -81941.0772  410167.8716\n",
       "----------------------------------------------------------------------------------------\n",
       "Omnibus:                       0.891               Durbin-Watson:                  2.244\n",
       "Prob(Omnibus):                 0.640               Jarque-Bera (JB):               0.638\n",
       "Skew:                          0.190               Prob(JB):                       0.727\n",
       "Kurtosis:                      3.059               Condition No.:                  84116\n",
       "========================================================================================\n",
       "* The condition number is large (8e+04). This might indicate             strong\n",
       "multicollinearity or other numerical problems.\n",
       "\"\"\""
      ]
     },
     "execution_count": 116,
     "metadata": {},
     "output_type": "execute_result"
    }
   ],
   "source": [
    "ipl_model_1 = sm.OLS(train_y, train_X).fit()\n",
    "ipl_model_1.summary2()"
   ]
  },
  {
   "cell_type": "markdown",
   "metadata": {},
   "source": [
    "As per the p_value (<0.05), only the features *HS*, *AGE_2*, *AVE* and *COUNTRY_ENG* have come out significant."
   ]
  },
  {
   "cell_type": "markdown",
   "metadata": {},
   "source": [
    "#### Removing multi-collinearity"
   ]
  },
  {
   "cell_type": "markdown",
   "metadata": {},
   "source": [
    "- When the dataset has a large number of independent variables, it is possible that few of these independent variables may be highly correlated. \n",
    "- Existence of high correlation between independent variables is called multi-collinearity. \n",
    "- Presence of multi-collinearity can destabilize the multiple regression model. \n",
    "- Thus, it is necessary to identify the presence of multi-collinearity and take corrective actions. \n",
    "\n",
    "To find multi-collinearity, a regression model between the explanatory variables. For example, between $X_{1}$ and $X_{2}$.\n",
    "\n",
    "$X_{1} = \\alpha_{0} + \\alpha_{0}X_{2}$\n",
    "\n",
    "and let's say $R_{12}$ is the r-squared value of this model. Then Variance inflation factor (VIF), which is a measure of multi-collinearity can be given by,\n",
    "\n",
    "$VIF = \\frac{1}{(1 - R_{12}^2)}$\n",
    "\n",
    "- If the variables explain each other, then As $R_{12}$ will increase and inflate the VIF value. \n",
    "- VIF value of greater than 4 requires further investigation to assess the impact of multi-collinearity. \n",
    "- One  approach to eliminate multi-collinearity is to remove one of the variables from the model building. \n",
    "\n",
    "*variance_inflation_factor()* of *statsmodels.stats.outliers_influence*. The following method is written to calculate VIF and assign the VIF to the columns and return a dataframe.  "
   ]
  },
  {
   "cell_type": "code",
   "execution_count": 123,
   "metadata": {},
   "outputs": [],
   "source": [
    "from statsmodels.stats.outliers_influence import variance_inflation_factor\n",
    "\n",
    "def get_vif_factors( X ):\n",
    "    X_matrix = X.to_numpy()\n",
    "    vif = [ variance_inflation_factor( X_matrix, i ) for i in range( X_matrix.shape[1] ) ]\n",
    "    vif_factors = pd.DataFrame()\n",
    "    vif_factors['column'] = X.columns\n",
    "    vif_factors['vif'] = vif\n",
    "    \n",
    "    return vif_factors"
   ]
  },
  {
   "cell_type": "markdown",
   "metadata": {},
   "source": [
    "Now, calling the above method with the X features will return the VIF for the corresponding columns."
   ]
  },
  {
   "cell_type": "code",
   "execution_count": 124,
   "metadata": {},
   "outputs": [
    {
     "data": {
      "text/html": [
       "<div>\n",
       "<style scoped>\n",
       "    .dataframe tbody tr th:only-of-type {\n",
       "        vertical-align: middle;\n",
       "    }\n",
       "\n",
       "    .dataframe tbody tr th {\n",
       "        vertical-align: top;\n",
       "    }\n",
       "\n",
       "    .dataframe thead th {\n",
       "        text-align: right;\n",
       "    }\n",
       "</style>\n",
       "<table border=\"1\" class=\"dataframe\">\n",
       "  <thead>\n",
       "    <tr style=\"text-align: right;\">\n",
       "      <th></th>\n",
       "      <th>column</th>\n",
       "      <th>vif</th>\n",
       "    </tr>\n",
       "  </thead>\n",
       "  <tbody>\n",
       "    <tr>\n",
       "      <th>0</th>\n",
       "      <td>T-RUNS</td>\n",
       "      <td>12.612694</td>\n",
       "    </tr>\n",
       "    <tr>\n",
       "      <th>1</th>\n",
       "      <td>T-WKTS</td>\n",
       "      <td>7.679284</td>\n",
       "    </tr>\n",
       "    <tr>\n",
       "      <th>2</th>\n",
       "      <td>ODI-RUNS-S</td>\n",
       "      <td>16.426209</td>\n",
       "    </tr>\n",
       "    <tr>\n",
       "      <th>3</th>\n",
       "      <td>ODI-SR-B</td>\n",
       "      <td>13.829376</td>\n",
       "    </tr>\n",
       "    <tr>\n",
       "      <th>4</th>\n",
       "      <td>ODI-WKTS</td>\n",
       "      <td>9.951800</td>\n",
       "    </tr>\n",
       "    <tr>\n",
       "      <th>5</th>\n",
       "      <td>ODI-SR-BL</td>\n",
       "      <td>4.426818</td>\n",
       "    </tr>\n",
       "    <tr>\n",
       "      <th>6</th>\n",
       "      <td>RUNS-S</td>\n",
       "      <td>16.135407</td>\n",
       "    </tr>\n",
       "    <tr>\n",
       "      <th>7</th>\n",
       "      <td>HS</td>\n",
       "      <td>22.781017</td>\n",
       "    </tr>\n",
       "    <tr>\n",
       "      <th>8</th>\n",
       "      <td>AVE</td>\n",
       "      <td>25.226566</td>\n",
       "    </tr>\n",
       "    <tr>\n",
       "      <th>9</th>\n",
       "      <td>SR-B</td>\n",
       "      <td>21.576204</td>\n",
       "    </tr>\n",
       "    <tr>\n",
       "      <th>10</th>\n",
       "      <td>SIXERS</td>\n",
       "      <td>9.547268</td>\n",
       "    </tr>\n",
       "    <tr>\n",
       "      <th>11</th>\n",
       "      <td>RUNS-C</td>\n",
       "      <td>38.229691</td>\n",
       "    </tr>\n",
       "    <tr>\n",
       "      <th>12</th>\n",
       "      <td>WKTS</td>\n",
       "      <td>33.366067</td>\n",
       "    </tr>\n",
       "    <tr>\n",
       "      <th>13</th>\n",
       "      <td>AVE-BL</td>\n",
       "      <td>100.198105</td>\n",
       "    </tr>\n",
       "    <tr>\n",
       "      <th>14</th>\n",
       "      <td>ECON</td>\n",
       "      <td>7.650140</td>\n",
       "    </tr>\n",
       "    <tr>\n",
       "      <th>15</th>\n",
       "      <td>SR-BL</td>\n",
       "      <td>103.723846</td>\n",
       "    </tr>\n",
       "    <tr>\n",
       "      <th>16</th>\n",
       "      <td>AGE_2</td>\n",
       "      <td>6.996226</td>\n",
       "    </tr>\n",
       "    <tr>\n",
       "      <th>17</th>\n",
       "      <td>AGE_3</td>\n",
       "      <td>3.855003</td>\n",
       "    </tr>\n",
       "    <tr>\n",
       "      <th>18</th>\n",
       "      <td>COUNTRY_BAN</td>\n",
       "      <td>1.469017</td>\n",
       "    </tr>\n",
       "    <tr>\n",
       "      <th>19</th>\n",
       "      <td>COUNTRY_ENG</td>\n",
       "      <td>1.391524</td>\n",
       "    </tr>\n",
       "    <tr>\n",
       "      <th>20</th>\n",
       "      <td>COUNTRY_IND</td>\n",
       "      <td>4.568898</td>\n",
       "    </tr>\n",
       "    <tr>\n",
       "      <th>21</th>\n",
       "      <td>COUNTRY_NZ</td>\n",
       "      <td>1.497856</td>\n",
       "    </tr>\n",
       "    <tr>\n",
       "      <th>22</th>\n",
       "      <td>COUNTRY_PAK</td>\n",
       "      <td>1.796355</td>\n",
       "    </tr>\n",
       "    <tr>\n",
       "      <th>23</th>\n",
       "      <td>COUNTRY_SA</td>\n",
       "      <td>1.886555</td>\n",
       "    </tr>\n",
       "    <tr>\n",
       "      <th>24</th>\n",
       "      <td>COUNTRY_SL</td>\n",
       "      <td>1.984902</td>\n",
       "    </tr>\n",
       "    <tr>\n",
       "      <th>25</th>\n",
       "      <td>COUNTRY_WI</td>\n",
       "      <td>1.531847</td>\n",
       "    </tr>\n",
       "    <tr>\n",
       "      <th>26</th>\n",
       "      <td>COUNTRY_ZIM</td>\n",
       "      <td>1.312168</td>\n",
       "    </tr>\n",
       "    <tr>\n",
       "      <th>27</th>\n",
       "      <td>PLAYING ROLE_Batsman</td>\n",
       "      <td>4.843136</td>\n",
       "    </tr>\n",
       "    <tr>\n",
       "      <th>28</th>\n",
       "      <td>PLAYING ROLE_Bowler</td>\n",
       "      <td>3.795864</td>\n",
       "    </tr>\n",
       "    <tr>\n",
       "      <th>29</th>\n",
       "      <td>PLAYING ROLE_W. Keeper</td>\n",
       "      <td>3.132044</td>\n",
       "    </tr>\n",
       "    <tr>\n",
       "      <th>30</th>\n",
       "      <td>CAPTAINCY EXP_1</td>\n",
       "      <td>4.245128</td>\n",
       "    </tr>\n",
       "  </tbody>\n",
       "</table>\n",
       "</div>"
      ],
      "text/plain": [
       "                    column         vif\n",
       "0                   T-RUNS   12.612694\n",
       "1                   T-WKTS    7.679284\n",
       "2               ODI-RUNS-S   16.426209\n",
       "3                 ODI-SR-B   13.829376\n",
       "4                 ODI-WKTS    9.951800\n",
       "5                ODI-SR-BL    4.426818\n",
       "6                   RUNS-S   16.135407\n",
       "7                       HS   22.781017\n",
       "8                      AVE   25.226566\n",
       "9                     SR-B   21.576204\n",
       "10                  SIXERS    9.547268\n",
       "11                  RUNS-C   38.229691\n",
       "12                    WKTS   33.366067\n",
       "13                  AVE-BL  100.198105\n",
       "14                    ECON    7.650140\n",
       "15                   SR-BL  103.723846\n",
       "16                   AGE_2    6.996226\n",
       "17                   AGE_3    3.855003\n",
       "18             COUNTRY_BAN    1.469017\n",
       "19             COUNTRY_ENG    1.391524\n",
       "20             COUNTRY_IND    4.568898\n",
       "21              COUNTRY_NZ    1.497856\n",
       "22             COUNTRY_PAK    1.796355\n",
       "23              COUNTRY_SA    1.886555\n",
       "24              COUNTRY_SL    1.984902\n",
       "25              COUNTRY_WI    1.531847\n",
       "26             COUNTRY_ZIM    1.312168\n",
       "27    PLAYING ROLE_Batsman    4.843136\n",
       "28     PLAYING ROLE_Bowler    3.795864\n",
       "29  PLAYING ROLE_W. Keeper    3.132044\n",
       "30         CAPTAINCY EXP_1    4.245128"
      ]
     },
     "execution_count": 124,
     "metadata": {},
     "output_type": "execute_result"
    }
   ],
   "source": [
    "vif_factors = get_vif_factors( X[X_features] )\n",
    "vif_factors"
   ]
  },
  {
   "cell_type": "markdown",
   "metadata": {},
   "source": [
    "#### Checking correlation of columns with large VIFs\n",
    "\n",
    "We can generate a correlation heatmap to understand corrrelation between variables and which ones could be selected and which ones could eliminated. We will first select the features that have *VIF* more than 4."
   ]
  },
  {
   "cell_type": "code",
   "execution_count": 125,
   "metadata": {},
   "outputs": [],
   "source": [
    "columns_with_large_vif = vif_factors[vif_factors.vif > 4].column"
   ]
  },
  {
   "cell_type": "markdown",
   "metadata": {},
   "source": [
    "Then plot the heapmap for the features with VIF more than 4."
   ]
  },
  {
   "cell_type": "code",
   "execution_count": 129,
   "metadata": {},
   "outputs": [
    {
     "data": {
      "image/png": "[encoded data removed]",
      "text/plain": [
       "<Figure size 864x720 with 2 Axes>"
      ]
     },
     "metadata": {
      "needs_background": "light"
     },
     "output_type": "display_data"
    }
   ],
   "source": [
    "plt.figure( figsize = (12,10) )\n",
    "sn.heatmap( X[columns_with_large_vif].corr(), \n",
    "            annot = True,\n",
    "            cmap = sn.diverging_palette(240, 10));"
   ]
  },
  {
   "cell_type": "markdown",
   "metadata": {},
   "source": [
    "The following are the observations from the heatmap.\n",
    "\n",
    "- *T-RUNS* and *ODI-RUNS-S* are highly correlated, where are *ODI-WKTS* and *T-WKTS* are highly correlated. \n",
    "- batsman features like *RUNS-S*, *HS*, *AVE*, *SIXERS* are highly correlated, while bowlers features like *AVE-BL*, *ECON* and *SR-BL* are highly correlated.\n",
    "\n",
    "To avoid multi-collinearity, we can keep only one column from each group of highly correlated variables and remove the others. Which one to keep and which one to remove, depends on understanding of the data and the problem. \n",
    "\n",
    "We have decided to remove the following features. Please note that it may take multiple iterations before actually  deciding at a final set of variables, which do not have multi-collinearity. These iterations have been ommited here for simplicity."
   ]
  },
  {
   "cell_type": "code",
   "execution_count": 130,
   "metadata": {},
   "outputs": [],
   "source": [
    "columns_to_be_removed = ['T-RUNS', 'T-WKTS', 'RUNS-S', 'HS', \n",
    "                         'AVE', 'RUNS-C', 'SR-B', 'AVE-BL', \n",
    "                         'ECON', 'ODI-SR-B', 'ODI-RUNS-S', 'AGE_2', 'SR-BL']"
   ]
  },
  {
   "cell_type": "code",
   "execution_count": 131,
   "metadata": {},
   "outputs": [],
   "source": [
    "X_new_features = list( set(X_features) - set(columns_to_be_removed) )"
   ]
  },
  {
   "cell_type": "code",
   "execution_count": 132,
   "metadata": {},
   "outputs": [
    {
     "data": {
      "text/html": [
       "<div>\n",
       "<style scoped>\n",
       "    .dataframe tbody tr th:only-of-type {\n",
       "        vertical-align: middle;\n",
       "    }\n",
       "\n",
       "    .dataframe tbody tr th {\n",
       "        vertical-align: top;\n",
       "    }\n",
       "\n",
       "    .dataframe thead th {\n",
       "        text-align: right;\n",
       "    }\n",
       "</style>\n",
       "<table border=\"1\" class=\"dataframe\">\n",
       "  <thead>\n",
       "    <tr style=\"text-align: right;\">\n",
       "      <th></th>\n",
       "      <th>column</th>\n",
       "      <th>vif</th>\n",
       "    </tr>\n",
       "  </thead>\n",
       "  <tbody>\n",
       "    <tr>\n",
       "      <th>0</th>\n",
       "      <td>COUNTRY_NZ</td>\n",
       "      <td>1.173418</td>\n",
       "    </tr>\n",
       "    <tr>\n",
       "      <th>1</th>\n",
       "      <td>COUNTRY_WI</td>\n",
       "      <td>1.194093</td>\n",
       "    </tr>\n",
       "    <tr>\n",
       "      <th>2</th>\n",
       "      <td>WKTS</td>\n",
       "      <td>2.883101</td>\n",
       "    </tr>\n",
       "    <tr>\n",
       "      <th>3</th>\n",
       "      <td>ODI-WKTS</td>\n",
       "      <td>2.742889</td>\n",
       "    </tr>\n",
       "    <tr>\n",
       "      <th>4</th>\n",
       "      <td>ODI-SR-BL</td>\n",
       "      <td>2.822148</td>\n",
       "    </tr>\n",
       "    <tr>\n",
       "      <th>5</th>\n",
       "      <td>COUNTRY_PAK</td>\n",
       "      <td>1.334773</td>\n",
       "    </tr>\n",
       "    <tr>\n",
       "      <th>6</th>\n",
       "      <td>COUNTRY_ENG</td>\n",
       "      <td>1.131869</td>\n",
       "    </tr>\n",
       "    <tr>\n",
       "      <th>7</th>\n",
       "      <td>COUNTRY_IND</td>\n",
       "      <td>3.144668</td>\n",
       "    </tr>\n",
       "    <tr>\n",
       "      <th>8</th>\n",
       "      <td>CAPTAINCY EXP_1</td>\n",
       "      <td>2.458745</td>\n",
       "    </tr>\n",
       "    <tr>\n",
       "      <th>9</th>\n",
       "      <td>COUNTRY_BAN</td>\n",
       "      <td>1.094293</td>\n",
       "    </tr>\n",
       "    <tr>\n",
       "      <th>10</th>\n",
       "      <td>PLAYING ROLE_W. Keeper</td>\n",
       "      <td>1.900941</td>\n",
       "    </tr>\n",
       "    <tr>\n",
       "      <th>11</th>\n",
       "      <td>COUNTRY_ZIM</td>\n",
       "      <td>1.205305</td>\n",
       "    </tr>\n",
       "    <tr>\n",
       "      <th>12</th>\n",
       "      <td>PLAYING ROLE_Bowler</td>\n",
       "      <td>3.060168</td>\n",
       "    </tr>\n",
       "    <tr>\n",
       "      <th>13</th>\n",
       "      <td>PLAYING ROLE_Batsman</td>\n",
       "      <td>2.680207</td>\n",
       "    </tr>\n",
       "    <tr>\n",
       "      <th>14</th>\n",
       "      <td>AGE_3</td>\n",
       "      <td>1.779861</td>\n",
       "    </tr>\n",
       "    <tr>\n",
       "      <th>15</th>\n",
       "      <td>SIXERS</td>\n",
       "      <td>2.397409</td>\n",
       "    </tr>\n",
       "    <tr>\n",
       "      <th>16</th>\n",
       "      <td>COUNTRY_SA</td>\n",
       "      <td>1.416657</td>\n",
       "    </tr>\n",
       "    <tr>\n",
       "      <th>17</th>\n",
       "      <td>COUNTRY_SL</td>\n",
       "      <td>1.519752</td>\n",
       "    </tr>\n",
       "  </tbody>\n",
       "</table>\n",
       "</div>"
      ],
      "text/plain": [
       "                    column       vif\n",
       "0               COUNTRY_NZ  1.173418\n",
       "1               COUNTRY_WI  1.194093\n",
       "2                     WKTS  2.883101\n",
       "3                 ODI-WKTS  2.742889\n",
       "4                ODI-SR-BL  2.822148\n",
       "5              COUNTRY_PAK  1.334773\n",
       "6              COUNTRY_ENG  1.131869\n",
       "7              COUNTRY_IND  3.144668\n",
       "8          CAPTAINCY EXP_1  2.458745\n",
       "9              COUNTRY_BAN  1.094293\n",
       "10  PLAYING ROLE_W. Keeper  1.900941\n",
       "11             COUNTRY_ZIM  1.205305\n",
       "12     PLAYING ROLE_Bowler  3.060168\n",
       "13    PLAYING ROLE_Batsman  2.680207\n",
       "14                   AGE_3  1.779861\n",
       "15                  SIXERS  2.397409\n",
       "16              COUNTRY_SA  1.416657\n",
       "17              COUNTRY_SL  1.519752"
      ]
     },
     "execution_count": 132,
     "metadata": {},
     "output_type": "execute_result"
    }
   ],
   "source": [
    "get_vif_factors( X[X_new_features] )"
   ]
  },
  {
   "cell_type": "markdown",
   "metadata": {},
   "source": [
    "The VIFs on the final set of variables indicate that there is no multi-collinearity present any more. We can proceed to building the model with these set of variables now."
   ]
  },
  {
   "cell_type": "markdown",
   "metadata": {},
   "source": [
    "#### Building a new model after removing multicollinearity"
   ]
  },
  {
   "cell_type": "code",
   "execution_count": 133,
   "metadata": {},
   "outputs": [
    {
     "data": {
      "text/html": [
       "<table class=\"simpletable\">\n",
       "<tr>\n",
       "          <td>Model:</td>                 <td>OLS</td>       <td>Adj. R-squared (uncentered):</td>    <td>0.728</td>  \n",
       "</tr>\n",
       "<tr>\n",
       "    <td>Dependent Variable:</td>      <td>SOLD PRICE</td>                <td>AIC:</td>              <td>2965.1080</td>\n",
       "</tr>\n",
       "<tr>\n",
       "           <td>Date:</td>          <td>2021-03-04 15:13</td>             <td>BIC:</td>              <td>3012.7070</td>\n",
       "</tr>\n",
       "<tr>\n",
       "     <td>No. Observations:</td>           <td>104</td>              <td>Log-Likelihood:</td>         <td>-1464.6</td> \n",
       "</tr>\n",
       "<tr>\n",
       "         <td>Df Model:</td>               <td>18</td>                <td>F-statistic:</td>            <td>16.49</td>  \n",
       "</tr>\n",
       "<tr>\n",
       "       <td>Df Residuals:</td>             <td>86</td>             <td>Prob (F-statistic):</td>      <td>1.13e-20</td> \n",
       "</tr>\n",
       "<tr>\n",
       "  <td>R-squared (uncentered):</td>       <td>0.775</td>                 <td>Scale:</td>            <td>1.2071e+11</td>\n",
       "</tr>\n",
       "</table>\n",
       "<table class=\"simpletable\">\n",
       "<tr>\n",
       "             <td></td>                <th>Coef.</th>     <th>Std.Err.</th>      <th>t</th>     <th>P>|t|</th>    <th>[0.025</th>       <th>0.975]</th>   \n",
       "</tr>\n",
       "<tr>\n",
       "  <th>COUNTRY_NZ</th>              <td>142968.8843</td> <td>151841.7382</td> <td>0.9416</td>  <td>0.3491</td> <td>-158882.5009</td>  <td>444820.2695</td>\n",
       "</tr>\n",
       "<tr>\n",
       "  <th>COUNTRY_WI</th>              <td>-22234.9315</td> <td>213050.5847</td> <td>-0.1044</td> <td>0.9171</td> <td>-445765.4766</td>  <td>401295.6135</td>\n",
       "</tr>\n",
       "<tr>\n",
       "  <th>WKTS</th>                     <td>2431.8988</td>   <td>2105.3524</td>  <td>1.1551</td>  <td>0.2512</td>  <td>-1753.4033</td>    <td>6617.2008</td> \n",
       "</tr>\n",
       "<tr>\n",
       "  <th>ODI-WKTS</th>                 <td>772.4088</td>    <td>470.6354</td>   <td>1.6412</td>  <td>0.1044</td>   <td>-163.1834</td>    <td>1708.0009</td> \n",
       "</tr>\n",
       "<tr>\n",
       "  <th>ODI-SR-BL</th>                <td>909.0021</td>    <td>1267.4969</td>  <td>0.7172</td>  <td>0.4752</td>  <td>-1610.6983</td>    <td>3428.7026</td> \n",
       "</tr>\n",
       "<tr>\n",
       "  <th>COUNTRY_PAK</th>             <td>122810.2480</td> <td>159600.8063</td> <td>0.7695</td>  <td>0.4437</td> <td>-194465.6541</td>  <td>440086.1502</td>\n",
       "</tr>\n",
       "<tr>\n",
       "  <th>COUNTRY_ENG</th>             <td>682934.7166</td> <td>216150.8279</td> <td>3.1595</td>  <td>0.0022</td>  <td>253241.0920</td> <td>1112628.3411</td>\n",
       "</tr>\n",
       "<tr>\n",
       "  <th>COUNTRY_IND</th>             <td>282829.8091</td> <td>96188.0292</td>  <td>2.9404</td>  <td>0.0042</td>  <td>91614.3356</td>   <td>474045.2827</td>\n",
       "</tr>\n",
       "<tr>\n",
       "  <th>CAPTAINCY EXP_1</th>         <td>208376.6957</td> <td>98128.0284</td>  <td>2.1235</td>  <td>0.0366</td>  <td>13304.6315</td>   <td>403448.7600</td>\n",
       "</tr>\n",
       "<tr>\n",
       "  <th>COUNTRY_BAN</th>            <td>-108758.6040</td> <td>369274.1916</td> <td>-0.2945</td> <td>0.7691</td> <td>-842851.4010</td>  <td>625334.1930</td>\n",
       "</tr>\n",
       "<tr>\n",
       "  <th>PLAYING ROLE_W. Keeper</th>  <td>-55121.9240</td> <td>169922.5271</td> <td>-0.3244</td> <td>0.7464</td> <td>-392916.7280</td>  <td>282672.8801</td>\n",
       "</tr>\n",
       "<tr>\n",
       "  <th>COUNTRY_ZIM</th>             <td>-67977.6781</td> <td>390859.9289</td> <td>-0.1739</td> <td>0.8623</td> <td>-844981.5006</td>  <td>709026.1444</td>\n",
       "</tr>\n",
       "<tr>\n",
       "  <th>PLAYING ROLE_Bowler</th>     <td>-18315.4968</td> <td>106035.9664</td> <td>-0.1727</td> <td>0.8633</td> <td>-229108.0215</td>  <td>192477.0279</td>\n",
       "</tr>\n",
       "<tr>\n",
       "  <th>PLAYING ROLE_Batsman</th>    <td>121382.0570</td> <td>106685.0356</td> <td>1.1378</td>  <td>0.2584</td>  <td>-90700.7746</td>  <td>333464.8886</td>\n",
       "</tr>\n",
       "<tr>\n",
       "  <th>AGE_3</th>                   <td>-8950.6659</td>  <td>98041.9325</td>  <td>-0.0913</td> <td>0.9275</td> <td>-203851.5772</td>  <td>185950.2453</td>\n",
       "</tr>\n",
       "<tr>\n",
       "  <th>SIXERS</th>                   <td>7862.1259</td>   <td>2086.6101</td>  <td>3.7679</td>  <td>0.0003</td>   <td>3714.0824</td>   <td>12010.1694</td> \n",
       "</tr>\n",
       "<tr>\n",
       "  <th>COUNTRY_SA</th>              <td>108735.9086</td> <td>115092.9596</td> <td>0.9448</td>  <td>0.3474</td> <td>-120061.3227</td>  <td>337533.1399</td>\n",
       "</tr>\n",
       "<tr>\n",
       "  <th>COUNTRY_SL</th>              <td>55912.3398</td>  <td>142277.1829</td> <td>0.3930</td>  <td>0.6953</td> <td>-226925.3388</td>  <td>338750.0184</td>\n",
       "</tr>\n",
       "</table>\n",
       "<table class=\"simpletable\">\n",
       "<tr>\n",
       "     <td>Omnibus:</td>    <td>8.635</td>  <td>Durbin-Watson:</td>   <td>2.252</td>\n",
       "</tr>\n",
       "<tr>\n",
       "  <td>Prob(Omnibus):</td> <td>0.013</td> <td>Jarque-Bera (JB):</td> <td>8.345</td>\n",
       "</tr>\n",
       "<tr>\n",
       "       <td>Skew:</td>     <td>0.623</td>     <td>Prob(JB):</td>     <td>0.015</td>\n",
       "</tr>\n",
       "<tr>\n",
       "     <td>Kurtosis:</td>   <td>3.609</td>  <td>Condition No.:</td>   <td>1492</td> \n",
       "</tr>\n",
       "</table>"
      ],
      "text/plain": [
       "<class 'statsmodels.iolib.summary2.Summary'>\n",
       "\"\"\"\n",
       "                            Results: Ordinary least squares\n",
       "========================================================================================\n",
       "Model:                      OLS                Adj. R-squared (uncentered):   0.728     \n",
       "Dependent Variable:         SOLD PRICE         AIC:                           2965.1080 \n",
       "Date:                       2021-03-04 15:13   BIC:                           3012.7070 \n",
       "No. Observations:           104                Log-Likelihood:                -1464.6   \n",
       "Df Model:                   18                 F-statistic:                   16.49     \n",
       "Df Residuals:               86                 Prob (F-statistic):            1.13e-20  \n",
       "R-squared (uncentered):     0.775              Scale:                         1.2071e+11\n",
       "----------------------------------------------------------------------------------------\n",
       "                          Coef.       Std.Err.     t    P>|t|     [0.025       0.975]   \n",
       "----------------------------------------------------------------------------------------\n",
       "COUNTRY_NZ              142968.8843 151841.7382  0.9416 0.3491 -158882.5009  444820.2695\n",
       "COUNTRY_WI              -22234.9315 213050.5847 -0.1044 0.9171 -445765.4766  401295.6135\n",
       "WKTS                      2431.8988   2105.3524  1.1551 0.2512   -1753.4033    6617.2008\n",
       "ODI-WKTS                   772.4088    470.6354  1.6412 0.1044    -163.1834    1708.0009\n",
       "ODI-SR-BL                  909.0021   1267.4969  0.7172 0.4752   -1610.6983    3428.7026\n",
       "COUNTRY_PAK             122810.2480 159600.8063  0.7695 0.4437 -194465.6541  440086.1502\n",
       "COUNTRY_ENG             682934.7166 216150.8279  3.1595 0.0022  253241.0920 1112628.3411\n",
       "COUNTRY_IND             282829.8091  96188.0292  2.9404 0.0042   91614.3356  474045.2827\n",
       "CAPTAINCY EXP_1         208376.6957  98128.0284  2.1235 0.0366   13304.6315  403448.7600\n",
       "COUNTRY_BAN            -108758.6040 369274.1916 -0.2945 0.7691 -842851.4010  625334.1930\n",
       "PLAYING ROLE_W. Keeper  -55121.9240 169922.5271 -0.3244 0.7464 -392916.7280  282672.8801\n",
       "COUNTRY_ZIM             -67977.6781 390859.9289 -0.1739 0.8623 -844981.5006  709026.1444\n",
       "PLAYING ROLE_Bowler     -18315.4968 106035.9664 -0.1727 0.8633 -229108.0215  192477.0279\n",
       "PLAYING ROLE_Batsman    121382.0570 106685.0356  1.1378 0.2584  -90700.7746  333464.8886\n",
       "AGE_3                    -8950.6659  98041.9325 -0.0913 0.9275 -203851.5772  185950.2453\n",
       "SIXERS                    7862.1259   2086.6101  3.7679 0.0003    3714.0824   12010.1694\n",
       "COUNTRY_SA              108735.9086 115092.9596  0.9448 0.3474 -120061.3227  337533.1399\n",
       "COUNTRY_SL               55912.3398 142277.1829  0.3930 0.6953 -226925.3388  338750.0184\n",
       "----------------------------------------------------------------------------------------\n",
       "Omnibus:                       8.635               Durbin-Watson:                  2.252\n",
       "Prob(Omnibus):                 0.013               Jarque-Bera (JB):               8.345\n",
       "Skew:                          0.623               Prob(JB):                       0.015\n",
       "Kurtosis:                      3.609               Condition No.:                  1492 \n",
       "========================================================================================\n",
       "* The condition number is large (1e+03). This might indicate             strong\n",
       "multicollinearity or other numerical problems.\n",
       "\"\"\""
      ]
     },
     "execution_count": 133,
     "metadata": {},
     "output_type": "execute_result"
    }
   ],
   "source": [
    "train_X = train_X[X_new_features]\n",
    "\n",
    "ipl_model_2 = sm.OLS(train_y, train_X).fit()\n",
    "ipl_model_2.summary2()"
   ]
  },
  {
   "cell_type": "markdown",
   "metadata": {},
   "source": [
    "The *p values* of the coefficients estimated shows if the variables are statistically significant in influencing response variables or not. If the *p value* is less than 0.05 than it is statistically  significant otherwise it is not.\n",
    "\n",
    "So as the above model's p values, only the variables *COUNTRY_IND*, *COUNTRY_ENG*, *SIXERS*, *CAPTAINCY EXP_1* have come out statistically significant. So the features that decide the *SOLD PRICE* are \n",
    "\n",
    "- whether the players belongs to india or England \n",
    "- how many sixes the player has hit in previous versions of the IPL \n",
    "- how many wickets taken by the player in ODIs. \n",
    "- whether the player has any previous captaincy experience or not.\n",
    "\n",
    "Let's create a new list called *significant_vars* to store the column names of significant variabels and build a new model."
   ]
  },
  {
   "cell_type": "code",
   "execution_count": 134,
   "metadata": {},
   "outputs": [
    {
     "data": {
      "text/html": [
       "<table class=\"simpletable\">\n",
       "<tr>\n",
       "          <td>Model:</td>                 <td>OLS</td>       <td>Adj. R-squared (uncentered):</td>    <td>0.704</td>  \n",
       "</tr>\n",
       "<tr>\n",
       "    <td>Dependent Variable:</td>      <td>SOLD PRICE</td>                <td>AIC:</td>              <td>2961.8089</td>\n",
       "</tr>\n",
       "<tr>\n",
       "           <td>Date:</td>          <td>2021-03-04 15:14</td>             <td>BIC:</td>              <td>2972.3864</td>\n",
       "</tr>\n",
       "<tr>\n",
       "     <td>No. Observations:</td>           <td>104</td>              <td>Log-Likelihood:</td>         <td>-1476.9</td> \n",
       "</tr>\n",
       "<tr>\n",
       "         <td>Df Model:</td>                <td>4</td>                <td>F-statistic:</td>            <td>62.77</td>  \n",
       "</tr>\n",
       "<tr>\n",
       "       <td>Df Residuals:</td>             <td>100</td>            <td>Prob (F-statistic):</td>      <td>1.97e-26</td> \n",
       "</tr>\n",
       "<tr>\n",
       "  <td>R-squared (uncentered):</td>       <td>0.715</td>                 <td>Scale:</td>            <td>1.3164e+11</td>\n",
       "</tr>\n",
       "</table>\n",
       "<table class=\"simpletable\">\n",
       "<tr>\n",
       "         <td></td>            <th>Coef.</th>     <th>Std.Err.</th>      <th>t</th>    <th>P>|t|</th>   <th>[0.025</th>       <th>0.975]</th>   \n",
       "</tr>\n",
       "<tr>\n",
       "  <th>COUNTRY_IND</th>     <td>387890.2538</td> <td>63007.1511</td>  <td>6.1563</td> <td>0.0000</td> <td>262885.8606</td>  <td>512894.6471</td>\n",
       "</tr>\n",
       "<tr>\n",
       "  <th>COUNTRY_ENG</th>     <td>731833.6386</td> <td>214164.4988</td> <td>3.4172</td> <td>0.0009</td> <td>306937.3727</td> <td>1156729.9045</td>\n",
       "</tr>\n",
       "<tr>\n",
       "  <th>SIXERS</th>           <td>8637.8344</td>   <td>1675.1313</td>  <td>5.1565</td> <td>0.0000</td>  <td>5314.4216</td>   <td>11961.2472</td> \n",
       "</tr>\n",
       "<tr>\n",
       "  <th>CAPTAINCY EXP_1</th> <td>359725.2741</td> <td>74930.3460</td>  <td>4.8008</td> <td>0.0000</td> <td>211065.6018</td>  <td>508384.9463</td>\n",
       "</tr>\n",
       "</table>\n",
       "<table class=\"simpletable\">\n",
       "<tr>\n",
       "     <td>Omnibus:</td>    <td>1.130</td>  <td>Durbin-Watson:</td>   <td>2.238</td>\n",
       "</tr>\n",
       "<tr>\n",
       "  <td>Prob(Omnibus):</td> <td>0.568</td> <td>Jarque-Bera (JB):</td> <td>0.874</td>\n",
       "</tr>\n",
       "<tr>\n",
       "       <td>Skew:</td>     <td>0.223</td>     <td>Prob(JB):</td>     <td>0.646</td>\n",
       "</tr>\n",
       "<tr>\n",
       "     <td>Kurtosis:</td>   <td>3.046</td>  <td>Condition No.:</td>    <td>165</td> \n",
       "</tr>\n",
       "</table>"
      ],
      "text/plain": [
       "<class 'statsmodels.iolib.summary2.Summary'>\n",
       "\"\"\"\n",
       "                        Results: Ordinary least squares\n",
       "================================================================================\n",
       "Model:                  OLS              Adj. R-squared (uncentered): 0.704     \n",
       "Dependent Variable:     SOLD PRICE       AIC:                         2961.8089 \n",
       "Date:                   2021-03-04 15:14 BIC:                         2972.3864 \n",
       "No. Observations:       104              Log-Likelihood:              -1476.9   \n",
       "Df Model:               4                F-statistic:                 62.77     \n",
       "Df Residuals:           100              Prob (F-statistic):          1.97e-26  \n",
       "R-squared (uncentered): 0.715            Scale:                       1.3164e+11\n",
       "--------------------------------------------------------------------------------\n",
       "                     Coef.      Std.Err.    t    P>|t|     [0.025      0.975]   \n",
       "--------------------------------------------------------------------------------\n",
       "COUNTRY_IND       387890.2538  63007.1511 6.1563 0.0000 262885.8606  512894.6471\n",
       "COUNTRY_ENG       731833.6386 214164.4988 3.4172 0.0009 306937.3727 1156729.9045\n",
       "SIXERS              8637.8344   1675.1313 5.1565 0.0000   5314.4216   11961.2472\n",
       "CAPTAINCY EXP_1   359725.2741  74930.3460 4.8008 0.0000 211065.6018  508384.9463\n",
       "--------------------------------------------------------------------------------\n",
       "Omnibus:                   1.130             Durbin-Watson:                2.238\n",
       "Prob(Omnibus):             0.568             Jarque-Bera (JB):             0.874\n",
       "Skew:                      0.223             Prob(JB):                     0.646\n",
       "Kurtosis:                  3.046             Condition No.:                165  \n",
       "================================================================================\n",
       "\n",
       "\"\"\""
      ]
     },
     "execution_count": 134,
     "metadata": {},
     "output_type": "execute_result"
    }
   ],
   "source": [
    "significant_vars = ['COUNTRY_IND', 'COUNTRY_ENG', 'SIXERS', 'CAPTAINCY EXP_1']\n",
    "\n",
    "train_X = train_X[significant_vars]\n",
    "\n",
    "ipl_model_3 = sm.OLS(train_y, train_X).fit()\n",
    "ipl_model_3.summary2()"
   ]
  },
  {
   "cell_type": "markdown",
   "metadata": {},
   "source": [
    "The observations can be derived from the latest model *ipl_model_3* \n",
    "\n",
    "- All the variables are statistically significant, as *p value* are less than 0.05\n",
    "- The overall model is siginificant as *p value* for the F-statistics is also less than 0.05\n",
    "- The model can explain 71.5% of the variance in *SOLD PRICE* as the r-squared value of 0.715.\n",
    "- And adjusted R squared value is 0.704"
   ]
  },
  {
   "cell_type": "markdown",
   "metadata": {},
   "source": [
    "### Residual Analysis"
   ]
  },
  {
   "cell_type": "markdown",
   "metadata": {},
   "source": [
    "#### P-P Plot"
   ]
  },
  {
   "cell_type": "markdown",
   "metadata": {},
   "source": [
    "As per the assumption, the residuals should be normally distributed and can be verified using P-P plot. We will develop a method called *draw_pp_plot()*, which takes the model and draws the P-P plot, so the it can be used in future."
   ]
  },
  {
   "cell_type": "code",
   "execution_count": 137,
   "metadata": {},
   "outputs": [],
   "source": [
    "def draw_pp_plot( model, title ):\n",
    "    probplot = sm.ProbPlot( model.resid, fit = True );\n",
    "    plt.figure( figsize = (8, 6) );\n",
    "    probplot.ppplot( line='45' );\n",
    "    plt.title( title );\n",
    "    plt.show();"
   ]
  },
  {
   "cell_type": "code",
   "execution_count": 138,
   "metadata": {},
   "outputs": [
    {
     "data": {
      "text/plain": [
       "<Figure size 576x432 with 0 Axes>"
      ]
     },
     "metadata": {},
     "output_type": "display_data"
    },
    {
     "data": {
      "image/png": "[encoded data removed]",
      "text/plain": [
       "<Figure size 432x288 with 1 Axes>"
      ]
     },
     "metadata": {
      "needs_background": "light"
     },
     "output_type": "display_data"
    }
   ],
   "source": [
    "draw_pp_plot( ipl_model_3, \n",
    "             \"Figure 4.6 - Normal P-P Plot of Regression Standardized Residuals\" );"
   ]
  },
  {
   "cell_type": "markdown",
   "metadata": {},
   "source": [
    "The P-P plot shows the residuals follow approximate normal distribution."
   ]
  },
  {
   "cell_type": "markdown",
   "metadata": {},
   "source": [
    "#### Residual Plot"
   ]
  },
  {
   "cell_type": "markdown",
   "metadata": {},
   "source": [
    "As explained in the previous example, residual plot is a plot between standardized fitted values and residuals. The residuals should be random and centered around 0.  "
   ]
  },
  {
   "cell_type": "code",
   "execution_count": 139,
   "metadata": {},
   "outputs": [],
   "source": [
    "def plot_resid_fitted( fitted, resid, title):\n",
    "    plt.scatter( get_standardized_values( fitted ), \n",
    "            get_standardized_values( resid ) )\n",
    "    plt.title( title )\n",
    "    plt.xlabel( \"Standardized predicted values\")\n",
    "    plt.ylabel( \"Standardized residual values\")    \n",
    "    plt.show()"
   ]
  },
  {
   "cell_type": "code",
   "execution_count": 140,
   "metadata": {},
   "outputs": [
    {
     "data": {
      "image/png": "[encoded data removed]",
      "text/plain": [
       "<Figure size 432x288 with 1 Axes>"
      ]
     },
     "metadata": {
      "needs_background": "light"
     },
     "output_type": "display_data"
    }
   ],
   "source": [
    "plot_resid_fitted( ipl_model_3.fittedvalues, \n",
    "                  ipl_model_3.resid,\n",
    "                  \"Figure 4.7 - Residual Plot\")"
   ]
  },
  {
   "cell_type": "markdown",
   "metadata": {},
   "source": [
    "The residuals do not show any signs of heteroscedasticity (any funnel like pattern)."
   ]
  },
  {
   "cell_type": "markdown",
   "metadata": {},
   "source": [
    "### Detecting Influencers"
   ]
  },
  {
   "cell_type": "markdown",
   "metadata": {},
   "source": [
    "Which observations are highly influential in the model? We can plot using *influence_plot()* as explained the previous example. Leverage value of more than $\\frac{3(k+1)}{n}$ is treated as highly influential observation. Where *k* is number of variables and *n* is the number of observations."
   ]
  },
  {
   "cell_type": "code",
   "execution_count": 141,
   "metadata": {},
   "outputs": [],
   "source": [
    "k = train_X.shape[1]\n",
    "n = train_X.shape[0]"
   ]
  },
  {
   "cell_type": "code",
   "execution_count": 142,
   "metadata": {},
   "outputs": [
    {
     "name": "stdout",
     "output_type": "stream",
     "text": [
      "Number of variables: 4  and number of observations: 104\n"
     ]
    }
   ],
   "source": [
    "print( \"Number of variables:\", k, \" and number of observations:\", n)"
   ]
  },
  {
   "cell_type": "code",
   "execution_count": 143,
   "metadata": {},
   "outputs": [
    {
     "name": "stdout",
     "output_type": "stream",
     "text": [
      "Cutoff for leverage value:  0.144\n"
     ]
    }
   ],
   "source": [
    "leverage_cutoff = 3*((k + 1)/n) \n",
    "print( \"Cutoff for leverage value: \", round(leverage_cutoff, 3) )"
   ]
  },
  {
   "cell_type": "markdown",
   "metadata": {},
   "source": [
    "So, observations with leverage values more than 0.144 are highly influential."
   ]
  },
  {
   "cell_type": "code",
   "execution_count": 145,
   "metadata": {},
   "outputs": [
    {
     "data": {
      "image/png": "[encoded data removed]",
      "text/plain": [
       "<Figure size 576x432 with 1 Axes>"
      ]
     },
     "metadata": {
      "needs_background": "light"
     },
     "output_type": "display_data"
    }
   ],
   "source": [
    "from statsmodels.graphics.regressionplots import influence_plot\n",
    "\n",
    "fig, ax = plt.subplots( figsize=(8,6) )\n",
    "influence_plot( ipl_model_3, ax = ax )\n",
    "plt.show()"
   ]
  },
  {
   "cell_type": "markdown",
   "metadata": {},
   "source": [
    "The above diagram shows there are three observations *23, 58, 83* have compartive high leverage with residuals. We can filter out the influential observations."
   ]
  },
  {
   "cell_type": "code",
   "execution_count": 146,
   "metadata": {},
   "outputs": [
    {
     "data": {
      "text/html": [
       "<div>\n",
       "<style scoped>\n",
       "    .dataframe tbody tr th:only-of-type {\n",
       "        vertical-align: middle;\n",
       "    }\n",
       "\n",
       "    .dataframe tbody tr th {\n",
       "        vertical-align: top;\n",
       "    }\n",
       "\n",
       "    .dataframe thead th {\n",
       "        text-align: right;\n",
       "    }\n",
       "</style>\n",
       "<table border=\"1\" class=\"dataframe\">\n",
       "  <thead>\n",
       "    <tr style=\"text-align: right;\">\n",
       "      <th></th>\n",
       "      <th>Sl.NO.</th>\n",
       "      <th>PLAYER NAME</th>\n",
       "      <th>AGE</th>\n",
       "      <th>COUNTRY</th>\n",
       "      <th>TEAM</th>\n",
       "      <th>PLAYING ROLE</th>\n",
       "      <th>T-RUNS</th>\n",
       "      <th>T-WKTS</th>\n",
       "      <th>ODI-RUNS-S</th>\n",
       "      <th>ODI-SR-B</th>\n",
       "      <th>...</th>\n",
       "      <th>SR-B</th>\n",
       "      <th>SIXERS</th>\n",
       "      <th>RUNS-C</th>\n",
       "      <th>WKTS</th>\n",
       "      <th>AVE-BL</th>\n",
       "      <th>ECON</th>\n",
       "      <th>SR-BL</th>\n",
       "      <th>AUCTION YEAR</th>\n",
       "      <th>BASE PRICE</th>\n",
       "      <th>SOLD PRICE</th>\n",
       "    </tr>\n",
       "  </thead>\n",
       "  <tbody>\n",
       "    <tr>\n",
       "      <th>23</th>\n",
       "      <td>24</td>\n",
       "      <td>Flintoff, A</td>\n",
       "      <td>2</td>\n",
       "      <td>ENG</td>\n",
       "      <td>CSK</td>\n",
       "      <td>Allrounder</td>\n",
       "      <td>3845</td>\n",
       "      <td>226</td>\n",
       "      <td>3394</td>\n",
       "      <td>88.82</td>\n",
       "      <td>...</td>\n",
       "      <td>116.98</td>\n",
       "      <td>2</td>\n",
       "      <td>105</td>\n",
       "      <td>2</td>\n",
       "      <td>52.50</td>\n",
       "      <td>9.55</td>\n",
       "      <td>33.00</td>\n",
       "      <td>2009</td>\n",
       "      <td>950000</td>\n",
       "      <td>1550000</td>\n",
       "    </tr>\n",
       "    <tr>\n",
       "      <th>58</th>\n",
       "      <td>59</td>\n",
       "      <td>Mascarenhas, AD</td>\n",
       "      <td>2</td>\n",
       "      <td>ENG</td>\n",
       "      <td>RR+</td>\n",
       "      <td>Allrounder</td>\n",
       "      <td>0</td>\n",
       "      <td>0</td>\n",
       "      <td>245</td>\n",
       "      <td>95.33</td>\n",
       "      <td>...</td>\n",
       "      <td>101.37</td>\n",
       "      <td>1</td>\n",
       "      <td>331</td>\n",
       "      <td>19</td>\n",
       "      <td>17.42</td>\n",
       "      <td>7.01</td>\n",
       "      <td>14.95</td>\n",
       "      <td>2011</td>\n",
       "      <td>100000</td>\n",
       "      <td>100000</td>\n",
       "    </tr>\n",
       "    <tr>\n",
       "      <th>83</th>\n",
       "      <td>84</td>\n",
       "      <td>Pietersen, KP</td>\n",
       "      <td>2</td>\n",
       "      <td>ENG</td>\n",
       "      <td>RCB+</td>\n",
       "      <td>Batsman</td>\n",
       "      <td>6654</td>\n",
       "      <td>5</td>\n",
       "      <td>4184</td>\n",
       "      <td>86.76</td>\n",
       "      <td>...</td>\n",
       "      <td>141.20</td>\n",
       "      <td>30</td>\n",
       "      <td>215</td>\n",
       "      <td>7</td>\n",
       "      <td>30.71</td>\n",
       "      <td>7.41</td>\n",
       "      <td>24.86</td>\n",
       "      <td>2009</td>\n",
       "      <td>1350000</td>\n",
       "      <td>1550000</td>\n",
       "    </tr>\n",
       "  </tbody>\n",
       "</table>\n",
       "<p>3 rows × 26 columns</p>\n",
       "</div>"
      ],
      "text/plain": [
       "    Sl.NO.      PLAYER NAME  AGE COUNTRY  TEAM PLAYING ROLE  T-RUNS  T-WKTS  \\\n",
       "23      24      Flintoff, A    2     ENG   CSK   Allrounder    3845     226   \n",
       "58      59  Mascarenhas, AD    2     ENG   RR+   Allrounder       0       0   \n",
       "83      84    Pietersen, KP    2     ENG  RCB+      Batsman    6654       5   \n",
       "\n",
       "    ODI-RUNS-S  ODI-SR-B  ...    SR-B  SIXERS  RUNS-C  WKTS  AVE-BL  ECON  \\\n",
       "23        3394     88.82  ...  116.98       2     105     2   52.50  9.55   \n",
       "58         245     95.33  ...  101.37       1     331    19   17.42  7.01   \n",
       "83        4184     86.76  ...  141.20      30     215     7   30.71  7.41   \n",
       "\n",
       "    SR-BL  AUCTION YEAR  BASE PRICE  SOLD PRICE  \n",
       "23  33.00          2009      950000     1550000  \n",
       "58  14.95          2011      100000      100000  \n",
       "83  24.86          2009     1350000     1550000  \n",
       "\n",
       "[3 rows x 26 columns]"
      ]
     },
     "execution_count": 146,
     "metadata": {},
     "output_type": "execute_result"
    }
   ],
   "source": [
    "ipl_auction_df[ipl_auction_df.index.isin( [23, 58, 83] )]"
   ]
  },
  {
   "cell_type": "markdown",
   "metadata": {},
   "source": [
    "These observations do not have large residuals. So, it may not be necessary to remove these observations. But if the observation need to be removed, the following method *drop()* can be used."
   ]
  },
  {
   "cell_type": "code",
   "execution_count": 147,
   "metadata": {},
   "outputs": [],
   "source": [
    "train_X_new = train_X.drop( [23, 58, 83], axis = 0)\n",
    "train_y_new = train_y.drop( [23, 58, 83], axis = 0)"
   ]
  },
  {
   "cell_type": "markdown",
   "metadata": {},
   "source": [
    "We will leave the next steps of building a model after removing the influential observations, to the reader to try themselves for practice."
   ]
  },
  {
   "cell_type": "markdown",
   "metadata": {},
   "source": [
    "### Transforming Response Variable\n",
    "\n",
    "Transformation is a process of deriving new dependent and/or independent variables to identify the correct functional form of the regression model. For example, the dependent variable Y may be replaced in the model with ln(Y), , 1/Y, etc. and similarly an independent variable X may be replaced with ln(X), , 1/X etc.\n",
    "\n",
    "Transformation in MLR is used to address  the following issues:\n",
    "\n",
    "- Poor fit (low R sqaured value).\n",
    "- Patten in residual analysis indicating potential non-linear relationship between the dependent and independent variable. \n",
    "- Residuals do not follow a normal distribution.\n",
    "- Residuals are not homoscedastic\n",
    "\n",
    "\n",
    "We will create a new response variable by taking the square root of the existing values. This can be done by using *numpy's* *sqrt()* method."
   ]
  },
  {
   "cell_type": "code",
   "execution_count": 148,
   "metadata": {},
   "outputs": [],
   "source": [
    "train_y = np.sqrt( train_y )"
   ]
  },
  {
   "cell_type": "code",
   "execution_count": 149,
   "metadata": {},
   "outputs": [
    {
     "data": {
      "text/html": [
       "<table class=\"simpletable\">\n",
       "<tr>\n",
       "          <td>Model:</td>                 <td>OLS</td>       <td>Adj. R-squared (uncentered):</td>    <td>0.741</td>  \n",
       "</tr>\n",
       "<tr>\n",
       "    <td>Dependent Variable:</td>      <td>SOLD PRICE</td>                <td>AIC:</td>              <td>1527.9999</td>\n",
       "</tr>\n",
       "<tr>\n",
       "           <td>Date:</td>          <td>2021-03-04 15:17</td>             <td>BIC:</td>              <td>1538.5775</td>\n",
       "</tr>\n",
       "<tr>\n",
       "     <td>No. Observations:</td>           <td>104</td>              <td>Log-Likelihood:</td>         <td>-760.00</td> \n",
       "</tr>\n",
       "<tr>\n",
       "         <td>Df Model:</td>                <td>4</td>                <td>F-statistic:</td>            <td>75.29</td>  \n",
       "</tr>\n",
       "<tr>\n",
       "       <td>Df Residuals:</td>             <td>100</td>            <td>Prob (F-statistic):</td>      <td>2.63e-29</td> \n",
       "</tr>\n",
       "<tr>\n",
       "  <td>R-squared (uncentered):</td>       <td>0.751</td>                 <td>Scale:</td>            <td>1.3550e+05</td>\n",
       "</tr>\n",
       "</table>\n",
       "<table class=\"simpletable\">\n",
       "<tr>\n",
       "         <td></td>           <th>Coef.</th>  <th>Std.Err.</th>    <th>t</th>    <th>P>|t|</th>  <th>[0.025</th>   <th>0.975]</th> \n",
       "</tr>\n",
       "<tr>\n",
       "  <th>COUNTRY_IND</th>     <td>490.7089</td>  <td>63.9238</td> <td>7.6765</td> <td>0.0000</td> <td>363.8860</td> <td>617.5318</td>\n",
       "</tr>\n",
       "<tr>\n",
       "  <th>COUNTRY_ENG</th>     <td>563.0261</td> <td>217.2801</td> <td>2.5912</td> <td>0.0110</td> <td>131.9486</td> <td>994.1036</td>\n",
       "</tr>\n",
       "<tr>\n",
       "  <th>SIXERS</th>           <td>8.5338</td>   <td>1.6995</td>  <td>5.0213</td> <td>0.0000</td>  <td>5.1620</td>   <td>11.9055</td>\n",
       "</tr>\n",
       "<tr>\n",
       "  <th>CAPTAINCY EXP_1</th> <td>417.7575</td>  <td>76.0204</td> <td>5.4953</td> <td>0.0000</td> <td>266.9352</td> <td>568.5799</td>\n",
       "</tr>\n",
       "</table>\n",
       "<table class=\"simpletable\">\n",
       "<tr>\n",
       "     <td>Omnibus:</td>    <td>0.017</td>  <td>Durbin-Watson:</td>   <td>1.879</td>\n",
       "</tr>\n",
       "<tr>\n",
       "  <td>Prob(Omnibus):</td> <td>0.992</td> <td>Jarque-Bera (JB):</td> <td>0.145</td>\n",
       "</tr>\n",
       "<tr>\n",
       "       <td>Skew:</td>     <td>0.005</td>     <td>Prob(JB):</td>     <td>0.930</td>\n",
       "</tr>\n",
       "<tr>\n",
       "     <td>Kurtosis:</td>   <td>2.817</td>  <td>Condition No.:</td>    <td>165</td> \n",
       "</tr>\n",
       "</table>"
      ],
      "text/plain": [
       "<class 'statsmodels.iolib.summary2.Summary'>\n",
       "\"\"\"\n",
       "                        Results: Ordinary least squares\n",
       "================================================================================\n",
       "Model:                  OLS              Adj. R-squared (uncentered): 0.741     \n",
       "Dependent Variable:     SOLD PRICE       AIC:                         1527.9999 \n",
       "Date:                   2021-03-04 15:17 BIC:                         1538.5775 \n",
       "No. Observations:       104              Log-Likelihood:              -760.00   \n",
       "Df Model:               4                F-statistic:                 75.29     \n",
       "Df Residuals:           100              Prob (F-statistic):          2.63e-29  \n",
       "R-squared (uncentered): 0.751            Scale:                       1.3550e+05\n",
       "-----------------------------------------------------------------------------------\n",
       "                    Coef.      Std.Err.      t       P>|t|      [0.025      0.975] \n",
       "-----------------------------------------------------------------------------------\n",
       "COUNTRY_IND        490.7089     63.9238    7.6765    0.0000    363.8860    617.5318\n",
       "COUNTRY_ENG        563.0261    217.2801    2.5912    0.0110    131.9486    994.1036\n",
       "SIXERS               8.5338      1.6995    5.0213    0.0000      5.1620     11.9055\n",
       "CAPTAINCY EXP_1    417.7575     76.0204    5.4953    0.0000    266.9352    568.5799\n",
       "--------------------------------------------------------------------------------\n",
       "Omnibus:                   0.017             Durbin-Watson:                1.879\n",
       "Prob(Omnibus):             0.992             Jarque-Bera (JB):             0.145\n",
       "Skew:                      0.005             Prob(JB):                     0.930\n",
       "Kurtosis:                  2.817             Condition No.:                165  \n",
       "================================================================================\n",
       "\n",
       "\"\"\""
      ]
     },
     "execution_count": 149,
     "metadata": {},
     "output_type": "execute_result"
    }
   ],
   "source": [
    "ipl_model_4 = sm.OLS(train_y, train_X).fit()\n",
    "ipl_model_4.summary2()"
   ]
  },
  {
   "cell_type": "markdown",
   "metadata": {},
   "source": [
    "The r-squard value of the model has increased to 0.751. And the following P-P plot also shows that the residuals follow a normal distribution."
   ]
  },
  {
   "cell_type": "code",
   "execution_count": 154,
   "metadata": {},
   "outputs": [
    {
     "data": {
      "text/plain": [
       "<Figure size 576x432 with 0 Axes>"
      ]
     },
     "metadata": {},
     "output_type": "display_data"
    },
    {
     "data": {
      "image/png": "[encoded data removed]",
      "text/plain": [
       "<Figure size 432x288 with 1 Axes>"
      ]
     },
     "metadata": {
      "needs_background": "light"
     },
     "output_type": "display_data"
    }
   ],
   "source": [
    "draw_pp_plot( ipl_model_4, \n",
    "             \"Normal P-P Plot of Regression Standardized Residuals\" );"
   ]
  },
  {
   "cell_type": "markdown",
   "metadata": {},
   "source": [
    "### Making predictions on validation set"
   ]
  },
  {
   "cell_type": "markdown",
   "metadata": {},
   "source": [
    "After final model is built as per our requirements and the model has passed all diagnostic tests, we can apply model on the validation test data to predict the *SOLD PRICE*.\n",
    "\n",
    "As the model we have built predicts square root of the *SOLD PRICE*, we need to square the predicted values to get the actual *SOLD PRICE* of the players."
   ]
  },
  {
   "cell_type": "code",
   "execution_count": 151,
   "metadata": {},
   "outputs": [],
   "source": [
    "pred_y = np.power( ipl_model_4.predict( test_X[train_X.columns] ), 2)"
   ]
  },
  {
   "cell_type": "markdown",
   "metadata": {},
   "source": [
    "#### Measuring RMSE"
   ]
  },
  {
   "cell_type": "code",
   "execution_count": 152,
   "metadata": {},
   "outputs": [
    {
     "data": {
      "text/plain": [
       "496151.18122558534"
      ]
     },
     "execution_count": 152,
     "metadata": {},
     "output_type": "execute_result"
    }
   ],
   "source": [
    "from sklearn import metrics\n",
    "\n",
    "np.sqrt(metrics.mean_squared_error(pred_y, test_y))"
   ]
  },
  {
   "cell_type": "markdown",
   "metadata": {},
   "source": [
    "#### Measuring R-squared value"
   ]
  },
  {
   "cell_type": "code",
   "execution_count": 153,
   "metadata": {},
   "outputs": [
    {
     "data": {
      "text/plain": [
       "0.44"
      ]
     },
     "execution_count": 153,
     "metadata": {},
     "output_type": "execute_result"
    }
   ],
   "source": [
    "np.round( metrics.r2_score(pred_y, test_y), 2 )"
   ]
  },
  {
   "cell_type": "markdown",
   "metadata": {},
   "source": [
    "The accuracy (r-squared) value on validation set (0.44) is quite low compared to the accuracy reported by the model on training dataset (0.751). This could the a sign of model overfitting. We will discuss underfitting and overfitting of models and how to deal with it in a later session."
   ]
  },
  {
   "cell_type": "markdown",
   "metadata": {},
   "source": [
    "## Lessons Learnt:\n",
    "\n",
    "1. Linear regression model is used to find existence of association relationship between a dependent variable and more than one independent variables.\n",
    "2. How to split data into train and validation sets and build models on training set.\n",
    "3. How to build models using OLS api in statsmodel method and conduct model diagnostics.\n",
    "4. How to deal with outliers and multi-colliearity.\n",
    "5. How to measure accuracy using r squared and rmse metrics."
   ]
  }
 ],
 "metadata": {
  "kernelspec": {
   "display_name": "Python 3",
   "language": "python",
   "name": "python3"
  },
  "language_info": {
   "codemirror_mode": {
    "name": "ipython",
    "version": 3
   },
   "file_extension": ".py",
   "mimetype": "text/x-python",
   "name": "python",
   "nbconvert_exporter": "python",
   "pygments_lexer": "ipython3",
   "version": "3.8.3"
  }
 },
 "nbformat": 4,
 "nbformat_minor": 2
}
