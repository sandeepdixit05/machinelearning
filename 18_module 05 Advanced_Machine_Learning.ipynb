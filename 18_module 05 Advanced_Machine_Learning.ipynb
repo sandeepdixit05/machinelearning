{
 "cells": [
  {
   "cell_type": "markdown",
   "metadata": {},
   "source": [
    "# Advanced Machine Learning\n",
    "\n",
    "\n",
    "## Learning Objective\n",
    "\n",
    "- Know the difference between supervised and unsupervised learning\n",
    "- Apply Machine learning framework *sklearn* to Regression and classification problems\n",
    "- Learn advaned algorithms like KNN and Random Forest, which is an ensemble learning technique\n",
    "- Know what is an hyperparameters and how to search for optimal hyperparameters\n",
    "- Learn features selection using machine learning models\n",
    "\n",
    "## Supervised Vs. Unsupervised Learning\n",
    "\n",
    "All machine learning (ML) tasks are classified into two broad categories:\n",
    "\n",
    "1. **Supervised Learning** - In supervised learning, the examples have inputs variables and the corresponding outcome. The algorithms learn from the examples and predict what the outcome will be if new values for the input variables are available in the future. Regression and classification problems are supervised learning algorithms. \n",
    "2. **Unsupervised Learning** - The examples have only inputs, but no output. The algorithm learns the structure in the inputs. Clustering is an example of unsupervised learning."
   ]
  },
  {
   "cell_type": "markdown",
   "metadata": {},
   "source": [
    "## Deep dive into how machines learn?"
   ]
  },
  {
   "cell_type": "markdown",
   "metadata": {},
   "source": [
    "- In supervised learning, the algorithm learns a function which maps the inputs to the desired output. The function always has an element of error, which is the difference between what it predicts and what the actual outcome is. \n",
    "\n",
    "- The sum of all errors across all examples is called cost function."
   ]
  },
  {
   "cell_type": "markdown",
   "metadata": {},
   "source": [
    "For example,\n",
    "\n",
    "The functional form of a Linear Regression model is,\n",
    "\n",
    "$Y$ = $\\beta_{0} + \\beta_{1} X+ \\epsilon$\n",
    "\n",
    "Where \n",
    "\n",
    "- $\\beta_{0}$ is called bias \n",
    "- $\\beta_{1}$ is the weight or coefficient \n",
    "- And $\\epsilon$ is the error the model makes\n",
    "\n",
    "Number of weights depends on the number of variables available in X input. \n",
    "\n",
    "The predicted value of Y is written as $\\hat{Y}$ and it given by,\n",
    "\n",
    "$\\hat{Y}$ = $\\beta_{0} + \\beta_{1} X$\n",
    "\n",
    "So, $\\epsilon$ = $Y - \\hat{Y}$ =  $(Y - (\\beta_{0} + \\beta_{1} X))$\n",
    "\n",
    "The **cost function** for the Linear Regression model is the total error (mean squared error) across all examples and is given by\n",
    "\n",
    "Cost Function = $\\epsilon_{mse}$ =  $ \\frac{1}{N}  \\sum_{i=1}^{n}{(Y_{i} - (\\beta_{0} + \\beta_{1} X_{i}))}^2$\n",
    "\n",
    "The error is a function of $\\beta_{0}$ and $\\beta_{1}$. It is a pure convex function and has a global minima as shown.\n",
    "\n",
    "- The objective is to learn the most optimal function that minimizes this cost function. Most algorithms use optimization techniques to minimize the cost function. Most widely used optimization technique is called **Gradient Descent**.\n",
    "\n",
    "<img src=\"gradientdesent.png\" alt=\"gradientdescent\" style=\"width: 400px;\"/>\n",
    "\n",
    "- Gradient descent optimization technique can find the values of $\\beta_{0}$ and $\\beta_{1}$ at the minima point by using an iterative approach as below.\n",
    "\n",
    "    1. Randomly guess the initial values of $\\beta_{0}$ and $\\beta_{1}$\n",
    "    2. Calculate $\\hat{Y}$ for initialized values of bias and weights \n",
    "    3. Calculate cost (MSE)\n",
    "    4. Adjust the $\\beta_{0}$ and $\\beta_{1}$ values by calculating the gradients of the error function \n",
    "\n",
    "    $\\beta_{0}$ = $\\beta_{0}$ - $ \\alpha * \\frac{\\partial \\epsilon_{mse}}{\\partial \\beta_{0}}$\n",
    "\n",
    "    $\\beta_{1}$ = $\\beta_{1}$ - $ \\alpha * \\frac{\\partial \\epsilon_{mse}}{\\partial \\beta_{1}}$\n",
    "\n",
    "    Where, $\\alpha$ is the learning parameter and decided the magnitude of update need to be applied to the bias and weights at each iteration.\n",
    "    \n",
    "5. Repeat the steps 1 - 4 for many iterations until the error stop reducing further or the change in cost is infinitesimally small.\n",
    "\n",
    "\n",
    "$\\beta_{0}$ and $\\beta_{0}$ at the minimum cost points are final estimates and the corresponding function is the best model that can be learnt."
   ]
  },
  {
   "cell_type": "markdown",
   "metadata": {},
   "source": [
    "### *scikit-learn* Library for Machine Learning"
   ]
  },
  {
   "cell_type": "markdown",
   "metadata": {},
   "source": [
    "- In practice we use *scikit-learn* library in python, which is primarily and open source python library for building Machine Learning models. \n",
    "- *scikit-learn* provides comprehensive set of algorithms for the following kind of problems.\n",
    "\n",
    "    - Regression\n",
    "    - Classification\n",
    "    - Clustering\n",
    "\n",
    "*scikit-learn* also provides extensive set of methods for data pre-processing and feature selection."
   ]
  },
  {
   "cell_type": "markdown",
   "metadata": {},
   "source": [
    "### Steps for Building Machine Learning Models\n",
    "\n",
    "Here is the list of steps to be followed for building, validating a machine learning model and measuring its accuracy.\n",
    "\n",
    "- Identify the input and output variables\n",
    "- Split the dataset into training and test sets\n",
    "- Build the model using training set\n",
    "- Predict outcome variable using test set\n",
    "- Compare the predicted and actual values of the outcome variable in test set and measure accuracy e.g. RMSE."
   ]
  },
  {
   "cell_type": "markdown",
   "metadata": {},
   "source": [
    "###  k-Fold Cross Validation"
   ]
  },
  {
   "cell_type": "markdown",
   "metadata": {},
   "source": [
    "- Besides the validatin approach that we have tried in the previous sessions, *K-fold* cross validation is another approach for validating models multiple times by resampling multiple training and validation sets from the original sample set. \n",
    "\n",
    "- It is one of the other robust validation approach that can be adopted to verify if the model is overfitting.\n",
    "\n",
    "1. Split the training data set into k equal subsets. Each subset is called a fold. Let the folds be named as $f_{1}, f_{2}, …, f_{k}$. Generally, the value of *k* is taken to be 5 or 10.\n",
    "2. For $i = 1$ to $i = k$\n",
    "    - Keep the fold $f_{i}$ as validation set and all the remaining *k-1* folds as training set.\n",
    "    - Train the machine learning model using the training set and calculate the accuracy of the model with the $f_{i}$ fold.\n",
    "\n",
    "<img src=\"kfold.png\" alt=\"K_FOLD\" style=\"width: 600px;\"/>\n",
    "\n",
    "Calculate the final accuracy by averaging the accuracies across all k models. The average values shows how the model will behave in the real world. The variance of these accuracies is an indication of the robustness of the model.\n",
    "\n"
   ]
  },
  {
   "cell_type": "markdown",
   "metadata": {},
   "source": [
    "##  Explore more advanced algorithms"
   ]
  },
  {
   "cell_type": "markdown",
   "metadata": {},
   "source": [
    "- Now will take a binary classification problem and explore more machine learning algorithms like KNN and Random Forest.\n",
    "\n",
    "- Bank marketing dataset has samples in which a bank is interested in predicting which customers may respond to their direct marketing campaign to open a term deposit with the bank. \n",
    "\n",
    "- The response variable Y = 1 implies that the customer opens a term deposit after the campaign and 0 otherwise. The marketing campaign is based on the phone calls. \n",
    "\n",
    "The dataset is taken from the following location and description of all the variables are available at the same location.\n",
    "\n",
    "https://archive.ics.uci.edu/ml/datasets/bank+marketing"
   ]
  },
  {
   "cell_type": "code",
   "execution_count": 33,
   "metadata": {
    "ExecuteTime": {
     "end_time": "2021-04-07T04:24:43.573042Z",
     "start_time": "2021-04-07T04:24:43.570417Z"
    }
   },
   "outputs": [],
   "source": [
    "import warnings\n",
    "warnings.filterwarnings(\"ignore\")"
   ]
  },
  {
   "cell_type": "code",
   "execution_count": 34,
   "metadata": {
    "ExecuteTime": {
     "end_time": "2021-04-07T04:19:18.126090Z",
     "start_time": "2021-04-07T04:19:17.683278Z"
    }
   },
   "outputs": [
    {
     "data": {
      "text/html": [
       "<div>\n",
       "<style scoped>\n",
       "    .dataframe tbody tr th:only-of-type {\n",
       "        vertical-align: middle;\n",
       "    }\n",
       "\n",
       "    .dataframe tbody tr th {\n",
       "        vertical-align: top;\n",
       "    }\n",
       "\n",
       "    .dataframe thead th {\n",
       "        text-align: right;\n",
       "    }\n",
       "</style>\n",
       "<table border=\"1\" class=\"dataframe\">\n",
       "  <thead>\n",
       "    <tr style=\"text-align: right;\">\n",
       "      <th></th>\n",
       "      <th>age</th>\n",
       "      <th>job</th>\n",
       "      <th>marital</th>\n",
       "      <th>education</th>\n",
       "      <th>default</th>\n",
       "      <th>balance</th>\n",
       "      <th>housing-loan</th>\n",
       "      <th>personal-loan</th>\n",
       "      <th>current-campaign</th>\n",
       "      <th>previous-campaign</th>\n",
       "      <th>subscribed</th>\n",
       "    </tr>\n",
       "  </thead>\n",
       "  <tbody>\n",
       "    <tr>\n",
       "      <th>0</th>\n",
       "      <td>30</td>\n",
       "      <td>unemployed</td>\n",
       "      <td>married</td>\n",
       "      <td>primary</td>\n",
       "      <td>no</td>\n",
       "      <td>1787</td>\n",
       "      <td>no</td>\n",
       "      <td>no</td>\n",
       "      <td>1</td>\n",
       "      <td>0</td>\n",
       "      <td>no</td>\n",
       "    </tr>\n",
       "    <tr>\n",
       "      <th>1</th>\n",
       "      <td>33</td>\n",
       "      <td>services</td>\n",
       "      <td>married</td>\n",
       "      <td>secondary</td>\n",
       "      <td>no</td>\n",
       "      <td>4789</td>\n",
       "      <td>yes</td>\n",
       "      <td>yes</td>\n",
       "      <td>1</td>\n",
       "      <td>4</td>\n",
       "      <td>no</td>\n",
       "    </tr>\n",
       "    <tr>\n",
       "      <th>2</th>\n",
       "      <td>35</td>\n",
       "      <td>management</td>\n",
       "      <td>single</td>\n",
       "      <td>tertiary</td>\n",
       "      <td>no</td>\n",
       "      <td>1350</td>\n",
       "      <td>yes</td>\n",
       "      <td>no</td>\n",
       "      <td>1</td>\n",
       "      <td>1</td>\n",
       "      <td>no</td>\n",
       "    </tr>\n",
       "    <tr>\n",
       "      <th>3</th>\n",
       "      <td>30</td>\n",
       "      <td>management</td>\n",
       "      <td>married</td>\n",
       "      <td>tertiary</td>\n",
       "      <td>no</td>\n",
       "      <td>1476</td>\n",
       "      <td>yes</td>\n",
       "      <td>yes</td>\n",
       "      <td>4</td>\n",
       "      <td>0</td>\n",
       "      <td>no</td>\n",
       "    </tr>\n",
       "    <tr>\n",
       "      <th>4</th>\n",
       "      <td>59</td>\n",
       "      <td>blue-collar</td>\n",
       "      <td>married</td>\n",
       "      <td>secondary</td>\n",
       "      <td>no</td>\n",
       "      <td>0</td>\n",
       "      <td>yes</td>\n",
       "      <td>no</td>\n",
       "      <td>1</td>\n",
       "      <td>0</td>\n",
       "      <td>no</td>\n",
       "    </tr>\n",
       "  </tbody>\n",
       "</table>\n",
       "</div>"
      ],
      "text/plain": [
       "   age          job  marital  education default  balance housing-loan  \\\n",
       "0   30   unemployed  married    primary      no     1787           no   \n",
       "1   33     services  married  secondary      no     4789          yes   \n",
       "2   35   management   single   tertiary      no     1350          yes   \n",
       "3   30   management  married   tertiary      no     1476          yes   \n",
       "4   59  blue-collar  married  secondary      no        0          yes   \n",
       "\n",
       "  personal-loan  current-campaign  previous-campaign subscribed  \n",
       "0            no                 1                  0         no  \n",
       "1           yes                 1                  4         no  \n",
       "2            no                 1                  1         no  \n",
       "3           yes                 4                  0         no  \n",
       "4            no                 1                  0         no  "
      ]
     },
     "execution_count": 34,
     "metadata": {},
     "output_type": "execute_result"
    }
   ],
   "source": [
    "import pandas as pd\n",
    "\n",
    "bank_df = pd.read_csv( 'bank.csv')\n",
    "bank_df.head(5)"
   ]
  },
  {
   "cell_type": "markdown",
   "metadata": {},
   "source": [
    "Displaying information about the dataset."
   ]
  },
  {
   "cell_type": "code",
   "execution_count": 35,
   "metadata": {
    "ExecuteTime": {
     "end_time": "2021-04-07T04:19:18.822215Z",
     "start_time": "2021-04-07T04:19:18.810561Z"
    }
   },
   "outputs": [
    {
     "name": "stdout",
     "output_type": "stream",
     "text": [
      "<class 'pandas.core.frame.DataFrame'>\n",
      "RangeIndex: 4521 entries, 0 to 4520\n",
      "Data columns (total 11 columns):\n",
      " #   Column             Non-Null Count  Dtype \n",
      "---  ------             --------------  ----- \n",
      " 0   age                4521 non-null   int64 \n",
      " 1   job                4521 non-null   object\n",
      " 2   marital            4521 non-null   object\n",
      " 3   education          4521 non-null   object\n",
      " 4   default            4521 non-null   object\n",
      " 5   balance            4521 non-null   int64 \n",
      " 6   housing-loan       4521 non-null   object\n",
      " 7   personal-loan      4521 non-null   object\n",
      " 8   current-campaign   4521 non-null   int64 \n",
      " 9   previous-campaign  4521 non-null   int64 \n",
      " 10  subscribed         4521 non-null   object\n",
      "dtypes: int64(4), object(7)\n",
      "memory usage: 388.6+ KB\n"
     ]
    }
   ],
   "source": [
    "bank_df.info()"
   ]
  },
  {
   "cell_type": "markdown",
   "metadata": {},
   "source": [
    "The dataset has about 4521 observations and 10 features excluding the *subscribed* column."
   ]
  },
  {
   "cell_type": "markdown",
   "metadata": {},
   "source": [
    "## Dealing with imbalanced datasets"
   ]
  },
  {
   "cell_type": "markdown",
   "metadata": {},
   "source": [
    "*subscribed* column indicates whether the customer has opens a term deposit account with the bank after the marketing campaign.\n",
    "\n",
    "- *yes* - the customer has opened the account\n",
    "- *no* - the customer has not opened the account\n",
    "\n",
    "But how many examples are there for each scenario. A simple *value_counts()* on the column values will provide the answer."
   ]
  },
  {
   "cell_type": "code",
   "execution_count": 36,
   "metadata": {
    "ExecuteTime": {
     "end_time": "2021-04-07T04:19:20.567584Z",
     "start_time": "2021-04-07T04:19:20.561865Z"
    }
   },
   "outputs": [
    {
     "data": {
      "text/plain": [
       "no     4000\n",
       "yes     521\n",
       "Name: subscribed, dtype: int64"
      ]
     },
     "execution_count": 36,
     "metadata": {},
     "output_type": "execute_result"
    }
   ],
   "source": [
    "bank_df.subscribed.value_counts()"
   ]
  },
  {
   "cell_type": "markdown",
   "metadata": {},
   "source": [
    "- The dataset is quite imbalanced. Both the classes are not equally represented. \n",
    "- There are only 521 (11.8%) observations in which customers have subscribed as opposed to 4000 observations where customers have not subscribed. \n",
    "- The model may not be able to learn properly and may be biased towards the class that is over-represented. \n",
    "\n",
    "- Even if the model predicts that no customer will subscribe (all negatives), it will have accuracy of more than 88%. This is called *Accuray Paradox*. \n",
    "\n",
    "- One approach to deal with imbalanced dataset is bootstrapping. It involves resampling techniques called *upsampling* or *downsampling*.\n",
    "\n",
    "**Upsampling** - Increase the instances of underrepresented minority class by replicating the existing observations in the dataset. Sampling with replacement is used for this purpose and is called *Oversampling*.\n",
    "\n",
    "**Downsampling** - Reduce the instances of overrepresented majority class by removing the existing observations from the dataset and is called *Undersampling*.\n",
    "\n",
    "*sklearn.utils* has *resample* method to help with upsampling. It takes three parameters\n",
    "\n",
    "- the original sample set\n",
    "- *replace*: Implements resampling with replacement. If False, all resampled examples will be unique.\n",
    "- *n_samples*: Number of samples to generate.\n",
    "\n",
    "In this case, the number of examples of *yes* cases will be increased to 2000."
   ]
  },
  {
   "cell_type": "code",
   "execution_count": 57,
   "metadata": {
    "ExecuteTime": {
     "end_time": "2021-04-07T04:19:21.872707Z",
     "start_time": "2021-04-07T04:19:21.858235Z"
    }
   },
   "outputs": [],
   "source": [
    "## Importing resample from *sklearn.utils* package.\n",
    "from sklearn.utils import resample\n",
    "\n",
    "# Separate the case of yes-subscribes and no-subscribes\n",
    "bank_subscribed_no = bank_df[bank_df.subscribed == 'no']\n",
    "bank_subscribed_yes = bank_df[bank_df.subscribed == 'yes']\n",
    "\n",
    "##Upsample the yes-subscribed cases.\n",
    "df_minority_upsampled = resample(bank_subscribed_yes, \n",
    "                                 replace=True,     # sample with replacement\n",
    "                                 n_samples=2000) \n",
    "\n",
    "# Combine majority class with upsampled minority class\n",
    "new_bank_df = pd.concat([bank_subscribed_no, df_minority_upsampled])"
   ]
  },
  {
   "cell_type": "markdown",
   "metadata": {},
   "source": [
    "After upsampling, the *new_bank_df* contains the 4000 cases of *subscribed = no* and 2000 cases of *subscribed = yes* in the ration of 67:33. \n",
    "\n",
    "Before using the dataset, the examples can be shuffled to make sure they are not in particular order."
   ]
  },
  {
   "cell_type": "code",
   "execution_count": 58,
   "metadata": {
    "ExecuteTime": {
     "end_time": "2021-04-07T04:19:23.105357Z",
     "start_time": "2021-04-07T04:19:23.097615Z"
    }
   },
   "outputs": [],
   "source": [
    "from sklearn.utils import shuffle\n",
    "new_bank_df = shuffle(new_bank_df)"
   ]
  },
  {
   "cell_type": "markdown",
   "metadata": {},
   "source": [
    "Assigning all the featues column names to *X_features* variable."
   ]
  },
  {
   "cell_type": "code",
   "execution_count": 59,
   "metadata": {
    "ExecuteTime": {
     "end_time": "2021-04-07T04:19:24.303315Z",
     "start_time": "2021-04-07T04:19:24.299308Z"
    }
   },
   "outputs": [
    {
     "data": {
      "text/plain": [
       "['age',\n",
       " 'job',\n",
       " 'marital',\n",
       " 'education',\n",
       " 'default',\n",
       " 'balance',\n",
       " 'housing-loan',\n",
       " 'personal-loan',\n",
       " 'current-campaign',\n",
       " 'previous-campaign']"
      ]
     },
     "execution_count": 59,
     "metadata": {},
     "output_type": "execute_result"
    }
   ],
   "source": [
    "# Assigning list of all column names in the DataFrame\n",
    "X_features = list( new_bank_df.columns )\n",
    "# Remove the response variable from the list\n",
    "X_features.remove( 'subscribed' )\n",
    "X_features"
   ]
  },
  {
   "cell_type": "markdown",
   "metadata": {},
   "source": [
    "Encoding all the categorical features into dummy features and assigning to X."
   ]
  },
  {
   "cell_type": "code",
   "execution_count": 60,
   "metadata": {
    "ExecuteTime": {
     "end_time": "2021-04-07T04:19:25.468318Z",
     "start_time": "2021-04-07T04:19:25.449810Z"
    }
   },
   "outputs": [],
   "source": [
    "## get_dummies() will convert all the columns with data type as objects\n",
    "encoded_bank_df = pd.get_dummies( new_bank_df[X_features], drop_first = True )\n",
    "X = encoded_bank_df"
   ]
  },
  {
   "cell_type": "markdown",
   "metadata": {},
   "source": [
    "The *subscribed* column values are string literals and need to be encoded as below,\n",
    "\n",
    "- *yes* to 1 \n",
    "- *no* to 0."
   ]
  },
  {
   "cell_type": "code",
   "execution_count": 61,
   "metadata": {
    "ExecuteTime": {
     "end_time": "2021-04-07T04:19:26.384891Z",
     "start_time": "2021-04-07T04:19:26.377846Z"
    }
   },
   "outputs": [],
   "source": [
    "# Encoding the subscribed column and assigning to Y\n",
    "Y = new_bank_df.subscribed.map( lambda x: int( x == 'yes') )"
   ]
  },
  {
   "cell_type": "markdown",
   "metadata": {},
   "source": [
    "Splitting the dataset into train and test sets in 70:30 ratio respectively."
   ]
  },
  {
   "cell_type": "code",
   "execution_count": 62,
   "metadata": {
    "ExecuteTime": {
     "end_time": "2021-04-07T04:19:27.416964Z",
     "start_time": "2021-04-07T04:19:27.370286Z"
    }
   },
   "outputs": [],
   "source": [
    "from sklearn.model_selection import train_test_split\n",
    "\n",
    "train_X, test_X, train_y, test_y = train_test_split( X,\n",
    "                                                    Y,\n",
    "                                                    test_size = 0.3,\n",
    "                                                    random_state = 42 )"
   ]
  },
  {
   "cell_type": "markdown",
   "metadata": {},
   "source": [
    "## KNN Algorithm\n",
    "\n",
    "- KNN stands for K-Nearest Neighbor and is a non-parametric, lazy learning algorithm used for regression or classification problems.  \n",
    "\n",
    "- KNN algorithm finds observations in training set, which are similar to the new observation to be classified. These observations are called neighbors. \n",
    "\n",
    "- For better accuracy, a set of neighbors (k) can be considered for classifying new observation. The new observation belongs to the class, which majority of the neighbors belong to. \n",
    "\n",
    "<img src=\"knn.png\" alt=\"KNN\" style=\"width: 600px;\"/>\n",
    "\n",
    "As shown, there are observations that belong to two classes represented by traingle and circle shapes. To find the class for a new observation a set of neighbors, marked by the circle, are examined. As majority of the neighbors belong to class B, the new observation is classified as class B.\n",
    "\n",
    "The neighbors are found by computing distance between observations. Euclidean Distance is one of the most widely used distance metrics and given by \n",
    "\n",
    "D(X1, X2) = $\\sqrt\\sum_{i=1}^{n} {(x_{i1} - x_{i2})^2}$\n",
    "\n",
    "Where, $X_{1}$ and $X_{2}$ are two data points, there are ${n}$ attributes and $x_{i}$ is ${i^{th}}$ attribute of each data points.\n",
    "\n",
    "Other distance metrics that are used are:\n",
    "\n",
    "- *Minkowski distance* - Minkowski distance is same as the Manhattan distance, but normalized by number of features.\n",
    "- *Jaccard coefficient* - is a measure used when the data is qualitative, especially when attributes can be represented in binary form.\n",
    "- *Gower’s Coefficient* - The distance and similarity measures that we have discussed so far are valid either for quantitative data or qualitative data.\n",
    "\n",
    "For better understaning of all metrics available in *sklearn*, please explore http://scikit-learn.org/stable/modules/generated/sklearn.neighbors.DistanceMetric.html.\n",
    "\n",
    "*sklearn.neighbors* provides *KNeighborsClassifier* algorithm for classification problems. *KNeighborsClassifier* take the following parameters.\n",
    "\n",
    "- n_neighbors : int - Number of neighbors to use by default. Default is 5.\n",
    "- metric : string - The distance metrics. Default ‘minkowski’. All available distance \n",
    "- weights : str - Default is *uniform* where all points in each neighborhood are weighted equally. Or *distance*, which weighes points by the inverse of their distance. \n",
    "\n",
    "Applying KNN algorithms to the bank marketing dataset. The following default values are using to run the algorithm.\n",
    "\n",
    "- n_neighbors = 5\n",
    "- metric = 'minkowski'\n",
    "- wieghts = 'uniform'"
   ]
  },
  {
   "cell_type": "code",
   "execution_count": 63,
   "metadata": {
    "ExecuteTime": {
     "end_time": "2021-04-07T04:19:28.325269Z",
     "start_time": "2021-04-07T04:19:28.233496Z"
    }
   },
   "outputs": [
    {
     "data": {
      "text/plain": [
       "KNeighborsClassifier()"
      ]
     },
     "execution_count": 63,
     "metadata": {},
     "output_type": "execute_result"
    }
   ],
   "source": [
    "## Importing the KNN classifier algorithm\n",
    "from sklearn.neighbors import KNeighborsClassifier\n",
    "\n",
    "## Initializing the classifier\n",
    "knn_clf = KNeighborsClassifier()\n",
    "## Fitting the model with the training set\n",
    "knn_clf.fit( train_X, train_y )"
   ]
  },
  {
   "cell_type": "markdown",
   "metadata": {},
   "source": [
    "### Measuring KNN Accuracy"
   ]
  },
  {
   "cell_type": "markdown",
   "metadata": {},
   "source": [
    "Finding ROC AUC score and drawing the ROC curve."
   ]
  },
  {
   "cell_type": "code",
   "execution_count": 75,
   "metadata": {
    "ExecuteTime": {
     "end_time": "2021-04-07T04:23:44.846466Z",
     "start_time": "2021-04-07T04:23:44.771070Z"
    }
   },
   "outputs": [],
   "source": [
    "## Predicting on test set\n",
    "pred_y = knn_clf.predict(test_X)"
   ]
  },
  {
   "cell_type": "code",
   "execution_count": 76,
   "metadata": {
    "ExecuteTime": {
     "end_time": "2021-04-07T04:24:23.341443Z",
     "start_time": "2021-04-07T04:24:23.243323Z"
    }
   },
   "outputs": [],
   "source": [
    "from sklearn import metrics\n",
    "import matplotlib.pyplot as plt\n",
    "import seaborn as sn\n",
    "\n",
    "def draw_cm( actual, predicted ):\n",
    "    # Invoking confusion_matrix from metric package. The matrix will oriented as [1,0] i.e.\n",
    "    # the classes with label 1 will be reprensted the first row and 0 as second row \n",
    "    cm = metrics.confusion_matrix( actual, predicted, [1,0] )\n",
    "    ## Confustion will be plotted as heatmap for better visualization\n",
    "    ## The lables are configured to better interpretation from the plot\n",
    "    sn.heatmap(cm, annot=True,  fmt='.2f', \n",
    "               xticklabels = [\"Subscribed\", \"Not Subscribed\"]  , \n",
    "               yticklabels = [\"Subscribed\", \"Not Subscribed\"] )\n",
    "    plt.ylabel('True label')\n",
    "    plt.xlabel('Predicted label')\n",
    "    plt.show()"
   ]
  },
  {
   "cell_type": "code",
   "execution_count": 77,
   "metadata": {
    "ExecuteTime": {
     "end_time": "2021-04-07T04:25:23.063550Z",
     "start_time": "2021-04-07T04:25:22.930482Z"
    }
   },
   "outputs": [
    {
     "data": {
      "image/png": "[encoded data removed]",
      "text/plain": [
       "<Figure size 432x288 with 2 Axes>"
      ]
     },
     "metadata": {
      "needs_background": "light"
     },
     "output_type": "display_data"
    }
   ],
   "source": [
    "## Drawing the confusion matrix for KNN model \n",
    "draw_cm( test_y, pred_y )"
   ]
  },
  {
   "cell_type": "code",
   "execution_count": 67,
   "metadata": {},
   "outputs": [
    {
     "name": "stdout",
     "output_type": "stream",
     "text": [
      "              precision    recall  f1-score   support\n",
      "\n",
      "           0       0.86      0.76      0.81      1217\n",
      "           1       0.60      0.73      0.66       583\n",
      "\n",
      "    accuracy                           0.75      1800\n",
      "   macro avg       0.73      0.75      0.73      1800\n",
      "weighted avg       0.77      0.75      0.76      1800\n",
      "\n"
     ]
    }
   ],
   "source": [
    "print( metrics.classification_report( test_y, pred_y ) )"
   ]
  },
  {
   "cell_type": "markdown",
   "metadata": {},
   "source": [
    "The *recall* of positive cases is 0.73. "
   ]
  },
  {
   "cell_type": "code",
   "execution_count": 68,
   "metadata": {},
   "outputs": [],
   "source": [
    "## The method takes the three following parameters\n",
    "## model: the classification model\n",
    "## test_X: X features of the test set\n",
    "## test_y: actual labels of the test set\n",
    "## Returns\n",
    "##  - ROC Auc Score\n",
    "##  - FPR and TPRs for different threshold values\n",
    "def draw_roc_curve( model, test_X, test_y ):\n",
    "    ## Creating and initializing a results DataFrame with actual labels\n",
    "    test_results_df = pd.DataFrame( { 'actual':  test_y } )\n",
    "    test_results_df = test_results_df.reset_index()\n",
    "\n",
    "    # predict the probabilities on the test set\n",
    "    predict_proba_df = pd.DataFrame( model.predict_proba( test_X ) )\n",
    "\n",
    "    ## selecting the probabilities that the test example belongs to class 1\n",
    "    test_results_df['chd_1'] = predict_proba_df.iloc[:,1:2]\n",
    "    \n",
    "    \n",
    "    ## Invoke roc_curve() to return the fpr, tpr and threshold values.\n",
    "    ## threshold values contain values from 0.0 to 1.0 \n",
    "    fpr, tpr, thresholds = metrics.roc_curve( test_results_df.actual,\n",
    "                                           test_results_df.chd_1,\n",
    "                                           drop_intermediate = False )\n",
    "\n",
    "    ## Getting the roc auc score by invoking metrics.roc_auc_score method\n",
    "    auc_score = metrics.roc_auc_score( test_results_df.actual, test_results_df.chd_1  )\n",
    "\n",
    "    ## Setting the size of the plot\n",
    "    plt.figure(figsize=(8, 6))\n",
    "    ## plotting the actual fpr and tpr values \n",
    "    plt.plot( fpr, tpr, label='ROC curve (area = %0.2f)' % auc_score )\n",
    "    ## plotting th diagnoal line from (0,1)\n",
    "    plt.plot([0, 1], [0, 1], 'k--')\n",
    "    plt.xlim([0.0, 1.0])\n",
    "    plt.ylim([0.0, 1.05])\n",
    "    ## Setting labels and titles\n",
    "    plt.xlabel('False Positive Rate or [1 - True Negative Rate]')\n",
    "    plt.ylabel('True Positive Rate')\n",
    "    plt.title('Receiver operating characteristic example')\n",
    "    plt.legend(loc=\"lower right\")\n",
    "    plt.show()\n",
    "    \n",
    "    return auc_score, fpr, tpr, thresholds"
   ]
  },
  {
   "cell_type": "code",
   "execution_count": 78,
   "metadata": {
    "ExecuteTime": {
     "end_time": "2021-04-07T04:21:35.220920Z",
     "start_time": "2021-04-07T04:21:35.213059Z"
    }
   },
   "outputs": [
    {
     "data": {
      "image/png": "[encoded data removed]",
      "text/plain": [
       "<Figure size 576x432 with 1 Axes>"
      ]
     },
     "metadata": {
      "needs_background": "light"
     },
     "output_type": "display_data"
    }
   ],
   "source": [
    "from sklearn.metrics import roc_auc_score\n",
    "\n",
    "## Invoking draw_roc_curve with the KNN model\n",
    "draw_roc_curve(knn_clf, test_X, test_y);"
   ]
  },
  {
   "cell_type": "markdown",
   "metadata": {},
   "source": [
    "### GridSerach for most optimal parameters"
   ]
  },
  {
   "cell_type": "markdown",
   "metadata": {},
   "source": [
    "- The above model accuracy is obtained by considering default number of neighbors i.e. k=5.  - K in KNN is called hyperparameter and the process of finding optimal value for a hyperparameter is called hyperparameter tuning. \n",
    "\n",
    "*sklearn.model_selection* provides a feature called *GridSearchCV*, which searches through a set of given hyperparameter values and reports the most optimal one. *GridSearchCV* does k-fold cross validation for each value of hyperparameter to measure accuracy and avoid overfitting. \n",
    "\n",
    "*GridSearchCV* takes the following parameters,\n",
    "\n",
    "- estimator - scikit-learn model, which implements estimator interface. \n",
    "- param_grid - A dictionary with parameters names (string) as keys and lists of parameter settings to try as values.\n",
    "- scoring - string - the accuracy measure e.g. 'r2' for regression models and 'f1, 'precision', 'recall' or roc_auc' for classification models.\n",
    "- cv - integer - the number of folds in K-Fold"
   ]
  },
  {
   "cell_type": "markdown",
   "metadata": {},
   "source": [
    "In our example, the hyperparameters and corresponding set of values for search are as follows.\n",
    "\n",
    "- n_neighbhors - All values from 5 to 10\n",
    "- metric (for distance calculation): 'canberra', 'euclidean', 'minkowski'\n",
    "\n",
    "And the grid search to report ROC AUC score after 10 K-Fold cross validation."
   ]
  },
  {
   "cell_type": "code",
   "execution_count": 70,
   "metadata": {},
   "outputs": [
    {
     "data": {
      "text/plain": [
       "GridSearchCV(cv=10, estimator=KNeighborsClassifier(),\n",
       "             param_grid=[{'metric': ['canberra', 'euclidean', 'minkowski'],\n",
       "                          'n_neighbors': range(5, 10)}],\n",
       "             scoring='roc_auc')"
      ]
     },
     "execution_count": 70,
     "metadata": {},
     "output_type": "execute_result"
    }
   ],
   "source": [
    "## Importing GridSearchCV\n",
    "from sklearn.model_selection import GridSearchCV\n",
    "\n",
    "## Creating a dictionary with hyperparameters and possible values for searching\n",
    "tuned_parameters = [{'n_neighbors': range(5,10), \n",
    "                     'metric': ['canberra', 'euclidean', 'minkowski']}]\n",
    "\n",
    "## Configuring grid search\n",
    "clf = GridSearchCV(KNeighborsClassifier(),\n",
    "                 tuned_parameters,\n",
    "                 cv=10,\n",
    "                 scoring='roc_auc')\n",
    "## fit the search with training set\n",
    "clf.fit(train_X, train_y )"
   ]
  },
  {
   "cell_type": "markdown",
   "metadata": {},
   "source": [
    "Once the search is over, the best score and params can be printed as below."
   ]
  },
  {
   "cell_type": "code",
   "execution_count": 71,
   "metadata": {},
   "outputs": [
    {
     "data": {
      "text/plain": [
       "0.8307802466383185"
      ]
     },
     "execution_count": 71,
     "metadata": {},
     "output_type": "execute_result"
    }
   ],
   "source": [
    "clf.best_score_"
   ]
  },
  {
   "cell_type": "code",
   "execution_count": 72,
   "metadata": {},
   "outputs": [
    {
     "data": {
      "text/plain": [
       "{'metric': 'canberra', 'n_neighbors': 5}"
      ]
     },
     "execution_count": 72,
     "metadata": {},
     "output_type": "execute_result"
    }
   ],
   "source": [
    "clf.best_params_"
   ]
  },
  {
   "cell_type": "markdown",
   "metadata": {},
   "source": [
    "*GridSearch* suggests the best combination of parameters is *n_neighbhors=5* and *canberra* distance and the corresponding *roc_auc* score is 0.830."
   ]
  },
  {
   "cell_type": "markdown",
   "metadata": {},
   "source": [
    "## Ensemble Methods"
   ]
  },
  {
   "cell_type": "markdown",
   "metadata": {},
   "source": [
    "- Ensemble methods are learning algorithms that take a set of estimators or classifiers and classify new data points by majority vote. \n",
    "\n",
    "- The majority voting could be based on counting simpliy the vote from each classifier or it could weighted based on their individual accuracy measures. \n",
    "\n",
    "<img src=\"ensemblenew.png\" alt=\"Ensemble\" style=\"width: 600px;\"/>\n",
    "\n",
    "- Ensemble methods are also used for regression problems, where the prediction of new data is simple average or weighted average of all predictions from the set of regression models.\n",
    "\n",
    "- Multiple datasets are needed for buiding multiple classifiers. But in practice there is always one training set is available. So instead of using the same training set across all classifiers, bootstrapped samples (random samples with replacement) are drawn from the initial training set and given to each classifiers.\n",
    "\n",
    "- Sometimes bootstrapping involves sampling features (using a subset of features) along with sampling observations. Each resampled set contains a subset of features available in the original set. Sampling features helps find important features, which is discussed in the subsequent sections in detail.\n",
    "\n",
    "\n",
    "As shown, K and N are number of features and samaples in the original set, while k and n are number of features and samaples in the sampled set.\n",
    "\n",
    "The process of boostrapping samples from original set to build multiple models and the aggregating their results for final prediction is called *Bagging*. Bagging word comes from bootstrapping plus aggregating. One of the most widely used bagging technique is *Random Forest*."
   ]
  },
  {
   "cell_type": "markdown",
   "metadata": {},
   "source": [
    "## Random Forest"
   ]
  },
  {
   "cell_type": "markdown",
   "metadata": {},
   "source": [
    "- Random forest is one of the most popular ensemble techniques used in industry becuase of it's good performance and scalability. \n",
    "\n",
    "- A random forest is an ensemble of decision trees, where each decision tree is built from the bootstrap samples (sampled with replacement) and randomly selected subset of features without replacement. \n",
    "\n",
    "- The decision trees are normally grown deep. \n",
    "\n",
    "- The number of estimators or models to be used in Random Forest can be tuned to increase model accuracy. The hyperparameters that can be tuned in a Random Forest model are,\n",
    "\n",
    "    - Number of Decision trees\n",
    "    - Number of features to be sampled\n",
    "    - and the hyperparameters that can be tuned in decision trees like tree depth and search criteria (gini or entropy)\n",
    "\n",
    "- *RandomForestClassifier* is available in *sklearn.ensemble* and takes the following parameters.\n",
    "\n",
    "    - n_estimators : integer - The number of trees in the forest.\n",
    "    - criterion : string - The function to measure the quality of a split. Gini or entropy. Default is *gini*.\n",
    "    - max_feature: int, float - The number of features to be used for each tree\n",
    "        - If int, then consider max_features features at each split.\n",
    "        - If float, then max_features is a percentage and int(max_features * n_features) features are considered at each split.\n",
    "        - If “auto”, then max_features=sqrt(n_features).\n",
    "        - If “sqrt”, then max_features=sqrt(n_features) (same as “auto”). Most widely used.\n",
    "        - If “log2”, then max_features=log2(n_features)    \n",
    "    - max_depth : integer - The maximum depth of the tree. \n",
    "\n",
    "#### Buiding Random Forest Model \n",
    "\n",
    "Initially building a random forest model with *max_depth* 10 and *n_estimators* 10."
   ]
  },
  {
   "cell_type": "code",
   "execution_count": 79,
   "metadata": {},
   "outputs": [
    {
     "data": {
      "text/plain": [
       "RandomForestClassifier(max_depth=10, n_estimators=10)"
      ]
     },
     "execution_count": 79,
     "metadata": {},
     "output_type": "execute_result"
    }
   ],
   "source": [
    "## Importing Random Forest Classifier from the sklearn.ensemble\n",
    "from sklearn.ensemble import RandomForestClassifier\n",
    "\n",
    "## Initializing the Random Forest Classifier with max_dept and n_estimators\n",
    "radm_clf = RandomForestClassifier( max_depth=10, n_estimators=10)\n",
    "radm_clf.fit( train_X, train_y )"
   ]
  },
  {
   "cell_type": "markdown",
   "metadata": {},
   "source": [
    "Finding ROC AUC score and drawing the ROC curve using our utilitiy method *draw_roc_curve*."
   ]
  },
  {
   "cell_type": "code",
   "execution_count": 80,
   "metadata": {},
   "outputs": [
    {
     "data": {
      "image/png": "[encoded data removed]",
      "text/plain": [
       "<Figure size 576x432 with 1 Axes>"
      ]
     },
     "metadata": {
      "needs_background": "light"
     },
     "output_type": "display_data"
    }
   ],
   "source": [
    "_, _, _, _ = draw_roc_curve( radm_clf, test_X, test_y );"
   ]
  },
  {
   "cell_type": "markdown",
   "metadata": {},
   "source": [
    "AUC is 0.86 and better compared to KNN model. But we can still improve the accuracy by using grid search.\n",
    "\n",
    "### Grid Search for Optimal Parameters\n",
    "\n",
    "- Readers are welcome to experiment with more parameters and larger set of values for search. It may take a while for running large combination of values. So be patient!\n",
    "\n",
    "- We will tune only the parameters *max_depth*, *n_estimators* and *max_features* and use a small set of values for search. \n",
    "\n",
    "    - max_depth: 10 or 15\n",
    "    - n_estimators: 10 or 20\n",
    "    - max_features: sqrt or auto"
   ]
  },
  {
   "cell_type": "code",
   "execution_count": 81,
   "metadata": {},
   "outputs": [
    {
     "data": {
      "text/plain": [
       "GridSearchCV(cv=5, estimator=RandomForestClassifier(),\n",
       "             param_grid=[{'max_depth': [10, 15],\n",
       "                          'max_features': ['sqrt', 'auto'],\n",
       "                          'n_estimators': [10, 20]}],\n",
       "             scoring='roc_auc')"
      ]
     },
     "execution_count": 81,
     "metadata": {},
     "output_type": "execute_result"
    }
   ],
   "source": [
    "## Configuring parameters and values for searched\n",
    "tuned_parameters = [{'max_depth': [10, 15],\n",
    "                   'n_estimators': [10,20],\n",
    "                   'max_features': ['sqrt', 'auto']}]\n",
    "\n",
    "## Initializing the RF classifier\n",
    "radm_clf = RandomForestClassifier()\n",
    "\n",
    "## Configuring search with the tunable parameters\n",
    "clf = GridSearchCV(radm_clf,\n",
    "                 tuned_parameters,\n",
    "                 cv=5,\n",
    "                 scoring='roc_auc')\n",
    "\n",
    "## Fitting the training set\n",
    "clf.fit(train_X, train_y )"
   ]
  },
  {
   "cell_type": "markdown",
   "metadata": {},
   "source": [
    "Printing the best score and best params."
   ]
  },
  {
   "cell_type": "code",
   "execution_count": 82,
   "metadata": {},
   "outputs": [
    {
     "data": {
      "text/plain": [
       "0.9322236290914722"
      ]
     },
     "execution_count": 82,
     "metadata": {},
     "output_type": "execute_result"
    }
   ],
   "source": [
    "clf.best_score_"
   ]
  },
  {
   "cell_type": "markdown",
   "metadata": {},
   "source": [
    "AUC score have reached 0.93 with the following optimal values for the hyperparameters."
   ]
  },
  {
   "cell_type": "code",
   "execution_count": 83,
   "metadata": {},
   "outputs": [
    {
     "data": {
      "text/plain": [
       "{'max_depth': 15, 'max_features': 'sqrt', 'n_estimators': 20}"
      ]
     },
     "execution_count": 83,
     "metadata": {},
     "output_type": "execute_result"
    }
   ],
   "source": [
    "clf.best_params_"
   ]
  },
  {
   "cell_type": "markdown",
   "metadata": {},
   "source": [
    "#### Drawing the confusion matrix"
   ]
  },
  {
   "cell_type": "markdown",
   "metadata": {},
   "source": [
    "Drawing the confusion matrix using the utility method *draw_cm*."
   ]
  },
  {
   "cell_type": "code",
   "execution_count": 85,
   "metadata": {},
   "outputs": [
    {
     "data": {
      "image/png": "[encoded data removed]",
      "text/plain": [
       "<Figure size 432x288 with 2 Axes>"
      ]
     },
     "metadata": {
      "needs_background": "light"
     },
     "output_type": "display_data"
    }
   ],
   "source": [
    "pred_y = clf.best_estimator_.predict( test_X )\n",
    "draw_cm( test_y, pred_y )"
   ]
  },
  {
   "cell_type": "markdown",
   "metadata": {},
   "source": [
    "The mode is able to detect 483 out of 583 subscribed cases and ther are only 66 *false positives* cases."
   ]
  },
  {
   "cell_type": "markdown",
   "metadata": {},
   "source": [
    "Printing the classification report"
   ]
  },
  {
   "cell_type": "code",
   "execution_count": 86,
   "metadata": {},
   "outputs": [
    {
     "name": "stdout",
     "output_type": "stream",
     "text": [
      "              precision    recall  f1-score   support\n",
      "\n",
      "           0       0.92      0.95      0.93      1217\n",
      "           1       0.88      0.83      0.85       583\n",
      "\n",
      "    accuracy                           0.91      1800\n",
      "   macro avg       0.90      0.89      0.89      1800\n",
      "weighted avg       0.91      0.91      0.91      1800\n",
      "\n"
     ]
    }
   ],
   "source": [
    "print( metrics.classification_report( test_y, pred_y ) )"
   ]
  },
  {
   "cell_type": "markdown",
   "metadata": {},
   "source": [
    "The recall and precision for positive cases are 0.83 and 0.88 respectively, which are far better than what we obtained using KNN model."
   ]
  },
  {
   "cell_type": "markdown",
   "metadata": {},
   "source": [
    "### Finding important features\n",
    "\n",
    "- Random forest algorithms reports feature importance by considering feature usage over all the trees in the forest. \n",
    "\n",
    "- Features importance is calculated for a feature by multiplying error reduction at any node by the feature with the proportion of samples reaching that node. Then the values are averaged over all the trees to find final feature importance.\n",
    "\n",
    "- This gives good insight into which all features have important information with respect to the outcome variable.\n",
    "\n",
    "\n",
    "In *sklearn* the classifiers return a parameter called *feature_importances_*, which holds the feature importance values. We will store these values along with the column names in a DataFrame and plot them in descending order of importances for better visualization and interpretation.\n"
   ]
  },
  {
   "cell_type": "code",
   "execution_count": 237,
   "metadata": {},
   "outputs": [
    {
     "data": {
      "image/png": "[encoded data removed]",
      "text/plain": [
       "<Figure size 576x432 with 1 Axes>"
      ]
     },
     "metadata": {},
     "output_type": "display_data"
    }
   ],
   "source": [
    "import numpy as np\n",
    "\n",
    "# Create a dataframe to store the featues and their corresponding importances\n",
    "feature_rank = pd.DataFrame( { 'feature': train_X.columns,\n",
    "                               'importance': radm_clf.feature_importances_ } )\n",
    "\n",
    "## Sorting the features based on their importances with most important feature at top.\n",
    "feature_rank = feature_rank.sort_values('importance', ascending = False)\n",
    "\n",
    "plt.figure(figsize=(8, 6))\n",
    "# plot the values\n",
    "sn.barplot( y = 'feature', x = 'importance', data = feature_rank );"
   ]
  },
  {
   "cell_type": "markdown",
   "metadata": {},
   "source": [
    "The top 5 features are *balance, age, previous-campaign, current-campaign and house-loan_yes*. The importance score is normalized and shows the relative importance of features. The cummulative sum of features importance can show the amount variance explained by the top 5 features.\n",
    "\n",
    "Pandas' *cumsum()* method can be used to compute the cummulative sum as below."
   ]
  },
  {
   "cell_type": "code",
   "execution_count": 240,
   "metadata": {},
   "outputs": [
    {
     "data": {
      "text/html": [
       "<div>\n",
       "<style scoped>\n",
       "    .dataframe tbody tr th:only-of-type {\n",
       "        vertical-align: middle;\n",
       "    }\n",
       "\n",
       "    .dataframe tbody tr th {\n",
       "        vertical-align: top;\n",
       "    }\n",
       "\n",
       "    .dataframe thead th {\n",
       "        text-align: right;\n",
       "    }\n",
       "</style>\n",
       "<table border=\"1\" class=\"dataframe\">\n",
       "  <thead>\n",
       "    <tr style=\"text-align: right;\">\n",
       "      <th></th>\n",
       "      <th>feature</th>\n",
       "      <th>importance</th>\n",
       "      <th>cumsum</th>\n",
       "    </tr>\n",
       "  </thead>\n",
       "  <tbody>\n",
       "    <tr>\n",
       "      <th>1</th>\n",
       "      <td>balance</td>\n",
       "      <td>0.256938</td>\n",
       "      <td>25.693789</td>\n",
       "    </tr>\n",
       "    <tr>\n",
       "      <th>0</th>\n",
       "      <td>age</td>\n",
       "      <td>0.214292</td>\n",
       "      <td>47.122946</td>\n",
       "    </tr>\n",
       "    <tr>\n",
       "      <th>3</th>\n",
       "      <td>previous-campaign</td>\n",
       "      <td>0.115596</td>\n",
       "      <td>58.682579</td>\n",
       "    </tr>\n",
       "    <tr>\n",
       "      <th>2</th>\n",
       "      <td>current-campaign</td>\n",
       "      <td>0.109440</td>\n",
       "      <td>69.626538</td>\n",
       "    </tr>\n",
       "    <tr>\n",
       "      <th>21</th>\n",
       "      <td>housing-loan_yes</td>\n",
       "      <td>0.045655</td>\n",
       "      <td>74.192006</td>\n",
       "    </tr>\n",
       "    <tr>\n",
       "      <th>17</th>\n",
       "      <td>education_secondary</td>\n",
       "      <td>0.026044</td>\n",
       "      <td>76.796379</td>\n",
       "    </tr>\n",
       "    <tr>\n",
       "      <th>15</th>\n",
       "      <td>marital_married</td>\n",
       "      <td>0.025683</td>\n",
       "      <td>79.364678</td>\n",
       "    </tr>\n",
       "    <tr>\n",
       "      <th>22</th>\n",
       "      <td>personal-loan_yes</td>\n",
       "      <td>0.024546</td>\n",
       "      <td>81.819316</td>\n",
       "    </tr>\n",
       "    <tr>\n",
       "      <th>4</th>\n",
       "      <td>job_blue-collar</td>\n",
       "      <td>0.021823</td>\n",
       "      <td>84.001666</td>\n",
       "    </tr>\n",
       "    <tr>\n",
       "      <th>16</th>\n",
       "      <td>marital_single</td>\n",
       "      <td>0.019638</td>\n",
       "      <td>85.965419</td>\n",
       "    </tr>\n",
       "  </tbody>\n",
       "</table>\n",
       "</div>"
      ],
      "text/plain": [
       "                feature  importance     cumsum\n",
       "1               balance    0.256938  25.693789\n",
       "0                   age    0.214292  47.122946\n",
       "3     previous-campaign    0.115596  58.682579\n",
       "2      current-campaign    0.109440  69.626538\n",
       "21     housing-loan_yes    0.045655  74.192006\n",
       "17  education_secondary    0.026044  76.796379\n",
       "15      marital_married    0.025683  79.364678\n",
       "22    personal-loan_yes    0.024546  81.819316\n",
       "4       job_blue-collar    0.021823  84.001666\n",
       "16       marital_single    0.019638  85.965419"
      ]
     },
     "execution_count": 240,
     "metadata": {},
     "output_type": "execute_result"
    }
   ],
   "source": [
    "feature_rank['cumsum'] = feature_rank.importance.cumsum() * 100\n",
    "feature_rank.head(10)"
   ]
  },
  {
   "cell_type": "markdown",
   "metadata": {},
   "source": [
    "Top 5 features provides 75% of information in the data with respect to the outcome variable. This techniques can also be used for feature selection. Random forest being a black box model, can not be interpreted. But it can be used to select a subset of features using feature importance criteria and build simpler models for interpretation."
   ]
  },
  {
   "cell_type": "markdown",
   "metadata": {},
   "source": [
    "## What we learnt:\n",
    "\n",
    "1. What is the difference between supervised and unsupervised learning?\n",
    "2. How machines learn by defining a cost function and using an optimization algorithms to minimize the cost function.\n",
    "3. How grandient descent optimzation works.\n",
    "4. KNN model and how it predicts outcome from looking into the neighbors.\n",
    "5. Ensemble techniques like Random Forest, which uses many decision trees.\n",
    "9. Finding features importance using ensemble techniques."
   ]
  },
  {
   "cell_type": "code",
   "execution_count": null,
   "metadata": {},
   "outputs": [],
   "source": []
  }
 ],
 "metadata": {
  "kernelspec": {
   "display_name": "Python 3",
   "language": "python",
   "name": "python3"
  },
  "language_info": {
   "codemirror_mode": {
    "name": "ipython",
    "version": 3
   },
   "file_extension": ".py",
   "mimetype": "text/x-python",
   "name": "python",
   "nbconvert_exporter": "python",
   "pygments_lexer": "ipython3",
   "version": "3.8.3"
  }
 },
 "nbformat": 4,
 "nbformat_minor": 2
}
