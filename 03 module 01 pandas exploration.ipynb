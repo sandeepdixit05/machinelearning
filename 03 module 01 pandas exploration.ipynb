{
 "cells": [
  {
   "cell_type": "markdown",
   "metadata": {},
   "source": [
    "### Learning objective\n",
    "\n",
    "The objective of this chapter is to understand\n",
    "\n",
    "- Understand what is a dataframe and how to work with pandas dataframe.\n",
    "- How to load data onto dataframes and apply transformations like filtering, grouping, ordering and joining of dataframes\n",
    "- Drawing statistical plots like barplot, histogram, distribution plot, box plot, scatter plot, pair plot and heatmaps for finding insights\n",
    "\n",
    "\n",
    "## Working with DataFrames\n",
    "\n",
    "- Data scientists deal with structured data in most of their data analysis activities and are very familiar with the concept of SQL table. \n",
    "- The similar structure of presenting data is supported in python through dataframes, which can be imagined as in-memory sql tables. \n",
    "\n",
    "\n",
    "\n",
    "- The dataframes are flat in structure and is arranged in rows and columns. \n",
    "- Rows are indexed and columns can be named. \n",
    "- Each row is also referred as sample or observation, whereas columns are also referred as features.\n",
    "\n",
    "<img src=\"dataframe.png\" width=\"500\">"
   ]
  },
  {
   "cell_type": "markdown",
   "metadata": {},
   "source": [
    "### Exploring IPL Dataset\n",
    "\n",
    "- The Indian Premier League (IPL) was a professional league for Twenty20 (T20) cricket championships that was started in 2008 in India. \n",
    "- The first IPL auction was held in 2008 and the franchises acquired players through an auction that was conducted every year. \n",
    "- The performance of 130 players played in at least one season of the IPL (2008 - 2011) measured through various performance metrics along with the base price and sold price is given in the dataset **IPL IMB381IPL2013.csv**. "
   ]
  },
  {
   "cell_type": "markdown",
   "metadata": {},
   "source": [
    "| Data Code | Data Type | Description |\n",
    "| ----------:| :-------------- | :-------------- |\n",
    "| AGE |\tCategorical | Age of the player at the time of auction classified into 3 categories.  Category 1  (L25) means the player is less than 25 years old, 2 means that the age is between 25 and 35 years (B25-35)and category 3 means that the age is more than 35 (A35).  |\n",
    "| RUNS-S | Continuous | Number of runs scored by a player |\n",
    "| RUNS-C | Continuous | Number of runs conceded by a player |\n",
    "| HS | Continuous |\tHighest score by a batsman in IPL |\n",
    "| AVE-B | Continuous | Average runs scored by a batsman in IPL |\n",
    "| AVE-BL | Continuous |\tBowling average (Number of runs conceded / number of wickets taken) in IPL. |\n",
    "| SR-B | Continuous | Batting strike rate (ratio of the number of runs scored to the number of balls faced) in IPL |\n",
    "| SR-BL | Continuous | Bowling strike rate (ratio of the number of balls bowled to the number of wickets taken) in IPL |\n",
    "| SIXERS | Continuous |\tNumber of six runs scored by a player in IPL  |\n",
    "| WKTS | Continuous | Number of wickets taken by a player in IPL |\n",
    "| ECON | Continuous | Economy rate of a bowler (number of runs conceded by the bowler per over) in IPL |\n",
    "| CAPTAINCY EXP | Categorical | Captained either an T20 team or a national team |\n",
    "| ODI-SR-B | Continuous | Batting strike rate in One Day Internationals |\n",
    "| ODI-SR-BL | Continuous | Bowling strike rate in One Day Internationals |\n",
    "| ODI-RUNS-S | Continuous | Runs scored in One Day Internationals |\n",
    "| ODI-WKTS | Continuous | Wickets taken in One Day Internationals |\n",
    "| T-RUNS-S | Continuous | Runs scored in Test matches |\n",
    "| T-WKTS | Continuous | Wickets taken in Test matches |\n",
    "| PLAYER-SKILL | Categorical | Player’s primary skill (batsman, bowler, or all-rounder) |\n",
    "| COUNTRY | Categorical | Country of origin of the player (AUS: Australia; IND: India; PAK: Pakistan; SA: South Africa; SL: Sri Lanka; NZ: New Zealand; WI: West Indies; OTH: Other countries) |\n",
    "| YEAR-A | Categorical | Year of Auction in IPL |\n",
    "| IPL TEAM | Categorical | Team(s) for which the player had played in the IPL (CSK: Chennai Super Kings; DC: Deccan Chargers; DD: Delhi Daredevils; KXI: Kings XI Punjab; KKR: Kolkata Knight Riders; MI: Mumbai Indians; PWI: Pune Warriors India; RR: Rajasthan Royals; RCB: Royal Challengers Bangalore). A + sign was used to indicate that the player had played for more than one team. For example, CSK+ would mean that the player had played for CSK as well as for one or more other teams.  |"
   ]
  },
  {
   "cell_type": "markdown",
   "metadata": {},
   "source": [
    "### Loading the dataset onto a DataFrame"
   ]
  },
  {
   "cell_type": "code",
   "execution_count": 72,
   "metadata": {},
   "outputs": [],
   "source": [
    "import pandas as pd\n",
    "\n",
    "pd.set_option('display.float_format', lambda x: '%.3f' % x)\n",
    "pd.set_option('display.max_columns', 7)  "
   ]
  },
  {
   "cell_type": "markdown",
   "metadata": {},
   "source": [
    "Pandas library has provided methods for loading datasets with many different formats onto dataframes. For example, \n",
    "\n",
    "- **read_csv** to read comma separated values\n",
    "- **read_json** to read data with json format\n",
    "- **read_fwf** to read data with fixed width format\n",
    "- **read_excel** to read excel files\n",
    "- **read_table** to read database tables"
   ]
  },
  {
   "cell_type": "code",
   "execution_count": 73,
   "metadata": {},
   "outputs": [],
   "source": [
    "pd.read_csv?"
   ]
  },
  {
   "cell_type": "markdown",
   "metadata": {},
   "source": [
    "<img src=\"read_csv.png\" width=\"1000\">"
   ]
  },
  {
   "cell_type": "markdown",
   "metadata": {},
   "source": [
    "- The read_csv api expects paramter *delimiter* to be set to appropriate delimiter character. The default is comma.\n",
    "- It also assumes the first line to be the header. if not, the  and *header* parameter need to be set to *False*."
   ]
  },
  {
   "cell_type": "code",
   "execution_count": 74,
   "metadata": {},
   "outputs": [],
   "source": [
    "ipl_auction_df = pd.read_csv( 'IPL IMB381IPL2013.csv' )"
   ]
  },
  {
   "cell_type": "markdown",
   "metadata": {},
   "source": [
    "The returned variable *ipl_auction_df* is a dataframe."
   ]
  },
  {
   "cell_type": "code",
   "execution_count": 75,
   "metadata": {},
   "outputs": [
    {
     "data": {
      "text/plain": [
       "pandas.core.frame.DataFrame"
      ]
     },
     "execution_count": 75,
     "metadata": {},
     "output_type": "execute_result"
    }
   ],
   "source": [
    "type(ipl_auction_df)"
   ]
  },
  {
   "cell_type": "markdown",
   "metadata": {},
   "source": [
    "### Displaying first few records of the DataFrame"
   ]
  },
  {
   "cell_type": "code",
   "execution_count": 76,
   "metadata": {},
   "outputs": [
    {
     "data": {
      "text/html": [
       "<div>\n",
       "<style scoped>\n",
       "    .dataframe tbody tr th:only-of-type {\n",
       "        vertical-align: middle;\n",
       "    }\n",
       "\n",
       "    .dataframe tbody tr th {\n",
       "        vertical-align: top;\n",
       "    }\n",
       "\n",
       "    .dataframe thead th {\n",
       "        text-align: right;\n",
       "    }\n",
       "</style>\n",
       "<table border=\"1\" class=\"dataframe\">\n",
       "  <thead>\n",
       "    <tr style=\"text-align: right;\">\n",
       "      <th></th>\n",
       "      <th>Sl.NO.</th>\n",
       "      <th>PLAYER NAME</th>\n",
       "      <th>AGE</th>\n",
       "      <th>...</th>\n",
       "      <th>AUCTION YEAR</th>\n",
       "      <th>BASE PRICE</th>\n",
       "      <th>SOLD PRICE</th>\n",
       "    </tr>\n",
       "  </thead>\n",
       "  <tbody>\n",
       "    <tr>\n",
       "      <th>0</th>\n",
       "      <td>1</td>\n",
       "      <td>Abdulla, YA</td>\n",
       "      <td>2</td>\n",
       "      <td>...</td>\n",
       "      <td>2009</td>\n",
       "      <td>50000</td>\n",
       "      <td>50000</td>\n",
       "    </tr>\n",
       "    <tr>\n",
       "      <th>1</th>\n",
       "      <td>2</td>\n",
       "      <td>Abdur Razzak</td>\n",
       "      <td>2</td>\n",
       "      <td>...</td>\n",
       "      <td>2008</td>\n",
       "      <td>50000</td>\n",
       "      <td>50000</td>\n",
       "    </tr>\n",
       "    <tr>\n",
       "      <th>2</th>\n",
       "      <td>3</td>\n",
       "      <td>Agarkar, AB</td>\n",
       "      <td>2</td>\n",
       "      <td>...</td>\n",
       "      <td>2008</td>\n",
       "      <td>200000</td>\n",
       "      <td>350000</td>\n",
       "    </tr>\n",
       "    <tr>\n",
       "      <th>3</th>\n",
       "      <td>4</td>\n",
       "      <td>Ashwin, R</td>\n",
       "      <td>1</td>\n",
       "      <td>...</td>\n",
       "      <td>2011</td>\n",
       "      <td>100000</td>\n",
       "      <td>850000</td>\n",
       "    </tr>\n",
       "    <tr>\n",
       "      <th>4</th>\n",
       "      <td>5</td>\n",
       "      <td>Badrinath, S</td>\n",
       "      <td>2</td>\n",
       "      <td>...</td>\n",
       "      <td>2011</td>\n",
       "      <td>100000</td>\n",
       "      <td>800000</td>\n",
       "    </tr>\n",
       "  </tbody>\n",
       "</table>\n",
       "<p>5 rows × 26 columns</p>\n",
       "</div>"
      ],
      "text/plain": [
       "   Sl.NO.   PLAYER NAME  AGE  ... AUCTION YEAR BASE PRICE SOLD PRICE\n",
       "0       1   Abdulla, YA    2  ...         2009      50000      50000\n",
       "1       2  Abdur Razzak    2  ...         2008      50000      50000\n",
       "2       3   Agarkar, AB    2  ...         2008     200000     350000\n",
       "3       4     Ashwin, R    1  ...         2011     100000     850000\n",
       "4       5  Badrinath, S    2  ...         2011     100000     800000\n",
       "\n",
       "[5 rows x 26 columns]"
      ]
     },
     "execution_count": 76,
     "metadata": {},
     "output_type": "execute_result"
    }
   ],
   "source": [
    "ipl_auction_df.head(5)"
   ]
  },
  {
   "cell_type": "markdown",
   "metadata": {},
   "source": [
    "### Finding metadata of the DataFrame"
   ]
  },
  {
   "cell_type": "code",
   "execution_count": 7,
   "metadata": {},
   "outputs": [
    {
     "data": {
      "text/plain": [
       "['Sl.NO.',\n",
       " 'PLAYER NAME',\n",
       " 'AGE',\n",
       " 'COUNTRY',\n",
       " 'TEAM',\n",
       " 'PLAYING ROLE',\n",
       " 'T-RUNS',\n",
       " 'T-WKTS',\n",
       " 'ODI-RUNS-S',\n",
       " 'ODI-SR-B',\n",
       " 'ODI-WKTS',\n",
       " 'ODI-SR-BL',\n",
       " 'CAPTAINCY EXP',\n",
       " 'RUNS-S',\n",
       " 'HS',\n",
       " 'AVE',\n",
       " 'SR-B',\n",
       " 'SIXERS',\n",
       " 'RUNS-C',\n",
       " 'WKTS',\n",
       " 'AVE-BL',\n",
       " 'ECON',\n",
       " 'SR-BL',\n",
       " 'AUCTION YEAR',\n",
       " 'BASE PRICE',\n",
       " 'SOLD PRICE']"
      ]
     },
     "execution_count": 7,
     "metadata": {},
     "output_type": "execute_result"
    }
   ],
   "source": [
    "list(ipl_auction_df.columns)"
   ]
  },
  {
   "cell_type": "markdown",
   "metadata": {},
   "source": [
    "we can also display the dataframe by transposing, especially if the number of columns are many."
   ]
  },
  {
   "cell_type": "code",
   "execution_count": 8,
   "metadata": {},
   "outputs": [
    {
     "data": {
      "text/html": [
       "<div>\n",
       "<style scoped>\n",
       "    .dataframe tbody tr th:only-of-type {\n",
       "        vertical-align: middle;\n",
       "    }\n",
       "\n",
       "    .dataframe tbody tr th {\n",
       "        vertical-align: top;\n",
       "    }\n",
       "\n",
       "    .dataframe thead th {\n",
       "        text-align: right;\n",
       "    }\n",
       "</style>\n",
       "<table border=\"1\" class=\"dataframe\">\n",
       "  <thead>\n",
       "    <tr style=\"text-align: right;\">\n",
       "      <th></th>\n",
       "      <th>0</th>\n",
       "      <th>1</th>\n",
       "      <th>2</th>\n",
       "      <th>3</th>\n",
       "      <th>4</th>\n",
       "    </tr>\n",
       "  </thead>\n",
       "  <tbody>\n",
       "    <tr>\n",
       "      <th>Sl.NO.</th>\n",
       "      <td>1</td>\n",
       "      <td>2</td>\n",
       "      <td>3</td>\n",
       "      <td>4</td>\n",
       "      <td>5</td>\n",
       "    </tr>\n",
       "    <tr>\n",
       "      <th>PLAYER NAME</th>\n",
       "      <td>Abdulla, YA</td>\n",
       "      <td>Abdur Razzak</td>\n",
       "      <td>Agarkar, AB</td>\n",
       "      <td>Ashwin, R</td>\n",
       "      <td>Badrinath, S</td>\n",
       "    </tr>\n",
       "    <tr>\n",
       "      <th>AGE</th>\n",
       "      <td>2</td>\n",
       "      <td>2</td>\n",
       "      <td>2</td>\n",
       "      <td>1</td>\n",
       "      <td>2</td>\n",
       "    </tr>\n",
       "    <tr>\n",
       "      <th>COUNTRY</th>\n",
       "      <td>SA</td>\n",
       "      <td>BAN</td>\n",
       "      <td>IND</td>\n",
       "      <td>IND</td>\n",
       "      <td>IND</td>\n",
       "    </tr>\n",
       "    <tr>\n",
       "      <th>TEAM</th>\n",
       "      <td>KXIP</td>\n",
       "      <td>RCB</td>\n",
       "      <td>KKR</td>\n",
       "      <td>CSK</td>\n",
       "      <td>CSK</td>\n",
       "    </tr>\n",
       "    <tr>\n",
       "      <th>PLAYING ROLE</th>\n",
       "      <td>Allrounder</td>\n",
       "      <td>Bowler</td>\n",
       "      <td>Bowler</td>\n",
       "      <td>Bowler</td>\n",
       "      <td>Batsman</td>\n",
       "    </tr>\n",
       "    <tr>\n",
       "      <th>T-RUNS</th>\n",
       "      <td>0</td>\n",
       "      <td>214</td>\n",
       "      <td>571</td>\n",
       "      <td>284</td>\n",
       "      <td>63</td>\n",
       "    </tr>\n",
       "    <tr>\n",
       "      <th>T-WKTS</th>\n",
       "      <td>0</td>\n",
       "      <td>18</td>\n",
       "      <td>58</td>\n",
       "      <td>31</td>\n",
       "      <td>0</td>\n",
       "    </tr>\n",
       "    <tr>\n",
       "      <th>ODI-RUNS-S</th>\n",
       "      <td>0</td>\n",
       "      <td>657</td>\n",
       "      <td>1269</td>\n",
       "      <td>241</td>\n",
       "      <td>79</td>\n",
       "    </tr>\n",
       "    <tr>\n",
       "      <th>ODI-SR-B</th>\n",
       "      <td>0.000</td>\n",
       "      <td>71.410</td>\n",
       "      <td>80.620</td>\n",
       "      <td>84.560</td>\n",
       "      <td>45.930</td>\n",
       "    </tr>\n",
       "    <tr>\n",
       "      <th>ODI-WKTS</th>\n",
       "      <td>0</td>\n",
       "      <td>185</td>\n",
       "      <td>288</td>\n",
       "      <td>51</td>\n",
       "      <td>0</td>\n",
       "    </tr>\n",
       "    <tr>\n",
       "      <th>ODI-SR-BL</th>\n",
       "      <td>0.000</td>\n",
       "      <td>37.600</td>\n",
       "      <td>32.900</td>\n",
       "      <td>36.800</td>\n",
       "      <td>0.000</td>\n",
       "    </tr>\n",
       "    <tr>\n",
       "      <th>CAPTAINCY EXP</th>\n",
       "      <td>0</td>\n",
       "      <td>0</td>\n",
       "      <td>0</td>\n",
       "      <td>0</td>\n",
       "      <td>0</td>\n",
       "    </tr>\n",
       "    <tr>\n",
       "      <th>RUNS-S</th>\n",
       "      <td>0</td>\n",
       "      <td>0</td>\n",
       "      <td>167</td>\n",
       "      <td>58</td>\n",
       "      <td>1317</td>\n",
       "    </tr>\n",
       "    <tr>\n",
       "      <th>HS</th>\n",
       "      <td>0</td>\n",
       "      <td>0</td>\n",
       "      <td>39</td>\n",
       "      <td>11</td>\n",
       "      <td>71</td>\n",
       "    </tr>\n",
       "    <tr>\n",
       "      <th>AVE</th>\n",
       "      <td>0.000</td>\n",
       "      <td>0.000</td>\n",
       "      <td>18.560</td>\n",
       "      <td>5.800</td>\n",
       "      <td>32.930</td>\n",
       "    </tr>\n",
       "    <tr>\n",
       "      <th>SR-B</th>\n",
       "      <td>0.000</td>\n",
       "      <td>0.000</td>\n",
       "      <td>121.010</td>\n",
       "      <td>76.320</td>\n",
       "      <td>120.710</td>\n",
       "    </tr>\n",
       "    <tr>\n",
       "      <th>SIXERS</th>\n",
       "      <td>0</td>\n",
       "      <td>0</td>\n",
       "      <td>5</td>\n",
       "      <td>0</td>\n",
       "      <td>28</td>\n",
       "    </tr>\n",
       "    <tr>\n",
       "      <th>RUNS-C</th>\n",
       "      <td>307</td>\n",
       "      <td>29</td>\n",
       "      <td>1059</td>\n",
       "      <td>1125</td>\n",
       "      <td>0</td>\n",
       "    </tr>\n",
       "    <tr>\n",
       "      <th>WKTS</th>\n",
       "      <td>15</td>\n",
       "      <td>0</td>\n",
       "      <td>29</td>\n",
       "      <td>49</td>\n",
       "      <td>0</td>\n",
       "    </tr>\n",
       "    <tr>\n",
       "      <th>AVE-BL</th>\n",
       "      <td>20.470</td>\n",
       "      <td>0.000</td>\n",
       "      <td>36.520</td>\n",
       "      <td>22.960</td>\n",
       "      <td>0.000</td>\n",
       "    </tr>\n",
       "    <tr>\n",
       "      <th>ECON</th>\n",
       "      <td>8.900</td>\n",
       "      <td>14.500</td>\n",
       "      <td>8.810</td>\n",
       "      <td>6.230</td>\n",
       "      <td>0.000</td>\n",
       "    </tr>\n",
       "    <tr>\n",
       "      <th>SR-BL</th>\n",
       "      <td>13.930</td>\n",
       "      <td>0.000</td>\n",
       "      <td>24.900</td>\n",
       "      <td>22.140</td>\n",
       "      <td>0.000</td>\n",
       "    </tr>\n",
       "    <tr>\n",
       "      <th>AUCTION YEAR</th>\n",
       "      <td>2009</td>\n",
       "      <td>2008</td>\n",
       "      <td>2008</td>\n",
       "      <td>2011</td>\n",
       "      <td>2011</td>\n",
       "    </tr>\n",
       "    <tr>\n",
       "      <th>BASE PRICE</th>\n",
       "      <td>50000</td>\n",
       "      <td>50000</td>\n",
       "      <td>200000</td>\n",
       "      <td>100000</td>\n",
       "      <td>100000</td>\n",
       "    </tr>\n",
       "    <tr>\n",
       "      <th>SOLD PRICE</th>\n",
       "      <td>50000</td>\n",
       "      <td>50000</td>\n",
       "      <td>350000</td>\n",
       "      <td>850000</td>\n",
       "      <td>800000</td>\n",
       "    </tr>\n",
       "  </tbody>\n",
       "</table>\n",
       "</div>"
      ],
      "text/plain": [
       "                         0             1            2          3             4\n",
       "Sl.NO.                   1             2            3          4             5\n",
       "PLAYER NAME    Abdulla, YA  Abdur Razzak  Agarkar, AB  Ashwin, R  Badrinath, S\n",
       "AGE                      2             2            2          1             2\n",
       "COUNTRY                 SA           BAN          IND        IND           IND\n",
       "TEAM                  KXIP           RCB          KKR        CSK           CSK\n",
       "PLAYING ROLE    Allrounder        Bowler       Bowler     Bowler       Batsman\n",
       "T-RUNS                   0           214          571        284            63\n",
       "T-WKTS                   0            18           58         31             0\n",
       "ODI-RUNS-S               0           657         1269        241            79\n",
       "ODI-SR-B             0.000        71.410       80.620     84.560        45.930\n",
       "ODI-WKTS                 0           185          288         51             0\n",
       "ODI-SR-BL            0.000        37.600       32.900     36.800         0.000\n",
       "CAPTAINCY EXP            0             0            0          0             0\n",
       "RUNS-S                   0             0          167         58          1317\n",
       "HS                       0             0           39         11            71\n",
       "AVE                  0.000         0.000       18.560      5.800        32.930\n",
       "SR-B                 0.000         0.000      121.010     76.320       120.710\n",
       "SIXERS                   0             0            5          0            28\n",
       "RUNS-C                 307            29         1059       1125             0\n",
       "WKTS                    15             0           29         49             0\n",
       "AVE-BL              20.470         0.000       36.520     22.960         0.000\n",
       "ECON                 8.900        14.500        8.810      6.230         0.000\n",
       "SR-BL               13.930         0.000       24.900     22.140         0.000\n",
       "AUCTION YEAR          2009          2008         2008       2011          2011\n",
       "BASE PRICE           50000         50000       200000     100000        100000\n",
       "SOLD PRICE           50000         50000       350000     850000        800000"
      ]
     },
     "execution_count": 8,
     "metadata": {},
     "output_type": "execute_result"
    }
   ],
   "source": [
    "ipl_auction_df.head(5).transpose()"
   ]
  },
  {
   "cell_type": "markdown",
   "metadata": {},
   "source": [
    "The dimension of the dataframe can be retrived through the *shape* attribute of the dataframe."
   ]
  },
  {
   "cell_type": "code",
   "execution_count": 9,
   "metadata": {},
   "outputs": [
    {
     "data": {
      "text/plain": [
       "(130, 26)"
      ]
     },
     "execution_count": 9,
     "metadata": {},
     "output_type": "execute_result"
    }
   ],
   "source": [
    "ipl_auction_df.shape"
   ]
  },
  {
   "cell_type": "markdown",
   "metadata": {},
   "source": [
    "As we can see the IPL dataset contains 130 records and 26 columns.\n",
    "\n",
    "More detailed metadata about the dataset like number of records, columns names, number of actual populated values in each column and datatypes of columns and total memory consumption by the dataframe can be retrieved using *info()* method of the dataframe. "
   ]
  },
  {
   "cell_type": "code",
   "execution_count": 10,
   "metadata": {},
   "outputs": [
    {
     "name": "stdout",
     "output_type": "stream",
     "text": [
      "<class 'pandas.core.frame.DataFrame'>\n",
      "RangeIndex: 130 entries, 0 to 129\n",
      "Data columns (total 26 columns):\n",
      " #   Column         Non-Null Count  Dtype  \n",
      "---  ------         --------------  -----  \n",
      " 0   Sl.NO.         130 non-null    int64  \n",
      " 1   PLAYER NAME    130 non-null    object \n",
      " 2   AGE            130 non-null    int64  \n",
      " 3   COUNTRY        130 non-null    object \n",
      " 4   TEAM           130 non-null    object \n",
      " 5   PLAYING ROLE   130 non-null    object \n",
      " 6   T-RUNS         130 non-null    int64  \n",
      " 7   T-WKTS         130 non-null    int64  \n",
      " 8   ODI-RUNS-S     130 non-null    int64  \n",
      " 9   ODI-SR-B       130 non-null    float64\n",
      " 10  ODI-WKTS       130 non-null    int64  \n",
      " 11  ODI-SR-BL      130 non-null    float64\n",
      " 12  CAPTAINCY EXP  130 non-null    int64  \n",
      " 13  RUNS-S         130 non-null    int64  \n",
      " 14  HS             130 non-null    int64  \n",
      " 15  AVE            130 non-null    float64\n",
      " 16  SR-B           130 non-null    float64\n",
      " 17  SIXERS         130 non-null    int64  \n",
      " 18  RUNS-C         130 non-null    int64  \n",
      " 19  WKTS           130 non-null    int64  \n",
      " 20  AVE-BL         130 non-null    float64\n",
      " 21  ECON           130 non-null    float64\n",
      " 22  SR-BL          130 non-null    float64\n",
      " 23  AUCTION YEAR   130 non-null    int64  \n",
      " 24  BASE PRICE     130 non-null    int64  \n",
      " 25  SOLD PRICE     130 non-null    int64  \n",
      "dtypes: float64(7), int64(15), object(4)\n",
      "memory usage: 26.5+ KB\n"
     ]
    }
   ],
   "source": [
    "ipl_auction_df.info()"
   ]
  },
  {
   "cell_type": "markdown",
   "metadata": {},
   "source": [
    "- None of the columns have any missing values. \n",
    "- The data type of the columns are automatically inferred by pandas \n",
    "- Most of the continuous variables are shown as either int64 or float64 and categorical variables(strings or literals) are inferred as objects."
   ]
  },
  {
   "cell_type": "markdown",
   "metadata": {},
   "source": [
    "### Slicing and Indexing a dataframe"
   ]
  },
  {
   "cell_type": "markdown",
   "metadata": {},
   "source": [
    "#### Selecting Rows by Indexes"
   ]
  },
  {
   "cell_type": "markdown",
   "metadata": {},
   "source": [
    "Showing the first 5 rows of the dataframe."
   ]
  },
  {
   "cell_type": "code",
   "execution_count": 11,
   "metadata": {},
   "outputs": [
    {
     "data": {
      "text/html": [
       "<div>\n",
       "<style scoped>\n",
       "    .dataframe tbody tr th:only-of-type {\n",
       "        vertical-align: middle;\n",
       "    }\n",
       "\n",
       "    .dataframe tbody tr th {\n",
       "        vertical-align: top;\n",
       "    }\n",
       "\n",
       "    .dataframe thead th {\n",
       "        text-align: right;\n",
       "    }\n",
       "</style>\n",
       "<table border=\"1\" class=\"dataframe\">\n",
       "  <thead>\n",
       "    <tr style=\"text-align: right;\">\n",
       "      <th></th>\n",
       "      <th>Sl.NO.</th>\n",
       "      <th>PLAYER NAME</th>\n",
       "      <th>AGE</th>\n",
       "      <th>...</th>\n",
       "      <th>AUCTION YEAR</th>\n",
       "      <th>BASE PRICE</th>\n",
       "      <th>SOLD PRICE</th>\n",
       "    </tr>\n",
       "  </thead>\n",
       "  <tbody>\n",
       "    <tr>\n",
       "      <th>0</th>\n",
       "      <td>1</td>\n",
       "      <td>Abdulla, YA</td>\n",
       "      <td>2</td>\n",
       "      <td>...</td>\n",
       "      <td>2009</td>\n",
       "      <td>50000</td>\n",
       "      <td>50000</td>\n",
       "    </tr>\n",
       "    <tr>\n",
       "      <th>1</th>\n",
       "      <td>2</td>\n",
       "      <td>Abdur Razzak</td>\n",
       "      <td>2</td>\n",
       "      <td>...</td>\n",
       "      <td>2008</td>\n",
       "      <td>50000</td>\n",
       "      <td>50000</td>\n",
       "    </tr>\n",
       "    <tr>\n",
       "      <th>2</th>\n",
       "      <td>3</td>\n",
       "      <td>Agarkar, AB</td>\n",
       "      <td>2</td>\n",
       "      <td>...</td>\n",
       "      <td>2008</td>\n",
       "      <td>200000</td>\n",
       "      <td>350000</td>\n",
       "    </tr>\n",
       "    <tr>\n",
       "      <th>3</th>\n",
       "      <td>4</td>\n",
       "      <td>Ashwin, R</td>\n",
       "      <td>1</td>\n",
       "      <td>...</td>\n",
       "      <td>2011</td>\n",
       "      <td>100000</td>\n",
       "      <td>850000</td>\n",
       "    </tr>\n",
       "    <tr>\n",
       "      <th>4</th>\n",
       "      <td>5</td>\n",
       "      <td>Badrinath, S</td>\n",
       "      <td>2</td>\n",
       "      <td>...</td>\n",
       "      <td>2011</td>\n",
       "      <td>100000</td>\n",
       "      <td>800000</td>\n",
       "    </tr>\n",
       "  </tbody>\n",
       "</table>\n",
       "<p>5 rows × 26 columns</p>\n",
       "</div>"
      ],
      "text/plain": [
       "   Sl.NO.   PLAYER NAME  AGE  ... AUCTION YEAR BASE PRICE SOLD PRICE\n",
       "0       1   Abdulla, YA    2  ...         2009      50000      50000\n",
       "1       2  Abdur Razzak    2  ...         2008      50000      50000\n",
       "2       3   Agarkar, AB    2  ...         2008     200000     350000\n",
       "3       4     Ashwin, R    1  ...         2011     100000     850000\n",
       "4       5  Badrinath, S    2  ...         2011     100000     800000\n",
       "\n",
       "[5 rows x 26 columns]"
      ]
     },
     "execution_count": 11,
     "metadata": {},
     "output_type": "execute_result"
    }
   ],
   "source": [
    "ipl_auction_df[0:5]"
   ]
  },
  {
   "cell_type": "markdown",
   "metadata": {},
   "source": [
    "Showing the last five records."
   ]
  },
  {
   "cell_type": "code",
   "execution_count": 12,
   "metadata": {},
   "outputs": [
    {
     "data": {
      "text/html": [
       "<div>\n",
       "<style scoped>\n",
       "    .dataframe tbody tr th:only-of-type {\n",
       "        vertical-align: middle;\n",
       "    }\n",
       "\n",
       "    .dataframe tbody tr th {\n",
       "        vertical-align: top;\n",
       "    }\n",
       "\n",
       "    .dataframe thead th {\n",
       "        text-align: right;\n",
       "    }\n",
       "</style>\n",
       "<table border=\"1\" class=\"dataframe\">\n",
       "  <thead>\n",
       "    <tr style=\"text-align: right;\">\n",
       "      <th></th>\n",
       "      <th>Sl.NO.</th>\n",
       "      <th>PLAYER NAME</th>\n",
       "      <th>AGE</th>\n",
       "      <th>...</th>\n",
       "      <th>AUCTION YEAR</th>\n",
       "      <th>BASE PRICE</th>\n",
       "      <th>SOLD PRICE</th>\n",
       "    </tr>\n",
       "  </thead>\n",
       "  <tbody>\n",
       "    <tr>\n",
       "      <th>125</th>\n",
       "      <td>126</td>\n",
       "      <td>Yadav, AS</td>\n",
       "      <td>2</td>\n",
       "      <td>...</td>\n",
       "      <td>2010</td>\n",
       "      <td>50000</td>\n",
       "      <td>750000</td>\n",
       "    </tr>\n",
       "    <tr>\n",
       "      <th>126</th>\n",
       "      <td>127</td>\n",
       "      <td>Younis Khan</td>\n",
       "      <td>2</td>\n",
       "      <td>...</td>\n",
       "      <td>2008</td>\n",
       "      <td>225000</td>\n",
       "      <td>225000</td>\n",
       "    </tr>\n",
       "    <tr>\n",
       "      <th>127</th>\n",
       "      <td>128</td>\n",
       "      <td>Yuvraj Singh</td>\n",
       "      <td>2</td>\n",
       "      <td>...</td>\n",
       "      <td>2011</td>\n",
       "      <td>400000</td>\n",
       "      <td>1800000</td>\n",
       "    </tr>\n",
       "    <tr>\n",
       "      <th>128</th>\n",
       "      <td>129</td>\n",
       "      <td>Zaheer Khan</td>\n",
       "      <td>2</td>\n",
       "      <td>...</td>\n",
       "      <td>2008</td>\n",
       "      <td>200000</td>\n",
       "      <td>450000</td>\n",
       "    </tr>\n",
       "    <tr>\n",
       "      <th>129</th>\n",
       "      <td>130</td>\n",
       "      <td>Zoysa, DNT</td>\n",
       "      <td>2</td>\n",
       "      <td>...</td>\n",
       "      <td>2008</td>\n",
       "      <td>100000</td>\n",
       "      <td>110000</td>\n",
       "    </tr>\n",
       "  </tbody>\n",
       "</table>\n",
       "<p>5 rows × 26 columns</p>\n",
       "</div>"
      ],
      "text/plain": [
       "     Sl.NO.   PLAYER NAME  AGE  ... AUCTION YEAR BASE PRICE SOLD PRICE\n",
       "125     126     Yadav, AS    2  ...         2010      50000     750000\n",
       "126     127   Younis Khan    2  ...         2008     225000     225000\n",
       "127     128  Yuvraj Singh    2  ...         2011     400000    1800000\n",
       "128     129   Zaheer Khan    2  ...         2008     200000     450000\n",
       "129     130    Zoysa, DNT    2  ...         2008     100000     110000\n",
       "\n",
       "[5 rows x 26 columns]"
      ]
     },
     "execution_count": 12,
     "metadata": {},
     "output_type": "execute_result"
    }
   ],
   "source": [
    "ipl_auction_df[-5:]"
   ]
  },
  {
   "cell_type": "markdown",
   "metadata": {},
   "source": [
    "#### Selecting Columns by Column Names"
   ]
  },
  {
   "cell_type": "code",
   "execution_count": 13,
   "metadata": {},
   "outputs": [
    {
     "data": {
      "text/plain": [
       "0     Abdulla, YA\n",
       "1    Abdur Razzak\n",
       "2     Agarkar, AB\n",
       "3       Ashwin, R\n",
       "4    Badrinath, S\n",
       "Name: PLAYER NAME, dtype: object"
      ]
     },
     "execution_count": 13,
     "metadata": {},
     "output_type": "execute_result"
    }
   ],
   "source": [
    "ipl_auction_df['PLAYER NAME'][0:5]"
   ]
  },
  {
   "cell_type": "code",
   "execution_count": 14,
   "metadata": {},
   "outputs": [
    {
     "data": {
      "text/html": [
       "<div>\n",
       "<style scoped>\n",
       "    .dataframe tbody tr th:only-of-type {\n",
       "        vertical-align: middle;\n",
       "    }\n",
       "\n",
       "    .dataframe tbody tr th {\n",
       "        vertical-align: top;\n",
       "    }\n",
       "\n",
       "    .dataframe thead th {\n",
       "        text-align: right;\n",
       "    }\n",
       "</style>\n",
       "<table border=\"1\" class=\"dataframe\">\n",
       "  <thead>\n",
       "    <tr style=\"text-align: right;\">\n",
       "      <th></th>\n",
       "      <th>PLAYER NAME</th>\n",
       "      <th>COUNTRY</th>\n",
       "    </tr>\n",
       "  </thead>\n",
       "  <tbody>\n",
       "    <tr>\n",
       "      <th>0</th>\n",
       "      <td>Abdulla, YA</td>\n",
       "      <td>SA</td>\n",
       "    </tr>\n",
       "    <tr>\n",
       "      <th>1</th>\n",
       "      <td>Abdur Razzak</td>\n",
       "      <td>BAN</td>\n",
       "    </tr>\n",
       "    <tr>\n",
       "      <th>2</th>\n",
       "      <td>Agarkar, AB</td>\n",
       "      <td>IND</td>\n",
       "    </tr>\n",
       "    <tr>\n",
       "      <th>3</th>\n",
       "      <td>Ashwin, R</td>\n",
       "      <td>IND</td>\n",
       "    </tr>\n",
       "    <tr>\n",
       "      <th>4</th>\n",
       "      <td>Badrinath, S</td>\n",
       "      <td>IND</td>\n",
       "    </tr>\n",
       "  </tbody>\n",
       "</table>\n",
       "</div>"
      ],
      "text/plain": [
       "    PLAYER NAME COUNTRY\n",
       "0   Abdulla, YA      SA\n",
       "1  Abdur Razzak     BAN\n",
       "2   Agarkar, AB     IND\n",
       "3     Ashwin, R     IND\n",
       "4  Badrinath, S     IND"
      ]
     },
     "execution_count": 14,
     "metadata": {},
     "output_type": "execute_result"
    }
   ],
   "source": [
    "ipl_auction_df[['PLAYER NAME', 'COUNTRY']][0:5]"
   ]
  },
  {
   "cell_type": "markdown",
   "metadata": {},
   "source": [
    "#### Selecting Rows and Columns by indexes"
   ]
  },
  {
   "cell_type": "code",
   "execution_count": 77,
   "metadata": {},
   "outputs": [
    {
     "data": {
      "text/html": [
       "<div>\n",
       "<style scoped>\n",
       "    .dataframe tbody tr th:only-of-type {\n",
       "        vertical-align: middle;\n",
       "    }\n",
       "\n",
       "    .dataframe tbody tr th {\n",
       "        vertical-align: top;\n",
       "    }\n",
       "\n",
       "    .dataframe thead th {\n",
       "        text-align: right;\n",
       "    }\n",
       "</style>\n",
       "<table border=\"1\" class=\"dataframe\">\n",
       "  <thead>\n",
       "    <tr style=\"text-align: right;\">\n",
       "      <th></th>\n",
       "      <th>PLAYER NAME</th>\n",
       "      <th>AGE</th>\n",
       "      <th>COUNTRY</th>\n",
       "    </tr>\n",
       "  </thead>\n",
       "  <tbody>\n",
       "    <tr>\n",
       "      <th>4</th>\n",
       "      <td>Badrinath, S</td>\n",
       "      <td>2</td>\n",
       "      <td>IND</td>\n",
       "    </tr>\n",
       "    <tr>\n",
       "      <th>5</th>\n",
       "      <td>Bailey, GJ</td>\n",
       "      <td>2</td>\n",
       "      <td>AUS</td>\n",
       "    </tr>\n",
       "    <tr>\n",
       "      <th>6</th>\n",
       "      <td>Balaji, L</td>\n",
       "      <td>2</td>\n",
       "      <td>IND</td>\n",
       "    </tr>\n",
       "    <tr>\n",
       "      <th>7</th>\n",
       "      <td>Bollinger, DE</td>\n",
       "      <td>2</td>\n",
       "      <td>AUS</td>\n",
       "    </tr>\n",
       "    <tr>\n",
       "      <th>8</th>\n",
       "      <td>Botha, J</td>\n",
       "      <td>2</td>\n",
       "      <td>SA</td>\n",
       "    </tr>\n",
       "  </tbody>\n",
       "</table>\n",
       "</div>"
      ],
      "text/plain": [
       "     PLAYER NAME  AGE COUNTRY\n",
       "4   Badrinath, S    2     IND\n",
       "5     Bailey, GJ    2     AUS\n",
       "6      Balaji, L    2     IND\n",
       "7  Bollinger, DE    2     AUS\n",
       "8       Botha, J    2      SA"
      ]
     },
     "execution_count": 77,
     "metadata": {},
     "output_type": "execute_result"
    }
   ],
   "source": [
    "ipl_auction_df.iloc[4:9, 1:4]"
   ]
  },
  {
   "cell_type": "markdown",
   "metadata": {},
   "source": [
    "### Value Counts and Cross Tabulations\n",
    "\n",
    "#### Finding occurances of each values in columns\n",
    "\n",
    "How many players from each country took part in auction?"
   ]
  },
  {
   "cell_type": "code",
   "execution_count": 16,
   "metadata": {},
   "outputs": [
    {
     "data": {
      "text/plain": [
       "IND    53\n",
       "AUS    22\n",
       "SA     16\n",
       "SL     12\n",
       "PAK     9\n",
       "NZ      7\n",
       "WI      6\n",
       "ENG     3\n",
       "BAN     1\n",
       "ZIM     1\n",
       "Name: COUNTRY, dtype: int64"
      ]
     },
     "execution_count": 16,
     "metadata": {},
     "output_type": "execute_result"
    }
   ],
   "source": [
    "ipl_auction_df.COUNTRY.value_counts()"
   ]
  },
  {
   "cell_type": "markdown",
   "metadata": {},
   "source": [
    "As expected, most players auctioned are from India, followed by Australia and then South Africa.\n",
    "\n",
    "Passing parameter *normalize=True* to the *value_counts()* will calculate the percentage of each unique value.\n"
   ]
  },
  {
   "cell_type": "code",
   "execution_count": 17,
   "metadata": {},
   "outputs": [
    {
     "data": {
      "text/plain": [
       "IND   40.769\n",
       "AUS   16.923\n",
       "SA    12.308\n",
       "SL     9.231\n",
       "PAK    6.923\n",
       "NZ     5.385\n",
       "WI     4.615\n",
       "ENG    2.308\n",
       "BAN    0.769\n",
       "ZIM    0.769\n",
       "Name: COUNTRY, dtype: float64"
      ]
     },
     "execution_count": 17,
     "metadata": {},
     "output_type": "execute_result"
    }
   ],
   "source": [
    "ipl_auction_df.COUNTRY.value_counts(normalize=True)*100"
   ]
  },
  {
   "cell_type": "markdown",
   "metadata": {},
   "source": [
    "#### Cross-tabulation between two columns\n",
    "\n",
    "What is the age of the players auctioned for different playing roles?\n",
    "\n",
    "Age of the player at the time of auction are classified into 3 categories.  \n",
    "- Category 1 means the player is less than 25 years old, \n",
    "- Category 2 means that the age is between 25 and 35 years and category \n",
    "- Category 3 means that the age is more than 35. "
   ]
  },
  {
   "cell_type": "code",
   "execution_count": 18,
   "metadata": {},
   "outputs": [
    {
     "data": {
      "text/html": [
       "<div>\n",
       "<style scoped>\n",
       "    .dataframe tbody tr th:only-of-type {\n",
       "        vertical-align: middle;\n",
       "    }\n",
       "\n",
       "    .dataframe tbody tr th {\n",
       "        vertical-align: top;\n",
       "    }\n",
       "\n",
       "    .dataframe thead th {\n",
       "        text-align: right;\n",
       "    }\n",
       "</style>\n",
       "<table border=\"1\" class=\"dataframe\">\n",
       "  <thead>\n",
       "    <tr style=\"text-align: right;\">\n",
       "      <th>PLAYING ROLE</th>\n",
       "      <th>Allrounder</th>\n",
       "      <th>Batsman</th>\n",
       "      <th>Bowler</th>\n",
       "      <th>W. Keeper</th>\n",
       "    </tr>\n",
       "    <tr>\n",
       "      <th>AGE</th>\n",
       "      <th></th>\n",
       "      <th></th>\n",
       "      <th></th>\n",
       "      <th></th>\n",
       "    </tr>\n",
       "  </thead>\n",
       "  <tbody>\n",
       "    <tr>\n",
       "      <th>1</th>\n",
       "      <td>4</td>\n",
       "      <td>5</td>\n",
       "      <td>7</td>\n",
       "      <td>0</td>\n",
       "    </tr>\n",
       "    <tr>\n",
       "      <th>2</th>\n",
       "      <td>25</td>\n",
       "      <td>21</td>\n",
       "      <td>29</td>\n",
       "      <td>11</td>\n",
       "    </tr>\n",
       "    <tr>\n",
       "      <th>3</th>\n",
       "      <td>6</td>\n",
       "      <td>13</td>\n",
       "      <td>8</td>\n",
       "      <td>1</td>\n",
       "    </tr>\n",
       "  </tbody>\n",
       "</table>\n",
       "</div>"
      ],
      "text/plain": [
       "PLAYING ROLE  Allrounder  Batsman  Bowler  W. Keeper\n",
       "AGE                                                 \n",
       "1                      4        5       7          0\n",
       "2                     25       21      29         11\n",
       "3                      6       13       8          1"
      ]
     },
     "execution_count": 18,
     "metadata": {},
     "output_type": "execute_result"
    }
   ],
   "source": [
    "pd.crosstab( ipl_auction_df['AGE'], ipl_auction_df['PLAYING ROLE'] )"
   ]
  },
  {
   "cell_type": "markdown",
   "metadata": {},
   "source": [
    "Most of the players auctioned are from the age category 2."
   ]
  },
  {
   "cell_type": "markdown",
   "metadata": {},
   "source": [
    "### Sorting dataframe by column values\n",
    "\n",
    "Sorting players by their sold price."
   ]
  },
  {
   "cell_type": "code",
   "execution_count": 19,
   "metadata": {},
   "outputs": [
    {
     "data": {
      "text/html": [
       "<div>\n",
       "<style scoped>\n",
       "    .dataframe tbody tr th:only-of-type {\n",
       "        vertical-align: middle;\n",
       "    }\n",
       "\n",
       "    .dataframe tbody tr th {\n",
       "        vertical-align: top;\n",
       "    }\n",
       "\n",
       "    .dataframe thead th {\n",
       "        text-align: right;\n",
       "    }\n",
       "</style>\n",
       "<table border=\"1\" class=\"dataframe\">\n",
       "  <thead>\n",
       "    <tr style=\"text-align: right;\">\n",
       "      <th></th>\n",
       "      <th>PLAYER NAME</th>\n",
       "      <th>SOLD PRICE</th>\n",
       "    </tr>\n",
       "  </thead>\n",
       "  <tbody>\n",
       "    <tr>\n",
       "      <th>73</th>\n",
       "      <td>Noffke, AA</td>\n",
       "      <td>20000</td>\n",
       "    </tr>\n",
       "    <tr>\n",
       "      <th>46</th>\n",
       "      <td>Kamran Khan</td>\n",
       "      <td>24000</td>\n",
       "    </tr>\n",
       "    <tr>\n",
       "      <th>0</th>\n",
       "      <td>Abdulla, YA</td>\n",
       "      <td>50000</td>\n",
       "    </tr>\n",
       "    <tr>\n",
       "      <th>1</th>\n",
       "      <td>Abdur Razzak</td>\n",
       "      <td>50000</td>\n",
       "    </tr>\n",
       "    <tr>\n",
       "      <th>118</th>\n",
       "      <td>Van der Merwe</td>\n",
       "      <td>50000</td>\n",
       "    </tr>\n",
       "  </tbody>\n",
       "</table>\n",
       "</div>"
      ],
      "text/plain": [
       "       PLAYER NAME  SOLD PRICE\n",
       "73      Noffke, AA       20000\n",
       "46     Kamran Khan       24000\n",
       "0      Abdulla, YA       50000\n",
       "1     Abdur Razzak       50000\n",
       "118  Van der Merwe       50000"
      ]
     },
     "execution_count": 19,
     "metadata": {},
     "output_type": "execute_result"
    }
   ],
   "source": [
    "ipl_auction_df[['PLAYER NAME', 'SOLD PRICE']].sort_values('SOLD PRICE')[0:5]"
   ]
  },
  {
   "cell_type": "markdown",
   "metadata": {},
   "source": [
    "To sort the dataframe records in ascending order, pass *False* to *ascending* parameter."
   ]
  },
  {
   "cell_type": "code",
   "execution_count": 20,
   "metadata": {},
   "outputs": [
    {
     "data": {
      "text/html": [
       "<div>\n",
       "<style scoped>\n",
       "    .dataframe tbody tr th:only-of-type {\n",
       "        vertical-align: middle;\n",
       "    }\n",
       "\n",
       "    .dataframe tbody tr th {\n",
       "        vertical-align: top;\n",
       "    }\n",
       "\n",
       "    .dataframe thead th {\n",
       "        text-align: right;\n",
       "    }\n",
       "</style>\n",
       "<table border=\"1\" class=\"dataframe\">\n",
       "  <thead>\n",
       "    <tr style=\"text-align: right;\">\n",
       "      <th></th>\n",
       "      <th>PLAYER NAME</th>\n",
       "      <th>SOLD PRICE</th>\n",
       "    </tr>\n",
       "  </thead>\n",
       "  <tbody>\n",
       "    <tr>\n",
       "      <th>93</th>\n",
       "      <td>Sehwag, V</td>\n",
       "      <td>1800000</td>\n",
       "    </tr>\n",
       "    <tr>\n",
       "      <th>127</th>\n",
       "      <td>Yuvraj Singh</td>\n",
       "      <td>1800000</td>\n",
       "    </tr>\n",
       "    <tr>\n",
       "      <th>50</th>\n",
       "      <td>Kohli, V</td>\n",
       "      <td>1800000</td>\n",
       "    </tr>\n",
       "    <tr>\n",
       "      <th>111</th>\n",
       "      <td>Tendulkar, SR</td>\n",
       "      <td>1800000</td>\n",
       "    </tr>\n",
       "    <tr>\n",
       "      <th>113</th>\n",
       "      <td>Tiwary, SS</td>\n",
       "      <td>1600000</td>\n",
       "    </tr>\n",
       "  </tbody>\n",
       "</table>\n",
       "</div>"
      ],
      "text/plain": [
       "       PLAYER NAME  SOLD PRICE\n",
       "93       Sehwag, V     1800000\n",
       "127   Yuvraj Singh     1800000\n",
       "50        Kohli, V     1800000\n",
       "111  Tendulkar, SR     1800000\n",
       "113     Tiwary, SS     1600000"
      ]
     },
     "execution_count": 20,
     "metadata": {},
     "output_type": "execute_result"
    }
   ],
   "source": [
    "ipl_auction_df[['PLAYER NAME', 'SOLD PRICE']].sort_values('SOLD PRICE', ascending = False)[0:5]"
   ]
  },
  {
   "cell_type": "markdown",
   "metadata": {},
   "source": [
    "### Creating new columns"
   ]
  },
  {
   "cell_type": "markdown",
   "metadata": {},
   "source": [
    "#### Which player got the maximum premium on the base price?\n",
    "\n",
    "The premium need to be calculated by taking difference between the *SOLD PRICE* and *BASE PRICE*."
   ]
  },
  {
   "cell_type": "code",
   "execution_count": 21,
   "metadata": {},
   "outputs": [],
   "source": [
    "ipl_auction_df['premium'] = ipl_auction_df['SOLD PRICE'] - ipl_auction_df['BASE PRICE']"
   ]
  },
  {
   "cell_type": "code",
   "execution_count": 22,
   "metadata": {},
   "outputs": [
    {
     "data": {
      "text/html": [
       "<div>\n",
       "<style scoped>\n",
       "    .dataframe tbody tr th:only-of-type {\n",
       "        vertical-align: middle;\n",
       "    }\n",
       "\n",
       "    .dataframe tbody tr th {\n",
       "        vertical-align: top;\n",
       "    }\n",
       "\n",
       "    .dataframe thead th {\n",
       "        text-align: right;\n",
       "    }\n",
       "</style>\n",
       "<table border=\"1\" class=\"dataframe\">\n",
       "  <thead>\n",
       "    <tr style=\"text-align: right;\">\n",
       "      <th></th>\n",
       "      <th>PLAYER NAME</th>\n",
       "      <th>BASE PRICE</th>\n",
       "      <th>SOLD PRICE</th>\n",
       "      <th>premium</th>\n",
       "    </tr>\n",
       "  </thead>\n",
       "  <tbody>\n",
       "    <tr>\n",
       "      <th>0</th>\n",
       "      <td>Abdulla, YA</td>\n",
       "      <td>50000</td>\n",
       "      <td>50000</td>\n",
       "      <td>0</td>\n",
       "    </tr>\n",
       "    <tr>\n",
       "      <th>1</th>\n",
       "      <td>Abdur Razzak</td>\n",
       "      <td>50000</td>\n",
       "      <td>50000</td>\n",
       "      <td>0</td>\n",
       "    </tr>\n",
       "    <tr>\n",
       "      <th>2</th>\n",
       "      <td>Agarkar, AB</td>\n",
       "      <td>200000</td>\n",
       "      <td>350000</td>\n",
       "      <td>150000</td>\n",
       "    </tr>\n",
       "    <tr>\n",
       "      <th>3</th>\n",
       "      <td>Ashwin, R</td>\n",
       "      <td>100000</td>\n",
       "      <td>850000</td>\n",
       "      <td>750000</td>\n",
       "    </tr>\n",
       "    <tr>\n",
       "      <th>4</th>\n",
       "      <td>Badrinath, S</td>\n",
       "      <td>100000</td>\n",
       "      <td>800000</td>\n",
       "      <td>700000</td>\n",
       "    </tr>\n",
       "  </tbody>\n",
       "</table>\n",
       "</div>"
      ],
      "text/plain": [
       "    PLAYER NAME  BASE PRICE  SOLD PRICE  premium\n",
       "0   Abdulla, YA       50000       50000        0\n",
       "1  Abdur Razzak       50000       50000        0\n",
       "2   Agarkar, AB      200000      350000   150000\n",
       "3     Ashwin, R      100000      850000   750000\n",
       "4  Badrinath, S      100000      800000   700000"
      ]
     },
     "execution_count": 22,
     "metadata": {},
     "output_type": "execute_result"
    }
   ],
   "source": [
    "ipl_auction_df[['PLAYER NAME', 'BASE PRICE', 'SOLD PRICE', 'premium']][0:5]"
   ]
  },
  {
   "cell_type": "markdown",
   "metadata": {},
   "source": [
    "#### Which players got the maximum premium offering on their base price?"
   ]
  },
  {
   "cell_type": "code",
   "execution_count": 23,
   "metadata": {},
   "outputs": [
    {
     "data": {
      "text/html": [
       "<div>\n",
       "<style scoped>\n",
       "    .dataframe tbody tr th:only-of-type {\n",
       "        vertical-align: middle;\n",
       "    }\n",
       "\n",
       "    .dataframe tbody tr th {\n",
       "        vertical-align: top;\n",
       "    }\n",
       "\n",
       "    .dataframe thead th {\n",
       "        text-align: right;\n",
       "    }\n",
       "</style>\n",
       "<table border=\"1\" class=\"dataframe\">\n",
       "  <thead>\n",
       "    <tr style=\"text-align: right;\">\n",
       "      <th></th>\n",
       "      <th>PLAYER NAME</th>\n",
       "      <th>BASE PRICE</th>\n",
       "      <th>SOLD PRICE</th>\n",
       "      <th>premium</th>\n",
       "    </tr>\n",
       "  </thead>\n",
       "  <tbody>\n",
       "    <tr>\n",
       "      <th>50</th>\n",
       "      <td>Kohli, V</td>\n",
       "      <td>150000</td>\n",
       "      <td>1800000</td>\n",
       "      <td>1650000</td>\n",
       "    </tr>\n",
       "    <tr>\n",
       "      <th>113</th>\n",
       "      <td>Tiwary, SS</td>\n",
       "      <td>100000</td>\n",
       "      <td>1600000</td>\n",
       "      <td>1500000</td>\n",
       "    </tr>\n",
       "    <tr>\n",
       "      <th>127</th>\n",
       "      <td>Yuvraj Singh</td>\n",
       "      <td>400000</td>\n",
       "      <td>1800000</td>\n",
       "      <td>1400000</td>\n",
       "    </tr>\n",
       "    <tr>\n",
       "      <th>111</th>\n",
       "      <td>Tendulkar, SR</td>\n",
       "      <td>400000</td>\n",
       "      <td>1800000</td>\n",
       "      <td>1400000</td>\n",
       "    </tr>\n",
       "    <tr>\n",
       "      <th>93</th>\n",
       "      <td>Sehwag, V</td>\n",
       "      <td>400000</td>\n",
       "      <td>1800000</td>\n",
       "      <td>1400000</td>\n",
       "    </tr>\n",
       "  </tbody>\n",
       "</table>\n",
       "</div>"
      ],
      "text/plain": [
       "       PLAYER NAME  BASE PRICE  SOLD PRICE  premium\n",
       "50        Kohli, V      150000     1800000  1650000\n",
       "113     Tiwary, SS      100000     1600000  1500000\n",
       "127   Yuvraj Singh      400000     1800000  1400000\n",
       "111  Tendulkar, SR      400000     1800000  1400000\n",
       "93       Sehwag, V      400000     1800000  1400000"
      ]
     },
     "execution_count": 23,
     "metadata": {},
     "output_type": "execute_result"
    }
   ],
   "source": [
    "ipl_auction_df[['PLAYER NAME', \n",
    "                'BASE PRICE', \n",
    "                'SOLD PRICE', 'premium']].sort_values('premium',\n",
    "                                                      ascending = False)[0:5]"
   ]
  },
  {
   "cell_type": "markdown",
   "metadata": {},
   "source": [
    "The result shows Virat Kohli was auctioned with maximum premium on the base price demanded."
   ]
  },
  {
   "cell_type": "markdown",
   "metadata": {},
   "source": [
    "### Grouping and Aggregating"
   ]
  },
  {
   "cell_type": "markdown",
   "metadata": {},
   "source": [
    "#### What is the average SOLD PRICE for each age category?"
   ]
  },
  {
   "cell_type": "code",
   "execution_count": 24,
   "metadata": {},
   "outputs": [
    {
     "data": {
      "text/plain": [
       "AGE\n",
       "1   720250.000\n",
       "2   484534.884\n",
       "3   520178.571\n",
       "Name: SOLD PRICE, dtype: float64"
      ]
     },
     "execution_count": 24,
     "metadata": {},
     "output_type": "execute_result"
    }
   ],
   "source": [
    "ipl_auction_df.groupby('AGE')['SOLD PRICE'].mean()"
   ]
  },
  {
   "cell_type": "markdown",
   "metadata": {},
   "source": [
    "The average prices is highest for age category 1 and lowest for age category 2. \n",
    "\n",
    "The above operation returns a *pd.Series* structure. To create a dataframe, call reset_index() as shown below."
   ]
  },
  {
   "cell_type": "code",
   "execution_count": 25,
   "metadata": {},
   "outputs": [
    {
     "data": {
      "text/html": [
       "<div>\n",
       "<style scoped>\n",
       "    .dataframe tbody tr th:only-of-type {\n",
       "        vertical-align: middle;\n",
       "    }\n",
       "\n",
       "    .dataframe tbody tr th {\n",
       "        vertical-align: top;\n",
       "    }\n",
       "\n",
       "    .dataframe thead th {\n",
       "        text-align: right;\n",
       "    }\n",
       "</style>\n",
       "<table border=\"1\" class=\"dataframe\">\n",
       "  <thead>\n",
       "    <tr style=\"text-align: right;\">\n",
       "      <th></th>\n",
       "      <th>AGE</th>\n",
       "      <th>SOLD PRICE</th>\n",
       "    </tr>\n",
       "  </thead>\n",
       "  <tbody>\n",
       "    <tr>\n",
       "      <th>0</th>\n",
       "      <td>1</td>\n",
       "      <td>720250.000</td>\n",
       "    </tr>\n",
       "    <tr>\n",
       "      <th>1</th>\n",
       "      <td>2</td>\n",
       "      <td>484534.884</td>\n",
       "    </tr>\n",
       "    <tr>\n",
       "      <th>2</th>\n",
       "      <td>3</td>\n",
       "      <td>520178.571</td>\n",
       "    </tr>\n",
       "  </tbody>\n",
       "</table>\n",
       "</div>"
      ],
      "text/plain": [
       "   AGE  SOLD PRICE\n",
       "0    1  720250.000\n",
       "1    2  484534.884\n",
       "2    3  520178.571"
      ]
     },
     "execution_count": 25,
     "metadata": {},
     "output_type": "execute_result"
    }
   ],
   "source": [
    "soldprice_by_age = ipl_auction_df.groupby('AGE')['SOLD PRICE'].mean().reset_index()\n",
    "soldprice_by_age"
   ]
  },
  {
   "cell_type": "markdown",
   "metadata": {},
   "source": [
    "#### Average SOLD PRICE for Different Playing Roles in Each Age Category?\n",
    "\n",
    "The groupby() can take list of multiple column names to group records."
   ]
  },
  {
   "cell_type": "code",
   "execution_count": 26,
   "metadata": {},
   "outputs": [
    {
     "data": {
      "text/html": [
       "<div>\n",
       "<style scoped>\n",
       "    .dataframe tbody tr th:only-of-type {\n",
       "        vertical-align: middle;\n",
       "    }\n",
       "\n",
       "    .dataframe tbody tr th {\n",
       "        vertical-align: top;\n",
       "    }\n",
       "\n",
       "    .dataframe thead th {\n",
       "        text-align: right;\n",
       "    }\n",
       "</style>\n",
       "<table border=\"1\" class=\"dataframe\">\n",
       "  <thead>\n",
       "    <tr style=\"text-align: right;\">\n",
       "      <th></th>\n",
       "      <th>AGE</th>\n",
       "      <th>PLAYING ROLE</th>\n",
       "      <th>SOLD PRICE</th>\n",
       "    </tr>\n",
       "  </thead>\n",
       "  <tbody>\n",
       "    <tr>\n",
       "      <th>0</th>\n",
       "      <td>1</td>\n",
       "      <td>Allrounder</td>\n",
       "      <td>587500.000</td>\n",
       "    </tr>\n",
       "    <tr>\n",
       "      <th>1</th>\n",
       "      <td>1</td>\n",
       "      <td>Batsman</td>\n",
       "      <td>1110000.000</td>\n",
       "    </tr>\n",
       "    <tr>\n",
       "      <th>2</th>\n",
       "      <td>1</td>\n",
       "      <td>Bowler</td>\n",
       "      <td>517714.286</td>\n",
       "    </tr>\n",
       "    <tr>\n",
       "      <th>3</th>\n",
       "      <td>2</td>\n",
       "      <td>Allrounder</td>\n",
       "      <td>449400.000</td>\n",
       "    </tr>\n",
       "    <tr>\n",
       "      <th>4</th>\n",
       "      <td>2</td>\n",
       "      <td>Batsman</td>\n",
       "      <td>654761.905</td>\n",
       "    </tr>\n",
       "    <tr>\n",
       "      <th>5</th>\n",
       "      <td>2</td>\n",
       "      <td>Bowler</td>\n",
       "      <td>397931.034</td>\n",
       "    </tr>\n",
       "    <tr>\n",
       "      <th>6</th>\n",
       "      <td>2</td>\n",
       "      <td>W. Keeper</td>\n",
       "      <td>467727.273</td>\n",
       "    </tr>\n",
       "    <tr>\n",
       "      <th>7</th>\n",
       "      <td>3</td>\n",
       "      <td>Allrounder</td>\n",
       "      <td>766666.667</td>\n",
       "    </tr>\n",
       "    <tr>\n",
       "      <th>8</th>\n",
       "      <td>3</td>\n",
       "      <td>Batsman</td>\n",
       "      <td>457692.308</td>\n",
       "    </tr>\n",
       "    <tr>\n",
       "      <th>9</th>\n",
       "      <td>3</td>\n",
       "      <td>Bowler</td>\n",
       "      <td>414375.000</td>\n",
       "    </tr>\n",
       "    <tr>\n",
       "      <th>10</th>\n",
       "      <td>3</td>\n",
       "      <td>W. Keeper</td>\n",
       "      <td>700000.000</td>\n",
       "    </tr>\n",
       "  </tbody>\n",
       "</table>\n",
       "</div>"
      ],
      "text/plain": [
       "    AGE PLAYING ROLE  SOLD PRICE\n",
       "0     1   Allrounder  587500.000\n",
       "1     1      Batsman 1110000.000\n",
       "2     1       Bowler  517714.286\n",
       "3     2   Allrounder  449400.000\n",
       "4     2      Batsman  654761.905\n",
       "5     2       Bowler  397931.034\n",
       "6     2    W. Keeper  467727.273\n",
       "7     3   Allrounder  766666.667\n",
       "8     3      Batsman  457692.308\n",
       "9     3       Bowler  414375.000\n",
       "10    3    W. Keeper  700000.000"
      ]
     },
     "execution_count": 26,
     "metadata": {},
     "output_type": "execute_result"
    }
   ],
   "source": [
    "soldprice_by_age_role = ipl_auction_df.groupby(['AGE', 'PLAYING ROLE'])['SOLD PRICE'].mean().reset_index()\n",
    "soldprice_by_age_role"
   ]
  },
  {
   "cell_type": "markdown",
   "metadata": {},
   "source": [
    "### Joining dataframes\n",
    "\n",
    "To join two dataframes, call *merge()* function on one of the dataframe and pass the other dataframe as a parameter. It also takes the column names on which it has be joined and the join type.\n",
    "\n",
    "Dataframes can be joined on multiple columns and the join type can be of **inner, outer, left or right joins**. "
   ]
  },
  {
   "cell_type": "markdown",
   "metadata": {},
   "source": [
    "#### Compare the average auction price for different ages and playing roles.\n",
    "\n",
    "We will join the above two dataframes created and then compare the difference in auction prices."
   ]
  },
  {
   "cell_type": "code",
   "execution_count": 83,
   "metadata": {},
   "outputs": [],
   "source": [
    "soldprice_comparison = soldprice_by_age_role.merge( soldprice_by_age, \n",
    "                                                   on = 'AGE', \n",
    "                                                   how = 'inner')"
   ]
  },
  {
   "cell_type": "code",
   "execution_count": 84,
   "metadata": {},
   "outputs": [
    {
     "data": {
      "text/html": [
       "<div>\n",
       "<style scoped>\n",
       "    .dataframe tbody tr th:only-of-type {\n",
       "        vertical-align: middle;\n",
       "    }\n",
       "\n",
       "    .dataframe tbody tr th {\n",
       "        vertical-align: top;\n",
       "    }\n",
       "\n",
       "    .dataframe thead th {\n",
       "        text-align: right;\n",
       "    }\n",
       "</style>\n",
       "<table border=\"1\" class=\"dataframe\">\n",
       "  <thead>\n",
       "    <tr style=\"text-align: right;\">\n",
       "      <th></th>\n",
       "      <th>AGE</th>\n",
       "      <th>PLAYING ROLE</th>\n",
       "      <th>SOLD PRICE_x</th>\n",
       "      <th>SOLD PRICE_y</th>\n",
       "    </tr>\n",
       "  </thead>\n",
       "  <tbody>\n",
       "    <tr>\n",
       "      <th>0</th>\n",
       "      <td>1</td>\n",
       "      <td>Allrounder</td>\n",
       "      <td>587500.000</td>\n",
       "      <td>720250.000</td>\n",
       "    </tr>\n",
       "    <tr>\n",
       "      <th>1</th>\n",
       "      <td>1</td>\n",
       "      <td>Batsman</td>\n",
       "      <td>1110000.000</td>\n",
       "      <td>720250.000</td>\n",
       "    </tr>\n",
       "    <tr>\n",
       "      <th>2</th>\n",
       "      <td>1</td>\n",
       "      <td>Bowler</td>\n",
       "      <td>517714.286</td>\n",
       "      <td>720250.000</td>\n",
       "    </tr>\n",
       "    <tr>\n",
       "      <th>3</th>\n",
       "      <td>2</td>\n",
       "      <td>Allrounder</td>\n",
       "      <td>449400.000</td>\n",
       "      <td>484534.884</td>\n",
       "    </tr>\n",
       "    <tr>\n",
       "      <th>4</th>\n",
       "      <td>2</td>\n",
       "      <td>Batsman</td>\n",
       "      <td>654761.905</td>\n",
       "      <td>484534.884</td>\n",
       "    </tr>\n",
       "    <tr>\n",
       "      <th>5</th>\n",
       "      <td>2</td>\n",
       "      <td>Bowler</td>\n",
       "      <td>397931.034</td>\n",
       "      <td>484534.884</td>\n",
       "    </tr>\n",
       "    <tr>\n",
       "      <th>6</th>\n",
       "      <td>2</td>\n",
       "      <td>W. Keeper</td>\n",
       "      <td>467727.273</td>\n",
       "      <td>484534.884</td>\n",
       "    </tr>\n",
       "    <tr>\n",
       "      <th>7</th>\n",
       "      <td>3</td>\n",
       "      <td>Allrounder</td>\n",
       "      <td>766666.667</td>\n",
       "      <td>520178.571</td>\n",
       "    </tr>\n",
       "    <tr>\n",
       "      <th>8</th>\n",
       "      <td>3</td>\n",
       "      <td>Batsman</td>\n",
       "      <td>457692.308</td>\n",
       "      <td>520178.571</td>\n",
       "    </tr>\n",
       "    <tr>\n",
       "      <th>9</th>\n",
       "      <td>3</td>\n",
       "      <td>Bowler</td>\n",
       "      <td>414375.000</td>\n",
       "      <td>520178.571</td>\n",
       "    </tr>\n",
       "    <tr>\n",
       "      <th>10</th>\n",
       "      <td>3</td>\n",
       "      <td>W. Keeper</td>\n",
       "      <td>700000.000</td>\n",
       "      <td>520178.571</td>\n",
       "    </tr>\n",
       "  </tbody>\n",
       "</table>\n",
       "</div>"
      ],
      "text/plain": [
       "    AGE PLAYING ROLE  SOLD PRICE_x  SOLD PRICE_y\n",
       "0     1   Allrounder    587500.000    720250.000\n",
       "1     1      Batsman   1110000.000    720250.000\n",
       "2     1       Bowler    517714.286    720250.000\n",
       "3     2   Allrounder    449400.000    484534.884\n",
       "4     2      Batsman    654761.905    484534.884\n",
       "5     2       Bowler    397931.034    484534.884\n",
       "6     2    W. Keeper    467727.273    484534.884\n",
       "7     3   Allrounder    766666.667    520178.571\n",
       "8     3      Batsman    457692.308    520178.571\n",
       "9     3       Bowler    414375.000    520178.571\n",
       "10    3    W. Keeper    700000.000    520178.571"
      ]
     },
     "execution_count": 84,
     "metadata": {},
     "output_type": "execute_result"
    }
   ],
   "source": [
    "soldprice_comparison"
   ]
  },
  {
   "cell_type": "markdown",
   "metadata": {},
   "source": [
    "### Re-naming columns"
   ]
  },
  {
   "cell_type": "code",
   "execution_count": 85,
   "metadata": {},
   "outputs": [],
   "source": [
    "soldprice_comparison.rename( columns = { 'SOLD PRICE_x': 'SOLD_PRICE_AGE_ROLE',\n",
    "                               'SOLD PRICE_y': 'SOLD_PRICE_AGE' }, inplace = True  )"
   ]
  },
  {
   "cell_type": "code",
   "execution_count": 86,
   "metadata": {},
   "outputs": [
    {
     "data": {
      "text/html": [
       "<div>\n",
       "<style scoped>\n",
       "    .dataframe tbody tr th:only-of-type {\n",
       "        vertical-align: middle;\n",
       "    }\n",
       "\n",
       "    .dataframe tbody tr th {\n",
       "        vertical-align: top;\n",
       "    }\n",
       "\n",
       "    .dataframe thead th {\n",
       "        text-align: right;\n",
       "    }\n",
       "</style>\n",
       "<table border=\"1\" class=\"dataframe\">\n",
       "  <thead>\n",
       "    <tr style=\"text-align: right;\">\n",
       "      <th></th>\n",
       "      <th>AGE</th>\n",
       "      <th>PLAYING ROLE</th>\n",
       "      <th>SOLD_PRICE_AGE_ROLE</th>\n",
       "      <th>SOLD_PRICE_AGE</th>\n",
       "    </tr>\n",
       "  </thead>\n",
       "  <tbody>\n",
       "    <tr>\n",
       "      <th>0</th>\n",
       "      <td>1</td>\n",
       "      <td>Allrounder</td>\n",
       "      <td>587500.000</td>\n",
       "      <td>720250.000</td>\n",
       "    </tr>\n",
       "    <tr>\n",
       "      <th>1</th>\n",
       "      <td>1</td>\n",
       "      <td>Batsman</td>\n",
       "      <td>1110000.000</td>\n",
       "      <td>720250.000</td>\n",
       "    </tr>\n",
       "    <tr>\n",
       "      <th>2</th>\n",
       "      <td>1</td>\n",
       "      <td>Bowler</td>\n",
       "      <td>517714.286</td>\n",
       "      <td>720250.000</td>\n",
       "    </tr>\n",
       "    <tr>\n",
       "      <th>3</th>\n",
       "      <td>2</td>\n",
       "      <td>Allrounder</td>\n",
       "      <td>449400.000</td>\n",
       "      <td>484534.884</td>\n",
       "    </tr>\n",
       "    <tr>\n",
       "      <th>4</th>\n",
       "      <td>2</td>\n",
       "      <td>Batsman</td>\n",
       "      <td>654761.905</td>\n",
       "      <td>484534.884</td>\n",
       "    </tr>\n",
       "  </tbody>\n",
       "</table>\n",
       "</div>"
      ],
      "text/plain": [
       "   AGE PLAYING ROLE  SOLD_PRICE_AGE_ROLE  SOLD_PRICE_AGE\n",
       "0    1   Allrounder           587500.000      720250.000\n",
       "1    1      Batsman          1110000.000      720250.000\n",
       "2    1       Bowler           517714.286      720250.000\n",
       "3    2   Allrounder           449400.000      484534.884\n",
       "4    2      Batsman           654761.905      484534.884"
      ]
     },
     "execution_count": 86,
     "metadata": {},
     "output_type": "execute_result"
    }
   ],
   "source": [
    "soldprice_comparison.head(5)"
   ]
  },
  {
   "cell_type": "markdown",
   "metadata": {},
   "source": [
    "### Applying Operations to multiple columns"
   ]
  },
  {
   "cell_type": "markdown",
   "metadata": {},
   "source": [
    "#### Percentage change in SOLD PRICE"
   ]
  },
  {
   "cell_type": "code",
   "execution_count": 87,
   "metadata": {},
   "outputs": [],
   "source": [
    "soldprice_comparison['change'] = soldprice_comparison.apply(lambda rec: \n",
    "                        (rec.SOLD_PRICE_AGE_ROLE - rec.SOLD_PRICE_AGE) / rec.SOLD_PRICE_AGE, \n",
    "                        axis = 1)"
   ]
  },
  {
   "cell_type": "code",
   "execution_count": 32,
   "metadata": {},
   "outputs": [
    {
     "data": {
      "text/html": [
       "<div>\n",
       "<style scoped>\n",
       "    .dataframe tbody tr th:only-of-type {\n",
       "        vertical-align: middle;\n",
       "    }\n",
       "\n",
       "    .dataframe tbody tr th {\n",
       "        vertical-align: top;\n",
       "    }\n",
       "\n",
       "    .dataframe thead th {\n",
       "        text-align: right;\n",
       "    }\n",
       "</style>\n",
       "<table border=\"1\" class=\"dataframe\">\n",
       "  <thead>\n",
       "    <tr style=\"text-align: right;\">\n",
       "      <th></th>\n",
       "      <th>AGE</th>\n",
       "      <th>PLAYING ROLE</th>\n",
       "      <th>SOLD_PRICE_AGE_ROLE</th>\n",
       "      <th>SOLD_PRICE_AGE</th>\n",
       "      <th>change</th>\n",
       "    </tr>\n",
       "  </thead>\n",
       "  <tbody>\n",
       "    <tr>\n",
       "      <th>0</th>\n",
       "      <td>1</td>\n",
       "      <td>Allrounder</td>\n",
       "      <td>587500.000</td>\n",
       "      <td>720250.000</td>\n",
       "      <td>-0.184</td>\n",
       "    </tr>\n",
       "    <tr>\n",
       "      <th>1</th>\n",
       "      <td>1</td>\n",
       "      <td>Batsman</td>\n",
       "      <td>1110000.000</td>\n",
       "      <td>720250.000</td>\n",
       "      <td>0.541</td>\n",
       "    </tr>\n",
       "    <tr>\n",
       "      <th>2</th>\n",
       "      <td>1</td>\n",
       "      <td>Bowler</td>\n",
       "      <td>517714.286</td>\n",
       "      <td>720250.000</td>\n",
       "      <td>-0.281</td>\n",
       "    </tr>\n",
       "    <tr>\n",
       "      <th>3</th>\n",
       "      <td>2</td>\n",
       "      <td>Allrounder</td>\n",
       "      <td>449400.000</td>\n",
       "      <td>484534.884</td>\n",
       "      <td>-0.073</td>\n",
       "    </tr>\n",
       "    <tr>\n",
       "      <th>4</th>\n",
       "      <td>2</td>\n",
       "      <td>Batsman</td>\n",
       "      <td>654761.905</td>\n",
       "      <td>484534.884</td>\n",
       "      <td>0.351</td>\n",
       "    </tr>\n",
       "    <tr>\n",
       "      <th>5</th>\n",
       "      <td>2</td>\n",
       "      <td>Bowler</td>\n",
       "      <td>397931.034</td>\n",
       "      <td>484534.884</td>\n",
       "      <td>-0.179</td>\n",
       "    </tr>\n",
       "    <tr>\n",
       "      <th>6</th>\n",
       "      <td>2</td>\n",
       "      <td>W. Keeper</td>\n",
       "      <td>467727.273</td>\n",
       "      <td>484534.884</td>\n",
       "      <td>-0.035</td>\n",
       "    </tr>\n",
       "    <tr>\n",
       "      <th>7</th>\n",
       "      <td>3</td>\n",
       "      <td>Allrounder</td>\n",
       "      <td>766666.667</td>\n",
       "      <td>520178.571</td>\n",
       "      <td>0.474</td>\n",
       "    </tr>\n",
       "    <tr>\n",
       "      <th>8</th>\n",
       "      <td>3</td>\n",
       "      <td>Batsman</td>\n",
       "      <td>457692.308</td>\n",
       "      <td>520178.571</td>\n",
       "      <td>-0.120</td>\n",
       "    </tr>\n",
       "    <tr>\n",
       "      <th>9</th>\n",
       "      <td>3</td>\n",
       "      <td>Bowler</td>\n",
       "      <td>414375.000</td>\n",
       "      <td>520178.571</td>\n",
       "      <td>-0.203</td>\n",
       "    </tr>\n",
       "    <tr>\n",
       "      <th>10</th>\n",
       "      <td>3</td>\n",
       "      <td>W. Keeper</td>\n",
       "      <td>700000.000</td>\n",
       "      <td>520178.571</td>\n",
       "      <td>0.346</td>\n",
       "    </tr>\n",
       "  </tbody>\n",
       "</table>\n",
       "</div>"
      ],
      "text/plain": [
       "    AGE PLAYING ROLE  SOLD_PRICE_AGE_ROLE  SOLD_PRICE_AGE  change\n",
       "0     1   Allrounder           587500.000      720250.000  -0.184\n",
       "1     1      Batsman          1110000.000      720250.000   0.541\n",
       "2     1       Bowler           517714.286      720250.000  -0.281\n",
       "3     2   Allrounder           449400.000      484534.884  -0.073\n",
       "4     2      Batsman           654761.905      484534.884   0.351\n",
       "5     2       Bowler           397931.034      484534.884  -0.179\n",
       "6     2    W. Keeper           467727.273      484534.884  -0.035\n",
       "7     3   Allrounder           766666.667      520178.571   0.474\n",
       "8     3      Batsman           457692.308      520178.571  -0.120\n",
       "9     3       Bowler           414375.000      520178.571  -0.203\n",
       "10    3    W. Keeper           700000.000      520178.571   0.346"
      ]
     },
     "execution_count": 32,
     "metadata": {},
     "output_type": "execute_result"
    }
   ],
   "source": [
    "soldprice_comparison"
   ]
  },
  {
   "cell_type": "markdown",
   "metadata": {},
   "source": [
    "### Filtering Records from Dataframe based on conditions\n",
    "\n",
    "#### Which players have hit more then 80 sixes in the IPL tournament so far?"
   ]
  },
  {
   "cell_type": "code",
   "execution_count": 33,
   "metadata": {},
   "outputs": [
    {
     "data": {
      "text/html": [
       "<div>\n",
       "<style scoped>\n",
       "    .dataframe tbody tr th:only-of-type {\n",
       "        vertical-align: middle;\n",
       "    }\n",
       "\n",
       "    .dataframe tbody tr th {\n",
       "        vertical-align: top;\n",
       "    }\n",
       "\n",
       "    .dataframe thead th {\n",
       "        text-align: right;\n",
       "    }\n",
       "</style>\n",
       "<table border=\"1\" class=\"dataframe\">\n",
       "  <thead>\n",
       "    <tr style=\"text-align: right;\">\n",
       "      <th></th>\n",
       "      <th>PLAYER NAME</th>\n",
       "      <th>SIXERS</th>\n",
       "    </tr>\n",
       "  </thead>\n",
       "  <tbody>\n",
       "    <tr>\n",
       "      <th>26</th>\n",
       "      <td>Gayle, CH</td>\n",
       "      <td>129</td>\n",
       "    </tr>\n",
       "    <tr>\n",
       "      <th>28</th>\n",
       "      <td>Gilchrist, AC</td>\n",
       "      <td>86</td>\n",
       "    </tr>\n",
       "    <tr>\n",
       "      <th>82</th>\n",
       "      <td>Pathan, YK</td>\n",
       "      <td>81</td>\n",
       "    </tr>\n",
       "    <tr>\n",
       "      <th>88</th>\n",
       "      <td>Raina, SK</td>\n",
       "      <td>97</td>\n",
       "    </tr>\n",
       "    <tr>\n",
       "      <th>97</th>\n",
       "      <td>Sharma, RG</td>\n",
       "      <td>82</td>\n",
       "    </tr>\n",
       "  </tbody>\n",
       "</table>\n",
       "</div>"
      ],
      "text/plain": [
       "      PLAYER NAME  SIXERS\n",
       "26      Gayle, CH     129\n",
       "28  Gilchrist, AC      86\n",
       "82     Pathan, YK      81\n",
       "88      Raina, SK      97\n",
       "97     Sharma, RG      82"
      ]
     },
     "execution_count": 33,
     "metadata": {},
     "output_type": "execute_result"
    }
   ],
   "source": [
    "ipl_auction_df[ipl_auction_df['SIXERS'] > 80 ][['PLAYER NAME', 'SIXERS']]"
   ]
  },
  {
   "cell_type": "markdown",
   "metadata": {},
   "source": [
    "### Removing a column\n",
    "\n",
    "To remove a column or a rows, call *drop()* method on the dataframe. It takes a parameter *axis* to specify if a column or a row need to be dropped. \n",
    "\n",
    "- To drop a column, pass the column name and axis as 1. \n",
    "- To drop a row, pass the row index and axis as 0. \n",
    "\n",
    "We will drop the column *SI.NO.* in the IPL dataset as we do not need this column for our exploration."
   ]
  },
  {
   "cell_type": "code",
   "execution_count": 34,
   "metadata": {},
   "outputs": [],
   "source": [
    "ipl_auction_df.drop( 'Sl.NO.', inplace = True, axis = 1)"
   ]
  },
  {
   "cell_type": "code",
   "execution_count": 35,
   "metadata": {},
   "outputs": [
    {
     "data": {
      "text/plain": [
       "Index(['PLAYER NAME', 'AGE', 'COUNTRY', 'TEAM', 'PLAYING ROLE', 'T-RUNS',\n",
       "       'T-WKTS', 'ODI-RUNS-S', 'ODI-SR-B', 'ODI-WKTS', 'ODI-SR-BL',\n",
       "       'CAPTAINCY EXP', 'RUNS-S', 'HS', 'AVE', 'SR-B', 'SIXERS', 'RUNS-C',\n",
       "       'WKTS', 'AVE-BL', 'ECON', 'SR-BL', 'AUCTION YEAR', 'BASE PRICE',\n",
       "       'SOLD PRICE', 'premium'],\n",
       "      dtype='object')"
      ]
     },
     "execution_count": 35,
     "metadata": {},
     "output_type": "execute_result"
    }
   ],
   "source": [
    "ipl_auction_df.columns"
   ]
  },
  {
   "cell_type": "markdown",
   "metadata": {},
   "source": [
    "## Exploration using Visualization Plots\n",
    "\n",
    "###  Drawing Plots"
   ]
  },
  {
   "cell_type": "markdown",
   "metadata": {},
   "source": [
    "- *Matplotlib* is a library for creating 2D plots of arrays in Python. \n",
    "- *Seaborn*, which is built on top of matplotlib and provides high level APIs for rendering high quality plots."
   ]
  },
  {
   "cell_type": "code",
   "execution_count": 88,
   "metadata": {},
   "outputs": [],
   "source": [
    "import matplotlib.pyplot as plt\n",
    "import seaborn as sn"
   ]
  },
  {
   "cell_type": "markdown",
   "metadata": {},
   "source": [
    "### Bar Plot"
   ]
  },
  {
   "cell_type": "markdown",
   "metadata": {},
   "source": [
    "Bar chart is a frequency chart for qualitative variable (or categorical variable).\n",
    "\n",
    "To display the average sold price by each age category, pass *SOLD PRICE* as *y* parameter and *AGE* as *x* parameter."
   ]
  },
  {
   "cell_type": "code",
   "execution_count": 48,
   "metadata": {},
   "outputs": [
    {
     "data": {
      "image/png": "[encoded data removed]",
      "text/plain": [
       "<Figure size 432x288 with 1 Axes>"
      ]
     },
     "metadata": {
      "needs_background": "light"
     },
     "output_type": "display_data"
    }
   ],
   "source": [
    "sn.barplot(x = 'AGE', y = 'SOLD PRICE', data = sold`price_by_age);"
   ]
  },
  {
   "cell_type": "markdown",
   "metadata": {},
   "source": [
    "- The bar plot shows the average sold price for age category 1 is highest and age category 2 lowest."
   ]
  },
  {
   "cell_type": "markdown",
   "metadata": {},
   "source": [
    "- We can also create bar plots which can be further sub-grouped by a third category. \n",
    "- For examples, average sold price by each age category but grouped by playing roles. \n",
    "- The parameter *hue* takes the third category as parameter i.e. *PLAYING ROLE*."
   ]
  },
  {
   "cell_type": "code",
   "execution_count": 49,
   "metadata": {},
   "outputs": [
    {
     "data": {
      "image/png": "[encoded data removed]",
      "text/plain": [
       "<Figure size 432x288 with 1 Axes>"
      ]
     },
     "metadata": {
      "needs_background": "light"
     },
     "output_type": "display_data"
    }
   ],
   "source": [
    "sn.barplot(x = 'AGE', y = 'SOLD_PRICE_AGE_ROLE', hue = 'PLAYING ROLE', data = soldprice_comparison);"
   ]
  },
  {
   "cell_type": "markdown",
   "metadata": {},
   "source": [
    "It can be noted that in the age category 1 and 2, batsmen are paid maximum, whereas allrounders are paid maximum in the age category 3. This could be because the genuine allrounders have established their credentials over a period of time."
   ]
  },
  {
   "cell_type": "markdown",
   "metadata": {},
   "source": [
    "### Histogram"
   ]
  },
  {
   "cell_type": "markdown",
   "metadata": {},
   "source": [
    "- A **histogram** is a plot that shows the frequency distribution of a continuous variable. \n",
    "- Historam gives an insight into the underlying distribution (e.g., normal distribution) of the variable. We will explore more about distributions in the coming week.\n",
    "\n",
    "- To draw a histogram for *SOLD PRICE* and understand it's distribution."
   ]
  },
  {
   "cell_type": "code",
   "execution_count": 92,
   "metadata": {},
   "outputs": [
    {
     "data": {
      "image/png": "[encoded data removed]",
      "text/plain": [
       "<Figure size 1080x360 with 1 Axes>"
      ]
     },
     "metadata": {
      "needs_background": "light"
     },
     "output_type": "display_data"
    }
   ],
   "source": [
    "plt.figure(figsize=(15, 5))\n",
    "plt.hist( ipl_auction_df['SOLD PRICE'] );\n",
    "plt.xlabel( \"Sold Price\" )\n",
    "plt.ylabel( \"Count\" );"
   ]
  },
  {
   "cell_type": "code",
   "execution_count": 104,
   "metadata": {},
   "outputs": [
    {
     "data": {
      "image/png": "[encoded data removed]",
      "text/plain": [
       "<Figure size 1080x360 with 1 Axes>"
      ]
     },
     "metadata": {
      "needs_background": "light"
     },
     "output_type": "display_data"
    }
   ],
   "source": [
    "plt.figure(figsize=(15, 5))\n",
    "ax = plt.gca()\n",
    "ax.xaxis.get_major_formatter().set_scientific(False)\n",
    "plt.hist( ipl_auction_df['SOLD PRICE'] );\n",
    "plt.xlabel( \"Sold Price\" )\n",
    "plt.ylabel( \"Count\" );"
   ]
  },
  {
   "cell_type": "markdown",
   "metadata": {},
   "source": [
    "The histogram shows *SOLD PRICE* is right skewed. Most players are auctioned at low price range of 250000 and 500000, whereas there are few players who are paid very highly like more than 1 million doallars. \n",
    "\n",
    "- By default it creates 10 bins in the histogram. \n",
    "- To create more bins, the bins parameter can be set in the *hist()* method as shown below example."
   ]
  },
  {
   "cell_type": "code",
   "execution_count": 105,
   "metadata": {},
   "outputs": [
    {
     "data": {
      "image/png": "[encoded data removed]",
      "text/plain": [
       "<Figure size 1080x360 with 1 Axes>"
      ]
     },
     "metadata": {
      "needs_background": "light"
     },
     "output_type": "display_data"
    }
   ],
   "source": [
    "plt.figure(figsize=(15, 5))\n",
    "ax = plt.gca()\n",
    "ax.xaxis.get_major_formatter().set_scientific(False)\n",
    "plt.hist( ipl_auction_df['SOLD PRICE'], bins = 40 );\n",
    "plt.xlabel( \"Sold Price\" )\n",
    "plt.ylabel( \"Count\" );"
   ]
  },
  {
   "cell_type": "markdown",
   "metadata": {},
   "source": [
    "We can notice multiple peaks in the plot i.e around 250k, 500k and 700k. Number of players sold around those prices are high."
   ]
  },
  {
   "cell_type": "markdown",
   "metadata": {},
   "source": [
    "### Distribution or Density plot"
   ]
  },
  {
   "cell_type": "markdown",
   "metadata": {},
   "source": [
    "A **Distribution or Density** plot depicts the distribution of data over a continuous interval. \n",
    "\n",
    "It also gives insight into what might be the distrubution shape of the population."
   ]
  },
  {
   "cell_type": "code",
   "execution_count": 106,
   "metadata": {},
   "outputs": [
    {
     "data": {
      "image/png": "[encoded data removed]",
      "text/plain": [
       "<Figure size 1080x360 with 1 Axes>"
      ]
     },
     "metadata": {
      "needs_background": "light"
     },
     "output_type": "display_data"
    }
   ],
   "source": [
    "plt.figure(figsize=(15, 5))\n",
    "ax = plt.gca()\n",
    "ax.xaxis.get_major_formatter().set_scientific(False)\n",
    "sn.distplot( ipl_auction_df['SOLD PRICE'] );"
   ]
  },
  {
   "cell_type": "markdown",
   "metadata": {},
   "source": [
    "### Box Plot"
   ]
  },
  {
   "cell_type": "markdown",
   "metadata": {},
   "source": [
    "Box plot is a graphical representation of numerical data that can be used to understand the variability of the data and the existence of outliers."
   ]
  },
  {
   "cell_type": "code",
   "execution_count": 110,
   "metadata": {},
   "outputs": [
    {
     "data": {
      "image/png": "[encoded data removed]",
      "text/plain": [
       "<Figure size 432x288 with 1 Axes>"
      ]
     },
     "metadata": {
      "needs_background": "light"
     },
     "output_type": "display_data"
    }
   ],
   "source": [
    "box = plt.boxplot(ipl_auction_df['SOLD PRICE']);"
   ]
  },
  {
   "cell_type": "markdown",
   "metadata": {},
   "source": [
    "Box plot is designed by following insights:\n",
    "\n",
    "- First Quartile or lower quartile - first 25% percent of data lies between min and 1st quartile.\n",
    "- Second quartile - second 25% percent of data lies between 1st quartile and median value.\n",
    "- Third quartile - third 25% of data between median and third quartile.\n",
    "- Fourth quartile - Last 25% of data.\n",
    "\n",
    "- The length of the box is equivalent to IQR (Inter Quartile Range). i.e. (Q3 - Q1) \n",
    "The box plot estimates that caps i.e. min and max values of the distribution lies between Q1 – 1.5IQR and Q3 + 1.5IQR; observations beyond these two limits are potential outliers.  "
   ]
  },
  {
   "cell_type": "markdown",
   "metadata": {},
   "source": [
    "We can obtain these values from the plot as well."
   ]
  },
  {
   "cell_type": "code",
   "execution_count": 113,
   "metadata": {},
   "outputs": [
    {
     "data": {
      "image/png": "[encoded data removed]",
      "text/plain": [
       "<Figure size 432x288 with 1 Axes>"
      ]
     },
     "metadata": {
      "needs_background": "light"
     },
     "output_type": "display_data"
    }
   ],
   "source": [
    "box = plt.boxplot(ipl_auction_df['SOLD PRICE']);"
   ]
  },
  {
   "cell_type": "code",
   "execution_count": 116,
   "metadata": {},
   "outputs": [
    {
     "data": {
      "text/plain": [
       "[437500.0]"
      ]
     },
     "execution_count": 116,
     "metadata": {},
     "output_type": "execute_result"
    }
   ],
   "source": [
    "[item.get_ydata()[0] for item in box['medians']]"
   ]
  },
  {
   "cell_type": "code",
   "execution_count": 55,
   "metadata": {},
   "outputs": [
    {
     "data": {
      "text/plain": [
       "[20000.0, 1350000.0]"
      ]
     },
     "execution_count": 55,
     "metadata": {},
     "output_type": "execute_result"
    }
   ],
   "source": [
    "[item.get_ydata()[0] for item in box['caps']]"
   ]
  },
  {
   "cell_type": "code",
   "execution_count": 56,
   "metadata": {},
   "outputs": [
    {
     "data": {
      "text/plain": [
       "[225000.0, 700000.0]"
      ]
     },
     "execution_count": 56,
     "metadata": {},
     "output_type": "execute_result"
    }
   ],
   "source": [
    "[item.get_ydata()[0] for item in box['whiskers']]"
   ]
  },
  {
   "cell_type": "markdown",
   "metadata": {},
   "source": [
    "So, inter-quartile range (IQR) is 700,000 - 225,000 = 475,000."
   ]
  },
  {
   "cell_type": "markdown",
   "metadata": {},
   "source": [
    "#### Who are outliers?"
   ]
  },
  {
   "cell_type": "markdown",
   "metadata": {},
   "source": [
    "The boxplot shows some of the players are auctioned at *SOLD PRICE*, which seems to be outliers. Let's find out the players."
   ]
  },
  {
   "cell_type": "code",
   "execution_count": 58,
   "metadata": {},
   "outputs": [
    {
     "data": {
      "text/html": [
       "<div>\n",
       "<style scoped>\n",
       "    .dataframe tbody tr th:only-of-type {\n",
       "        vertical-align: middle;\n",
       "    }\n",
       "\n",
       "    .dataframe tbody tr th {\n",
       "        vertical-align: top;\n",
       "    }\n",
       "\n",
       "    .dataframe thead th {\n",
       "        text-align: right;\n",
       "    }\n",
       "</style>\n",
       "<table border=\"1\" class=\"dataframe\">\n",
       "  <thead>\n",
       "    <tr style=\"text-align: right;\">\n",
       "      <th></th>\n",
       "      <th>PLAYER NAME</th>\n",
       "      <th>PLAYING ROLE</th>\n",
       "      <th>SOLD PRICE</th>\n",
       "    </tr>\n",
       "  </thead>\n",
       "  <tbody>\n",
       "    <tr>\n",
       "      <th>15</th>\n",
       "      <td>Dhoni, MS</td>\n",
       "      <td>W. Keeper</td>\n",
       "      <td>1500000</td>\n",
       "    </tr>\n",
       "    <tr>\n",
       "      <th>23</th>\n",
       "      <td>Flintoff, A</td>\n",
       "      <td>Allrounder</td>\n",
       "      <td>1550000</td>\n",
       "    </tr>\n",
       "    <tr>\n",
       "      <th>50</th>\n",
       "      <td>Kohli, V</td>\n",
       "      <td>Batsman</td>\n",
       "      <td>1800000</td>\n",
       "    </tr>\n",
       "    <tr>\n",
       "      <th>83</th>\n",
       "      <td>Pietersen, KP</td>\n",
       "      <td>Batsman</td>\n",
       "      <td>1550000</td>\n",
       "    </tr>\n",
       "    <tr>\n",
       "      <th>93</th>\n",
       "      <td>Sehwag, V</td>\n",
       "      <td>Batsman</td>\n",
       "      <td>1800000</td>\n",
       "    </tr>\n",
       "    <tr>\n",
       "      <th>111</th>\n",
       "      <td>Tendulkar, SR</td>\n",
       "      <td>Batsman</td>\n",
       "      <td>1800000</td>\n",
       "    </tr>\n",
       "    <tr>\n",
       "      <th>113</th>\n",
       "      <td>Tiwary, SS</td>\n",
       "      <td>Batsman</td>\n",
       "      <td>1600000</td>\n",
       "    </tr>\n",
       "    <tr>\n",
       "      <th>127</th>\n",
       "      <td>Yuvraj Singh</td>\n",
       "      <td>Batsman</td>\n",
       "      <td>1800000</td>\n",
       "    </tr>\n",
       "  </tbody>\n",
       "</table>\n",
       "</div>"
      ],
      "text/plain": [
       "       PLAYER NAME PLAYING ROLE  SOLD PRICE\n",
       "15       Dhoni, MS    W. Keeper     1500000\n",
       "23     Flintoff, A   Allrounder     1550000\n",
       "50        Kohli, V      Batsman     1800000\n",
       "83   Pietersen, KP      Batsman     1550000\n",
       "93       Sehwag, V      Batsman     1800000\n",
       "111  Tendulkar, SR      Batsman     1800000\n",
       "113     Tiwary, SS      Batsman     1600000\n",
       "127   Yuvraj Singh      Batsman     1800000"
      ]
     },
     "execution_count": 58,
     "metadata": {},
     "output_type": "execute_result"
    }
   ],
   "source": [
    "ipl_auction_df[ipl_auction_df['SOLD PRICE'] > 1350000.0][['PLAYER NAME', \n",
    "                                                          'PLAYING ROLE', \n",
    "                                                          'SOLD PRICE']]"
   ]
  },
  {
   "cell_type": "markdown",
   "metadata": {},
   "source": [
    "#### Comparing Distributions"
   ]
  },
  {
   "cell_type": "markdown",
   "metadata": {},
   "source": [
    "The distribution for different categories can be compared by overlapping the distributions. \n",
    "\n",
    "For example, Does *CAPTAINCY EXP* influence *SOLD PRICE* of players."
   ]
  },
  {
   "cell_type": "markdown",
   "metadata": {},
   "source": [
    "#### Using distribution plots"
   ]
  },
  {
   "cell_type": "code",
   "execution_count": 119,
   "metadata": {},
   "outputs": [
    {
     "data": {
      "image/png": "[encoded data removed]",
      "text/plain": [
       "<Figure size 1080x360 with 1 Axes>"
      ]
     },
     "metadata": {
      "needs_background": "light"
     },
     "output_type": "display_data"
    }
   ],
   "source": [
    "plt.figure(figsize=(15, 5))\n",
    "sn.distplot( ipl_auction_df[ipl_auction_df['CAPTAINCY EXP'] == 1]['SOLD PRICE'], \n",
    "            color = 'b', \n",
    "            label = 'Captaincy Experience')\n",
    "sn.distplot( ipl_auction_df[ipl_auction_df['CAPTAINCY EXP'] == 0]['SOLD PRICE'], \n",
    "            color = 'r', \n",
    "            label = 'No Captaincy Experience');\n",
    "ax = plt.gca()\n",
    "ax.xaxis.get_major_formatter().set_scientific(False)\n",
    "plt.legend();"
   ]
  },
  {
   "cell_type": "markdown",
   "metadata": {},
   "source": [
    "It can be observed that players with captaincy experience seem to be paid higher."
   ]
  },
  {
   "cell_type": "markdown",
   "metadata": {},
   "source": [
    "#### Using box plots"
   ]
  },
  {
   "cell_type": "markdown",
   "metadata": {},
   "source": [
    "An example of comparing the *SOLD PRICE* for players with different *PLAYING ROLE*."
   ]
  },
  {
   "cell_type": "code",
   "execution_count": 60,
   "metadata": {},
   "outputs": [
    {
     "data": {
      "image/png": "[encoded data removed]",
      "text/plain": [
       "<Figure size 432x288 with 1 Axes>"
      ]
     },
     "metadata": {
      "needs_background": "light"
     },
     "output_type": "display_data"
    }
   ],
   "source": [
    "sn.boxplot(x = 'PLAYING ROLE', y = 'SOLD PRICE', data = ipl_auction_df);"
   ]
  },
  {
   "cell_type": "markdown",
   "metadata": {},
   "source": [
    "Few observations from the above plot are,\n",
    "- The median SOLD PRICE for Allrounders and batsman are higher then bowler and Wicket Keepers.\n",
    "- There are outliers in batsman and wicket keeper category."
   ]
  },
  {
   "cell_type": "markdown",
   "metadata": {},
   "source": [
    "### Scatter Plot"
   ]
  },
  {
   "cell_type": "markdown",
   "metadata": {},
   "source": [
    "Scatter plot can depict the relationship between two continuous variables. \n",
    "\n",
    "Scatter plots are used during regression model building to decide on the initial model, that is whether to include a variable in a regression model or not. We will explore that in the future sessions.\n",
    "\n",
    "Since IPL is T20 cricket, it is believed that number of sixers a player has hit in past would have impact on his SOLD PRICE. A scatter plot between *SOLD PRICE* of batsman and number of sixes he has hit can verify this correlation."
   ]
  },
  {
   "cell_type": "code",
   "execution_count": 61,
   "metadata": {},
   "outputs": [],
   "source": [
    "ipl_batsman_df = ipl_auction_df[ipl_auction_df['PLAYING ROLE'] == 'Batsman']"
   ]
  },
  {
   "cell_type": "code",
   "execution_count": 120,
   "metadata": {},
   "outputs": [
    {
     "data": {
      "image/png": "[encoded data removed]",
      "text/plain": [
       "<Figure size 432x288 with 1 Axes>"
      ]
     },
     "metadata": {
      "needs_background": "light"
     },
     "output_type": "display_data"
    }
   ],
   "source": [
    "plt.scatter(x = ipl_batsman_df.SIXERS,\n",
    "            y = ipl_batsman_df['SOLD PRICE']);\n",
    "plt.xlabel('SIXERS')\n",
    "plt.ylabel('SOLD PRICE');"
   ]
  },
  {
   "cell_type": "markdown",
   "metadata": {},
   "source": [
    "To draw the direction of relationship between the variables, *regplot()* of seaborn can be used."
   ]
  },
  {
   "cell_type": "code",
   "execution_count": 121,
   "metadata": {},
   "outputs": [
    {
     "data": {
      "image/png": "[encoded data removed]",
      "text/plain": [
       "<Figure size 432x288 with 1 Axes>"
      ]
     },
     "metadata": {
      "needs_background": "light"
     },
     "output_type": "display_data"
    }
   ],
   "source": [
    "sn.regplot( x = 'SIXERS', \n",
    "            y = 'SOLD PRICE', \n",
    "            data = ipl_batsman_df );"
   ]
  },
  {
   "cell_type": "markdown",
   "metadata": {},
   "source": [
    "### Pair Plot"
   ]
  },
  {
   "cell_type": "markdown",
   "metadata": {},
   "source": [
    "- If there are many variables, it is not convenient to draw scatter plots for each pair of variables to understand the relationships. \n",
    "- A heatmap can depict the pairwise relationship between many variables.\n",
    "- We will explore the relationship of four variables *'SR-B', 'AVE', 'SIXERS', 'SOLD PRICE'*."
   ]
  },
  {
   "cell_type": "code",
   "execution_count": 122,
   "metadata": {},
   "outputs": [],
   "source": [
    "influential_features = ['SR-B', 'AVE', 'SIXERS', 'SOLD PRICE']"
   ]
  },
  {
   "cell_type": "markdown",
   "metadata": {},
   "source": [
    "Actual correlation values can be computed using *corr()* method o the dataframe and rendered using a heatmap."
   ]
  },
  {
   "cell_type": "code",
   "execution_count": 123,
   "metadata": {},
   "outputs": [
    {
     "data": {
      "text/html": [
       "<div>\n",
       "<style scoped>\n",
       "    .dataframe tbody tr th:only-of-type {\n",
       "        vertical-align: middle;\n",
       "    }\n",
       "\n",
       "    .dataframe tbody tr th {\n",
       "        vertical-align: top;\n",
       "    }\n",
       "\n",
       "    .dataframe thead th {\n",
       "        text-align: right;\n",
       "    }\n",
       "</style>\n",
       "<table border=\"1\" class=\"dataframe\">\n",
       "  <thead>\n",
       "    <tr style=\"text-align: right;\">\n",
       "      <th></th>\n",
       "      <th>SR-B</th>\n",
       "      <th>AVE</th>\n",
       "      <th>SIXERS</th>\n",
       "      <th>SOLD PRICE</th>\n",
       "    </tr>\n",
       "  </thead>\n",
       "  <tbody>\n",
       "    <tr>\n",
       "      <th>SR-B</th>\n",
       "      <td>1.000</td>\n",
       "      <td>0.584</td>\n",
       "      <td>0.425</td>\n",
       "      <td>0.184</td>\n",
       "    </tr>\n",
       "    <tr>\n",
       "      <th>AVE</th>\n",
       "      <td>0.584</td>\n",
       "      <td>1.000</td>\n",
       "      <td>0.705</td>\n",
       "      <td>0.397</td>\n",
       "    </tr>\n",
       "    <tr>\n",
       "      <th>SIXERS</th>\n",
       "      <td>0.425</td>\n",
       "      <td>0.705</td>\n",
       "      <td>1.000</td>\n",
       "      <td>0.451</td>\n",
       "    </tr>\n",
       "    <tr>\n",
       "      <th>SOLD PRICE</th>\n",
       "      <td>0.184</td>\n",
       "      <td>0.397</td>\n",
       "      <td>0.451</td>\n",
       "      <td>1.000</td>\n",
       "    </tr>\n",
       "  </tbody>\n",
       "</table>\n",
       "</div>"
      ],
      "text/plain": [
       "            SR-B   AVE  SIXERS  SOLD PRICE\n",
       "SR-B       1.000 0.584   0.425       0.184\n",
       "AVE        0.584 1.000   0.705       0.397\n",
       "SIXERS     0.425 0.705   1.000       0.451\n",
       "SOLD PRICE 0.184 0.397   0.451       1.000"
      ]
     },
     "execution_count": 123,
     "metadata": {},
     "output_type": "execute_result"
    }
   ],
   "source": [
    "ipl_auction_df[influential_features].corr()"
   ]
  },
  {
   "cell_type": "code",
   "execution_count": 124,
   "metadata": {},
   "outputs": [
    {
     "data": {
      "image/png": "[encoded data removed]",
      "text/plain": [
       "<Figure size 432x288 with 2 Axes>"
      ]
     },
     "metadata": {
      "needs_background": "light"
     },
     "output_type": "display_data"
    }
   ],
   "source": [
    "sn.heatmap(ipl_auction_df[influential_features].corr(), annot=True);"
   ]
  },
  {
   "cell_type": "markdown",
   "metadata": {},
   "source": [
    "The color map scale is shown along the heatmap. Setting *annot* to true also prints the correlation values in each box of the heatmp and improves readability of the heatmap. Here the heatmap shows *AVE* and *SIXER* are stongly correlated, while *SOLD PRICE* and *SR-B* are not so strongly correlated."
   ]
  },
  {
   "cell_type": "markdown",
   "metadata": {},
   "source": [
    "## What we learnt:\n",
    "\n",
    "- Descriptive analytics is simple comprehension of data using data summarization, basic statistical measures and visualization.\n",
    "- Dataframes are widely used data structures for loading and manipulating structured data.\n",
    "- *Pandas* library provides excellent support for working with dataframe.\n",
    "- *Matplotlib* and *Seaborn* are two most widely used libraries for creating plots. \n",
    "- Plots like histogram, distribution plots, box plots, scatter plot and heatmap can be created to find insights during exploratory analysis."
   ]
  },
  {
   "cell_type": "code",
   "execution_count": null,
   "metadata": {},
   "outputs": [],
   "source": []
  }
 ],
 "metadata": {
  "kernelspec": {
   "display_name": "Python 3",
   "language": "python",
   "name": "python3"
  },
  "language_info": {
   "codemirror_mode": {
    "name": "ipython",
    "version": 3
   },
   "file_extension": ".py",
   "mimetype": "text/x-python",
   "name": "python",
   "nbconvert_exporter": "python",
   "pygments_lexer": "ipython3",
   "version": "3.8.5"
  }
 },
 "nbformat": 4,
 "nbformat_minor": 2
}
